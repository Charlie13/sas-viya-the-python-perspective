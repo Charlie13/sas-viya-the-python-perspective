{
 "cells": [
  {
   "cell_type": "markdown",
   "metadata": {},
   "source": [
    "# Chapter 10 - Advanced Topics"
   ]
  },
  {
   "cell_type": "code",
   "execution_count": 1,
   "metadata": {
    "collapsed": true
   },
   "outputs": [],
   "source": [
    "import swat"
   ]
  },
  {
   "cell_type": "code",
   "execution_count": 2,
   "metadata": {
    "collapsed": true
   },
   "outputs": [],
   "source": [
    "conn = swat.CAS('server-name.mycompany.com', 5570, 'username', 'password')"
   ]
  },
  {
   "cell_type": "markdown",
   "metadata": {},
   "source": [
    "## Binary vs REST Interfaces"
   ]
  },
  {
   "cell_type": "markdown",
   "metadata": {},
   "source": [
    "### The Binary Interface"
   ]
  },
  {
   "cell_type": "code",
   "execution_count": null,
   "metadata": {
    "collapsed": true
   },
   "outputs": [],
   "source": [
    "binconn = swat.CAS('server-name.mycompany.com', 5570, protocol='cas')"
   ]
  },
  {
   "cell_type": "markdown",
   "metadata": {},
   "source": [
    "### The REST Interface"
   ]
  },
  {
   "cell_type": "code",
   "execution_count": null,
   "metadata": {
    "collapsed": true
   },
   "outputs": [],
   "source": [
    "restconn = swat.CAS('server-name.mycompany.com', 8888, protocol='http')"
   ]
  },
  {
   "cell_type": "markdown",
   "metadata": {},
   "source": [
    "## Result Processing Workflows"
   ]
  },
  {
   "cell_type": "markdown",
   "metadata": {},
   "source": [
    "### The Easy Way"
   ]
  },
  {
   "cell_type": "code",
   "execution_count": 3,
   "metadata": {
    "collapsed": false
   },
   "outputs": [
    {
     "name": "stdout",
     "output_type": "stream",
     "text": [
      "NOTE: Cloud Analytic Services made the file data/iris.csv available as table DATA.IRIS in caslib CASUSER(username).\n"
     ]
    }
   ],
   "source": [
    "tbl = conn.loadtable('data/iris.csv', caslib='casuser').casTable"
   ]
  },
  {
   "cell_type": "code",
   "execution_count": 4,
   "metadata": {
    "collapsed": false
   },
   "outputs": [
    {
     "data": {
      "text/html": [
       "<div class=\"cas-results-key\"><b>&#167; Summary</b></div>\n",
       "<div class=\"cas-results-body\">\n",
       "<div>\n",
       "<table border=\"1\" class=\"dataframe\"><caption>Descriptive Statistics for DATA.IRIS</caption>\n",
       "  <thead>\n",
       "    <tr style=\"text-align: right;\">\n",
       "      <th title=\"\"></th>\n",
       "      <th title=\"Analysis Variable\">Column</th>\n",
       "      <th title=\"Minimum\">Min</th>\n",
       "      <th title=\"Maximum\">Max</th>\n",
       "      <th title=\"N\">N</th>\n",
       "      <th title=\"N Miss\">NMiss</th>\n",
       "      <th title=\"Mean\">Mean</th>\n",
       "      <th title=\"Sum\">Sum</th>\n",
       "      <th title=\"Std Dev\">Std</th>\n",
       "      <th title=\"Std Error\">StdErr</th>\n",
       "      <th title=\"Variance\">Var</th>\n",
       "      <th title=\"USS\">USS</th>\n",
       "      <th title=\"Corrected SS\">CSS</th>\n",
       "      <th title=\"Coeff of Variation\">CV</th>\n",
       "      <th title=\"t Value\">TValue</th>\n",
       "      <th title=\"Pr &gt; |t|\">ProbT</th>\n",
       "    </tr>\n",
       "  </thead>\n",
       "  <tbody>\n",
       "    <tr>\n",
       "      <th>0</th>\n",
       "      <td>sepal_length</td>\n",
       "      <td>4.3</td>\n",
       "      <td>7.9</td>\n",
       "      <td>150.0</td>\n",
       "      <td>0.0</td>\n",
       "      <td>5.843333</td>\n",
       "      <td>876.5</td>\n",
       "      <td>0.828066</td>\n",
       "      <td>0.067611</td>\n",
       "      <td>0.685694</td>\n",
       "      <td>5223.85</td>\n",
       "      <td>102.168333</td>\n",
       "      <td>14.171126</td>\n",
       "      <td>86.425375</td>\n",
       "      <td>3.331256e-129</td>\n",
       "    </tr>\n",
       "    <tr>\n",
       "      <th>1</th>\n",
       "      <td>sepal_width</td>\n",
       "      <td>2.0</td>\n",
       "      <td>4.4</td>\n",
       "      <td>150.0</td>\n",
       "      <td>0.0</td>\n",
       "      <td>3.054000</td>\n",
       "      <td>458.1</td>\n",
       "      <td>0.433594</td>\n",
       "      <td>0.035403</td>\n",
       "      <td>0.188004</td>\n",
       "      <td>1427.05</td>\n",
       "      <td>28.012600</td>\n",
       "      <td>14.197587</td>\n",
       "      <td>86.264297</td>\n",
       "      <td>4.374977e-129</td>\n",
       "    </tr>\n",
       "    <tr>\n",
       "      <th>2</th>\n",
       "      <td>petal_length</td>\n",
       "      <td>1.0</td>\n",
       "      <td>6.9</td>\n",
       "      <td>150.0</td>\n",
       "      <td>0.0</td>\n",
       "      <td>3.758667</td>\n",
       "      <td>563.8</td>\n",
       "      <td>1.764420</td>\n",
       "      <td>0.144064</td>\n",
       "      <td>3.113179</td>\n",
       "      <td>2583.00</td>\n",
       "      <td>463.863733</td>\n",
       "      <td>46.942721</td>\n",
       "      <td>26.090198</td>\n",
       "      <td>1.994305e-57</td>\n",
       "    </tr>\n",
       "    <tr>\n",
       "      <th>3</th>\n",
       "      <td>petal_width</td>\n",
       "      <td>0.1</td>\n",
       "      <td>2.5</td>\n",
       "      <td>150.0</td>\n",
       "      <td>0.0</td>\n",
       "      <td>1.198667</td>\n",
       "      <td>179.8</td>\n",
       "      <td>0.763161</td>\n",
       "      <td>0.062312</td>\n",
       "      <td>0.582414</td>\n",
       "      <td>302.30</td>\n",
       "      <td>86.779733</td>\n",
       "      <td>63.667470</td>\n",
       "      <td>19.236588</td>\n",
       "      <td>3.209704e-42</td>\n",
       "    </tr>\n",
       "  </tbody>\n",
       "</table>\n",
       "</div>\n",
       "</div>\n",
       "<div class=\"cas-output-area\"></div>\n",
       "<p class=\"cas-results-performance\"><small><span class=\"cas-elapsed\">elapsed 0.025s</span> &#183; <span class=\"cas-user\">user 0.027s</span> &#183; <span class=\"cas-sys\">sys 0.002s</span> &#183; <span class=\"cas-memory\">mem 1.74MB</span></small></p>"
      ],
      "text/plain": [
       "[Summary]\n",
       "\n",
       " Descriptive Statistics for DATA.IRIS\n",
       " \n",
       "          Column  Min  Max      N  NMiss      Mean    Sum       Std    StdErr  \\\n",
       " 0  sepal_length  4.3  7.9  150.0    0.0  5.843333  876.5  0.828066  0.067611   \n",
       " 1   sepal_width  2.0  4.4  150.0    0.0  3.054000  458.1  0.433594  0.035403   \n",
       " 2  petal_length  1.0  6.9  150.0    0.0  3.758667  563.8  1.764420  0.144064   \n",
       " 3   petal_width  0.1  2.5  150.0    0.0  1.198667  179.8  0.763161  0.062312   \n",
       " \n",
       "         Var      USS         CSS         CV     TValue          ProbT  \n",
       " 0  0.685694  5223.85  102.168333  14.171126  86.425375  3.331256e-129  \n",
       " 1  0.188004  1427.05   28.012600  14.197587  86.264297  4.374977e-129  \n",
       " 2  3.113179  2583.00  463.863733  46.942721  26.090198   1.994305e-57  \n",
       " 3  0.582414   302.30   86.779733  63.667470  19.236588   3.209704e-42  \n",
       "\n",
       "+ Elapsed: 0.025s, user: 0.027s, sys: 0.002s, mem: 1.74mb"
      ]
     },
     "execution_count": 4,
     "metadata": {},
     "output_type": "execute_result"
    }
   ],
   "source": [
    "out = tbl.summary()\n",
    "out"
   ]
  },
  {
   "cell_type": "markdown",
   "metadata": {},
   "source": [
    "### Using Response and Result Callbacks"
   ]
  },
  {
   "cell_type": "code",
   "execution_count": 5,
   "metadata": {
    "collapsed": true
   },
   "outputs": [],
   "source": [
    "def result_cb(key, value, response, connection, userdata):\n",
    "    print('\\n>>> RESULT %s\\n' % key)\n",
    "    print(value)\n",
    "    return userdata"
   ]
  },
  {
   "cell_type": "code",
   "execution_count": 7,
   "metadata": {
    "collapsed": false
   },
   "outputs": [
    {
     "name": "stdout",
     "output_type": "stream",
     "text": [
      "\n",
      ">>> RESULT ByGroupInfo\n",
      "\n",
      "ByGroupInfo\n",
      "\n",
      "      species   species_f       _key_\n",
      "0      setosa      setosa      setosa\n",
      "1  versicolor  versicolor  versicolor\n",
      "2   virginica   virginica   virginica\n",
      "\n",
      ">>> RESULT ByGroup1.Summary\n",
      "\n",
      "Descriptive Statistics for DATA.IRIS\n",
      "\n",
      "               Column  Min  Max\n",
      "species                        \n",
      "setosa   sepal_length  4.3  5.8\n",
      "setosa    sepal_width  2.3  4.4\n",
      "setosa   petal_length  1.0  1.9\n",
      "setosa    petal_width  0.1  0.6\n",
      "\n",
      ">>> RESULT ByGroup2.Summary\n",
      "\n",
      "Descriptive Statistics for DATA.IRIS\n",
      "\n",
      "                  Column  Min  Max\n",
      "species                           \n",
      "versicolor  sepal_length  4.9  7.0\n",
      "versicolor   sepal_width  2.0  3.4\n",
      "versicolor  petal_length  3.0  5.1\n",
      "versicolor   petal_width  1.0  1.8\n",
      "\n",
      ">>> RESULT ByGroup3.Summary\n",
      "\n",
      "Descriptive Statistics for DATA.IRIS\n",
      "\n",
      "                 Column  Min  Max\n",
      "species                          \n",
      "virginica  sepal_length  4.9  7.9\n",
      "virginica   sepal_width  2.2  3.8\n",
      "virginica  petal_length  4.5  6.9\n",
      "virginica   petal_width  1.4  2.5\n"
     ]
    }
   ],
   "source": [
    "tbl.groupby('species').summary(resultfunc=result_cb, subset=['min', 'max'])"
   ]
  },
  {
   "cell_type": "code",
   "execution_count": 8,
   "metadata": {
    "collapsed": true
   },
   "outputs": [],
   "source": [
    "def response_cb(response, connection, userdata):\n",
    "    print('\\n>>> RESPONSE')\n",
    "    for k, v in response:\n",
    "        print('\\n>>> RESULT %s\\n' % k)\n",
    "        print(v)\n",
    "    return userdata"
   ]
  },
  {
   "cell_type": "code",
   "execution_count": 9,
   "metadata": {
    "collapsed": false
   },
   "outputs": [
    {
     "name": "stdout",
     "output_type": "stream",
     "text": [
      "\n",
      ">>> RESPONSE\n",
      "\n",
      ">>> RESULT ByGroupInfo\n",
      "\n",
      "ByGroupInfo\n",
      "\n",
      "      species   species_f       _key_\n",
      "0      setosa      setosa      setosa\n",
      "1  versicolor  versicolor  versicolor\n",
      "2   virginica   virginica   virginica\n",
      "\n",
      ">>> RESPONSE\n",
      "\n",
      ">>> RESULT ByGroup1.Summary\n",
      "\n",
      "Descriptive Statistics for DATA.IRIS\n",
      "\n",
      "               Column  Min  Max\n",
      "species                        \n",
      "setosa   sepal_length  4.3  5.8\n",
      "setosa    sepal_width  2.3  4.4\n",
      "setosa   petal_length  1.0  1.9\n",
      "setosa    petal_width  0.1  0.6\n",
      "\n",
      ">>> RESPONSE\n",
      "\n",
      ">>> RESULT ByGroup2.Summary\n",
      "\n",
      "Descriptive Statistics for DATA.IRIS\n",
      "\n",
      "                  Column  Min  Max\n",
      "species                           \n",
      "versicolor  sepal_length  4.9  7.0\n",
      "versicolor   sepal_width  2.0  3.4\n",
      "versicolor  petal_length  3.0  5.1\n",
      "versicolor   petal_width  1.0  1.8\n",
      "\n",
      ">>> RESPONSE\n",
      "\n",
      ">>> RESULT ByGroup3.Summary\n",
      "\n",
      "Descriptive Statistics for DATA.IRIS\n",
      "\n",
      "                 Column  Min  Max\n",
      "species                          \n",
      "virginica  sepal_length  4.9  7.9\n",
      "virginica   sepal_width  2.2  3.8\n",
      "virginica  petal_length  4.5  6.9\n",
      "virginica   petal_width  1.4  2.5\n",
      "\n",
      ">>> RESPONSE\n"
     ]
    }
   ],
   "source": [
    "tbl.groupby('species').summary(responsefunc=response_cb, subset=['min', 'max'])"
   ]
  },
  {
   "cell_type": "markdown",
   "metadata": {},
   "source": [
    "### Handling Responses from Multiple Sessions Simultaneously"
   ]
  },
  {
   "cell_type": "code",
   "execution_count": 18,
   "metadata": {
    "collapsed": true
   },
   "outputs": [],
   "source": [
    "conn1 = swat.CAS()\n",
    "conn2 = swat.CAS()"
   ]
  },
  {
   "cell_type": "code",
   "execution_count": 20,
   "metadata": {
    "collapsed": false
   },
   "outputs": [
    {
     "name": "stdout",
     "output_type": "stream",
     "text": [
      "NOTE: Cloud Analytic Services made the file data/iris.csv available as table DATA.IRIS in caslib CASUSER(username).\n",
      "NOTE: Cloud Analytic Services made the file data/iris.csv available as table DATA.IRIS in caslib CASUSER(username).\n"
     ]
    }
   ],
   "source": [
    "tbl1 = conn1.loadtable('data/iris.csv', caslib='casuser').casTable\n",
    "tbl2 = conn2.loadtable('data/iris.csv', caslib='casuser').casTable"
   ]
  },
  {
   "cell_type": "code",
   "execution_count": 27,
   "metadata": {
    "collapsed": false
   },
   "outputs": [],
   "source": [
    "conn1 = tbl1.groupby('species').invoke('summary', subset=['min', 'max'])"
   ]
  },
  {
   "cell_type": "code",
   "execution_count": 28,
   "metadata": {
    "collapsed": false
   },
   "outputs": [
    {
     "name": "stdout",
     "output_type": "stream",
     "text": [
      "\n",
      ">>> RESPONSE\n",
      "\n",
      ">>> RESULT ByGroupInfo\n",
      "\n",
      "ByGroupInfo\n",
      "\n",
      "      species   species_f       _key_\n",
      "0      setosa      setosa      setosa\n",
      "1  versicolor  versicolor  versicolor\n",
      "2   virginica   virginica   virginica\n",
      "\n",
      ">>> RESPONSE\n",
      "\n",
      ">>> RESULT ByGroup1.Summary\n",
      "\n",
      "Descriptive Statistics for DATA.IRIS\n",
      "\n",
      "               Column  Min  Max\n",
      "species                        \n",
      "setosa   sepal_length  4.3  5.8\n",
      "setosa    sepal_width  2.3  4.4\n",
      "setosa   petal_length  1.0  1.9\n",
      "setosa    petal_width  0.1  0.6\n",
      "\n",
      ">>> RESPONSE\n",
      "\n",
      ">>> RESULT ByGroup2.Summary\n",
      "\n",
      "Descriptive Statistics for DATA.IRIS\n",
      "\n",
      "                  Column  Min  Max\n",
      "species                           \n",
      "versicolor  sepal_length  4.9  7.0\n",
      "versicolor   sepal_width  2.0  3.4\n",
      "versicolor  petal_length  3.0  5.1\n",
      "versicolor   petal_width  1.0  1.8\n",
      "\n",
      ">>> RESPONSE\n",
      "\n",
      ">>> RESULT ByGroup3.Summary\n",
      "\n",
      "Descriptive Statistics for DATA.IRIS\n",
      "\n",
      "                 Column  Min  Max\n",
      "species                          \n",
      "virginica  sepal_length  4.9  7.9\n",
      "virginica   sepal_width  2.2  3.8\n",
      "virginica  petal_length  4.5  6.9\n",
      "virginica   petal_width  1.4  2.5\n",
      "\n",
      ">>> RESPONSE\n"
     ]
    }
   ],
   "source": [
    "for resp in conn1:\n",
    "    print('\\n>>> RESPONSE')\n",
    "    for k, v in resp:\n",
    "        print('\\n>>> RESULT %s\\n' % k)\n",
    "        print(v)"
   ]
  },
  {
   "cell_type": "code",
   "execution_count": 29,
   "metadata": {
    "collapsed": true
   },
   "outputs": [],
   "source": [
    "conn1 = tbl1.groupby('species').invoke('summary', subset=['min', 'max'])\n",
    "conn2 = tbl2.groupby('species').invoke('topk', topk=1, bottomk=1)"
   ]
  },
  {
   "cell_type": "code",
   "execution_count": 30,
   "metadata": {
    "collapsed": false
   },
   "outputs": [
    {
     "name": "stdout",
     "output_type": "stream",
     "text": [
      "\n",
      ">>> RESPONSE\n",
      "\n",
      ">>> RESULT ByGroupInfo\n",
      "\n",
      "ByGroupInfo\n",
      "\n",
      "      species   species_f       _key_\n",
      "0      setosa      setosa      setosa\n",
      "1  versicolor  versicolor  versicolor\n",
      "2   virginica   virginica   virginica\n",
      "\n",
      ">>> RESPONSE\n",
      "\n",
      ">>> RESULT ByGroup1.Summary\n",
      "\n",
      "Descriptive Statistics for DATA.IRIS\n",
      "\n",
      "               Column  Min  Max\n",
      "species                        \n",
      "setosa   sepal_length  4.3  5.8\n",
      "setosa    sepal_width  2.3  4.4\n",
      "setosa   petal_length  1.0  1.9\n",
      "setosa    petal_width  0.1  0.6\n",
      "\n",
      ">>> RESPONSE\n",
      "\n",
      ">>> RESULT ByGroup2.Summary\n",
      "\n",
      "Descriptive Statistics for DATA.IRIS\n",
      "\n",
      "                  Column  Min  Max\n",
      "species                           \n",
      "versicolor  sepal_length  4.9  7.0\n",
      "versicolor   sepal_width  2.0  3.4\n",
      "versicolor  petal_length  3.0  5.1\n",
      "versicolor   petal_width  1.0  1.8\n",
      "\n",
      ">>> RESPONSE\n",
      "\n",
      ">>> RESULT ByGroup3.Summary\n",
      "\n",
      "Descriptive Statistics for DATA.IRIS\n",
      "\n",
      "                 Column  Min  Max\n",
      "species                          \n",
      "virginica  sepal_length  4.9  7.9\n",
      "virginica   sepal_width  2.2  3.8\n",
      "virginica  petal_length  4.5  6.9\n",
      "virginica   petal_width  1.4  2.5\n",
      "\n",
      ">>> RESPONSE\n",
      "\n",
      ">>> RESPONSE\n",
      "\n",
      ">>> RESULT ByGroupInfo\n",
      "\n",
      "ByGroupInfo\n",
      "\n",
      "      species   species_f       _key_\n",
      "0      setosa      setosa      setosa\n",
      "1  versicolor  versicolor  versicolor\n",
      "2   virginica   virginica   virginica\n",
      "\n",
      ">>> RESPONSE\n",
      "\n",
      ">>> RESULT ByGroup1.Topk\n",
      "\n",
      "Top and Bottom Distinct Values for DATA.IRIS\n",
      "\n",
      "               Column        FmtVar  Rank\n",
      "species                                  \n",
      "setosa   sepal_length           5.8     1\n",
      "setosa   sepal_length             5    15\n",
      "setosa    sepal_width           4.4     1\n",
      "setosa    sepal_width             3    16\n",
      "setosa   petal_length           1.9     1\n",
      "setosa   petal_length             1     9\n",
      "setosa    petal_width           0.6     1\n",
      "setosa    petal_width           0.1     6\n",
      "setosa        species        setosa     1\n",
      "setosa        species        setosa     1\n",
      "\n",
      ">>> RESPONSE\n",
      "\n",
      ">>> RESULT ByGroup1.TopkMisc\n",
      "\n",
      "Miscellaneous Information on Distinct Values for DATA.IRIS\n",
      "\n",
      "               Column   N  TruncatedTopk  TruncatedBtmk  ScoreOther\n",
      "species                                                            \n",
      "setosa   sepal_length  15              0              0         NaN\n",
      "setosa    sepal_width  16              0              0         NaN\n",
      "setosa   petal_length   9              0              0         NaN\n",
      "setosa    petal_width   6              0              0         NaN\n",
      "setosa        species   1              0              0         NaN\n",
      "\n",
      ">>> RESPONSE\n",
      "\n",
      ">>> RESULT ByGroup2.Topk\n",
      "\n",
      "Top and Bottom Distinct Values for DATA.IRIS\n",
      "\n",
      "                  Column        FmtVar  Rank\n",
      "species                                     \n",
      "versicolor  sepal_length           6.9     1\n",
      "versicolor  sepal_length             5    21\n",
      "versicolor   sepal_width           3.4     1\n",
      "versicolor   sepal_width             2    14\n",
      "versicolor  petal_length           5.1     1\n",
      "versicolor  petal_length             3    19\n",
      "versicolor   petal_width           1.8     1\n",
      "versicolor   petal_width             1     9\n",
      "versicolor       species    versicolor     1\n",
      "versicolor       species    versicolor     1\n",
      "\n",
      ">>> RESPONSE\n",
      "\n",
      ">>> RESULT ByGroup2.TopkMisc\n",
      "\n",
      "Miscellaneous Information on Distinct Values for DATA.IRIS\n",
      "\n",
      "                  Column   N  TruncatedTopk  TruncatedBtmk  ScoreOther\n",
      "species                                                               \n",
      "versicolor  sepal_length  21              0              0         NaN\n",
      "versicolor   sepal_width  14              0              0         NaN\n",
      "versicolor  petal_length  19              0              0         NaN\n",
      "versicolor   petal_width   9              0              0         NaN\n",
      "versicolor       species   1              0              0         NaN\n",
      "\n",
      ">>> RESPONSE\n",
      "\n",
      ">>> RESULT ByGroup3.Topk\n",
      "\n",
      "Top and Bottom Distinct Values for DATA.IRIS\n",
      "\n",
      "                 Column        FmtVar  Rank\n",
      "species                                    \n",
      "virginica  sepal_length           7.9     1\n",
      "virginica  sepal_length             6    21\n",
      "virginica   sepal_width           3.8     1\n",
      "virginica   sepal_width             3    13\n",
      "virginica  petal_length           6.9     1\n",
      "virginica  petal_length             5    20\n",
      "virginica   petal_width           2.5     1\n",
      "virginica   petal_width             2    12\n",
      "virginica       species     virginica     1\n",
      "virginica       species     virginica     1\n",
      "\n",
      ">>> RESPONSE\n",
      "\n",
      ">>> RESULT ByGroup3.TopkMisc\n",
      "\n",
      "Miscellaneous Information on Distinct Values for DATA.IRIS\n",
      "\n",
      "                 Column   N  TruncatedTopk  TruncatedBtmk  ScoreOther\n",
      "species                                                              \n",
      "virginica  sepal_length  21              0              0         NaN\n",
      "virginica   sepal_width  13              0              0         NaN\n",
      "virginica  petal_length  20              0              0         NaN\n",
      "virginica   petal_width  12              0              0         NaN\n",
      "virginica       species   1              0              0         NaN\n",
      "\n",
      ">>> RESPONSE\n"
     ]
    }
   ],
   "source": [
    "for resp, c in swat.getnext(conn1, conn2):\n",
    "    print('\\n>>> RESPONSE')\n",
    "    for k, v in resp:\n",
    "        print('\\n>>> RESULT %s\\n' % k)\n",
    "        print(v)"
   ]
  },
  {
   "cell_type": "markdown",
   "metadata": {},
   "source": [
    "## Connecting to Existing Sessions"
   ]
  },
  {
   "cell_type": "code",
   "execution_count": 31,
   "metadata": {
    "collapsed": false
   },
   "outputs": [
    {
     "data": {
      "text/plain": [
       "CAS('server-name.mycompany.com', 5570, 'username', protocol='cas', name='py-session-1', session='2fed25d6-4946-0540-8308-73c7f75b53c6')"
      ]
     },
     "execution_count": 31,
     "metadata": {},
     "output_type": "execute_result"
    }
   ],
   "source": [
    "conn"
   ]
  },
  {
   "cell_type": "code",
   "execution_count": 32,
   "metadata": {
    "collapsed": false
   },
   "outputs": [
    {
     "data": {
      "text/html": [
       "<div class=\"cas-results-key\"><b>&#167; Session</b></div>\n",
       "<div class=\"cas-results-body\">\n",
       "<div>\n",
       "<table border=\"1\" class=\"dataframe\">\n",
       "  <thead>\n",
       "    <tr style=\"text-align: right;\">\n",
       "      <th title=\"\"></th>\n",
       "      <th title=\"Name\">SessionName</th>\n",
       "      <th title=\"UUID\">UUID</th>\n",
       "      <th title=\"Session Properties\">State</th>\n",
       "      <th title=\"Authentication Type\">Authentication</th>\n",
       "      <th title=\"Userid\">Userid</th>\n",
       "    </tr>\n",
       "  </thead>\n",
       "  <tbody>\n",
       "    <tr>\n",
       "      <th>0</th>\n",
       "      <td>py-session-3:Fri Nov  4 10:32:16 2016</td>\n",
       "      <td>e7f753f7-4e20-aa46-ac6a-4c574cede3c5</td>\n",
       "      <td>Connected</td>\n",
       "      <td>Active Directory</td>\n",
       "      <td>username</td>\n",
       "    </tr>\n",
       "    <tr>\n",
       "      <th>1</th>\n",
       "      <td>py-session-1:Fri Nov  4 11:46:25 2016</td>\n",
       "      <td>2fed25d6-4946-0540-8308-73c7f75b53c6</td>\n",
       "      <td>Connected</td>\n",
       "      <td>Active Directory</td>\n",
       "      <td>username</td>\n",
       "    </tr>\n",
       "    <tr>\n",
       "      <th>2</th>\n",
       "      <td>py-session-2:Fri Nov  4 12:06:29 2016</td>\n",
       "      <td>6f04be18-1146-0642-8437-9e928edbf42d</td>\n",
       "      <td>Connected</td>\n",
       "      <td>Active Directory</td>\n",
       "      <td>username</td>\n",
       "    </tr>\n",
       "    <tr>\n",
       "      <th>3</th>\n",
       "      <td>py-session-4:Fri Nov  4 12:08:52 2016</td>\n",
       "      <td>21e426a9-20f8-ef4e-a606-cc699f8e274a</td>\n",
       "      <td>Connected</td>\n",
       "      <td>Active Directory</td>\n",
       "      <td>username</td>\n",
       "    </tr>\n",
       "    <tr>\n",
       "      <th>4</th>\n",
       "      <td>py-session-5:Fri Nov  4 12:08:52 2016</td>\n",
       "      <td>430d8336-2b9b-f54b-8163-86ebe476b238</td>\n",
       "      <td>Connected</td>\n",
       "      <td>Active Directory</td>\n",
       "      <td>username</td>\n",
       "    </tr>\n",
       "  </tbody>\n",
       "</table>\n",
       "</div>\n",
       "</div>\n",
       "<div class=\"cas-output-area\"></div>\n",
       "<p class=\"cas-results-performance\"><small><span class=\"cas-elapsed\">elapsed 0.000406s</span> &#183; <span class=\"cas-memory\">mem 0.0912MB</span></small></p>"
      ],
      "text/plain": [
       "[Session]\n",
       "\n",
       "                              SessionName  \\\n",
       " 0  py-session-3:Fri Nov  4 10:32:16 2016   \n",
       " 1  py-session-1:Fri Nov  4 11:46:25 2016   \n",
       " 2  py-session-2:Fri Nov  4 12:06:29 2016   \n",
       " 3  py-session-4:Fri Nov  4 12:08:52 2016   \n",
       " 4  py-session-5:Fri Nov  4 12:08:52 2016   \n",
       " \n",
       "                                    UUID      State    Authentication  Userid  \n",
       " 0  e7f753f7-4e20-aa46-ac6a-4c574cede3c5  Connected  Active Directory  username  \n",
       " 1  2fed25d6-4946-0540-8308-73c7f75b53c6  Connected  Active Directory  username  \n",
       " 2  6f04be18-1146-0642-8437-9e928edbf42d  Connected  Active Directory  username  \n",
       " 3  21e426a9-20f8-ef4e-a606-cc699f8e274a  Connected  Active Directory  username  \n",
       " 4  430d8336-2b9b-f54b-8163-86ebe476b238  Connected  Active Directory  username  \n",
       "\n",
       "+ Elapsed: 0.000406s, mem: 0.0912mb"
      ]
     },
     "execution_count": 32,
     "metadata": {},
     "output_type": "execute_result"
    }
   ],
   "source": [
    "conn.listsessions()"
   ]
  },
  {
   "cell_type": "code",
   "execution_count": 33,
   "metadata": {
    "collapsed": true
   },
   "outputs": [],
   "source": [
    "conn2 = swat.CAS('server-name.mycompany.com', 5570, session='2fed25d6-4946-0540-8308-73c7f75b53c6')"
   ]
  },
  {
   "cell_type": "code",
   "execution_count": 34,
   "metadata": {
    "collapsed": false
   },
   "outputs": [
    {
     "data": {
      "text/plain": [
       "CAS('server-name.mycompany.com', 5570, 'username', protocol='cas', name='py-session-6', session='2fed25d6-4946-0540-8308-73c7f75b53c6')"
      ]
     },
     "execution_count": 34,
     "metadata": {},
     "output_type": "execute_result"
    }
   ],
   "source": [
    "conn2"
   ]
  },
  {
   "cell_type": "code",
   "execution_count": null,
   "metadata": {
    "collapsed": true
   },
   "outputs": [],
   "source": []
  }
 ],
 "metadata": {
  "kernelspec": {
   "display_name": "Python 3",
   "language": "python",
   "name": "python3"
  },
  "language_info": {
   "codemirror_mode": {
    "name": "ipython",
    "version": 3
   },
   "file_extension": ".py",
   "mimetype": "text/x-python",
   "name": "python",
   "nbconvert_exporter": "python",
   "pygments_lexer": "ipython3",
   "version": "3.4.5"
  }
 },
 "nbformat": 4,
 "nbformat_minor": 0
}
