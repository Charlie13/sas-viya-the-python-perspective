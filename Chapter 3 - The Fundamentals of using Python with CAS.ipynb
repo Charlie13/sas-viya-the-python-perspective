{
 "cells": [
  {
   "cell_type": "markdown",
   "metadata": {},
   "source": [
    "# Chapter 3 - The Fundamentals of using Python with CAS\n",
    "\n",
    "This notebook covers the methods of specifying CAS action parameters and handling the results."
   ]
  },
  {
   "cell_type": "markdown",
   "metadata": {},
   "source": [
    "## Connecting to CAS\n",
    "\n",
    "Import **swat** and connect to CAS using the **CAS** object."
   ]
  },
  {
   "cell_type": "code",
   "execution_count": 1,
   "metadata": {
    "collapsed": true
   },
   "outputs": [],
   "source": [
    "import swat"
   ]
  },
  {
   "cell_type": "code",
   "execution_count": 2,
   "metadata": {
    "collapsed": true
   },
   "outputs": [],
   "source": [
    "conn = swat.CAS('server-name.mycompany.com', 5570)"
   ]
  },
  {
   "cell_type": "code",
   "execution_count": 3,
   "metadata": {
    "collapsed": false
   },
   "outputs": [
    {
     "data": {
      "text/plain": [
       "CAS('server-name.mycompany.com', 5570, 'username', protocol='cas', name='py-session-1', session='78aaa080-f6a5-7f4f-8418-f04e4b3b789a')"
      ]
     },
     "execution_count": 3,
     "metadata": {},
     "output_type": "execute_result"
    }
   ],
   "source": [
    "conn"
   ]
  },
  {
   "cell_type": "markdown",
   "metadata": {},
   "source": [
    "## Running CAS Actions"
   ]
  },
  {
   "cell_type": "markdown",
   "metadata": {},
   "source": [
    "Run the **help** action to display the help for all loaded action sets."
   ]
  },
  {
   "cell_type": "code",
   "execution_count": 4,
   "metadata": {
    "collapsed": false
   },
   "outputs": [
    {
     "name": "stdout",
     "output_type": "stream",
     "text": [
      "NOTE: Available Action Sets and Actions:\n",
      "NOTE:    accessControl\n",
      "NOTE:       assumeRole - Assumes a role\n",
      "NOTE:       dropRole - Relinquishes a role\n",
      "NOTE:       showRolesIn - Shows the currently active role\n",
      "NOTE:       showRolesAllowed - Shows the roles that a user is a member of\n",
      "NOTE:       isInRole - Shows whether a role is assumed\n",
      "NOTE:       isAuthorized - Shows whether access is authorized\n",
      "NOTE:       isAuthorizedActions - Shows whether access is authorized to actions\n",
      "NOTE:       isAuthorizedTables - Shows whether access is authorized to tables\n",
      "NOTE:       isAuthorizedColumns - Shows whether access is authorized to columns\n",
      "NOTE:       listAllPrincipals - Lists all principals that have explicit access controls\n",
      "NOTE:       whatIsEffective - Lists effective access and explanations (Origins)\n",
      "NOTE:       listAcsData - Lists access controls for caslibs, tables, and columns\n",
      "NOTE:       listAcsActionSet - Lists access controls for an action or action set\n",
      "NOTE:       repAllAcsCaslib - Replaces all access controls for a caslib\n",
      "NOTE:       repAllAcsTable - Replaces all access controls for a table\n",
      "NOTE:       repAllAcsColumn - Replaces all access controls for a column\n",
      "NOTE:       repAllAcsActionSet - Replaces all access controls for an action set\n",
      "NOTE:       repAllAcsAction - Replaces all access controls for an action\n",
      "NOTE:       updSomeAcsCaslib - Adds, deletes, and modifies some access controls for a caslib\n",
      "NOTE:       updSomeAcsTable - Adds, deletes, and modifies some access controls for a table\n",
      "NOTE:       updSomeAcsColumn - Adds, deletes, and modifies some access controls for a column\n",
      "NOTE:       updSomeAcsActionSet - Adds, deletes, and modifies some access controls for an action set\n",
      "NOTE:       updSomeAcsAction - Adds, deletes, and modifies some access controls for an action\n",
      "NOTE:       remAllAcsData - Removes all access controls for a caslib, table, or column\n",
      "NOTE:       remAllAcsActionSet - Removes all access controls for an action set or action\n",
      "NOTE:       operTableMd - Adds, deletes, and modifies table metadata\n",
      "NOTE:       operColumnMd - Adds, deletes, and modifies column metadata\n",
      "NOTE:       operActionSetMd - Adds, deletes, and modifies action set metadata\n",
      "NOTE:       operActionMd - Adds, deletes, and modifies action metadata\n",
      "NOTE:       operAdminMd - Assigns users and groups to roles and modifies administrator metadata\n",
      "NOTE:       listMetadata - Lists the metadata for caslibs, tables, columns, action sets, actions, or administrators\n",
      "NOTE:       persistMetadata - Persists the access control metadata\n",
      "NOTE:       createBackup - Creates a backup if one is not in progress\n",
      "NOTE:       completeBackup - Flags a backup as complete\n",
      "NOTE:       operBWPaths - Configures a blacklist or whitelist of paths\n",
      "NOTE:       deleteBWList - Deletes a blacklist or a whitelist\n",
      "NOTE:    builtins\n",
      "NOTE:       addNode - Adds a machine to the server\n",
      "NOTE:       removeNode - Remove one or more machines from the server\n",
      "NOTE:       help - Shows the parameters for an action or lists all available actions\n",
      "NOTE:       listNodes - Shows the host names used by the server\n",
      "NOTE:       loadActionSet - Loads an action set for use in this session\n",
      "NOTE:       installActionSet - Loads an action set in new sessions automatically\n",
      "NOTE:       log - Shows and modifies logging levels\n",
      "NOTE:       queryActionSet - Shows whether an action set is loaded\n",
      "NOTE:       queryName - Checks whether a name is an action or action set name\n",
      "NOTE:       reflect - Shows detailed parameter information for an action or all actions in an action set\n",
      "NOTE:       serverStatus - Shows the status of the server\n",
      "NOTE:       about - Shows the status of the server\n",
      "NOTE:       shutdown - Shuts down the server\n",
      "NOTE:       userInfo - Shows the user information for your connection\n",
      "NOTE:       actionSetInfo - Shows the build information from loaded action sets\n",
      "NOTE:       history - Shows the actions that were run in this session\n",
      "NOTE:       casCommon - Provides parameters that are common to many actions\n",
      "NOTE:       ping - Sends a single request to the server to confirm that the connection is working\n",
      "NOTE:       echo - Prints the supplied parameters to the client log\n",
      "NOTE:       modifyQueue - Modifies the action response queue settings\n",
      "NOTE:       getLicenseInfo - Shows the license information for a SAS product\n",
      "NOTE:       refreshLicense - Refresh SAS license information from a file\n",
      "NOTE:       httpAddress - Shows the HTTP address for the server monitor\n",
      "NOTE:    configuration\n",
      "NOTE:       getServOpt - displays the value of a server option\n",
      "NOTE:       listServOpts - Displays the server options and server values\n",
      "NOTE:    dataPreprocess\n",
      "NOTE:       rustats - Computes robust univariate statistics, centralized moments, quantiles, and frequency distribution statistics\n",
      "NOTE:       impute - Performs data matrix (variable) imputation\n",
      "NOTE:       outlier - Performs outlier detection and treatment\n",
      "NOTE:       binning - Performs unsupervised variable discretization\n",
      "NOTE:       discretize - Performs supervised and unsupervised variable discretization\n",
      "NOTE:       catTrans - Groups and encodes categorical variables using unsupervised and supervised grouping techniques\n",
      "NOTE:       histogram - Generates histogram bins and simple bin-based statistics for numeric variables\n",
      "NOTE:       transform - Performs pipelined variable imputation, outlier detection and treatment, functional transformation, binning, and robust univariate statistics to evaluate the quality of the transformation\n",
      "NOTE:       kde - Computes kernel density estimation\n",
      "NOTE:    dataStep\n",
      "NOTE:       runCode - Runs DATA step code\n",
      "NOTE:    percentile\n",
      "NOTE:       percentile - Calculate quantiles and percentiles\n",
      "NOTE:       boxPlot - Calculate quantiles, high and low whiskers, and outliers\n",
      "NOTE:       assess - Assess and compare models\n",
      "NOTE:    search\n",
      "NOTE:       searchIndex - Searches for a query against an index and retrieves records, documents, and tuples that are relevant to that query\n",
      "NOTE:       searchAggregate - Aggregates certain fields in a table that is usually generated by searchIndex\n",
      "NOTE:       valueCount - value count for multiple fields\n",
      "NOTE:       buildIndex - Creates an empty index using a schema (the first step of Search)\n",
      "NOTE:       getSchema - Gets the schema of an index\n",
      "NOTE:       appendIndex - Loads data to an index after the buildIndex action is performed\n",
      "NOTE:       deleteDocuments - Delete a portion of documents from index\n",
      "NOTE:    session\n",
      "NOTE:       listSessions - Displays a list of the sessions on the server\n",
      "NOTE:       addNodeStatus - Lists details about machines currently being added to the server\n",
      "NOTE:       timeout - Changes the time-out for a session\n",
      "NOTE:       endSession - Ends the current session\n",
      "NOTE:       sessionId - Displays the name and UUID of the current session\n",
      "NOTE:       sessionName - Changes the name of the current session\n",
      "NOTE:       sessionStatus - Displays the status of the current session\n",
      "NOTE:       listresults - Lists the saved results for a session\n",
      "NOTE:       batchresults - Change current action to batch results\n",
      "NOTE:       fetchresult - Fetch the specified saved result for a session\n",
      "NOTE:       flushresult - Flush the saved result for this session\n",
      "NOTE:       setLocale - Changes the locale for the current session\n",
      "NOTE:       metrics - Displays the metrics for each action after it executes\n",
      "NOTE:    sessionProp\n",
      "NOTE:       setSessOpt - Sets a session option\n",
      "NOTE:       getSessOpt - Displays the value of a session option\n",
      "NOTE:       listSessOpts - Displays the session options and session values\n",
      "NOTE:       addFmtLib - Adds a format library\n",
      "NOTE:       listFmtLibs - Lists the format libraries that are associated with the session\n",
      "NOTE:       setFmtSearch - Sets the format libraries to search\n",
      "NOTE:       listFmtSearch - Shows the format library search order\n",
      "NOTE:       dropFmtLib - Drops a format library from global scope for all sessions\n",
      "NOTE:       deleteFormat - Deletes a format from a format library\n",
      "NOTE:       addFormat - Adds a format to a format library\n",
      "NOTE:       listFmtValues - Shows the values for a format\n",
      "NOTE:       saveFmtLib - Saves a format library\n",
      "NOTE:       promoteFmtLib - Promotes a format library to global scope for all sessions\n",
      "NOTE:       listFmtRanges - Displays the range information for a format\n",
      "NOTE:    simple\n",
      "NOTE:       mdSummary - Calculates multidimensional summaries of numeric variables\n",
      "NOTE:       numRows - Shows the number of rows in a Cloud Analytic Services table\n",
      "NOTE:       summary - Generates descriptive statistics of numeric variables such as the sample mean, sample variance, sample size, sum of squares, and so on\n",
      "NOTE:       correlation - Generates a matrix of Pearson product-moment correlation coefficients\n",
      "NOTE:       regression - Performs a linear regression up to 3rd-order polynomials\n",
      "NOTE:       crossTab - Performs one-way or two-way tabulations\n",
      "NOTE:       distinct - Computes the distinct number of values of the variables in the variable list\n",
      "NOTE:       topK - Returns the top-K and bottom-K distinct values of each variable included in the variable list based on a user-specified ranking order\n",
      "NOTE:       groupBy - Builds BY groups in terms of the variable value combinations given the variables in the variable list\n",
      "NOTE:       freq - Generates a frequency distribution for one or more variables\n",
      "NOTE:       paraCoord - Generates a parallel coordinates plot of the variables in the variable list\n",
      "NOTE:    table\n",
      "NOTE:       view - Creates a view from files or tables\n",
      "NOTE:       attribute - Manages extended table attributes\n",
      "NOTE:       upload - Transfers binary data to the server to create objects like tables\n",
      "NOTE:       loadTable - Loads a table from a caslib's data source\n",
      "NOTE:       tableExists - Checks whether a table has been loaded\n",
      "NOTE:       columnInfo - Shows column information\n",
      "NOTE:       fetch - Fetches rows from a table or view\n",
      "NOTE:       save - Saves a table to a caslib's data source\n",
      "NOTE:       addTable - Add a table by sending it from the client to the server\n",
      "NOTE:       tableInfo - Shows information about a table\n",
      "NOTE:       tableDetails - Get detailed information about a table\n",
      "NOTE:       dropTable - Drops a table\n",
      "NOTE:       deleteSource - Delete a table or file from a caslib's data source\n",
      "NOTE:       fileInfo - Lists the files in a caslib's data source\n",
      "NOTE:       promote - Promote a table to global scope\n",
      "NOTE:       addCaslib - Adds a new caslib to enable access to a data source\n",
      "NOTE:       dropCaslib - Drops a caslib\n",
      "NOTE:       caslibInfo - Shows caslib information\n",
      "NOTE:       queryCaslib - Checks whether a caslib exists\n",
      "NOTE:       partition - Partitions a table\n",
      "NOTE:       recordCount - Shows the number of rows in a Cloud Analytic Services table\n",
      "NOTE:       loadDataSource - Loads one or more data source interfaces\n",
      "NOTE:       update - Updates rows in a table\n"
     ]
    }
   ],
   "source": [
    "out = conn.help()"
   ]
  },
  {
   "cell_type": "markdown",
   "metadata": {},
   "source": [
    "Run the **help** action to display the help for the **builtins** action set only."
   ]
  },
  {
   "cell_type": "code",
   "execution_count": 5,
   "metadata": {
    "collapsed": false
   },
   "outputs": [
    {
     "name": "stdout",
     "output_type": "stream",
     "text": [
      "NOTE: Information for action set 'builtins':\n",
      "NOTE:    builtins\n",
      "NOTE:       addNode - Adds a machine to the server\n",
      "NOTE:       removeNode - Remove one or more machines from the server\n",
      "NOTE:       help - Shows the parameters for an action or lists all available actions\n",
      "NOTE:       listNodes - Shows the host names used by the server\n",
      "NOTE:       loadActionSet - Loads an action set for use in this session\n",
      "NOTE:       installActionSet - Loads an action set in new sessions automatically\n",
      "NOTE:       log - Shows and modifies logging levels\n",
      "NOTE:       queryActionSet - Shows whether an action set is loaded\n",
      "NOTE:       queryName - Checks whether a name is an action or action set name\n",
      "NOTE:       reflect - Shows detailed parameter information for an action or all actions in an action set\n",
      "NOTE:       serverStatus - Shows the status of the server\n",
      "NOTE:       about - Shows the status of the server\n",
      "NOTE:       shutdown - Shuts down the server\n",
      "NOTE:       userInfo - Shows the user information for your connection\n",
      "NOTE:       actionSetInfo - Shows the build information from loaded action sets\n",
      "NOTE:       history - Shows the actions that were run in this session\n",
      "NOTE:       casCommon - Provides parameters that are common to many actions\n",
      "NOTE:       ping - Sends a single request to the server to confirm that the connection is working\n",
      "NOTE:       echo - Prints the supplied parameters to the client log\n",
      "NOTE:       modifyQueue - Modifies the action response queue settings\n",
      "NOTE:       getLicenseInfo - Shows the license information for a SAS product\n",
      "NOTE:       refreshLicense - Refresh SAS license information from a file\n",
      "NOTE:       httpAddress - Shows the HTTP address for the server monitor\n"
     ]
    }
   ],
   "source": [
    "out = conn.help(actionset='builtins')"
   ]
  },
  {
   "cell_type": "markdown",
   "metadata": {},
   "source": [
    "Display help for the **help** action."
   ]
  },
  {
   "cell_type": "code",
   "execution_count": 6,
   "metadata": {
    "collapsed": false
   },
   "outputs": [
    {
     "name": "stdout",
     "output_type": "stream",
     "text": [
      "NOTE: Information for action 'builtins.help':\n",
      "NOTE: The following parameters are accepted.  Default values are shown.\n",
      "NOTE:    string action=NULL,\n",
      "NOTE:       specifies the name of the action for which you want help. The name can be in the form 'actionSetName.actionName' or just 'actionName.\n",
      "NOTE:    string actionSet=NULL,\n",
      "NOTE:       specifies the name of the action set for which you want help. This parameter is ignored if the action parameter is specified.\n",
      "NOTE:    boolean verbose=true\n",
      "NOTE:       when set to True, provides more detail for each parameter.\n"
     ]
    }
   ],
   "source": [
    "out = conn.help(action='help')"
   ]
  },
  {
   "cell_type": "markdown",
   "metadata": {},
   "source": [
    "Display just the parameters for the **help** action."
   ]
  },
  {
   "cell_type": "code",
   "execution_count": 7,
   "metadata": {
    "collapsed": false
   },
   "outputs": [
    {
     "name": "stdout",
     "output_type": "stream",
     "text": [
      "NOTE: Information for action 'builtins.help':\n",
      "NOTE: The following parameters are accepted.  Default values are shown.\n",
      "NOTE:    string action=NULL,\n",
      "NOTE:    string actionSet=NULL,\n",
      "NOTE:    boolean verbose=true\n"
     ]
    }
   ],
   "source": [
    "out = conn.help(action='help', verbose=False)"
   ]
  },
  {
   "cell_type": "markdown",
   "metadata": {},
   "source": [
    "Rather than using the **help** action directly, you can use Python's **help** function on an action."
   ]
  },
  {
   "cell_type": "code",
   "execution_count": 8,
   "metadata": {
    "collapsed": false
   },
   "outputs": [
    {
     "name": "stdout",
     "output_type": "stream",
     "text": [
      "Help on builtins.Help in module swat.cas.actions object:\n",
      "\n",
      "class builtins.Help(CASAction)\n",
      " |  Shows the parameters for an action or lists all available actions\n",
      " |  \n",
      " |  Parameters\n",
      " |  ----------\n",
      " |  action : string, optional\n",
      " |      specifies the name of the action for which you want help. The name\n",
      " |      can be in the form 'actionSetName.actionName' or just 'actionName.\n",
      " |  \n",
      " |  actionset : string, optional\n",
      " |      specifies the name of the action set for which you want help. This\n",
      " |      parameter is ignored if the action parameter is specified.\n",
      " |  \n",
      " |  showhidden : boolean, optional\n",
      " |      when set True, the actions that are used by SAS research and\n",
      " |      development are included.\n",
      " |      Default: False\n",
      " |  \n",
      " |  verbose : boolean, optional\n",
      " |      when set to True, provides more detail for each parameter.\n",
      " |      Default: True\n",
      " |  \n",
      " |  Returns\n",
      " |  -------\n",
      " |  Help object\n",
      " |  \n",
      " |  Method resolution order:\n",
      " |      builtins.Help\n",
      " |      CASAction\n",
      " |      swat.cas.utils.params.ParamManager\n",
      " |      builtins.object\n",
      " |  \n",
      " |  Methods defined here:\n",
      " |  \n",
      " |  __call__(_self_, action=None, actionset=None, showhidden=None, verbose=None, **kwargs)\n",
      " |      Shows the parameters for an action or lists all available actions\n",
      " |      \n",
      " |      Parameters\n",
      " |      ----------\n",
      " |      action : string, optional\n",
      " |          specifies the name of the action for which you want help. The name\n",
      " |          can be in the form 'actionSetName.actionName' or just 'actionName.\n",
      " |      \n",
      " |      actionset : string, optional\n",
      " |          specifies the name of the action set for which you want help. This\n",
      " |          parameter is ignored if the action parameter is specified.\n",
      " |      \n",
      " |      showhidden : boolean, optional\n",
      " |          when set True, the actions that are used by SAS research and\n",
      " |          development are included.\n",
      " |          Default: False\n",
      " |      \n",
      " |      verbose : boolean, optional\n",
      " |          when set to True, provides more detail for each parameter.\n",
      " |          Default: True\n",
      " |      \n",
      " |      Returns\n",
      " |      -------\n",
      " |      CASResults object\n",
      " |  \n",
      " |  __init__(_self_, action=None, actionset=None, showhidden=None, verbose=None, **kwargs)\n",
      " |      Shows the parameters for an action or lists all available actions\n",
      " |      \n",
      " |      Parameters\n",
      " |      ----------\n",
      " |      action : string, optional\n",
      " |          specifies the name of the action for which you want help. The name\n",
      " |          can be in the form 'actionSetName.actionName' or just 'actionName.\n",
      " |      \n",
      " |      actionset : string, optional\n",
      " |          specifies the name of the action set for which you want help. This\n",
      " |          parameter is ignored if the action parameter is specified.\n",
      " |      \n",
      " |      showhidden : boolean, optional\n",
      " |          when set True, the actions that are used by SAS research and\n",
      " |          development are included.\n",
      " |          Default: False\n",
      " |      \n",
      " |      verbose : boolean, optional\n",
      " |          when set to True, provides more detail for each parameter.\n",
      " |          Default: True\n",
      " |      \n",
      " |      Returns\n",
      " |      -------\n",
      " |      Help object\n",
      " |  \n",
      " |  get_param(_self_, key)\n",
      " |      Get the value of an action parameter\n",
      " |      \n",
      " |      Parameters\n",
      " |      ----------\n",
      " |      key : string\n",
      " |          The fully-qualified name (e.g., table.name) of the parameter to retrieve.\n",
      " |      \n",
      " |      Valid Parameters\n",
      " |      ----------------\n",
      " |      action : string, optional\n",
      " |          specifies the name of the action for which you want help. The name\n",
      " |          can be in the form 'actionSetName.actionName' or just 'actionName.\n",
      " |      \n",
      " |      actionset : string, optional\n",
      " |          specifies the name of the action set for which you want help. This\n",
      " |          parameter is ignored if the action parameter is specified.\n",
      " |      \n",
      " |      showhidden : boolean, optional\n",
      " |          when set True, the actions that are used by SAS research and\n",
      " |          development are included.\n",
      " |          Default: False\n",
      " |      \n",
      " |      verbose : boolean, optional\n",
      " |          when set to True, provides more detail for each parameter.\n",
      " |          Default: True\n",
      " |      \n",
      " |      Returns\n",
      " |      -------\n",
      " |      any\n",
      " |          The value of the speciifed parameter.\n",
      " |  \n",
      " |  get_params(_self_, *keys)\n",
      " |      Get the value of one or more action parameters\n",
      " |      \n",
      " |      Parameters\n",
      " |      ----------\n",
      " |      *keys : one or more strings\n",
      " |          The fully-qualified names (e.g., table.name) of the parameters to retrieve.\n",
      " |      \n",
      " |      Valid Parameters\n",
      " |      ----------------\n",
      " |      action : string, optional\n",
      " |          specifies the name of the action for which you want help. The name\n",
      " |          can be in the form 'actionSetName.actionName' or just 'actionName.\n",
      " |      \n",
      " |      actionset : string, optional\n",
      " |          specifies the name of the action set for which you want help. This\n",
      " |          parameter is ignored if the action parameter is specified.\n",
      " |      \n",
      " |      showhidden : boolean, optional\n",
      " |          when set True, the actions that are used by SAS research and\n",
      " |          development are included.\n",
      " |          Default: False\n",
      " |      \n",
      " |      verbose : boolean, optional\n",
      " |          when set to True, provides more detail for each parameter.\n",
      " |          Default: True\n",
      " |      \n",
      " |      Returns\n",
      " |      -------\n",
      " |      dict\n",
      " |          A dictionary of key value pairs containing the requested parameters.\n",
      " |  \n",
      " |  set_param(_self_, *args, **kwargs)\n",
      " |      Set one or more action parameters\n",
      " |      \n",
      " |      Parameters\n",
      " |      ----------\n",
      " |      *args : string / any pairs, optional\n",
      " |          Parameters can be specified as fully-qualified names (e.g, table.name)\n",
      " |          and values as subsequent arguments.  Any number of name / any pairs\n",
      " |          can be specified.\n",
      " |      **kwargs : any, optional\n",
      " |          Parameters can be specified as any number of keyword arguments.\n",
      " |      \n",
      " |      Examples\n",
      " |      --------\n",
      " |      #\n",
      " |      # String / any pairs\n",
      " |      #\n",
      " |      > summ = s.simple.Sumamry()\n",
      " |      > summ.set_param('table.name', 'iris',\n",
      " |                       'table.singlepass', True,\n",
      " |                       'casout.name', 'iris_summary')\n",
      " |      > print(summ)\n",
      " |      ?.simple.Summary(table={'name': 'iris', 'singlepass': True},\n",
      " |                       casout={'name': 'iris_summary'})\n",
      " |      \n",
      " |      #\n",
      " |      # Keywords\n",
      " |      #\n",
      " |      > summ.set_param(casout=dict(name='iris_out'))\n",
      " |      > print(summ)\n",
      " |      ?.simple.Summary(table={'name': 'iris', 'singlepass': True},\n",
      " |                       casout={'name': 'iris_out'})\n",
      " |      \n",
      " |      Valid Parameters\n",
      " |      ----------------\n",
      " |      action : string, optional\n",
      " |          specifies the name of the action for which you want help. The name\n",
      " |          can be in the form 'actionSetName.actionName' or just 'actionName.\n",
      " |      \n",
      " |      actionset : string, optional\n",
      " |          specifies the name of the action set for which you want help. This\n",
      " |          parameter is ignored if the action parameter is specified.\n",
      " |      \n",
      " |      showhidden : boolean, optional\n",
      " |          when set True, the actions that are used by SAS research and\n",
      " |          development are included.\n",
      " |          Default: False\n",
      " |      \n",
      " |      verbose : boolean, optional\n",
      " |          when set to True, provides more detail for each parameter.\n",
      " |          Default: True\n",
      " |      \n",
      " |      Returns\n",
      " |      -------\n",
      " |      None\n",
      " |  \n",
      " |  set_params(_self_, *args, **kwargs)\n",
      " |      Set one or more action parameters\n",
      " |      \n",
      " |      Parameters\n",
      " |      ----------\n",
      " |      *args : string / any pairs, optional\n",
      " |          Parameters can be specified as fully-qualified names (e.g, table.name)\n",
      " |          and values as subsequent arguments.  Any number of name / any pairs\n",
      " |          can be specified.\n",
      " |      **kwargs : any, optional\n",
      " |          Parameters can be specified as any number of keyword arguments.\n",
      " |      \n",
      " |      Examples\n",
      " |      --------\n",
      " |      #\n",
      " |      # String / any pairs\n",
      " |      #\n",
      " |      > summ = s.simple.Sumamry()\n",
      " |      > summ.set_param('table.name', 'iris',\n",
      " |                       'table.singlepass', True,\n",
      " |                       'casout.name', 'iris_summary')\n",
      " |      > print(summ)\n",
      " |      ?.simple.Summary(table={'name': 'iris', 'singlepass': True},\n",
      " |                       casout={'name': 'iris_summary'})\n",
      " |      \n",
      " |      #\n",
      " |      # Keywords\n",
      " |      #\n",
      " |      > summ.set_param(casout=dict(name='iris_out'))\n",
      " |      > print(summ)\n",
      " |      ?.simple.Summary(table={'name': 'iris', 'singlepass': True},\n",
      " |                       casout={'name': 'iris_out'})\n",
      " |      \n",
      " |      Valid Parameters\n",
      " |      ----------------\n",
      " |      action : string, optional\n",
      " |          specifies the name of the action for which you want help. The name\n",
      " |          can be in the form 'actionSetName.actionName' or just 'actionName.\n",
      " |      \n",
      " |      actionset : string, optional\n",
      " |          specifies the name of the action set for which you want help. This\n",
      " |          parameter is ignored if the action parameter is specified.\n",
      " |      \n",
      " |      showhidden : boolean, optional\n",
      " |          when set True, the actions that are used by SAS research and\n",
      " |          development are included.\n",
      " |          Default: False\n",
      " |      \n",
      " |      verbose : boolean, optional\n",
      " |          when set to True, provides more detail for each parameter.\n",
      " |          Default: True\n",
      " |      \n",
      " |      Returns\n",
      " |      -------\n",
      " |      None\n",
      " |  \n",
      " |  ----------------------------------------------------------------------\n",
      " |  Data and other attributes defined here:\n",
      " |  \n",
      " |  all_params = set(['action', 'actionset', 'showhidden', 'verbose'])\n",
      " |  \n",
      " |  param_names = ['action', 'actionset', 'showhidden', 'verbose']\n",
      " |  \n",
      " |  ----------------------------------------------------------------------\n",
      " |  Methods inherited from CASAction:\n",
      " |  \n",
      " |  __iter__(self)\n",
      " |      Call the action and iterate over the results\n",
      " |  \n",
      " |  invoke(self, **kwargs)\n",
      " |      Invoke the action\n",
      " |      \n",
      " |      Parameters\n",
      " |      ----------\n",
      " |      **kwargs : any, optional\n",
      " |          Arbitrary key/value pairs to add to the arguments sent to the\n",
      " |          action.  These key/value pairs are not added to the collection\n",
      " |          of parameters set on the action object.  They are only used in\n",
      " |          this call.\n",
      " |      \n",
      " |      Returns\n",
      " |      -------\n",
      " |      self\n",
      " |          Returns the CASAction object itself\n",
      " |  \n",
      " |  retrieve = __call__(self, **kwargs)\n",
      " |      Call the action\n",
      " |      \n",
      " |      Parameters\n",
      " |      ----------\n",
      " |      **kwargs : any, optional\n",
      " |          Arbitrary key/value pairs to add to the arguments sent to the\n",
      " |          action.  These key/value pairs are not added to the collection\n",
      " |          of parameters set on the action object.  They are only used in\n",
      " |          this call.\n",
      " |      \n",
      " |      Returns\n",
      " |      -------\n",
      " |      CASResults object\n",
      " |          Collection of results from the action call\n",
      " |  \n",
      " |  ----------------------------------------------------------------------\n",
      " |  Class methods inherited from CASAction:\n",
      " |  \n",
      " |  from_reflection(asname, actinfo, connection) from builtins.type\n",
      " |      Construct a CASAction class from reflection information\n",
      " |      \n",
      " |      Parameters\n",
      " |      ----------\n",
      " |      asname : string\n",
      " |          The action set name\n",
      " |      actinfo : dict\n",
      " |          The reflection information for the action\n",
      " |      connection : CAS object\n",
      " |          The connection to associate with the CASAction\n",
      " |      defaults : dict\n",
      " |          Default parameters for the action\n",
      " |      \n",
      " |      Returns\n",
      " |      -------\n",
      " |      CASAction class\n",
      " |  \n",
      " |  get_connection() from builtins.type\n",
      " |      Return the registered connection\n",
      " |      \n",
      " |      The connection is only held by a weak reference.  If the\n",
      " |      connection no longer exists, a SWATError is raised.\n",
      " |      \n",
      " |      Raises\n",
      " |      ------\n",
      " |      SWATError\n",
      " |          If the registered connection no longer exists\n",
      " |  \n",
      " |  ----------------------------------------------------------------------\n",
      " |  Data and other attributes inherited from CASAction:\n",
      " |  \n",
      " |  trait_names = None\n",
      " |  \n",
      " |  ----------------------------------------------------------------------\n",
      " |  Methods inherited from swat.cas.utils.params.ParamManager:\n",
      " |  \n",
      " |  __delattr__(self, name)\n",
      " |      Delete an attribute\n",
      " |  \n",
      " |  __enter__(self)\n",
      " |  \n",
      " |  __exit__(self, type, value, traceback)\n",
      " |  \n",
      " |  __getattr__(self, name)\n",
      " |      Get named attribute\n",
      " |  \n",
      " |  __repr__(self)\n",
      " |  \n",
      " |  __setattr__(self, name, value)\n",
      " |      Set an attribute\n",
      " |  \n",
      " |  __str__(self)\n",
      " |  \n",
      " |  del_param = del_params(self, *keys)\n",
      " |      Delete parameters\n",
      " |      \n",
      " |      Parameters\n",
      " |      ----------\n",
      " |      *keys : strings\n",
      " |         Names of parameters to delete\n",
      " |      \n",
      " |      Returns\n",
      " |      -------\n",
      " |      None\n",
      " |  \n",
      " |  del_params(self, *keys)\n",
      " |      Delete parameters\n",
      " |      \n",
      " |      Parameters\n",
      " |      ----------\n",
      " |      *keys : strings\n",
      " |         Names of parameters to delete\n",
      " |      \n",
      " |      Returns\n",
      " |      -------\n",
      " |      None\n",
      " |  \n",
      " |  has_param = has_params(self, *keys)\n",
      " |      Return a boolean indicating whether or not the parameters exist\n",
      " |      \n",
      " |      Parameters\n",
      " |      ----------\n",
      " |      *keys : one or more strings\n",
      " |          Names of parameters\n",
      " |      \n",
      " |      Returns\n",
      " |      -------\n",
      " |      True or False\n",
      " |  \n",
      " |  has_params(self, *keys)\n",
      " |      Return a boolean indicating whether or not the parameters exist\n",
      " |      \n",
      " |      Parameters\n",
      " |      ----------\n",
      " |      *keys : one or more strings\n",
      " |          Names of parameters\n",
      " |      \n",
      " |      Returns\n",
      " |      -------\n",
      " |      True or False\n",
      " |  \n",
      " |  to_dict(self)\n",
      " |      Return the parameters as a dictionary\n",
      " |  \n",
      " |  to_json(self, *args, **kwargs)\n",
      " |      Convert parameters to JSON\n",
      " |      \n",
      " |      Parameters\n",
      " |      ----------\n",
      " |      *args : any, optional\n",
      " |          Additional arguments to json.dumps\n",
      " |      **kwargs : any, optional\n",
      " |          Additional arguments to json.dumps\n",
      " |      \n",
      " |      Returns\n",
      " |      -------\n",
      " |      string\n",
      " |  \n",
      " |  to_params = to_dict(self)\n",
      " |      Return the parameters as a dictionary\n",
      " |  \n",
      " |  ----------------------------------------------------------------------\n",
      " |  Data descriptors inherited from swat.cas.utils.params.ParamManager:\n",
      " |  \n",
      " |  __dict__\n",
      " |      dictionary for instance variables (if defined)\n",
      " |  \n",
      " |  __weakref__\n",
      " |      list of weak references to the object (if defined)\n",
      "\n"
     ]
    }
   ],
   "source": [
    "help(conn.help)"
   ]
  },
  {
   "cell_type": "markdown",
   "metadata": {},
   "source": [
    "You can also use IPython's help hooks to display help using a **?** at the end."
   ]
  },
  {
   "cell_type": "code",
   "execution_count": 9,
   "metadata": {
    "collapsed": true
   },
   "outputs": [],
   "source": [
    "conn.help?"
   ]
  },
  {
   "cell_type": "markdown",
   "metadata": {},
   "source": [
    "Now let's look at the help for the **builtins** action set."
   ]
  },
  {
   "cell_type": "code",
   "execution_count": 10,
   "metadata": {
    "collapsed": true
   },
   "outputs": [],
   "source": [
    "conn.builtins?"
   ]
  },
  {
   "cell_type": "markdown",
   "metadata": {},
   "source": [
    "You can also use tab-completion on action sets in IPython or other IDEs that support it."
   ]
  },
  {
   "cell_type": "code",
   "execution_count": null,
   "metadata": {
    "collapsed": false
   },
   "outputs": [],
   "source": [
    "conn.builtins."
   ]
  },
  {
   "cell_type": "markdown",
   "metadata": {},
   "source": [
    "## Specifying Action Parameters"
   ]
  },
  {
   "cell_type": "markdown",
   "metadata": {},
   "source": [
    "Using the **echo** action to practice more complex parameter types."
   ]
  },
  {
   "cell_type": "code",
   "execution_count": 11,
   "metadata": {
    "collapsed": false
   },
   "outputs": [
    {
     "name": "stdout",
     "output_type": "stream",
     "text": [
      "NOTE: builtin.echo called with 8 parameters.\n",
      "NOTE:    parameter 1: double = 3.14159\n",
      "NOTE:    parameter 2: string = 'I like snowmen! \u0003'\n",
      "NOTE:    parameter 3: list = {'item1', 'item2', 'item3'}\n",
      "NOTE:    parameter 4: int64 = 1152921504606846976\n",
      "NOTE:    parameter 5: boolean_true = true\n",
      "NOTE:    parameter 6: dict = {key2 = 'value2', key1 = 'value1', key3 = 3}\n",
      "NOTE:    parameter 7: boolean_false = false\n",
      "NOTE:    parameter 8: int32 = 1776\n"
     ]
    }
   ],
   "source": [
    "out = conn.echo(boolean_true = True,\n",
    "                boolean_false = False,\n",
    "                double = 3.14159,\n",
    "                int32 = 1776,\n",
    "                int64 = 2**60,\n",
    "                string = u'I like snowmen! \\u2603',\n",
    "                list = [u'item1', u'item2', u'item3'],\n",
    "                dict = {'key1': 'value1', \n",
    "                        'key2': 'value2', \n",
    "                        'key3': 3}\n",
    "                )"
   ]
  },
  {
   "cell_type": "markdown",
   "metadata": {},
   "source": [
    "Using nested structures in parameters."
   ]
  },
  {
   "cell_type": "code",
   "execution_count": 13,
   "metadata": {
    "collapsed": false
   },
   "outputs": [
    {
     "name": "stdout",
     "output_type": "stream",
     "text": [
      "NOTE: builtin.echo called with 1 parameters.\n",
      "NOTE:    parameter 1: list = {'item1', 'item2', {key2 = {value2 = {0, 1, 1, 2, 3}}, key1 = 'value1'}}\n"
     ]
    }
   ],
   "source": [
    "out = conn.echo(\n",
    "                list = ['item1', \n",
    "                        'item2',\n",
    "                        {\n",
    "                         'key1': 'value1',\n",
    "                         'key2': {\n",
    "                                  'value2': [0, 1, 1, 2, 3]\n",
    "                                 }\n",
    "                        }\n",
    "                       ])"
   ]
  },
  {
   "cell_type": "markdown",
   "metadata": {},
   "source": [
    "### Constructing Nested Action Parameters\n",
    "\n",
    "To keep nested parameters consistent with keyword parameters at the top level, \n",
    "you can use the **dict** constructor rather than object literals."
   ]
  },
  {
   "cell_type": "code",
   "execution_count": 14,
   "metadata": {
    "collapsed": false
   },
   "outputs": [
    {
     "name": "stdout",
     "output_type": "stream",
     "text": [
      "NOTE: builtin.echo called with 1 parameters.\n",
      "NOTE:    parameter 1: list = {'item1', 'item2', {key2 = {value2 = {0, 1, 1, 2, 3}}, key1 = 'value1'}}\n"
     ]
    }
   ],
   "source": [
    "out = conn.echo(\n",
    "                list = ['item1', \n",
    "                        'item2',\n",
    "                        dict(\n",
    "                            key1 = 'value1',\n",
    "                            key2 = dict(\n",
    "                                       value2 = [0, 1, 1, 2, 3]\n",
    "                                   )\n",
    "                        )\n",
    "                       ])"
   ]
  },
  {
   "cell_type": "markdown",
   "metadata": {},
   "source": [
    "The **vl** (for value list) function allows you to construct nested parameters \n",
    "in a piecemeal fashion.  Keys are added automatically when they are accessed."
   ]
  },
  {
   "cell_type": "code",
   "execution_count": 17,
   "metadata": {
    "collapsed": false
   },
   "outputs": [
    {
     "data": {
      "text/plain": [
       "{'list': {0: 'item1',\n",
       "  1: 'item2',\n",
       "  2: {'key1': 'value1', 'key2': {'value2': [0, 1, 1, 2, 3]}}}}"
      ]
     },
     "execution_count": 17,
     "metadata": {},
     "output_type": "execute_result"
    }
   ],
   "source": [
    "params = swat.vl()\n",
    "params.list[0] = 'item1'\n",
    "params.list[1] = 'item2'\n",
    "params.list[2].key1 = 'value1'\n",
    "params.list[2].key2.value2 = [0, 1, 1, 2, 3]\n",
    "params"
   ]
  },
  {
   "cell_type": "markdown",
   "metadata": {},
   "source": [
    "Since **vl** is a subclass of dictionary, you can expand its contents to keyword \n",
    "parameters in Python functions using the **\\*\\*** operator."
   ]
  },
  {
   "cell_type": "code",
   "execution_count": 18,
   "metadata": {
    "collapsed": false
   },
   "outputs": [
    {
     "name": "stdout",
     "output_type": "stream",
     "text": [
      "NOTE: builtin.echo called with 1 parameters.\n",
      "NOTE:    parameter 1: list = {'item1', 'item2', {key2 = {value2 = {0, 1, 1, 2, 3}}, key1 = 'value1'}}\n"
     ]
    }
   ],
   "source": [
    "out = conn.echo(**params)"
   ]
  },
  {
   "cell_type": "markdown",
   "metadata": {},
   "source": [
    "To delete parameters from a value list, you use Python's **del** statement as with\n",
    "any dictionary"
   ]
  },
  {
   "cell_type": "code",
   "execution_count": 19,
   "metadata": {
    "collapsed": false
   },
   "outputs": [
    {
     "data": {
      "text/plain": [
       "{'list': {0: 'item1', 1: 'item2', 2: {'key1': 'value1', 'key2': {}}}}"
      ]
     },
     "execution_count": 19,
     "metadata": {},
     "output_type": "execute_result"
    }
   ],
   "source": [
    "del params.list[2].key2.value2\n",
    "params"
   ]
  },
  {
   "cell_type": "markdown",
   "metadata": {},
   "source": [
    "### Automatic Type Casting\n",
    "\n",
    "The CAS server will attempt to cast values to the appropriate type.  Here we are getting the history from the server using integers."
   ]
  },
  {
   "cell_type": "code",
   "execution_count": 20,
   "metadata": {
    "collapsed": false
   },
   "outputs": [
    {
     "name": "stdout",
     "output_type": "stream",
     "text": [
      "NOTE: 18: action builtins.queryactionset / actionSet='_repr_pdf_', _apptag='UI', _messageLevel='error'; /* (SUCCESS) */\n",
      "NOTE: 19: action builtins.queryname / name='_repr_pdf_', _apptag='UI', _messageLevel='error'; /* (SUCCESS) */\n",
      "NOTE: 20: action builtins.queryactionset / actionSet='_repr_json_', _apptag='UI', _messageLevel='error'; /* (SUCCESS) */\n"
     ]
    }
   ],
   "source": [
    "out = conn.history(first=18, last=20)"
   ]
  },
  {
   "cell_type": "markdown",
   "metadata": {},
   "source": [
    "Here we are using strings, which get converted to integers on the server side."
   ]
  },
  {
   "cell_type": "code",
   "execution_count": 21,
   "metadata": {
    "collapsed": false
   },
   "outputs": [
    {
     "name": "stdout",
     "output_type": "stream",
     "text": [
      "NOTE: 18: action builtins.queryactionset / actionSet='_repr_pdf_', _apptag='UI', _messageLevel='error'; /* (SUCCESS) */\n",
      "NOTE: 19: action builtins.queryname / name='_repr_pdf_', _apptag='UI', _messageLevel='error'; /* (SUCCESS) */\n",
      "NOTE: 20: action builtins.queryactionset / actionSet='_repr_json_', _apptag='UI', _messageLevel='error'; /* (SUCCESS) */\n"
     ]
    }
   ],
   "source": [
    "out = conn.history(first='18', last='20')"
   ]
  },
  {
   "cell_type": "markdown",
   "metadata": {},
   "source": [
    "### Scalar Parameter to Dictionary Conversion\n",
    "\n",
    "Some parameters that take multiple keys can be expressed with a single scalar value.  \n",
    "This is common in table parameters.  Tables can be expressed as both a single name (which\n",
    "is the first and only required parameter of a table definition),\n",
    "or by using a dictionary with multiple settings.  If a single name is used, the parameter\n",
    "is converted to a value list in the server and the name is used as the first defined parameter\n",
    "name in the value list.\n",
    "\n",
    "Here we are using the dictionary form of **casout**, but only specifying a name."
   ]
  },
  {
   "cell_type": "code",
   "execution_count": 23,
   "metadata": {
    "collapsed": false
   },
   "outputs": [
    {
     "name": "stderr",
     "output_type": "stream",
     "text": [
      "ERROR: The table hist already exists in the session.\n",
      "ERROR: The action stopped due to errors.\n"
     ]
    }
   ],
   "source": [
    "out = conn.history(casout=dict(name='hist'), first=18, last=20)"
   ]
  },
  {
   "cell_type": "markdown",
   "metadata": {},
   "source": [
    "Here we are specifying **casout** as a string.  This parameter gets converted to a \n",
    "value list in the server as `name='hist2'`."
   ]
  },
  {
   "cell_type": "code",
   "execution_count": 24,
   "metadata": {
    "collapsed": false
   },
   "outputs": [
    {
     "name": "stdout",
     "output_type": "stream",
     "text": [
      "NOTE: 3 records were written to table 'hist2\n",
      "NOTE: 18: action builtins.queryactionset / actionSet='_repr_pdf_', _apptag='UI', _messageLevel='error'; /* (SUCCESS) */\n",
      "NOTE: 19: action builtins.queryname / name='_repr_pdf_', _apptag='UI', _messageLevel='error'; /* (SUCCESS) */\n",
      "NOTE: 20: action builtins.queryactionset / actionSet='_repr_json_', _apptag='UI', _messageLevel='error'; /* (SUCCESS) */\n"
     ]
    }
   ],
   "source": [
    "out = conn.history(casout='hist2', first=18, last=20)"
   ]
  },
  {
   "cell_type": "markdown",
   "metadata": {},
   "source": [
    "## CAS Action Results\n",
    "\n",
    "Display the conents of the action result."
   ]
  },
  {
   "cell_type": "code",
   "execution_count": 27,
   "metadata": {
    "collapsed": false
   },
   "outputs": [
    {
     "name": "stdout",
     "output_type": "stream",
     "text": [
      "NOTE: builtin.echo called with 8 parameters.\n",
      "NOTE:    parameter 1: double = 3.14159\n",
      "NOTE:    parameter 2: string = 'I like snowmen! \u0003'\n",
      "NOTE:    parameter 3: list = {'item1', 'item2', 'item3'}\n",
      "NOTE:    parameter 4: int64 = 1152921504606846976\n",
      "NOTE:    parameter 5: boolean_true = true\n",
      "NOTE:    parameter 6: dict = {key2 = 'value2', key1 = 'value1', key3 = 3}\n",
      "NOTE:    parameter 7: boolean_false = false\n",
      "NOTE:    parameter 8: int32 = 1776\n"
     ]
    }
   ],
   "source": [
    "out = conn.echo(\n",
    "                boolean_true = True,\n",
    "                boolean_false = False,\n",
    "                double = 3.14159,\n",
    "                int32 = 1776,\n",
    "                int64 = 2**60,\n",
    "                string = u'I like snowmen! \\u2603',\n",
    "                list = [u'item1', u'item2', u'item3'],\n",
    "                dict = {'key1': 'value1', \n",
    "                        'key2': 'value2', \n",
    "                        'key3': 3}\n",
    "                )"
   ]
  },
  {
   "cell_type": "code",
   "execution_count": 28,
   "metadata": {
    "collapsed": false
   },
   "outputs": [
    {
     "data": {
      "text/html": [
       "<div class=\"cas-results-key\"><b>&#167; double</b></div>\n",
       "<div class=\"cas-results-body\">\n",
       "<div>3.14159</div>\n",
       "</div>\n",
       "<div class=\"cas-results-key\"><hr/><b>&#167; string</b></div>\n",
       "<div class=\"cas-results-body\">\n",
       "<div>I like snowmen! ☃</div>\n",
       "</div>\n",
       "<div class=\"cas-results-key\"><hr/><b>&#167; list</b></div>\n",
       "<div class=\"cas-results-body\">\n",
       "<div>['item1', 'item2', 'item3']</div>\n",
       "</div>\n",
       "<div class=\"cas-results-key\"><hr/><b>&#167; int64</b></div>\n",
       "<div class=\"cas-results-body\">\n",
       "<div>1152921504606846976</div>\n",
       "</div>\n",
       "<div class=\"cas-results-key\"><hr/><b>&#167; boolean_true</b></div>\n",
       "<div class=\"cas-results-body\">\n",
       "<div>True</div>\n",
       "</div>\n",
       "<div class=\"cas-results-key\"><hr/><b>&#167; dict</b></div>\n",
       "<div class=\"cas-results-body\">\n",
       "<div>{'key2': 'value2', 'key1': 'value1', 'key3': 3}</div>\n",
       "</div>\n",
       "<div class=\"cas-results-key\"><hr/><b>&#167; boolean_false</b></div>\n",
       "<div class=\"cas-results-body\">\n",
       "<div>False</div>\n",
       "</div>\n",
       "<div class=\"cas-results-key\"><hr/><b>&#167; int32</b></div>\n",
       "<div class=\"cas-results-body\">\n",
       "<div>1776</div>\n",
       "</div>\n",
       "<div class=\"cas-output-area\"></div>\n",
       "<p class=\"cas-results-performance\"><small><span class=\"cas-elapsed\">elapsed 0.000517s</span> &#183; <span class=\"cas-user\">user 0.000999s</span> &#183; <span class=\"cas-memory\">mem 0.0546MB</span></small></p>"
      ],
      "text/plain": [
       "[double]\n",
       "\n",
       " 3.14159\n",
       "\n",
       "[string]\n",
       "\n",
       " 'I like snowmen! ☃'\n",
       "\n",
       "[list]\n",
       "\n",
       " ['item1', 'item2', 'item3']\n",
       "\n",
       "[int64]\n",
       "\n",
       " 1152921504606846976\n",
       "\n",
       "[boolean_true]\n",
       "\n",
       " True\n",
       "\n",
       "[dict]\n",
       "\n",
       " {'key1': 'value1', 'key2': 'value2', 'key3': 3}\n",
       "\n",
       "[boolean_false]\n",
       "\n",
       " False\n",
       "\n",
       "[int32]\n",
       "\n",
       " 1776\n",
       "\n",
       "+ Elapsed: 0.000517s, user: 0.000999s, mem: 0.0546mb"
      ]
     },
     "execution_count": 28,
     "metadata": {},
     "output_type": "execute_result"
    }
   ],
   "source": [
    "out"
   ]
  },
  {
   "cell_type": "markdown",
   "metadata": {},
   "source": [
    "The result of every action is a **CASResults** object.  This object is a subclass of Python's **OrderedDict**."
   ]
  },
  {
   "cell_type": "code",
   "execution_count": 29,
   "metadata": {
    "collapsed": false
   },
   "outputs": [
    {
     "data": {
      "text/plain": [
       "swat.cas.results.CASResults"
      ]
     },
     "execution_count": 29,
     "metadata": {},
     "output_type": "execute_result"
    }
   ],
   "source": [
    "type(out)"
   ]
  },
  {
   "cell_type": "code",
   "execution_count": 30,
   "metadata": {
    "collapsed": false
   },
   "outputs": [
    {
     "data": {
      "text/plain": [
       "{'boolean_false': False,\n",
       " 'boolean_true': True,\n",
       " 'dict': {'key1': 'value1', 'key2': 'value2', 'key3': 3},\n",
       " 'double': 3.14159,\n",
       " 'int32': 1776,\n",
       " 'int64': 1152921504606846976,\n",
       " 'list': ['item1', 'item2', 'item3'],\n",
       " 'string': 'I like snowmen! ☃'}"
      ]
     },
     "execution_count": 30,
     "metadata": {},
     "output_type": "execute_result"
    }
   ],
   "source": [
    "dict(out)"
   ]
  },
  {
   "cell_type": "markdown",
   "metadata": {},
   "source": [
    "Walking through the items in the result."
   ]
  },
  {
   "cell_type": "code",
   "execution_count": 32,
   "metadata": {
    "collapsed": false
   },
   "outputs": [
    {
     "name": "stdout",
     "output_type": "stream",
     "text": [
      "double\n",
      "3.14159\n",
      "\n",
      "string\n",
      "I like snowmen! ☃\n",
      "\n",
      "list\n",
      "['item1', 'item2', 'item3']\n",
      "\n",
      "int64\n",
      "1152921504606846976\n",
      "\n",
      "boolean_true\n",
      "True\n",
      "\n",
      "dict\n",
      "{'key2': 'value2', 'key1': 'value1', 'key3': 3}\n",
      "\n",
      "boolean_false\n",
      "False\n",
      "\n",
      "int32\n",
      "1776\n",
      "\n"
     ]
    }
   ],
   "source": [
    "for key, value in out.items():\n",
    "    print(key)\n",
    "    print(value)\n",
    "    print('')"
   ]
  },
  {
   "cell_type": "markdown",
   "metadata": {},
   "source": [
    "### Using DataFrames\n",
    "\n",
    "The results of many actions will contain **DataFrames**.  These are **SASDataFrames**, but\n",
    "they are subclasses of Pandas **DataFrame** object so they can do anything a standard\n",
    "**DataFrame** can do.  The only difference is that they contain extra SAS metadata \n",
    "(such as SAS data formats, extended attributes, field widths, etc.) not supported by Pandas.\n",
    "\n",
    "The **help** action returns **DataFrames** of the action set information."
   ]
  },
  {
   "cell_type": "code",
   "execution_count": 33,
   "metadata": {
    "collapsed": false
   },
   "outputs": [
    {
     "name": "stdout",
     "output_type": "stream",
     "text": [
      "NOTE: Available Action Sets and Actions:\n",
      "NOTE:    accessControl\n",
      "NOTE:       assumeRole - Assumes a role\n",
      "NOTE:       dropRole - Relinquishes a role\n",
      "NOTE:       showRolesIn - Shows the currently active role\n",
      "NOTE:       showRolesAllowed - Shows the roles that a user is a member of\n",
      "NOTE:       isInRole - Shows whether a role is assumed\n",
      "NOTE:       isAuthorized - Shows whether access is authorized\n",
      "NOTE:       isAuthorizedActions - Shows whether access is authorized to actions\n",
      "NOTE:       isAuthorizedTables - Shows whether access is authorized to tables\n",
      "NOTE:       isAuthorizedColumns - Shows whether access is authorized to columns\n",
      "NOTE:       listAllPrincipals - Lists all principals that have explicit access controls\n",
      "NOTE:       whatIsEffective - Lists effective access and explanations (Origins)\n",
      "NOTE:       listAcsData - Lists access controls for caslibs, tables, and columns\n",
      "NOTE:       listAcsActionSet - Lists access controls for an action or action set\n",
      "NOTE:       repAllAcsCaslib - Replaces all access controls for a caslib\n",
      "NOTE:       repAllAcsTable - Replaces all access controls for a table\n",
      "NOTE:       repAllAcsColumn - Replaces all access controls for a column\n",
      "NOTE:       repAllAcsActionSet - Replaces all access controls for an action set\n",
      "NOTE:       repAllAcsAction - Replaces all access controls for an action\n",
      "NOTE:       updSomeAcsCaslib - Adds, deletes, and modifies some access controls for a caslib\n",
      "NOTE:       updSomeAcsTable - Adds, deletes, and modifies some access controls for a table\n",
      "NOTE:       updSomeAcsColumn - Adds, deletes, and modifies some access controls for a column\n",
      "NOTE:       updSomeAcsActionSet - Adds, deletes, and modifies some access controls for an action set\n",
      "NOTE:       updSomeAcsAction - Adds, deletes, and modifies some access controls for an action\n",
      "NOTE:       remAllAcsData - Removes all access controls for a caslib, table, or column\n",
      "NOTE:       remAllAcsActionSet - Removes all access controls for an action set or action\n",
      "NOTE:       operTableMd - Adds, deletes, and modifies table metadata\n",
      "NOTE:       operColumnMd - Adds, deletes, and modifies column metadata\n",
      "NOTE:       operActionSetMd - Adds, deletes, and modifies action set metadata\n",
      "NOTE:       operActionMd - Adds, deletes, and modifies action metadata\n",
      "NOTE:       operAdminMd - Assigns users and groups to roles and modifies administrator metadata\n",
      "NOTE:       listMetadata - Lists the metadata for caslibs, tables, columns, action sets, actions, or administrators\n",
      "NOTE:       persistMetadata - Persists the access control metadata\n",
      "NOTE:       createBackup - Creates a backup if one is not in progress\n",
      "NOTE:       completeBackup - Flags a backup as complete\n",
      "NOTE:       operBWPaths - Configures a blacklist or whitelist of paths\n",
      "NOTE:       deleteBWList - Deletes a blacklist or a whitelist\n",
      "NOTE:    builtins\n",
      "NOTE:       addNode - Adds a machine to the server\n",
      "NOTE:       removeNode - Remove one or more machines from the server\n",
      "NOTE:       help - Shows the parameters for an action or lists all available actions\n",
      "NOTE:       listNodes - Shows the host names used by the server\n",
      "NOTE:       loadActionSet - Loads an action set for use in this session\n",
      "NOTE:       installActionSet - Loads an action set in new sessions automatically\n",
      "NOTE:       log - Shows and modifies logging levels\n",
      "NOTE:       queryActionSet - Shows whether an action set is loaded\n",
      "NOTE:       queryName - Checks whether a name is an action or action set name\n",
      "NOTE:       reflect - Shows detailed parameter information for an action or all actions in an action set\n",
      "NOTE:       serverStatus - Shows the status of the server\n",
      "NOTE:       about - Shows the status of the server\n",
      "NOTE:       shutdown - Shuts down the server\n",
      "NOTE:       userInfo - Shows the user information for your connection\n",
      "NOTE:       actionSetInfo - Shows the build information from loaded action sets\n",
      "NOTE:       history - Shows the actions that were run in this session\n",
      "NOTE:       casCommon - Provides parameters that are common to many actions\n",
      "NOTE:       ping - Sends a single request to the server to confirm that the connection is working\n",
      "NOTE:       echo - Prints the supplied parameters to the client log\n",
      "NOTE:       modifyQueue - Modifies the action response queue settings\n",
      "NOTE:       getLicenseInfo - Shows the license information for a SAS product\n",
      "NOTE:       refreshLicense - Refresh SAS license information from a file\n",
      "NOTE:       httpAddress - Shows the HTTP address for the server monitor\n",
      "NOTE:    configuration\n",
      "NOTE:       getServOpt - displays the value of a server option\n",
      "NOTE:       listServOpts - Displays the server options and server values\n",
      "NOTE:    dataPreprocess\n",
      "NOTE:       rustats - Computes robust univariate statistics, centralized moments, quantiles, and frequency distribution statistics\n",
      "NOTE:       impute - Performs data matrix (variable) imputation\n",
      "NOTE:       outlier - Performs outlier detection and treatment\n",
      "NOTE:       binning - Performs unsupervised variable discretization\n",
      "NOTE:       discretize - Performs supervised and unsupervised variable discretization\n",
      "NOTE:       catTrans - Groups and encodes categorical variables using unsupervised and supervised grouping techniques\n",
      "NOTE:       histogram - Generates histogram bins and simple bin-based statistics for numeric variables\n",
      "NOTE:       transform - Performs pipelined variable imputation, outlier detection and treatment, functional transformation, binning, and robust univariate statistics to evaluate the quality of the transformation\n",
      "NOTE:       kde - Computes kernel density estimation\n",
      "NOTE:    dataStep\n",
      "NOTE:       runCode - Runs DATA step code\n",
      "NOTE:    percentile\n",
      "NOTE:       percentile - Calculate quantiles and percentiles\n",
      "NOTE:       boxPlot - Calculate quantiles, high and low whiskers, and outliers\n",
      "NOTE:       assess - Assess and compare models\n",
      "NOTE:    search\n",
      "NOTE:       searchIndex - Searches for a query against an index and retrieves records, documents, and tuples that are relevant to that query\n",
      "NOTE:       searchAggregate - Aggregates certain fields in a table that is usually generated by searchIndex\n",
      "NOTE:       valueCount - value count for multiple fields\n",
      "NOTE:       buildIndex - Creates an empty index using a schema (the first step of Search)\n",
      "NOTE:       getSchema - Gets the schema of an index\n",
      "NOTE:       appendIndex - Loads data to an index after the buildIndex action is performed\n",
      "NOTE:       deleteDocuments - Delete a portion of documents from index\n",
      "NOTE:    session\n",
      "NOTE:       listSessions - Displays a list of the sessions on the server\n",
      "NOTE:       addNodeStatus - Lists details about machines currently being added to the server\n",
      "NOTE:       timeout - Changes the time-out for a session\n",
      "NOTE:       endSession - Ends the current session\n",
      "NOTE:       sessionId - Displays the name and UUID of the current session\n",
      "NOTE:       sessionName - Changes the name of the current session\n",
      "NOTE:       sessionStatus - Displays the status of the current session\n",
      "NOTE:       listresults - Lists the saved results for a session\n",
      "NOTE:       batchresults - Change current action to batch results\n",
      "NOTE:       fetchresult - Fetch the specified saved result for a session\n",
      "NOTE:       flushresult - Flush the saved result for this session\n",
      "NOTE:       setLocale - Changes the locale for the current session\n",
      "NOTE:       metrics - Displays the metrics for each action after it executes\n",
      "NOTE:    sessionProp\n",
      "NOTE:       setSessOpt - Sets a session option\n",
      "NOTE:       getSessOpt - Displays the value of a session option\n",
      "NOTE:       listSessOpts - Displays the session options and session values\n",
      "NOTE:       addFmtLib - Adds a format library\n",
      "NOTE:       listFmtLibs - Lists the format libraries that are associated with the session\n",
      "NOTE:       setFmtSearch - Sets the format libraries to search\n",
      "NOTE:       listFmtSearch - Shows the format library search order\n",
      "NOTE:       dropFmtLib - Drops a format library from global scope for all sessions\n",
      "NOTE:       deleteFormat - Deletes a format from a format library\n",
      "NOTE:       addFormat - Adds a format to a format library\n",
      "NOTE:       listFmtValues - Shows the values for a format\n",
      "NOTE:       saveFmtLib - Saves a format library\n",
      "NOTE:       promoteFmtLib - Promotes a format library to global scope for all sessions\n",
      "NOTE:       listFmtRanges - Displays the range information for a format\n",
      "NOTE:    simple\n",
      "NOTE:       mdSummary - Calculates multidimensional summaries of numeric variables\n",
      "NOTE:       numRows - Shows the number of rows in a Cloud Analytic Services table\n",
      "NOTE:       summary - Generates descriptive statistics of numeric variables such as the sample mean, sample variance, sample size, sum of squares, and so on\n",
      "NOTE:       correlation - Generates a matrix of Pearson product-moment correlation coefficients\n",
      "NOTE:       regression - Performs a linear regression up to 3rd-order polynomials\n",
      "NOTE:       crossTab - Performs one-way or two-way tabulations\n",
      "NOTE:       distinct - Computes the distinct number of values of the variables in the variable list\n",
      "NOTE:       topK - Returns the top-K and bottom-K distinct values of each variable included in the variable list based on a user-specified ranking order\n",
      "NOTE:       groupBy - Builds BY groups in terms of the variable value combinations given the variables in the variable list\n",
      "NOTE:       freq - Generates a frequency distribution for one or more variables\n",
      "NOTE:       paraCoord - Generates a parallel coordinates plot of the variables in the variable list\n",
      "NOTE:    table\n",
      "NOTE:       view - Creates a view from files or tables\n",
      "NOTE:       attribute - Manages extended table attributes\n",
      "NOTE:       upload - Transfers binary data to the server to create objects like tables\n",
      "NOTE:       loadTable - Loads a table from a caslib's data source\n",
      "NOTE:       tableExists - Checks whether a table has been loaded\n",
      "NOTE:       columnInfo - Shows column information\n",
      "NOTE:       fetch - Fetches rows from a table or view\n",
      "NOTE:       save - Saves a table to a caslib's data source\n",
      "NOTE:       addTable - Add a table by sending it from the client to the server\n",
      "NOTE:       tableInfo - Shows information about a table\n",
      "NOTE:       tableDetails - Get detailed information about a table\n",
      "NOTE:       dropTable - Drops a table\n",
      "NOTE:       deleteSource - Delete a table or file from a caslib's data source\n",
      "NOTE:       fileInfo - Lists the files in a caslib's data source\n",
      "NOTE:       promote - Promote a table to global scope\n",
      "NOTE:       addCaslib - Adds a new caslib to enable access to a data source\n",
      "NOTE:       dropCaslib - Drops a caslib\n",
      "NOTE:       caslibInfo - Shows caslib information\n",
      "NOTE:       queryCaslib - Checks whether a caslib exists\n",
      "NOTE:       partition - Partitions a table\n",
      "NOTE:       recordCount - Shows the number of rows in a Cloud Analytic Services table\n",
      "NOTE:       loadDataSource - Loads one or more data source interfaces\n",
      "NOTE:       update - Updates rows in a table\n"
     ]
    }
   ],
   "source": [
    "out = conn.help()"
   ]
  },
  {
   "cell_type": "markdown",
   "metadata": {},
   "source": [
    "List the keys of the result."
   ]
  },
  {
   "cell_type": "code",
   "execution_count": 34,
   "metadata": {
    "collapsed": false
   },
   "outputs": [
    {
     "data": {
      "text/plain": [
       "['accessControl',\n",
       " 'builtins',\n",
       " 'configuration',\n",
       " 'dataPreprocess',\n",
       " 'dataStep',\n",
       " 'percentile',\n",
       " 'search',\n",
       " 'session',\n",
       " 'sessionProp',\n",
       " 'simple',\n",
       " 'table']"
      ]
     },
     "execution_count": 34,
     "metadata": {},
     "output_type": "execute_result"
    }
   ],
   "source": [
    "list(out.keys())"
   ]
  },
  {
   "cell_type": "markdown",
   "metadata": {},
   "source": [
    "Display the type of the object in the 'builtins' key."
   ]
  },
  {
   "cell_type": "code",
   "execution_count": 35,
   "metadata": {
    "collapsed": false
   },
   "outputs": [
    {
     "data": {
      "text/plain": [
       "swat.dataframe.SASDataFrame"
      ]
     },
     "execution_count": 35,
     "metadata": {},
     "output_type": "execute_result"
    }
   ],
   "source": [
    "type(out['builtins'])"
   ]
  },
  {
   "cell_type": "code",
   "execution_count": 37,
   "metadata": {
    "collapsed": false
   },
   "outputs": [
    {
     "data": {
      "text/html": [
       "<div>\n",
       "<table border=\"1\" class=\"dataframe\">\n",
       "  <thead>\n",
       "    <tr style=\"text-align: right;\">\n",
       "      <th title=\"\"></th>\n",
       "      <th title=\"Name\">name</th>\n",
       "      <th title=\"Description\">description</th>\n",
       "    </tr>\n",
       "  </thead>\n",
       "  <tbody>\n",
       "    <tr>\n",
       "      <th>0</th>\n",
       "      <td>addNode</td>\n",
       "      <td>Adds a machine to the server</td>\n",
       "    </tr>\n",
       "    <tr>\n",
       "      <th>1</th>\n",
       "      <td>removeNode</td>\n",
       "      <td>Remove one or more machines from the server</td>\n",
       "    </tr>\n",
       "    <tr>\n",
       "      <th>2</th>\n",
       "      <td>help</td>\n",
       "      <td>Shows the parameters for an action or lists al...</td>\n",
       "    </tr>\n",
       "    <tr>\n",
       "      <th>3</th>\n",
       "      <td>listNodes</td>\n",
       "      <td>Shows the host names used by the server</td>\n",
       "    </tr>\n",
       "    <tr>\n",
       "      <th>4</th>\n",
       "      <td>loadActionSet</td>\n",
       "      <td>Loads an action set for use in this session</td>\n",
       "    </tr>\n",
       "    <tr>\n",
       "      <th>5</th>\n",
       "      <td>installActionSet</td>\n",
       "      <td>Loads an action set in new sessions automatically</td>\n",
       "    </tr>\n",
       "    <tr>\n",
       "      <th>6</th>\n",
       "      <td>log</td>\n",
       "      <td>Shows and modifies logging levels</td>\n",
       "    </tr>\n",
       "    <tr>\n",
       "      <th>7</th>\n",
       "      <td>queryActionSet</td>\n",
       "      <td>Shows whether an action set is loaded</td>\n",
       "    </tr>\n",
       "    <tr>\n",
       "      <th>8</th>\n",
       "      <td>queryName</td>\n",
       "      <td>Checks whether a name is an action or action s...</td>\n",
       "    </tr>\n",
       "    <tr>\n",
       "      <th>9</th>\n",
       "      <td>reflect</td>\n",
       "      <td>Shows detailed parameter information for an ac...</td>\n",
       "    </tr>\n",
       "    <tr>\n",
       "      <th>10</th>\n",
       "      <td>serverStatus</td>\n",
       "      <td>Shows the status of the server</td>\n",
       "    </tr>\n",
       "    <tr>\n",
       "      <th>11</th>\n",
       "      <td>about</td>\n",
       "      <td>Shows the status of the server</td>\n",
       "    </tr>\n",
       "    <tr>\n",
       "      <th>12</th>\n",
       "      <td>shutdown</td>\n",
       "      <td>Shuts down the server</td>\n",
       "    </tr>\n",
       "    <tr>\n",
       "      <th>13</th>\n",
       "      <td>userInfo</td>\n",
       "      <td>Shows the user information for your connection</td>\n",
       "    </tr>\n",
       "    <tr>\n",
       "      <th>14</th>\n",
       "      <td>actionSetInfo</td>\n",
       "      <td>Shows the build information from loaded action...</td>\n",
       "    </tr>\n",
       "    <tr>\n",
       "      <th>15</th>\n",
       "      <td>history</td>\n",
       "      <td>Shows the actions that were run in this session</td>\n",
       "    </tr>\n",
       "    <tr>\n",
       "      <th>16</th>\n",
       "      <td>casCommon</td>\n",
       "      <td>Provides parameters that are common to many ac...</td>\n",
       "    </tr>\n",
       "    <tr>\n",
       "      <th>17</th>\n",
       "      <td>ping</td>\n",
       "      <td>Sends a single request to the server to confir...</td>\n",
       "    </tr>\n",
       "    <tr>\n",
       "      <th>18</th>\n",
       "      <td>echo</td>\n",
       "      <td>Prints the supplied parameters to the client log</td>\n",
       "    </tr>\n",
       "    <tr>\n",
       "      <th>19</th>\n",
       "      <td>modifyQueue</td>\n",
       "      <td>Modifies the action response queue settings</td>\n",
       "    </tr>\n",
       "    <tr>\n",
       "      <th>20</th>\n",
       "      <td>getLicenseInfo</td>\n",
       "      <td>Shows the license information for a SAS product</td>\n",
       "    </tr>\n",
       "    <tr>\n",
       "      <th>21</th>\n",
       "      <td>refreshLicense</td>\n",
       "      <td>Refresh SAS license information from a file</td>\n",
       "    </tr>\n",
       "    <tr>\n",
       "      <th>22</th>\n",
       "      <td>httpAddress</td>\n",
       "      <td>Shows the HTTP address for the server monitor</td>\n",
       "    </tr>\n",
       "  </tbody>\n",
       "</table>\n",
       "</div>"
      ],
      "text/plain": [
       "                name  \\\n",
       "0            addNode   \n",
       "1         removeNode   \n",
       "2               help   \n",
       "3          listNodes   \n",
       "4      loadActionSet   \n",
       "5   installActionSet   \n",
       "6                log   \n",
       "7     queryActionSet   \n",
       "8          queryName   \n",
       "9            reflect   \n",
       "10      serverStatus   \n",
       "11             about   \n",
       "12          shutdown   \n",
       "13          userInfo   \n",
       "14     actionSetInfo   \n",
       "15           history   \n",
       "16         casCommon   \n",
       "17              ping   \n",
       "18              echo   \n",
       "19       modifyQueue   \n",
       "20    getLicenseInfo   \n",
       "21    refreshLicense   \n",
       "22       httpAddress   \n",
       "\n",
       "                                          description  \n",
       "0                        Adds a machine to the server  \n",
       "1         Remove one or more machines from the server  \n",
       "2   Shows the parameters for an action or lists al...  \n",
       "3             Shows the host names used by the server  \n",
       "4         Loads an action set for use in this session  \n",
       "5   Loads an action set in new sessions automatically  \n",
       "6                   Shows and modifies logging levels  \n",
       "7               Shows whether an action set is loaded  \n",
       "8   Checks whether a name is an action or action s...  \n",
       "9   Shows detailed parameter information for an ac...  \n",
       "10                     Shows the status of the server  \n",
       "11                     Shows the status of the server  \n",
       "12                              Shuts down the server  \n",
       "13     Shows the user information for your connection  \n",
       "14  Shows the build information from loaded action...  \n",
       "15    Shows the actions that were run in this session  \n",
       "16  Provides parameters that are common to many ac...  \n",
       "17  Sends a single request to the server to confir...  \n",
       "18   Prints the supplied parameters to the client log  \n",
       "19        Modifies the action response queue settings  \n",
       "20    Shows the license information for a SAS product  \n",
       "21        Refresh SAS license information from a file  \n",
       "22      Shows the HTTP address for the server monitor  "
      ]
     },
     "execution_count": 37,
     "metadata": {},
     "output_type": "execute_result"
    }
   ],
   "source": [
    "out['builtins']"
   ]
  },
  {
   "cell_type": "markdown",
   "metadata": {},
   "source": [
    "Store the object referenced by the 'builtins' key to a variable."
   ]
  },
  {
   "cell_type": "code",
   "execution_count": 38,
   "metadata": {
    "collapsed": true
   },
   "outputs": [],
   "source": [
    "blt = out['builtins']"
   ]
  },
  {
   "cell_type": "markdown",
   "metadata": {},
   "source": [
    "Do basic **DataFrame** operations on the result."
   ]
  },
  {
   "cell_type": "code",
   "execution_count": 39,
   "metadata": {
    "collapsed": false
   },
   "outputs": [
    {
     "data": {
      "text/html": [
       "<div>\n",
       "<table border=\"1\" class=\"dataframe\">\n",
       "  <thead>\n",
       "    <tr style=\"text-align: right;\">\n",
       "      <th title=\"\"></th>\n",
       "      <th title=\"Name\">name</th>\n",
       "      <th title=\"Description\">description</th>\n",
       "    </tr>\n",
       "  </thead>\n",
       "  <tbody>\n",
       "    <tr>\n",
       "      <th>11</th>\n",
       "      <td>about</td>\n",
       "      <td>Shows the status of the server</td>\n",
       "    </tr>\n",
       "    <tr>\n",
       "      <th>14</th>\n",
       "      <td>actionSetInfo</td>\n",
       "      <td>Shows the build information from loaded action...</td>\n",
       "    </tr>\n",
       "    <tr>\n",
       "      <th>0</th>\n",
       "      <td>addNode</td>\n",
       "      <td>Adds a machine to the server</td>\n",
       "    </tr>\n",
       "    <tr>\n",
       "      <th>16</th>\n",
       "      <td>casCommon</td>\n",
       "      <td>Provides parameters that are common to many ac...</td>\n",
       "    </tr>\n",
       "    <tr>\n",
       "      <th>18</th>\n",
       "      <td>echo</td>\n",
       "      <td>Prints the supplied parameters to the client log</td>\n",
       "    </tr>\n",
       "    <tr>\n",
       "      <th>20</th>\n",
       "      <td>getLicenseInfo</td>\n",
       "      <td>Shows the license information for a SAS product</td>\n",
       "    </tr>\n",
       "    <tr>\n",
       "      <th>2</th>\n",
       "      <td>help</td>\n",
       "      <td>Shows the parameters for an action or lists al...</td>\n",
       "    </tr>\n",
       "    <tr>\n",
       "      <th>15</th>\n",
       "      <td>history</td>\n",
       "      <td>Shows the actions that were run in this session</td>\n",
       "    </tr>\n",
       "    <tr>\n",
       "      <th>22</th>\n",
       "      <td>httpAddress</td>\n",
       "      <td>Shows the HTTP address for the server monitor</td>\n",
       "    </tr>\n",
       "    <tr>\n",
       "      <th>5</th>\n",
       "      <td>installActionSet</td>\n",
       "      <td>Loads an action set in new sessions automatically</td>\n",
       "    </tr>\n",
       "    <tr>\n",
       "      <th>3</th>\n",
       "      <td>listNodes</td>\n",
       "      <td>Shows the host names used by the server</td>\n",
       "    </tr>\n",
       "    <tr>\n",
       "      <th>4</th>\n",
       "      <td>loadActionSet</td>\n",
       "      <td>Loads an action set for use in this session</td>\n",
       "    </tr>\n",
       "    <tr>\n",
       "      <th>6</th>\n",
       "      <td>log</td>\n",
       "      <td>Shows and modifies logging levels</td>\n",
       "    </tr>\n",
       "    <tr>\n",
       "      <th>19</th>\n",
       "      <td>modifyQueue</td>\n",
       "      <td>Modifies the action response queue settings</td>\n",
       "    </tr>\n",
       "    <tr>\n",
       "      <th>17</th>\n",
       "      <td>ping</td>\n",
       "      <td>Sends a single request to the server to confir...</td>\n",
       "    </tr>\n",
       "    <tr>\n",
       "      <th>7</th>\n",
       "      <td>queryActionSet</td>\n",
       "      <td>Shows whether an action set is loaded</td>\n",
       "    </tr>\n",
       "    <tr>\n",
       "      <th>8</th>\n",
       "      <td>queryName</td>\n",
       "      <td>Checks whether a name is an action or action s...</td>\n",
       "    </tr>\n",
       "    <tr>\n",
       "      <th>9</th>\n",
       "      <td>reflect</td>\n",
       "      <td>Shows detailed parameter information for an ac...</td>\n",
       "    </tr>\n",
       "    <tr>\n",
       "      <th>21</th>\n",
       "      <td>refreshLicense</td>\n",
       "      <td>Refresh SAS license information from a file</td>\n",
       "    </tr>\n",
       "    <tr>\n",
       "      <th>1</th>\n",
       "      <td>removeNode</td>\n",
       "      <td>Remove one or more machines from the server</td>\n",
       "    </tr>\n",
       "    <tr>\n",
       "      <th>10</th>\n",
       "      <td>serverStatus</td>\n",
       "      <td>Shows the status of the server</td>\n",
       "    </tr>\n",
       "    <tr>\n",
       "      <th>12</th>\n",
       "      <td>shutdown</td>\n",
       "      <td>Shuts down the server</td>\n",
       "    </tr>\n",
       "    <tr>\n",
       "      <th>13</th>\n",
       "      <td>userInfo</td>\n",
       "      <td>Shows the user information for your connection</td>\n",
       "    </tr>\n",
       "  </tbody>\n",
       "</table>\n",
       "</div>"
      ],
      "text/plain": [
       "                name  \\\n",
       "11             about   \n",
       "14     actionSetInfo   \n",
       "0            addNode   \n",
       "16         casCommon   \n",
       "18              echo   \n",
       "20    getLicenseInfo   \n",
       "2               help   \n",
       "15           history   \n",
       "22       httpAddress   \n",
       "5   installActionSet   \n",
       "3          listNodes   \n",
       "4      loadActionSet   \n",
       "6                log   \n",
       "19       modifyQueue   \n",
       "17              ping   \n",
       "7     queryActionSet   \n",
       "8          queryName   \n",
       "9            reflect   \n",
       "21    refreshLicense   \n",
       "1         removeNode   \n",
       "10      serverStatus   \n",
       "12          shutdown   \n",
       "13          userInfo   \n",
       "\n",
       "                                          description  \n",
       "11                     Shows the status of the server  \n",
       "14  Shows the build information from loaded action...  \n",
       "0                        Adds a machine to the server  \n",
       "16  Provides parameters that are common to many ac...  \n",
       "18   Prints the supplied parameters to the client log  \n",
       "20    Shows the license information for a SAS product  \n",
       "2   Shows the parameters for an action or lists al...  \n",
       "15    Shows the actions that were run in this session  \n",
       "22      Shows the HTTP address for the server monitor  \n",
       "5   Loads an action set in new sessions automatically  \n",
       "3             Shows the host names used by the server  \n",
       "4         Loads an action set for use in this session  \n",
       "6                   Shows and modifies logging levels  \n",
       "19        Modifies the action response queue settings  \n",
       "17  Sends a single request to the server to confir...  \n",
       "7               Shows whether an action set is loaded  \n",
       "8   Checks whether a name is an action or action s...  \n",
       "9   Shows detailed parameter information for an ac...  \n",
       "21        Refresh SAS license information from a file  \n",
       "1         Remove one or more machines from the server  \n",
       "10                     Shows the status of the server  \n",
       "12                              Shuts down the server  \n",
       "13     Shows the user information for your connection  "
      ]
     },
     "execution_count": 39,
     "metadata": {},
     "output_type": "execute_result"
    }
   ],
   "source": [
    "blt.sort_values('name')"
   ]
  },
  {
   "cell_type": "markdown",
   "metadata": {},
   "source": [
    "Concatenate all of the **DataFrame** objects in the result into one **DataFrame**"
   ]
  },
  {
   "cell_type": "code",
   "execution_count": 41,
   "metadata": {
    "collapsed": false
   },
   "outputs": [
    {
     "data": {
      "text/html": [
       "<div>\n",
       "<table border=\"1\" class=\"dataframe\">\n",
       "  <thead>\n",
       "    <tr style=\"text-align: right;\">\n",
       "      <th title=\"\"></th>\n",
       "      <th title=\"name\">name</th>\n",
       "      <th title=\"description\">description</th>\n",
       "    </tr>\n",
       "  </thead>\n",
       "  <tbody>\n",
       "    <tr>\n",
       "      <th>0</th>\n",
       "      <td>assumeRole</td>\n",
       "      <td>Assumes a role</td>\n",
       "    </tr>\n",
       "    <tr>\n",
       "      <th>1</th>\n",
       "      <td>dropRole</td>\n",
       "      <td>Relinquishes a role</td>\n",
       "    </tr>\n",
       "    <tr>\n",
       "      <th>2</th>\n",
       "      <td>showRolesIn</td>\n",
       "      <td>Shows the currently active role</td>\n",
       "    </tr>\n",
       "    <tr>\n",
       "      <th>3</th>\n",
       "      <td>showRolesAllowed</td>\n",
       "      <td>Shows the roles that a user is a member of</td>\n",
       "    </tr>\n",
       "    <tr>\n",
       "      <th>4</th>\n",
       "      <td>isInRole</td>\n",
       "      <td>Shows whether a role is assumed</td>\n",
       "    </tr>\n",
       "    <tr>\n",
       "      <th>5</th>\n",
       "      <td>isAuthorized</td>\n",
       "      <td>Shows whether access is authorized</td>\n",
       "    </tr>\n",
       "    <tr>\n",
       "      <th>6</th>\n",
       "      <td>isAuthorizedActions</td>\n",
       "      <td>Shows whether access is authorized to actions</td>\n",
       "    </tr>\n",
       "    <tr>\n",
       "      <th>7</th>\n",
       "      <td>isAuthorizedTables</td>\n",
       "      <td>Shows whether access is authorized to tables</td>\n",
       "    </tr>\n",
       "    <tr>\n",
       "      <th>8</th>\n",
       "      <td>isAuthorizedColumns</td>\n",
       "      <td>Shows whether access is authorized to columns</td>\n",
       "    </tr>\n",
       "    <tr>\n",
       "      <th>9</th>\n",
       "      <td>listAllPrincipals</td>\n",
       "      <td>Lists all principals that have explicit access...</td>\n",
       "    </tr>\n",
       "    <tr>\n",
       "      <th>10</th>\n",
       "      <td>whatIsEffective</td>\n",
       "      <td>Lists effective access and explanations (Origins)</td>\n",
       "    </tr>\n",
       "    <tr>\n",
       "      <th>11</th>\n",
       "      <td>listAcsData</td>\n",
       "      <td>Lists access controls for caslibs, tables, and...</td>\n",
       "    </tr>\n",
       "    <tr>\n",
       "      <th>12</th>\n",
       "      <td>listAcsActionSet</td>\n",
       "      <td>Lists access controls for an action or action set</td>\n",
       "    </tr>\n",
       "    <tr>\n",
       "      <th>13</th>\n",
       "      <td>repAllAcsCaslib</td>\n",
       "      <td>Replaces all access controls for a caslib</td>\n",
       "    </tr>\n",
       "    <tr>\n",
       "      <th>14</th>\n",
       "      <td>repAllAcsTable</td>\n",
       "      <td>Replaces all access controls for a table</td>\n",
       "    </tr>\n",
       "    <tr>\n",
       "      <th>15</th>\n",
       "      <td>repAllAcsColumn</td>\n",
       "      <td>Replaces all access controls for a column</td>\n",
       "    </tr>\n",
       "    <tr>\n",
       "      <th>16</th>\n",
       "      <td>repAllAcsActionSet</td>\n",
       "      <td>Replaces all access controls for an action set</td>\n",
       "    </tr>\n",
       "    <tr>\n",
       "      <th>17</th>\n",
       "      <td>repAllAcsAction</td>\n",
       "      <td>Replaces all access controls for an action</td>\n",
       "    </tr>\n",
       "    <tr>\n",
       "      <th>18</th>\n",
       "      <td>updSomeAcsCaslib</td>\n",
       "      <td>Adds, deletes, and modifies some access contro...</td>\n",
       "    </tr>\n",
       "    <tr>\n",
       "      <th>19</th>\n",
       "      <td>updSomeAcsTable</td>\n",
       "      <td>Adds, deletes, and modifies some access contro...</td>\n",
       "    </tr>\n",
       "    <tr>\n",
       "      <th>20</th>\n",
       "      <td>updSomeAcsColumn</td>\n",
       "      <td>Adds, deletes, and modifies some access contro...</td>\n",
       "    </tr>\n",
       "    <tr>\n",
       "      <th>21</th>\n",
       "      <td>updSomeAcsActionSet</td>\n",
       "      <td>Adds, deletes, and modifies some access contro...</td>\n",
       "    </tr>\n",
       "    <tr>\n",
       "      <th>22</th>\n",
       "      <td>updSomeAcsAction</td>\n",
       "      <td>Adds, deletes, and modifies some access contro...</td>\n",
       "    </tr>\n",
       "    <tr>\n",
       "      <th>23</th>\n",
       "      <td>remAllAcsData</td>\n",
       "      <td>Removes all access controls for a caslib, tabl...</td>\n",
       "    </tr>\n",
       "    <tr>\n",
       "      <th>24</th>\n",
       "      <td>remAllAcsActionSet</td>\n",
       "      <td>Removes all access controls for an action set ...</td>\n",
       "    </tr>\n",
       "    <tr>\n",
       "      <th>25</th>\n",
       "      <td>operTableMd</td>\n",
       "      <td>Adds, deletes, and modifies table metadata</td>\n",
       "    </tr>\n",
       "    <tr>\n",
       "      <th>26</th>\n",
       "      <td>operColumnMd</td>\n",
       "      <td>Adds, deletes, and modifies column metadata</td>\n",
       "    </tr>\n",
       "    <tr>\n",
       "      <th>27</th>\n",
       "      <td>operActionSetMd</td>\n",
       "      <td>Adds, deletes, and modifies action set metadata</td>\n",
       "    </tr>\n",
       "    <tr>\n",
       "      <th>28</th>\n",
       "      <td>operActionMd</td>\n",
       "      <td>Adds, deletes, and modifies action metadata</td>\n",
       "    </tr>\n",
       "    <tr>\n",
       "      <th>29</th>\n",
       "      <td>operAdminMd</td>\n",
       "      <td>Assigns users and groups to roles and modifies...</td>\n",
       "    </tr>\n",
       "    <tr>\n",
       "      <th>...</th>\n",
       "      <td>...</td>\n",
       "      <td>...</td>\n",
       "    </tr>\n",
       "    <tr>\n",
       "      <th>112</th>\n",
       "      <td>regression</td>\n",
       "      <td>Performs a linear regression up to 3rd-order p...</td>\n",
       "    </tr>\n",
       "    <tr>\n",
       "      <th>113</th>\n",
       "      <td>crossTab</td>\n",
       "      <td>Performs one-way or two-way tabulations</td>\n",
       "    </tr>\n",
       "    <tr>\n",
       "      <th>114</th>\n",
       "      <td>distinct</td>\n",
       "      <td>Computes the distinct number of values of the ...</td>\n",
       "    </tr>\n",
       "    <tr>\n",
       "      <th>115</th>\n",
       "      <td>topK</td>\n",
       "      <td>Returns the top-K and bottom-K distinct values...</td>\n",
       "    </tr>\n",
       "    <tr>\n",
       "      <th>116</th>\n",
       "      <td>groupBy</td>\n",
       "      <td>Builds BY groups in terms of the variable valu...</td>\n",
       "    </tr>\n",
       "    <tr>\n",
       "      <th>117</th>\n",
       "      <td>freq</td>\n",
       "      <td>Generates a frequency distribution for one or ...</td>\n",
       "    </tr>\n",
       "    <tr>\n",
       "      <th>118</th>\n",
       "      <td>paraCoord</td>\n",
       "      <td>Generates a parallel coordinates plot of the v...</td>\n",
       "    </tr>\n",
       "    <tr>\n",
       "      <th>119</th>\n",
       "      <td>view</td>\n",
       "      <td>Creates a view from files or tables</td>\n",
       "    </tr>\n",
       "    <tr>\n",
       "      <th>120</th>\n",
       "      <td>attribute</td>\n",
       "      <td>Manages extended table attributes</td>\n",
       "    </tr>\n",
       "    <tr>\n",
       "      <th>121</th>\n",
       "      <td>upload</td>\n",
       "      <td>Transfers binary data to the server to create ...</td>\n",
       "    </tr>\n",
       "    <tr>\n",
       "      <th>122</th>\n",
       "      <td>loadTable</td>\n",
       "      <td>Loads a table from a caslib's data source</td>\n",
       "    </tr>\n",
       "    <tr>\n",
       "      <th>123</th>\n",
       "      <td>tableExists</td>\n",
       "      <td>Checks whether a table has been loaded</td>\n",
       "    </tr>\n",
       "    <tr>\n",
       "      <th>124</th>\n",
       "      <td>columnInfo</td>\n",
       "      <td>Shows column information</td>\n",
       "    </tr>\n",
       "    <tr>\n",
       "      <th>125</th>\n",
       "      <td>fetch</td>\n",
       "      <td>Fetches rows from a table or view</td>\n",
       "    </tr>\n",
       "    <tr>\n",
       "      <th>126</th>\n",
       "      <td>save</td>\n",
       "      <td>Saves a table to a caslib's data source</td>\n",
       "    </tr>\n",
       "    <tr>\n",
       "      <th>127</th>\n",
       "      <td>addTable</td>\n",
       "      <td>Add a table by sending it from the client to t...</td>\n",
       "    </tr>\n",
       "    <tr>\n",
       "      <th>128</th>\n",
       "      <td>tableInfo</td>\n",
       "      <td>Shows information about a table</td>\n",
       "    </tr>\n",
       "    <tr>\n",
       "      <th>129</th>\n",
       "      <td>tableDetails</td>\n",
       "      <td>Get detailed information about a table</td>\n",
       "    </tr>\n",
       "    <tr>\n",
       "      <th>130</th>\n",
       "      <td>dropTable</td>\n",
       "      <td>Drops a table</td>\n",
       "    </tr>\n",
       "    <tr>\n",
       "      <th>131</th>\n",
       "      <td>deleteSource</td>\n",
       "      <td>Delete a table or file from a caslib's data so...</td>\n",
       "    </tr>\n",
       "    <tr>\n",
       "      <th>132</th>\n",
       "      <td>fileInfo</td>\n",
       "      <td>Lists the files in a caslib's data source</td>\n",
       "    </tr>\n",
       "    <tr>\n",
       "      <th>133</th>\n",
       "      <td>promote</td>\n",
       "      <td>Promote a table to global scope</td>\n",
       "    </tr>\n",
       "    <tr>\n",
       "      <th>134</th>\n",
       "      <td>addCaslib</td>\n",
       "      <td>Adds a new caslib to enable access to a data s...</td>\n",
       "    </tr>\n",
       "    <tr>\n",
       "      <th>135</th>\n",
       "      <td>dropCaslib</td>\n",
       "      <td>Drops a caslib</td>\n",
       "    </tr>\n",
       "    <tr>\n",
       "      <th>136</th>\n",
       "      <td>caslibInfo</td>\n",
       "      <td>Shows caslib information</td>\n",
       "    </tr>\n",
       "    <tr>\n",
       "      <th>137</th>\n",
       "      <td>queryCaslib</td>\n",
       "      <td>Checks whether a caslib exists</td>\n",
       "    </tr>\n",
       "    <tr>\n",
       "      <th>138</th>\n",
       "      <td>partition</td>\n",
       "      <td>Partitions a table</td>\n",
       "    </tr>\n",
       "    <tr>\n",
       "      <th>139</th>\n",
       "      <td>recordCount</td>\n",
       "      <td>Shows the number of rows in a Cloud Analytic S...</td>\n",
       "    </tr>\n",
       "    <tr>\n",
       "      <th>140</th>\n",
       "      <td>loadDataSource</td>\n",
       "      <td>Loads one or more data source interfaces</td>\n",
       "    </tr>\n",
       "    <tr>\n",
       "      <th>141</th>\n",
       "      <td>update</td>\n",
       "      <td>Updates rows in a table</td>\n",
       "    </tr>\n",
       "  </tbody>\n",
       "</table>\n",
       "<p>142 rows × 2 columns</p>\n",
       "</div>"
      ],
      "text/plain": [
       "                    name  \\\n",
       "0             assumeRole   \n",
       "1               dropRole   \n",
       "2            showRolesIn   \n",
       "3       showRolesAllowed   \n",
       "4               isInRole   \n",
       "5           isAuthorized   \n",
       "6    isAuthorizedActions   \n",
       "7     isAuthorizedTables   \n",
       "8    isAuthorizedColumns   \n",
       "9      listAllPrincipals   \n",
       "10       whatIsEffective   \n",
       "11           listAcsData   \n",
       "12      listAcsActionSet   \n",
       "13       repAllAcsCaslib   \n",
       "14        repAllAcsTable   \n",
       "15       repAllAcsColumn   \n",
       "16    repAllAcsActionSet   \n",
       "17       repAllAcsAction   \n",
       "18      updSomeAcsCaslib   \n",
       "19       updSomeAcsTable   \n",
       "20      updSomeAcsColumn   \n",
       "21   updSomeAcsActionSet   \n",
       "22      updSomeAcsAction   \n",
       "23         remAllAcsData   \n",
       "24    remAllAcsActionSet   \n",
       "25           operTableMd   \n",
       "26          operColumnMd   \n",
       "27       operActionSetMd   \n",
       "28          operActionMd   \n",
       "29           operAdminMd   \n",
       "..                   ...   \n",
       "112           regression   \n",
       "113             crossTab   \n",
       "114             distinct   \n",
       "115                 topK   \n",
       "116              groupBy   \n",
       "117                 freq   \n",
       "118            paraCoord   \n",
       "119                 view   \n",
       "120            attribute   \n",
       "121               upload   \n",
       "122            loadTable   \n",
       "123          tableExists   \n",
       "124           columnInfo   \n",
       "125                fetch   \n",
       "126                 save   \n",
       "127             addTable   \n",
       "128            tableInfo   \n",
       "129         tableDetails   \n",
       "130            dropTable   \n",
       "131         deleteSource   \n",
       "132             fileInfo   \n",
       "133              promote   \n",
       "134            addCaslib   \n",
       "135           dropCaslib   \n",
       "136           caslibInfo   \n",
       "137          queryCaslib   \n",
       "138            partition   \n",
       "139          recordCount   \n",
       "140       loadDataSource   \n",
       "141               update   \n",
       "\n",
       "                                           description  \n",
       "0                                       Assumes a role  \n",
       "1                                  Relinquishes a role  \n",
       "2                      Shows the currently active role  \n",
       "3           Shows the roles that a user is a member of  \n",
       "4                      Shows whether a role is assumed  \n",
       "5                   Shows whether access is authorized  \n",
       "6        Shows whether access is authorized to actions  \n",
       "7         Shows whether access is authorized to tables  \n",
       "8        Shows whether access is authorized to columns  \n",
       "9    Lists all principals that have explicit access...  \n",
       "10   Lists effective access and explanations (Origins)  \n",
       "11   Lists access controls for caslibs, tables, and...  \n",
       "12   Lists access controls for an action or action set  \n",
       "13           Replaces all access controls for a caslib  \n",
       "14            Replaces all access controls for a table  \n",
       "15           Replaces all access controls for a column  \n",
       "16      Replaces all access controls for an action set  \n",
       "17          Replaces all access controls for an action  \n",
       "18   Adds, deletes, and modifies some access contro...  \n",
       "19   Adds, deletes, and modifies some access contro...  \n",
       "20   Adds, deletes, and modifies some access contro...  \n",
       "21   Adds, deletes, and modifies some access contro...  \n",
       "22   Adds, deletes, and modifies some access contro...  \n",
       "23   Removes all access controls for a caslib, tabl...  \n",
       "24   Removes all access controls for an action set ...  \n",
       "25          Adds, deletes, and modifies table metadata  \n",
       "26         Adds, deletes, and modifies column metadata  \n",
       "27     Adds, deletes, and modifies action set metadata  \n",
       "28         Adds, deletes, and modifies action metadata  \n",
       "29   Assigns users and groups to roles and modifies...  \n",
       "..                                                 ...  \n",
       "112  Performs a linear regression up to 3rd-order p...  \n",
       "113            Performs one-way or two-way tabulations  \n",
       "114  Computes the distinct number of values of the ...  \n",
       "115  Returns the top-K and bottom-K distinct values...  \n",
       "116  Builds BY groups in terms of the variable valu...  \n",
       "117  Generates a frequency distribution for one or ...  \n",
       "118  Generates a parallel coordinates plot of the v...  \n",
       "119                Creates a view from files or tables  \n",
       "120                  Manages extended table attributes  \n",
       "121  Transfers binary data to the server to create ...  \n",
       "122          Loads a table from a caslib's data source  \n",
       "123             Checks whether a table has been loaded  \n",
       "124                           Shows column information  \n",
       "125                  Fetches rows from a table or view  \n",
       "126            Saves a table to a caslib's data source  \n",
       "127  Add a table by sending it from the client to t...  \n",
       "128                    Shows information about a table  \n",
       "129             Get detailed information about a table  \n",
       "130                                      Drops a table  \n",
       "131  Delete a table or file from a caslib's data so...  \n",
       "132          Lists the files in a caslib's data source  \n",
       "133                    Promote a table to global scope  \n",
       "134  Adds a new caslib to enable access to a data s...  \n",
       "135                                     Drops a caslib  \n",
       "136                           Shows caslib information  \n",
       "137                     Checks whether a caslib exists  \n",
       "138                                 Partitions a table  \n",
       "139  Shows the number of rows in a Cloud Analytic S...  \n",
       "140           Loads one or more data source interfaces  \n",
       "141                            Updates rows in a table  \n",
       "\n",
       "[142 rows x 2 columns]"
      ]
     },
     "execution_count": 41,
     "metadata": {},
     "output_type": "execute_result"
    }
   ],
   "source": [
    "import pandas as pd\n",
    "\n",
    "pd.concat(out.values(), ignore_index=True)"
   ]
  },
  {
   "cell_type": "markdown",
   "metadata": {},
   "source": [
    "### Checking the Return Status of CAS Actions"
   ]
  },
  {
   "cell_type": "markdown",
   "metadata": {},
   "source": [
    "Run the **help** action and check the return codes."
   ]
  },
  {
   "cell_type": "code",
   "execution_count": 42,
   "metadata": {
    "collapsed": false
   },
   "outputs": [
    {
     "name": "stdout",
     "output_type": "stream",
     "text": [
      "NOTE: Information for action 'builtins.help':\n",
      "NOTE: The following parameters are accepted.  Default values are shown.\n",
      "NOTE:    string action=NULL,\n",
      "NOTE:       specifies the name of the action for which you want help. The name can be in the form 'actionSetName.actionName' or just 'actionName.\n",
      "NOTE:    string actionSet=NULL,\n",
      "NOTE:       specifies the name of the action set for which you want help. This parameter is ignored if the action parameter is specified.\n",
      "NOTE:    boolean verbose=true\n",
      "NOTE:       when set to True, provides more detail for each parameter.\n"
     ]
    }
   ],
   "source": [
    "out = conn.help(action='help')"
   ]
  },
  {
   "cell_type": "code",
   "execution_count": 46,
   "metadata": {
    "collapsed": false
   },
   "outputs": [
    {
     "name": "stdout",
     "output_type": "stream",
     "text": [
      "None\n"
     ]
    }
   ],
   "source": [
    "print(out.status)"
   ]
  },
  {
   "cell_type": "code",
   "execution_count": 47,
   "metadata": {
    "collapsed": false
   },
   "outputs": [
    {
     "name": "stdout",
     "output_type": "stream",
     "text": [
      "0\n"
     ]
    }
   ],
   "source": [
    "print(out.status_code)"
   ]
  },
  {
   "cell_type": "code",
   "execution_count": 48,
   "metadata": {
    "collapsed": false
   },
   "outputs": [
    {
     "name": "stdout",
     "output_type": "stream",
     "text": [
      "None\n"
     ]
    }
   ],
   "source": [
    "print(out.reason)"
   ]
  },
  {
   "cell_type": "code",
   "execution_count": 49,
   "metadata": {
    "collapsed": false
   },
   "outputs": [
    {
     "name": "stdout",
     "output_type": "stream",
     "text": [
      "0\n"
     ]
    }
   ],
   "source": [
    "print(out.severity)"
   ]
  },
  {
   "cell_type": "code",
   "execution_count": 54,
   "metadata": {
    "collapsed": false
   },
   "outputs": [
    {
     "name": "stdout",
     "output_type": "stream",
     "text": [
      "[\"NOTE: Information for action 'builtins.help':\",\n",
      " 'NOTE: The following parameters are accepted.  Default values are shown.',\n",
      " 'NOTE:    string action=NULL,',\n",
      " 'NOTE:       specifies the name of the action for which you want help. The '\n",
      " \"name can be in the form 'actionSetName.actionName' or just 'actionName.\",\n",
      " 'NOTE:    string actionSet=NULL,',\n",
      " 'NOTE:       specifies the name of the action set for which you want help. '\n",
      " 'This parameter is ignored if the action parameter is specified.',\n",
      " 'NOTE:    boolean verbose=true',\n",
      " 'NOTE:       when set to True, provides more detail for each parameter.']\n"
     ]
    }
   ],
   "source": [
    "from pprint import pprint\n",
    "\n",
    "pprint(out.messages)"
   ]
  },
  {
   "cell_type": "markdown",
   "metadata": {},
   "source": [
    "Attempt to get help for a nonexistent action."
   ]
  },
  {
   "cell_type": "code",
   "execution_count": 55,
   "metadata": {
    "collapsed": false
   },
   "outputs": [
    {
     "name": "stderr",
     "output_type": "stream",
     "text": [
      "ERROR: Action 'nonexistent' was not found.\n",
      "ERROR: The action stopped due to errors.\n"
     ]
    }
   ],
   "source": [
    "out = conn.help(action='nonexistent')"
   ]
  },
  {
   "cell_type": "code",
   "execution_count": 56,
   "metadata": {
    "collapsed": false
   },
   "outputs": [
    {
     "data": {
      "text/plain": [
       "'The specified action was not found.'"
      ]
     },
     "execution_count": 56,
     "metadata": {},
     "output_type": "execute_result"
    }
   ],
   "source": [
    "out.status"
   ]
  },
  {
   "cell_type": "code",
   "execution_count": 57,
   "metadata": {
    "collapsed": false
   },
   "outputs": [
    {
     "data": {
      "text/plain": [
       "2720406"
      ]
     },
     "execution_count": 57,
     "metadata": {},
     "output_type": "execute_result"
    }
   ],
   "source": [
    "out.status_code"
   ]
  },
  {
   "cell_type": "code",
   "execution_count": 58,
   "metadata": {
    "collapsed": false
   },
   "outputs": [
    {
     "data": {
      "text/plain": [
       "'abort'"
      ]
     },
     "execution_count": 58,
     "metadata": {},
     "output_type": "execute_result"
    }
   ],
   "source": [
    "out.reason"
   ]
  },
  {
   "cell_type": "code",
   "execution_count": 59,
   "metadata": {
    "collapsed": false
   },
   "outputs": [
    {
     "data": {
      "text/plain": [
       "2"
      ]
     },
     "execution_count": 59,
     "metadata": {},
     "output_type": "execute_result"
    }
   ],
   "source": [
    "out.severity"
   ]
  },
  {
   "cell_type": "code",
   "execution_count": 61,
   "metadata": {
    "collapsed": false
   },
   "outputs": [
    {
     "name": "stdout",
     "output_type": "stream",
     "text": [
      "[\"ERROR: Action 'nonexistent' was not found.\",\n",
      " 'ERROR: The action stopped due to errors.']\n"
     ]
    }
   ],
   "source": [
    "pprint(out.messages)"
   ]
  },
  {
   "cell_type": "markdown",
   "metadata": {},
   "source": [
    "SWAT can be configured to raise exceptions when action errors occur."
   ]
  },
  {
   "cell_type": "code",
   "execution_count": 62,
   "metadata": {
    "collapsed": true
   },
   "outputs": [],
   "source": [
    "swat.set_option('cas.exception_on_severity', 2)"
   ]
  },
  {
   "cell_type": "code",
   "execution_count": 63,
   "metadata": {
    "collapsed": false
   },
   "outputs": [
    {
     "name": "stdout",
     "output_type": "stream",
     "text": [
      "CASResponse(messages=[], disposition=CASDisposition(debug=0x88bfc196:TKCASA_GEN_ACTION_NOT_FOUND, reason=abort, severity=2, status=The specified action was not found., status_code=2720406), performance=CASPerformance(cpu_system_time=0.0, cpu_user_time=0.0, data_movement_bytes=0, data_movement_time=0.0, elapsed_time=0.000272, memory=50080, memory_os=8441856, memory_quota=12111872, system_cores=32, system_nodes=1, system_total_memory=202931654656))\n",
      "\n",
      "CAS('server-name.mycompany.com', 5570, 'username', protocol='cas', name='py-session-1', session='4047bce3-51fb-6a44-86ca-9b683588d5b2')\n",
      "\n",
      "\n"
     ]
    },
    {
     "name": "stderr",
     "output_type": "stream",
     "text": [
      "ERROR: Action 'nonexistent' was not found.\n",
      "ERROR: The action stopped due to errors.\n"
     ]
    }
   ],
   "source": [
    "try:\n",
    "    out = conn.help(action='nonexistent')\n",
    "except swat.SWATCASActionError as err:\n",
    "    print(err.response)\n",
    "    print('')\n",
    "    print(err.connection)\n",
    "    print('')\n",
    "    print(err.results)"
   ]
  },
  {
   "cell_type": "code",
   "execution_count": null,
   "metadata": {
    "collapsed": true
   },
   "outputs": [],
   "source": [
    "swat.reset_option('cas.exception_on_severity')"
   ]
  },
  {
   "cell_type": "markdown",
   "metadata": {},
   "source": [
    "## Working with CAS Action Sets"
   ]
  },
  {
   "cell_type": "markdown",
   "metadata": {},
   "source": [
    "Get information about all action sets available."
   ]
  },
  {
   "cell_type": "code",
   "execution_count": 64,
   "metadata": {
    "collapsed": true
   },
   "outputs": [],
   "source": [
    "asinfo = conn.actionsetinfo(all=True)"
   ]
  },
  {
   "cell_type": "markdown",
   "metadata": {},
   "source": [
    "Filter **DataFrame** down to action sets that aren't loaded."
   ]
  },
  {
   "cell_type": "code",
   "execution_count": 66,
   "metadata": {
    "collapsed": false
   },
   "outputs": [],
   "source": [
    "asinfo = asinfo.setinfo[asinfo.setinfo.loaded == 0]"
   ]
  },
  {
   "cell_type": "markdown",
   "metadata": {},
   "source": [
    "Grab the action set name and label columns."
   ]
  },
  {
   "cell_type": "code",
   "execution_count": 67,
   "metadata": {
    "collapsed": true
   },
   "outputs": [],
   "source": [
    "asinfo = asinfo.ix[:, 'actionset':'label']"
   ]
  },
  {
   "cell_type": "markdown",
   "metadata": {},
   "source": [
    "Display the result."
   ]
  },
  {
   "cell_type": "code",
   "execution_count": 68,
   "metadata": {
    "collapsed": false
   },
   "outputs": [
    {
     "data": {
      "text/html": [
       "<div>\n",
       "<table border=\"1\" class=\"dataframe\"><caption>Action set information</caption>\n",
       "  <thead>\n",
       "    <tr style=\"text-align: right;\">\n",
       "      <th title=\"\"></th>\n",
       "      <th title=\"actionset\">actionset</th>\n",
       "      <th title=\"label\">label</th>\n",
       "    </tr>\n",
       "  </thead>\n",
       "  <tbody>\n",
       "    <tr>\n",
       "      <th>0</th>\n",
       "      <td>access</td>\n",
       "      <td></td>\n",
       "    </tr>\n",
       "    <tr>\n",
       "      <th>2</th>\n",
       "      <td>actionTest</td>\n",
       "      <td></td>\n",
       "    </tr>\n",
       "    <tr>\n",
       "      <th>3</th>\n",
       "      <td>actionTest2</td>\n",
       "      <td></td>\n",
       "    </tr>\n",
       "    <tr>\n",
       "      <th>4</th>\n",
       "      <td>aggregation</td>\n",
       "      <td></td>\n",
       "    </tr>\n",
       "    <tr>\n",
       "      <th>5</th>\n",
       "      <td>astore</td>\n",
       "      <td></td>\n",
       "    </tr>\n",
       "    <tr>\n",
       "      <th>6</th>\n",
       "      <td>autotune</td>\n",
       "      <td></td>\n",
       "    </tr>\n",
       "    <tr>\n",
       "      <th>7</th>\n",
       "      <td>boolRule</td>\n",
       "      <td></td>\n",
       "    </tr>\n",
       "    <tr>\n",
       "      <th>9</th>\n",
       "      <td>cardinality</td>\n",
       "      <td></td>\n",
       "    </tr>\n",
       "    <tr>\n",
       "      <th>10</th>\n",
       "      <td>clustering</td>\n",
       "      <td></td>\n",
       "    </tr>\n",
       "    <tr>\n",
       "      <th>12</th>\n",
       "      <td>countreg</td>\n",
       "      <td></td>\n",
       "    </tr>\n",
       "    <tr>\n",
       "      <th>13</th>\n",
       "      <td>dataDiscovery</td>\n",
       "      <td></td>\n",
       "    </tr>\n",
       "    <tr>\n",
       "      <th>15</th>\n",
       "      <td>dataQuality</td>\n",
       "      <td>Data Quality</td>\n",
       "    </tr>\n",
       "    <tr>\n",
       "      <th>16</th>\n",
       "      <td>dataQuality</td>\n",
       "      <td>Data Quality</td>\n",
       "    </tr>\n",
       "    <tr>\n",
       "      <th>18</th>\n",
       "      <td>decisionTree</td>\n",
       "      <td></td>\n",
       "    </tr>\n",
       "    <tr>\n",
       "      <th>19</th>\n",
       "      <td>deepLearn</td>\n",
       "      <td></td>\n",
       "    </tr>\n",
       "    <tr>\n",
       "      <th>20</th>\n",
       "      <td>deepNeural</td>\n",
       "      <td></td>\n",
       "    </tr>\n",
       "    <tr>\n",
       "      <th>21</th>\n",
       "      <td>dmclust</td>\n",
       "      <td></td>\n",
       "    </tr>\n",
       "    <tr>\n",
       "      <th>22</th>\n",
       "      <td>ds2</td>\n",
       "      <td></td>\n",
       "    </tr>\n",
       "    <tr>\n",
       "      <th>23</th>\n",
       "      <td>elasticsearch</td>\n",
       "      <td></td>\n",
       "    </tr>\n",
       "    <tr>\n",
       "      <th>24</th>\n",
       "      <td>factmac</td>\n",
       "      <td></td>\n",
       "    </tr>\n",
       "    <tr>\n",
       "      <th>25</th>\n",
       "      <td>fedSql</td>\n",
       "      <td></td>\n",
       "    </tr>\n",
       "    <tr>\n",
       "      <th>26</th>\n",
       "      <td>hiddenMarkovModel</td>\n",
       "      <td></td>\n",
       "    </tr>\n",
       "    <tr>\n",
       "      <th>27</th>\n",
       "      <td>hyperGroup</td>\n",
       "      <td></td>\n",
       "    </tr>\n",
       "    <tr>\n",
       "      <th>28</th>\n",
       "      <td>image</td>\n",
       "      <td></td>\n",
       "    </tr>\n",
       "    <tr>\n",
       "      <th>29</th>\n",
       "      <td>linearAlgebra</td>\n",
       "      <td></td>\n",
       "    </tr>\n",
       "    <tr>\n",
       "      <th>30</th>\n",
       "      <td>loadStreams</td>\n",
       "      <td></td>\n",
       "    </tr>\n",
       "    <tr>\n",
       "      <th>31</th>\n",
       "      <td>lossModeling</td>\n",
       "      <td></td>\n",
       "    </tr>\n",
       "    <tr>\n",
       "      <th>32</th>\n",
       "      <td>midTierServices</td>\n",
       "      <td></td>\n",
       "    </tr>\n",
       "    <tr>\n",
       "      <th>33</th>\n",
       "      <td>mixedModel</td>\n",
       "      <td></td>\n",
       "    </tr>\n",
       "    <tr>\n",
       "      <th>34</th>\n",
       "      <td>modelPublishing</td>\n",
       "      <td></td>\n",
       "    </tr>\n",
       "    <tr>\n",
       "      <th>...</th>\n",
       "      <td>...</td>\n",
       "      <td>...</td>\n",
       "    </tr>\n",
       "    <tr>\n",
       "      <th>69</th>\n",
       "      <td>textSummarization</td>\n",
       "      <td></td>\n",
       "    </tr>\n",
       "    <tr>\n",
       "      <th>70</th>\n",
       "      <td>timeData</td>\n",
       "      <td></td>\n",
       "    </tr>\n",
       "    <tr>\n",
       "      <th>71</th>\n",
       "      <td>transpose</td>\n",
       "      <td></td>\n",
       "    </tr>\n",
       "    <tr>\n",
       "      <th>72</th>\n",
       "      <td>tsReconcile</td>\n",
       "      <td></td>\n",
       "    </tr>\n",
       "    <tr>\n",
       "      <th>73</th>\n",
       "      <td>tstdalby</td>\n",
       "      <td></td>\n",
       "    </tr>\n",
       "    <tr>\n",
       "      <th>74</th>\n",
       "      <td>tutorial</td>\n",
       "      <td></td>\n",
       "    </tr>\n",
       "    <tr>\n",
       "      <th>75</th>\n",
       "      <td>tutorial2</td>\n",
       "      <td></td>\n",
       "    </tr>\n",
       "    <tr>\n",
       "      <th>76</th>\n",
       "      <td>varReduce</td>\n",
       "      <td></td>\n",
       "    </tr>\n",
       "    <tr>\n",
       "      <th>77</th>\n",
       "      <td>visualAnalyticActions</td>\n",
       "      <td></td>\n",
       "    </tr>\n",
       "    <tr>\n",
       "      <th>78</th>\n",
       "      <td>gctest</td>\n",
       "      <td></td>\n",
       "    </tr>\n",
       "    <tr>\n",
       "      <th>79</th>\n",
       "      <td>mdchoice</td>\n",
       "      <td>MDCHOICE CAS Action Library</td>\n",
       "    </tr>\n",
       "    <tr>\n",
       "      <th>80</th>\n",
       "      <td>tkcaslua</td>\n",
       "      <td></td>\n",
       "    </tr>\n",
       "    <tr>\n",
       "      <th>81</th>\n",
       "      <td>testlev</td>\n",
       "      <td>Library for test levelization</td>\n",
       "    </tr>\n",
       "    <tr>\n",
       "      <th>82</th>\n",
       "      <td>clarify</td>\n",
       "      <td>Call Tool API routines</td>\n",
       "    </tr>\n",
       "    <tr>\n",
       "      <th>83</th>\n",
       "      <td>testairaction</td>\n",
       "      <td>Test Air</td>\n",
       "    </tr>\n",
       "    <tr>\n",
       "      <th>84</th>\n",
       "      <td>tkproeng</td>\n",
       "      <td>Data Discovery</td>\n",
       "    </tr>\n",
       "    <tr>\n",
       "      <th>85</th>\n",
       "      <td>csptest</td>\n",
       "      <td>CASCLP</td>\n",
       "    </tr>\n",
       "    <tr>\n",
       "      <th>86</th>\n",
       "      <td>glrm</td>\n",
       "      <td>Generalized low rank models</td>\n",
       "    </tr>\n",
       "    <tr>\n",
       "      <th>87</th>\n",
       "      <td>tkdnn</td>\n",
       "      <td>DeepNeural</td>\n",
       "    </tr>\n",
       "    <tr>\n",
       "      <th>88</th>\n",
       "      <td>qlimreg</td>\n",
       "      <td>QLIMREG CAS Action Library</td>\n",
       "    </tr>\n",
       "    <tr>\n",
       "      <th>89</th>\n",
       "      <td>generact</td>\n",
       "      <td>No description available</td>\n",
       "    </tr>\n",
       "    <tr>\n",
       "      <th>90</th>\n",
       "      <td>sandcas</td>\n",
       "      <td>SANDWICH library</td>\n",
       "    </tr>\n",
       "    <tr>\n",
       "      <th>91</th>\n",
       "      <td>tkcsestst</td>\n",
       "      <td>Session Tests</td>\n",
       "    </tr>\n",
       "    <tr>\n",
       "      <th>92</th>\n",
       "      <td>testsscp</td>\n",
       "      <td>Actions for SSCP Computation</td>\n",
       "    </tr>\n",
       "    <tr>\n",
       "      <th>93</th>\n",
       "      <td>tkcasls</td>\n",
       "      <td>CASL Server</td>\n",
       "    </tr>\n",
       "    <tr>\n",
       "      <th>94</th>\n",
       "      <td>dmcastest</td>\n",
       "      <td>Data Management Test Services</td>\n",
       "    </tr>\n",
       "    <tr>\n",
       "      <th>95</th>\n",
       "      <td>testodt</td>\n",
       "      <td></td>\n",
       "    </tr>\n",
       "    <tr>\n",
       "      <th>96</th>\n",
       "      <td>copula</td>\n",
       "      <td>CAS Copula Simulation Action Library</td>\n",
       "    </tr>\n",
       "    <tr>\n",
       "      <th>97</th>\n",
       "      <td>localsearch</td>\n",
       "      <td>Local Search Optimization</td>\n",
       "    </tr>\n",
       "    <tr>\n",
       "      <th>98</th>\n",
       "      <td>cmpcas</td>\n",
       "      <td></td>\n",
       "    </tr>\n",
       "  </tbody>\n",
       "</table>\n",
       "<p>88 rows × 2 columns</p>\n",
       "</div>"
      ],
      "text/plain": [
       "Action set information\n",
       "\n",
       "                actionset                                 label\n",
       "0                  access                                      \n",
       "2              actionTest                                      \n",
       "3             actionTest2                                      \n",
       "4             aggregation                                      \n",
       "5                  astore                                      \n",
       "6                autotune                                      \n",
       "7                boolRule                                      \n",
       "9             cardinality                                      \n",
       "10             clustering                                      \n",
       "12               countreg                                      \n",
       "13          dataDiscovery                                      \n",
       "15            dataQuality                          Data Quality\n",
       "16            dataQuality                          Data Quality\n",
       "18           decisionTree                                      \n",
       "19              deepLearn                                      \n",
       "20             deepNeural                                      \n",
       "21                dmclust                                      \n",
       "22                    ds2                                      \n",
       "23          elasticsearch                                      \n",
       "24                factmac                                      \n",
       "25                 fedSql                                      \n",
       "26      hiddenMarkovModel                                      \n",
       "27             hyperGroup                                      \n",
       "28                  image                                      \n",
       "29          linearAlgebra                                      \n",
       "30            loadStreams                                      \n",
       "31           lossModeling                                      \n",
       "32        midTierServices                                      \n",
       "33             mixedModel                                      \n",
       "34        modelPublishing                                      \n",
       "..                    ...                                   ...\n",
       "69      textSummarization                                      \n",
       "70               timeData                                      \n",
       "71              transpose                                      \n",
       "72            tsReconcile                                      \n",
       "73               tstdalby                                      \n",
       "74               tutorial                                      \n",
       "75              tutorial2                                      \n",
       "76              varReduce                                      \n",
       "77  visualAnalyticActions                                      \n",
       "78                 gctest                                      \n",
       "79               mdchoice           MDCHOICE CAS Action Library\n",
       "80               tkcaslua                                      \n",
       "81                testlev         Library for test levelization\n",
       "82                clarify                Call Tool API routines\n",
       "83          testairaction                              Test Air\n",
       "84               tkproeng                        Data Discovery\n",
       "85                csptest                                CASCLP\n",
       "86                   glrm           Generalized low rank models\n",
       "87                  tkdnn                            DeepNeural\n",
       "88                qlimreg            QLIMREG CAS Action Library\n",
       "89               generact              No description available\n",
       "90                sandcas                      SANDWICH library\n",
       "91              tkcsestst                         Session Tests\n",
       "92               testsscp          Actions for SSCP Computation\n",
       "93                tkcasls                           CASL Server\n",
       "94              dmcastest         Data Management Test Services\n",
       "95                testodt                                      \n",
       "96                 copula  CAS Copula Simulation Action Library\n",
       "97            localsearch             Local Search Optimization\n",
       "98                 cmpcas                                      \n",
       "\n",
       "[88 rows x 2 columns]"
      ]
     },
     "execution_count": 68,
     "metadata": {},
     "output_type": "execute_result"
    }
   ],
   "source": [
    "asinfo"
   ]
  },
  {
   "cell_type": "markdown",
   "metadata": {},
   "source": [
    "Use **loadactionset** to load the **simple** action set."
   ]
  },
  {
   "cell_type": "code",
   "execution_count": 69,
   "metadata": {
    "collapsed": false
   },
   "outputs": [
    {
     "name": "stdout",
     "output_type": "stream",
     "text": [
      "NOTE: Added action set 'simple'.\n"
     ]
    },
    {
     "data": {
      "text/html": [
       "<div class=\"cas-results-key\"><b>&#167; actionset</b></div>\n",
       "<div class=\"cas-results-body\">\n",
       "<div>simple</div>\n",
       "</div>\n",
       "<div class=\"cas-output-area\"></div>\n",
       "<p class=\"cas-results-performance\"><small><span class=\"cas-elapsed\">elapsed 0.0194s</span> &#183; <span class=\"cas-user\">user 0.018s</span> &#183; <span class=\"cas-memory\">mem 0.267MB</span></small></p>"
      ],
      "text/plain": [
       "CASResults([('actionset', 'simple')])"
      ]
     },
     "execution_count": 69,
     "metadata": {},
     "output_type": "execute_result"
    }
   ],
   "source": [
    "conn.loadactionset('simple')"
   ]
  },
  {
   "cell_type": "markdown",
   "metadata": {},
   "source": [
    "Display the help for the **simple** action set."
   ]
  },
  {
   "cell_type": "code",
   "execution_count": null,
   "metadata": {
    "collapsed": true
   },
   "outputs": [],
   "source": [
    "conn.simple?"
   ]
  },
  {
   "cell_type": "markdown",
   "metadata": {},
   "source": [
    "## Details"
   ]
  },
  {
   "cell_type": "markdown",
   "metadata": {},
   "source": [
    "## Dealing with Errors"
   ]
  },
  {
   "cell_type": "markdown",
   "metadata": {},
   "source": [
    "### Using CAS Action Exceptions\n",
    "\n",
    "You can use the **swat.set_option** function or the following options object interface\n",
    "to set options.  The code below makes CAS action errors surface as Python exceptions."
   ]
  },
  {
   "cell_type": "code",
   "execution_count": 74,
   "metadata": {
    "collapsed": false
   },
   "outputs": [],
   "source": [
    "# This is equivalent to swat.set_option('cas.exception_on_severity', 2)\n",
    "\n",
    "swat.options.cas.exception_on_severity = 2"
   ]
  },
  {
   "cell_type": "code",
   "execution_count": 75,
   "metadata": {
    "collapsed": false
   },
   "outputs": [
    {
     "name": "stdout",
     "output_type": "stream",
     "text": [
      "The specified action was not found.\n"
     ]
    },
    {
     "name": "stderr",
     "output_type": "stream",
     "text": [
      "ERROR: Action 'nonexistent' was not found.\n",
      "ERROR: The action stopped due to errors.\n"
     ]
    }
   ],
   "source": [
    "try:\n",
    "    out = conn.help(action='nonexistent')\n",
    "except swat.SWATCASActionError as err:\n",
    "    print(err.message)"
   ]
  },
  {
   "cell_type": "markdown",
   "metadata": {},
   "source": [
    "### Resolving CAS Action Parameter Problems"
   ]
  },
  {
   "cell_type": "code",
   "execution_count": 76,
   "metadata": {
    "collapsed": false
   },
   "outputs": [
    {
     "name": "stdout",
     "output_type": "stream",
     "text": [
      "NOTE: Added action set 'simple'.\n"
     ]
    }
   ],
   "source": [
    "out = conn.loadactionset('simple')"
   ]
  },
  {
   "cell_type": "code",
   "execution_count": 77,
   "metadata": {
    "collapsed": false
   },
   "outputs": [
    {
     "name": "stderr",
     "output_type": "stream",
     "text": [
      "ERROR: An attempt was made to convert parameter 'table.groupby[2]' from int64 to parameter list, but the conversion failed.\n",
      "ERROR: The action stopped due to errors.\n"
     ]
    },
    {
     "ename": "SWATCASActionError",
     "evalue": "A parameter was the wrong type and could not be converted.",
     "output_type": "error",
     "traceback": [
      "\u001b[1;31m---------------------------------------------------------------------------\u001b[0m",
      "\u001b[1;31mSWATCASActionError\u001b[0m                        Traceback (most recent call last)",
      "\u001b[1;32m<ipython-input-77-8c739c3d1819>\u001b[0m in \u001b[0;36m<module>\u001b[1;34m()\u001b[0m\n\u001b[0;32m      1\u001b[0m out = conn.summary(table=dict(name='test',\n\u001b[1;32m----> 2\u001b[1;33m                               groupby=['var1', 'var2', 3]))\n\u001b[0m",
      "\u001b[1;32m/u/username/github/python-swat/swat/cas/actions.py\u001b[0m in \u001b[0;36m__call__\u001b[1;34m(_self_, table, nthreads, groupbytable, attributes, inputs, groupbylimit, orderby, orderbyagg, orderbydesc, orderbygbyraw, resultlimit, casout, repeat, freq, cialpha, citype, subset, weight, **kwargs)\u001b[0m\n",
      "\u001b[1;32m/u/username/github/python-swat/swat/cas/actions.py\u001b[0m in \u001b[0;36m__call__\u001b[1;34m(self, **kwargs)\u001b[0m\n\u001b[0;32m    827\u001b[0m         return type(self).get_connection().retrieve(type(self).__name__.lower(),\n\u001b[0;32m    828\u001b[0m                                                     **mergedefined(self.to_params(),\n\u001b[1;32m--> 829\u001b[1;33m                                                     kwargs))\n\u001b[0m\u001b[0;32m    830\u001b[0m \u001b[1;33m\u001b[0m\u001b[0m\n\u001b[0;32m    831\u001b[0m     \u001b[0mretrieve\u001b[0m \u001b[1;33m=\u001b[0m \u001b[0m__call__\u001b[0m\u001b[1;33m\u001b[0m\u001b[0m\n",
      "\u001b[1;32m/u/username/github/python-swat/swat/cas/connection.py\u001b[0m in \u001b[0;36mretrieve\u001b[1;34m(self, _name_, **kwargs)\u001b[0m\n\u001b[0;32m   1455\u001b[0m \u001b[1;33m\u001b[0m\u001b[0m\n\u001b[0;32m   1456\u001b[0m         results = self._get_results(getnext(self, datamsghandler=datamsghandler),\n\u001b[1;32m-> 1457\u001b[1;33m                                     responsefunc=responsefunc, resultfunc=resultfunc)\n\u001b[0m\u001b[0;32m   1458\u001b[0m \u001b[1;33m\u001b[0m\u001b[0m\n\u001b[0;32m   1459\u001b[0m         \u001b[1;31m# Return raw data if a function was supplied\u001b[0m\u001b[1;33m\u001b[0m\u001b[1;33m\u001b[0m\u001b[0m\n",
      "\u001b[1;32m/u/username/github/python-swat/swat/cas/connection.py\u001b[0m in \u001b[0;36m_get_results\u001b[1;34m(self, riter, responsefunc, resultfunc)\u001b[0m\n\u001b[0;32m   1568\u001b[0m                 \u001b[0merr\u001b[0m\u001b[1;33m.\u001b[0m\u001b[0mresults\u001b[0m \u001b[1;33m=\u001b[0m \u001b[0mresults\u001b[0m\u001b[1;33m\u001b[0m\u001b[0m\n\u001b[0;32m   1569\u001b[0m                 \u001b[0merr\u001b[0m\u001b[1;33m.\u001b[0m\u001b[0mevents\u001b[0m \u001b[1;33m=\u001b[0m \u001b[0mevents\u001b[0m\u001b[1;33m\u001b[0m\u001b[0m\n\u001b[1;32m-> 1570\u001b[1;33m             \u001b[1;32mraise\u001b[0m \u001b[0merr\u001b[0m\u001b[1;33m\u001b[0m\u001b[0m\n\u001b[0m\u001b[0;32m   1571\u001b[0m \u001b[1;33m\u001b[0m\u001b[0m\n\u001b[0;32m   1572\u001b[0m         \u001b[1;32mif\u001b[0m \u001b[0mresponsefunc\u001b[0m \u001b[1;32mis\u001b[0m \u001b[1;32mnot\u001b[0m \u001b[1;32mNone\u001b[0m\u001b[1;33m:\u001b[0m\u001b[1;33m\u001b[0m\u001b[0m\n",
      "\u001b[1;32m/u/username/github/python-swat/swat/cas/connection.py\u001b[0m in \u001b[0;36m_get_results\u001b[1;34m(self, riter, responsefunc, resultfunc)\u001b[0m\n\u001b[0;32m   1504\u001b[0m \u001b[1;33m\u001b[0m\u001b[0m\n\u001b[0;32m   1505\u001b[0m         \u001b[1;32mtry\u001b[0m\u001b[1;33m:\u001b[0m\u001b[1;33m\u001b[0m\u001b[0m\n\u001b[1;32m-> 1506\u001b[1;33m             \u001b[1;32mfor\u001b[0m \u001b[0mresponse\u001b[0m\u001b[1;33m,\u001b[0m \u001b[0mconn\u001b[0m \u001b[1;32min\u001b[0m \u001b[0mriter\u001b[0m\u001b[1;33m:\u001b[0m\u001b[1;33m\u001b[0m\u001b[0m\n\u001b[0m\u001b[0;32m   1507\u001b[0m \u001b[1;33m\u001b[0m\u001b[0m\n\u001b[0;32m   1508\u001b[0m                 \u001b[1;32mif\u001b[0m \u001b[0mresponsefunc\u001b[0m \u001b[1;32mis\u001b[0m \u001b[1;32mnot\u001b[0m \u001b[1;32mNone\u001b[0m\u001b[1;33m:\u001b[0m\u001b[1;33m\u001b[0m\u001b[0m\n",
      "\u001b[1;32m/u/username/github/python-swat/swat/cas/connection.py\u001b[0m in \u001b[0;36mgetnext\u001b[1;34m(*objs, **kwargs)\u001b[0m\n\u001b[0;32m   2930\u001b[0m                 \u001b[1;32myield\u001b[0m \u001b[1;33m[\u001b[0m\u001b[1;33m]\u001b[0m\u001b[1;33m,\u001b[0m \u001b[1;32mNone\u001b[0m\u001b[1;33m\u001b[0m\u001b[0m\n\u001b[0;32m   2931\u001b[0m \u001b[1;33m\u001b[0m\u001b[0m\n\u001b[1;32m-> 2932\u001b[1;33m             \u001b[1;32myield\u001b[0m \u001b[0mgetone\u001b[0m\u001b[1;33m(\u001b[0m\u001b[0mconnections\u001b[0m\u001b[1;33m[\u001b[0m\u001b[0mi\u001b[0m\u001b[1;33m]\u001b[0m\u001b[1;33m,\u001b[0m \u001b[0mdatamsghandler\u001b[0m\u001b[1;33m=\u001b[0m\u001b[0mdatamsghandler\u001b[0m\u001b[1;33m)\u001b[0m\u001b[1;33m\u001b[0m\u001b[0m\n\u001b[0m\u001b[0;32m   2933\u001b[0m \u001b[1;33m\u001b[0m\u001b[0m\n\u001b[0;32m   2934\u001b[0m     \u001b[1;32mexcept\u001b[0m \u001b[1;33m(\u001b[0m\u001b[0mKeyboardInterrupt\u001b[0m\u001b[1;33m,\u001b[0m \u001b[0mSystemExit\u001b[0m\u001b[1;33m)\u001b[0m\u001b[1;33m:\u001b[0m\u001b[1;33m\u001b[0m\u001b[0m\n",
      "\u001b[1;32m/u/username/github/python-swat/swat/cas/connection.py\u001b[0m in \u001b[0;36mgetone\u001b[1;34m(connection, datamsghandler)\u001b[0m\n\u001b[0;32m   2851\u001b[0m         \u001b[1;32mif\u001b[0m \u001b[0mexception_on_severity\u001b[0m \u001b[1;32mis\u001b[0m \u001b[1;32mnot\u001b[0m \u001b[1;32mNone\u001b[0m \u001b[1;32mand\u001b[0m\u001b[0;31m \u001b[0m\u001b[0;31m\\\u001b[0m\u001b[1;33m\u001b[0m\u001b[0m\n\u001b[0;32m   2852\u001b[0m                 \u001b[0moutput\u001b[0m\u001b[1;33m[\u001b[0m\u001b[1;36m0\u001b[0m\u001b[1;33m]\u001b[0m\u001b[1;33m.\u001b[0m\u001b[0mdisposition\u001b[0m\u001b[1;33m.\u001b[0m\u001b[0mseverity\u001b[0m \u001b[1;33m>=\u001b[0m \u001b[0mexception_on_severity\u001b[0m\u001b[1;33m:\u001b[0m\u001b[1;33m\u001b[0m\u001b[0m\n\u001b[1;32m-> 2853\u001b[1;33m             \u001b[1;32mraise\u001b[0m \u001b[0mSWATCASActionError\u001b[0m\u001b[1;33m(\u001b[0m\u001b[0moutput\u001b[0m\u001b[1;33m[\u001b[0m\u001b[1;36m0\u001b[0m\u001b[1;33m]\u001b[0m\u001b[1;33m.\u001b[0m\u001b[0mdisposition\u001b[0m\u001b[1;33m.\u001b[0m\u001b[0mstatus\u001b[0m\u001b[1;33m,\u001b[0m \u001b[0moutput\u001b[0m\u001b[1;33m[\u001b[0m\u001b[1;36m0\u001b[0m\u001b[1;33m]\u001b[0m\u001b[1;33m,\u001b[0m \u001b[0moutput\u001b[0m\u001b[1;33m[\u001b[0m\u001b[1;36m1\u001b[0m\u001b[1;33m]\u001b[0m\u001b[1;33m)\u001b[0m\u001b[1;33m\u001b[0m\u001b[0m\n\u001b[0m\u001b[0;32m   2854\u001b[0m \u001b[1;33m\u001b[0m\u001b[0m\n\u001b[0;32m   2855\u001b[0m     \u001b[1;32mreturn\u001b[0m \u001b[0moutput\u001b[0m\u001b[1;33m\u001b[0m\u001b[0m\n",
      "\u001b[1;31mSWATCASActionError\u001b[0m: A parameter was the wrong type and could not be converted."
     ]
    }
   ],
   "source": [
    "out = conn.summary(table=dict(name='test',\n",
    "                              groupby=['var1', 'var2', 3]))"
   ]
  },
  {
   "cell_type": "markdown",
   "metadata": {},
   "source": [
    "Enable action tracing so we can see what is getting called."
   ]
  },
  {
   "cell_type": "code",
   "execution_count": 78,
   "metadata": {
    "collapsed": true
   },
   "outputs": [],
   "source": [
    "swat.set_option('cas.trace_actions', True)"
   ]
  },
  {
   "cell_type": "markdown",
   "metadata": {},
   "source": [
    "By looking at the action parameter trace, we see that `table.groupby[2]` is an int64 and\n",
    "should be a string."
   ]
  },
  {
   "cell_type": "code",
   "execution_count": 79,
   "metadata": {
    "collapsed": false
   },
   "outputs": [
    {
     "name": "stdout",
     "output_type": "stream",
     "text": [
      "[simple.summary]\n",
      "   table.groupby[0] = \"var1\" (string)\n",
      "   table.groupby[1] = \"var2\" (string)\n",
      "   table.groupby[2] = 3 (int64)\n",
      "   table.name    = \"test\" (string)\n",
      "\n"
     ]
    },
    {
     "name": "stderr",
     "output_type": "stream",
     "text": [
      "ERROR: An attempt was made to convert parameter 'table.groupby[2]' from int64 to parameter list, but the conversion failed.\n",
      "ERROR: The action stopped due to errors.\n"
     ]
    },
    {
     "ename": "SWATCASActionError",
     "evalue": "A parameter was the wrong type and could not be converted.",
     "output_type": "error",
     "traceback": [
      "\u001b[1;31m---------------------------------------------------------------------------\u001b[0m",
      "\u001b[1;31mSWATCASActionError\u001b[0m                        Traceback (most recent call last)",
      "\u001b[1;32m<ipython-input-79-e90c2c6fc905>\u001b[0m in \u001b[0;36m<module>\u001b[1;34m()\u001b[0m\n\u001b[1;32m----> 1\u001b[1;33m \u001b[0mout\u001b[0m \u001b[1;33m=\u001b[0m \u001b[0mconn\u001b[0m\u001b[1;33m.\u001b[0m\u001b[0msummary\u001b[0m\u001b[1;33m(\u001b[0m\u001b[0mtable\u001b[0m\u001b[1;33m=\u001b[0m\u001b[0mdict\u001b[0m\u001b[1;33m(\u001b[0m\u001b[0mname\u001b[0m\u001b[1;33m=\u001b[0m\u001b[1;34m'test'\u001b[0m\u001b[1;33m,\u001b[0m \u001b[0mgroupby\u001b[0m\u001b[1;33m=\u001b[0m\u001b[1;33m[\u001b[0m\u001b[1;34m'var1'\u001b[0m\u001b[1;33m,\u001b[0m \u001b[1;34m'var2'\u001b[0m\u001b[1;33m,\u001b[0m \u001b[1;36m3\u001b[0m\u001b[1;33m]\u001b[0m\u001b[1;33m)\u001b[0m\u001b[1;33m)\u001b[0m\u001b[1;33m\u001b[0m\u001b[0m\n\u001b[0m",
      "\u001b[1;32m/u/username/github/python-swat/swat/cas/actions.py\u001b[0m in \u001b[0;36m__call__\u001b[1;34m(_self_, table, nthreads, groupbytable, attributes, inputs, groupbylimit, orderby, orderbyagg, orderbydesc, orderbygbyraw, resultlimit, casout, repeat, freq, cialpha, citype, subset, weight, **kwargs)\u001b[0m\n",
      "\u001b[1;32m/u/username/github/python-swat/swat/cas/actions.py\u001b[0m in \u001b[0;36m__call__\u001b[1;34m(self, **kwargs)\u001b[0m\n\u001b[0;32m    827\u001b[0m         return type(self).get_connection().retrieve(type(self).__name__.lower(),\n\u001b[0;32m    828\u001b[0m                                                     **mergedefined(self.to_params(),\n\u001b[1;32m--> 829\u001b[1;33m                                                     kwargs))\n\u001b[0m\u001b[0;32m    830\u001b[0m \u001b[1;33m\u001b[0m\u001b[0m\n\u001b[0;32m    831\u001b[0m     \u001b[0mretrieve\u001b[0m \u001b[1;33m=\u001b[0m \u001b[0m__call__\u001b[0m\u001b[1;33m\u001b[0m\u001b[0m\n",
      "\u001b[1;32m/u/username/github/python-swat/swat/cas/connection.py\u001b[0m in \u001b[0;36mretrieve\u001b[1;34m(self, _name_, **kwargs)\u001b[0m\n\u001b[0;32m   1455\u001b[0m \u001b[1;33m\u001b[0m\u001b[0m\n\u001b[0;32m   1456\u001b[0m         results = self._get_results(getnext(self, datamsghandler=datamsghandler),\n\u001b[1;32m-> 1457\u001b[1;33m                                     responsefunc=responsefunc, resultfunc=resultfunc)\n\u001b[0m\u001b[0;32m   1458\u001b[0m \u001b[1;33m\u001b[0m\u001b[0m\n\u001b[0;32m   1459\u001b[0m         \u001b[1;31m# Return raw data if a function was supplied\u001b[0m\u001b[1;33m\u001b[0m\u001b[1;33m\u001b[0m\u001b[0m\n",
      "\u001b[1;32m/u/username/github/python-swat/swat/cas/connection.py\u001b[0m in \u001b[0;36m_get_results\u001b[1;34m(self, riter, responsefunc, resultfunc)\u001b[0m\n\u001b[0;32m   1568\u001b[0m                 \u001b[0merr\u001b[0m\u001b[1;33m.\u001b[0m\u001b[0mresults\u001b[0m \u001b[1;33m=\u001b[0m \u001b[0mresults\u001b[0m\u001b[1;33m\u001b[0m\u001b[0m\n\u001b[0;32m   1569\u001b[0m                 \u001b[0merr\u001b[0m\u001b[1;33m.\u001b[0m\u001b[0mevents\u001b[0m \u001b[1;33m=\u001b[0m \u001b[0mevents\u001b[0m\u001b[1;33m\u001b[0m\u001b[0m\n\u001b[1;32m-> 1570\u001b[1;33m             \u001b[1;32mraise\u001b[0m \u001b[0merr\u001b[0m\u001b[1;33m\u001b[0m\u001b[0m\n\u001b[0m\u001b[0;32m   1571\u001b[0m \u001b[1;33m\u001b[0m\u001b[0m\n\u001b[0;32m   1572\u001b[0m         \u001b[1;32mif\u001b[0m \u001b[0mresponsefunc\u001b[0m \u001b[1;32mis\u001b[0m \u001b[1;32mnot\u001b[0m \u001b[1;32mNone\u001b[0m\u001b[1;33m:\u001b[0m\u001b[1;33m\u001b[0m\u001b[0m\n",
      "\u001b[1;32m/u/username/github/python-swat/swat/cas/connection.py\u001b[0m in \u001b[0;36m_get_results\u001b[1;34m(self, riter, responsefunc, resultfunc)\u001b[0m\n\u001b[0;32m   1504\u001b[0m \u001b[1;33m\u001b[0m\u001b[0m\n\u001b[0;32m   1505\u001b[0m         \u001b[1;32mtry\u001b[0m\u001b[1;33m:\u001b[0m\u001b[1;33m\u001b[0m\u001b[0m\n\u001b[1;32m-> 1506\u001b[1;33m             \u001b[1;32mfor\u001b[0m \u001b[0mresponse\u001b[0m\u001b[1;33m,\u001b[0m \u001b[0mconn\u001b[0m \u001b[1;32min\u001b[0m \u001b[0mriter\u001b[0m\u001b[1;33m:\u001b[0m\u001b[1;33m\u001b[0m\u001b[0m\n\u001b[0m\u001b[0;32m   1507\u001b[0m \u001b[1;33m\u001b[0m\u001b[0m\n\u001b[0;32m   1508\u001b[0m                 \u001b[1;32mif\u001b[0m \u001b[0mresponsefunc\u001b[0m \u001b[1;32mis\u001b[0m \u001b[1;32mnot\u001b[0m \u001b[1;32mNone\u001b[0m\u001b[1;33m:\u001b[0m\u001b[1;33m\u001b[0m\u001b[0m\n",
      "\u001b[1;32m/u/username/github/python-swat/swat/cas/connection.py\u001b[0m in \u001b[0;36mgetnext\u001b[1;34m(*objs, **kwargs)\u001b[0m\n\u001b[0;32m   2930\u001b[0m                 \u001b[1;32myield\u001b[0m \u001b[1;33m[\u001b[0m\u001b[1;33m]\u001b[0m\u001b[1;33m,\u001b[0m \u001b[1;32mNone\u001b[0m\u001b[1;33m\u001b[0m\u001b[0m\n\u001b[0;32m   2931\u001b[0m \u001b[1;33m\u001b[0m\u001b[0m\n\u001b[1;32m-> 2932\u001b[1;33m             \u001b[1;32myield\u001b[0m \u001b[0mgetone\u001b[0m\u001b[1;33m(\u001b[0m\u001b[0mconnections\u001b[0m\u001b[1;33m[\u001b[0m\u001b[0mi\u001b[0m\u001b[1;33m]\u001b[0m\u001b[1;33m,\u001b[0m \u001b[0mdatamsghandler\u001b[0m\u001b[1;33m=\u001b[0m\u001b[0mdatamsghandler\u001b[0m\u001b[1;33m)\u001b[0m\u001b[1;33m\u001b[0m\u001b[0m\n\u001b[0m\u001b[0;32m   2933\u001b[0m \u001b[1;33m\u001b[0m\u001b[0m\n\u001b[0;32m   2934\u001b[0m     \u001b[1;32mexcept\u001b[0m \u001b[1;33m(\u001b[0m\u001b[0mKeyboardInterrupt\u001b[0m\u001b[1;33m,\u001b[0m \u001b[0mSystemExit\u001b[0m\u001b[1;33m)\u001b[0m\u001b[1;33m:\u001b[0m\u001b[1;33m\u001b[0m\u001b[0m\n",
      "\u001b[1;32m/u/username/github/python-swat/swat/cas/connection.py\u001b[0m in \u001b[0;36mgetone\u001b[1;34m(connection, datamsghandler)\u001b[0m\n\u001b[0;32m   2851\u001b[0m         \u001b[1;32mif\u001b[0m \u001b[0mexception_on_severity\u001b[0m \u001b[1;32mis\u001b[0m \u001b[1;32mnot\u001b[0m \u001b[1;32mNone\u001b[0m \u001b[1;32mand\u001b[0m\u001b[0;31m \u001b[0m\u001b[0;31m\\\u001b[0m\u001b[1;33m\u001b[0m\u001b[0m\n\u001b[0;32m   2852\u001b[0m                 \u001b[0moutput\u001b[0m\u001b[1;33m[\u001b[0m\u001b[1;36m0\u001b[0m\u001b[1;33m]\u001b[0m\u001b[1;33m.\u001b[0m\u001b[0mdisposition\u001b[0m\u001b[1;33m.\u001b[0m\u001b[0mseverity\u001b[0m \u001b[1;33m>=\u001b[0m \u001b[0mexception_on_severity\u001b[0m\u001b[1;33m:\u001b[0m\u001b[1;33m\u001b[0m\u001b[0m\n\u001b[1;32m-> 2853\u001b[1;33m             \u001b[1;32mraise\u001b[0m \u001b[0mSWATCASActionError\u001b[0m\u001b[1;33m(\u001b[0m\u001b[0moutput\u001b[0m\u001b[1;33m[\u001b[0m\u001b[1;36m0\u001b[0m\u001b[1;33m]\u001b[0m\u001b[1;33m.\u001b[0m\u001b[0mdisposition\u001b[0m\u001b[1;33m.\u001b[0m\u001b[0mstatus\u001b[0m\u001b[1;33m,\u001b[0m \u001b[0moutput\u001b[0m\u001b[1;33m[\u001b[0m\u001b[1;36m0\u001b[0m\u001b[1;33m]\u001b[0m\u001b[1;33m,\u001b[0m \u001b[0moutput\u001b[0m\u001b[1;33m[\u001b[0m\u001b[1;36m1\u001b[0m\u001b[1;33m]\u001b[0m\u001b[1;33m)\u001b[0m\u001b[1;33m\u001b[0m\u001b[0m\n\u001b[0m\u001b[0;32m   2854\u001b[0m \u001b[1;33m\u001b[0m\u001b[0m\n\u001b[0;32m   2855\u001b[0m     \u001b[1;32mreturn\u001b[0m \u001b[0moutput\u001b[0m\u001b[1;33m\u001b[0m\u001b[0m\n",
      "\u001b[1;31mSWATCASActionError\u001b[0m: A parameter was the wrong type and could not be converted."
     ]
    }
   ],
   "source": [
    "out = conn.summary(table=dict(name='test', groupby=['var1', 'var2', 3]))"
   ]
  },
  {
   "cell_type": "markdown",
   "metadata": {},
   "source": [
    "Build the parameters piecemeal so it maps up better to the error message syntax."
   ]
  },
  {
   "cell_type": "code",
   "execution_count": 80,
   "metadata": {
    "collapsed": false
   },
   "outputs": [
    {
     "data": {
      "text/plain": [
       "{'table': {'groupby': {0: 'var1', 1: 'var2', 2: 3}, 'name': 'test'}}"
      ]
     },
     "execution_count": 80,
     "metadata": {},
     "output_type": "execute_result"
    }
   ],
   "source": [
    "params = swat.vl()\n",
    "params.table.name = 'test'\n",
    "params.table.groupby[0] = 'var1'\n",
    "params.table.groupby[1] = 'var2'\n",
    "params.table.groupby[2] = 3\n",
    "params"
   ]
  },
  {
   "cell_type": "markdown",
   "metadata": {},
   "source": [
    "Expand the parameters object as keyword parameters to the **summary** action."
   ]
  },
  {
   "cell_type": "code",
   "execution_count": 81,
   "metadata": {
    "collapsed": false
   },
   "outputs": [
    {
     "name": "stdout",
     "output_type": "stream",
     "text": [
      "[simple.summary]\n",
      "   table.groupby[0] = \"var1\" (string)\n",
      "   table.groupby[1] = \"var2\" (string)\n",
      "   table.groupby[2] = 3 (int64)\n",
      "   table.name    = \"test\" (string)\n",
      "\n"
     ]
    },
    {
     "name": "stderr",
     "output_type": "stream",
     "text": [
      "ERROR: An attempt was made to convert parameter 'table.groupby[2]' from int64 to parameter list, but the conversion failed.\n",
      "ERROR: The action stopped due to errors.\n"
     ]
    },
    {
     "ename": "SWATCASActionError",
     "evalue": "A parameter was the wrong type and could not be converted.",
     "output_type": "error",
     "traceback": [
      "\u001b[1;31m---------------------------------------------------------------------------\u001b[0m",
      "\u001b[1;31mSWATCASActionError\u001b[0m                        Traceback (most recent call last)",
      "\u001b[1;32m<ipython-input-81-0798a9a85e86>\u001b[0m in \u001b[0;36m<module>\u001b[1;34m()\u001b[0m\n\u001b[1;32m----> 1\u001b[1;33m \u001b[0mout\u001b[0m \u001b[1;33m=\u001b[0m \u001b[0mconn\u001b[0m\u001b[1;33m.\u001b[0m\u001b[0msummary\u001b[0m\u001b[1;33m(\u001b[0m\u001b[1;33m**\u001b[0m\u001b[0mparams\u001b[0m\u001b[1;33m)\u001b[0m\u001b[1;33m\u001b[0m\u001b[0m\n\u001b[0m",
      "\u001b[1;32m/u/username/github/python-swat/swat/cas/actions.py\u001b[0m in \u001b[0;36m__call__\u001b[1;34m(_self_, table, nthreads, groupbytable, attributes, inputs, groupbylimit, orderby, orderbyagg, orderbydesc, orderbygbyraw, resultlimit, casout, repeat, freq, cialpha, citype, subset, weight, **kwargs)\u001b[0m\n",
      "\u001b[1;32m/u/username/github/python-swat/swat/cas/actions.py\u001b[0m in \u001b[0;36m__call__\u001b[1;34m(self, **kwargs)\u001b[0m\n\u001b[0;32m    827\u001b[0m         return type(self).get_connection().retrieve(type(self).__name__.lower(),\n\u001b[0;32m    828\u001b[0m                                                     **mergedefined(self.to_params(),\n\u001b[1;32m--> 829\u001b[1;33m                                                     kwargs))\n\u001b[0m\u001b[0;32m    830\u001b[0m \u001b[1;33m\u001b[0m\u001b[0m\n\u001b[0;32m    831\u001b[0m     \u001b[0mretrieve\u001b[0m \u001b[1;33m=\u001b[0m \u001b[0m__call__\u001b[0m\u001b[1;33m\u001b[0m\u001b[0m\n",
      "\u001b[1;32m/u/username/github/python-swat/swat/cas/connection.py\u001b[0m in \u001b[0;36mretrieve\u001b[1;34m(self, _name_, **kwargs)\u001b[0m\n\u001b[0;32m   1455\u001b[0m \u001b[1;33m\u001b[0m\u001b[0m\n\u001b[0;32m   1456\u001b[0m         results = self._get_results(getnext(self, datamsghandler=datamsghandler),\n\u001b[1;32m-> 1457\u001b[1;33m                                     responsefunc=responsefunc, resultfunc=resultfunc)\n\u001b[0m\u001b[0;32m   1458\u001b[0m \u001b[1;33m\u001b[0m\u001b[0m\n\u001b[0;32m   1459\u001b[0m         \u001b[1;31m# Return raw data if a function was supplied\u001b[0m\u001b[1;33m\u001b[0m\u001b[1;33m\u001b[0m\u001b[0m\n",
      "\u001b[1;32m/u/username/github/python-swat/swat/cas/connection.py\u001b[0m in \u001b[0;36m_get_results\u001b[1;34m(self, riter, responsefunc, resultfunc)\u001b[0m\n\u001b[0;32m   1568\u001b[0m                 \u001b[0merr\u001b[0m\u001b[1;33m.\u001b[0m\u001b[0mresults\u001b[0m \u001b[1;33m=\u001b[0m \u001b[0mresults\u001b[0m\u001b[1;33m\u001b[0m\u001b[0m\n\u001b[0;32m   1569\u001b[0m                 \u001b[0merr\u001b[0m\u001b[1;33m.\u001b[0m\u001b[0mevents\u001b[0m \u001b[1;33m=\u001b[0m \u001b[0mevents\u001b[0m\u001b[1;33m\u001b[0m\u001b[0m\n\u001b[1;32m-> 1570\u001b[1;33m             \u001b[1;32mraise\u001b[0m \u001b[0merr\u001b[0m\u001b[1;33m\u001b[0m\u001b[0m\n\u001b[0m\u001b[0;32m   1571\u001b[0m \u001b[1;33m\u001b[0m\u001b[0m\n\u001b[0;32m   1572\u001b[0m         \u001b[1;32mif\u001b[0m \u001b[0mresponsefunc\u001b[0m \u001b[1;32mis\u001b[0m \u001b[1;32mnot\u001b[0m \u001b[1;32mNone\u001b[0m\u001b[1;33m:\u001b[0m\u001b[1;33m\u001b[0m\u001b[0m\n",
      "\u001b[1;32m/u/username/github/python-swat/swat/cas/connection.py\u001b[0m in \u001b[0;36m_get_results\u001b[1;34m(self, riter, responsefunc, resultfunc)\u001b[0m\n\u001b[0;32m   1504\u001b[0m \u001b[1;33m\u001b[0m\u001b[0m\n\u001b[0;32m   1505\u001b[0m         \u001b[1;32mtry\u001b[0m\u001b[1;33m:\u001b[0m\u001b[1;33m\u001b[0m\u001b[0m\n\u001b[1;32m-> 1506\u001b[1;33m             \u001b[1;32mfor\u001b[0m \u001b[0mresponse\u001b[0m\u001b[1;33m,\u001b[0m \u001b[0mconn\u001b[0m \u001b[1;32min\u001b[0m \u001b[0mriter\u001b[0m\u001b[1;33m:\u001b[0m\u001b[1;33m\u001b[0m\u001b[0m\n\u001b[0m\u001b[0;32m   1507\u001b[0m \u001b[1;33m\u001b[0m\u001b[0m\n\u001b[0;32m   1508\u001b[0m                 \u001b[1;32mif\u001b[0m \u001b[0mresponsefunc\u001b[0m \u001b[1;32mis\u001b[0m \u001b[1;32mnot\u001b[0m \u001b[1;32mNone\u001b[0m\u001b[1;33m:\u001b[0m\u001b[1;33m\u001b[0m\u001b[0m\n",
      "\u001b[1;32m/u/username/github/python-swat/swat/cas/connection.py\u001b[0m in \u001b[0;36mgetnext\u001b[1;34m(*objs, **kwargs)\u001b[0m\n\u001b[0;32m   2930\u001b[0m                 \u001b[1;32myield\u001b[0m \u001b[1;33m[\u001b[0m\u001b[1;33m]\u001b[0m\u001b[1;33m,\u001b[0m \u001b[1;32mNone\u001b[0m\u001b[1;33m\u001b[0m\u001b[0m\n\u001b[0;32m   2931\u001b[0m \u001b[1;33m\u001b[0m\u001b[0m\n\u001b[1;32m-> 2932\u001b[1;33m             \u001b[1;32myield\u001b[0m \u001b[0mgetone\u001b[0m\u001b[1;33m(\u001b[0m\u001b[0mconnections\u001b[0m\u001b[1;33m[\u001b[0m\u001b[0mi\u001b[0m\u001b[1;33m]\u001b[0m\u001b[1;33m,\u001b[0m \u001b[0mdatamsghandler\u001b[0m\u001b[1;33m=\u001b[0m\u001b[0mdatamsghandler\u001b[0m\u001b[1;33m)\u001b[0m\u001b[1;33m\u001b[0m\u001b[0m\n\u001b[0m\u001b[0;32m   2933\u001b[0m \u001b[1;33m\u001b[0m\u001b[0m\n\u001b[0;32m   2934\u001b[0m     \u001b[1;32mexcept\u001b[0m \u001b[1;33m(\u001b[0m\u001b[0mKeyboardInterrupt\u001b[0m\u001b[1;33m,\u001b[0m \u001b[0mSystemExit\u001b[0m\u001b[1;33m)\u001b[0m\u001b[1;33m:\u001b[0m\u001b[1;33m\u001b[0m\u001b[0m\n",
      "\u001b[1;32m/u/username/github/python-swat/swat/cas/connection.py\u001b[0m in \u001b[0;36mgetone\u001b[1;34m(connection, datamsghandler)\u001b[0m\n\u001b[0;32m   2851\u001b[0m         \u001b[1;32mif\u001b[0m \u001b[0mexception_on_severity\u001b[0m \u001b[1;32mis\u001b[0m \u001b[1;32mnot\u001b[0m \u001b[1;32mNone\u001b[0m \u001b[1;32mand\u001b[0m\u001b[0;31m \u001b[0m\u001b[0;31m\\\u001b[0m\u001b[1;33m\u001b[0m\u001b[0m\n\u001b[0;32m   2852\u001b[0m                 \u001b[0moutput\u001b[0m\u001b[1;33m[\u001b[0m\u001b[1;36m0\u001b[0m\u001b[1;33m]\u001b[0m\u001b[1;33m.\u001b[0m\u001b[0mdisposition\u001b[0m\u001b[1;33m.\u001b[0m\u001b[0mseverity\u001b[0m \u001b[1;33m>=\u001b[0m \u001b[0mexception_on_severity\u001b[0m\u001b[1;33m:\u001b[0m\u001b[1;33m\u001b[0m\u001b[0m\n\u001b[1;32m-> 2853\u001b[1;33m             \u001b[1;32mraise\u001b[0m \u001b[0mSWATCASActionError\u001b[0m\u001b[1;33m(\u001b[0m\u001b[0moutput\u001b[0m\u001b[1;33m[\u001b[0m\u001b[1;36m0\u001b[0m\u001b[1;33m]\u001b[0m\u001b[1;33m.\u001b[0m\u001b[0mdisposition\u001b[0m\u001b[1;33m.\u001b[0m\u001b[0mstatus\u001b[0m\u001b[1;33m,\u001b[0m \u001b[0moutput\u001b[0m\u001b[1;33m[\u001b[0m\u001b[1;36m0\u001b[0m\u001b[1;33m]\u001b[0m\u001b[1;33m,\u001b[0m \u001b[0moutput\u001b[0m\u001b[1;33m[\u001b[0m\u001b[1;36m1\u001b[0m\u001b[1;33m]\u001b[0m\u001b[1;33m)\u001b[0m\u001b[1;33m\u001b[0m\u001b[0m\n\u001b[0m\u001b[0;32m   2854\u001b[0m \u001b[1;33m\u001b[0m\u001b[0m\n\u001b[0;32m   2855\u001b[0m     \u001b[1;32mreturn\u001b[0m \u001b[0moutput\u001b[0m\u001b[1;33m\u001b[0m\u001b[0m\n",
      "\u001b[1;31mSWATCASActionError\u001b[0m: A parameter was the wrong type and could not be converted."
     ]
    }
   ],
   "source": [
    "out = conn.summary(**params)"
   ]
  },
  {
   "cell_type": "markdown",
   "metadata": {},
   "source": [
    "Display the problem element of the parameters object."
   ]
  },
  {
   "cell_type": "code",
   "execution_count": 82,
   "metadata": {
    "collapsed": false
   },
   "outputs": [
    {
     "data": {
      "text/plain": [
       "3"
      ]
     },
     "execution_count": 82,
     "metadata": {},
     "output_type": "execute_result"
    }
   ],
   "source": [
    "params.table.groupby[2]"
   ]
  },
  {
   "cell_type": "markdown",
   "metadata": {},
   "source": [
    "## SWAT Options"
   ]
  },
  {
   "cell_type": "markdown",
   "metadata": {},
   "source": [
    "Display all available options."
   ]
  },
  {
   "cell_type": "code",
   "execution_count": 83,
   "metadata": {
    "collapsed": false
   },
   "outputs": [
    {
     "name": "stdout",
     "output_type": "stream",
     "text": [
      "cas.dataset.auto_castable : boolean\n",
      "    Should a column of CASTable objects be automatically\n",
      "    created if a CASLib and CAS table name are columns in the data?\n",
      "    NOTE: This applies to all except the 'tuples' format.\n",
      "    [default: True] [currently: True]\n",
      "\n",
      "\n",
      "cas.dataset.bygroup_as_index : boolean\n",
      "    If True, any by group columns are set as the DataFrame index.\n",
      "    [default: True] [currently: True]\n",
      "\n",
      "\n",
      "cas.dataset.bygroup_collision_suffix : string\n",
      "    Suffix to use on the By group column name when a By group column\n",
      "    is also included as a data column.\n",
      "    [default: _by] [currently: _by]\n",
      "\n",
      "\n",
      "cas.dataset.bygroup_columns : string\n",
      "    CAS returns by grouping information as metadata on a table.\n",
      "    This metadata can be used to construct columns in the output table.\n",
      "    The possible values of this option are:\n",
      "        none : Do not convert metadata to columns\n",
      "        raw  : Use the raw (i.e., unformatted) values\n",
      "        formatted : Use the formatted value.  This is the actual value\n",
      "                    used to do the grouping\n",
      "        both : Add columns for both raw and formatted\n",
      "    [default: formatted] [currently: formatted]\n",
      "\n",
      "\n",
      "cas.dataset.bygroup_formatted_suffix : string\n",
      "    Suffix to use on the formatted column name when both raw and\n",
      "    formatted by group colunms are added.\n",
      "    [default: _f] [currently: _f]\n",
      "\n",
      "\n",
      "cas.dataset.drop_index_name : boolean\n",
      "    If True, the name of the index is set to None.\n",
      "    [default: True] [currently: True]\n",
      "\n",
      "\n",
      "cas.dataset.format : string\n",
      "    Data structure for tabular data returned from CAS.  The following\n",
      "    formats are supported.\n",
      "    dataframe:sas : Pandas Dataframe extended with SAS metadata such as\n",
      "        SAS data formats, titles, labels, etc.\n",
      "    dataframe : Standard Pandas Dataframe\n",
      "    dict : Dictionary like {column => {index => value}}\n",
      "    dict:list : Dictionary like {column => [values]}\n",
      "    dict:series : Dictionary like {column => pandas.Series(values)\n",
      "    dict:split : Dictionary like {index => [index],\n",
      "                                  columns => [columns],\n",
      "                                  data => [values]}\n",
      "    dict:records : List like [{column => value}, ... ,\n",
      "                              {column => value}]\n",
      "    tuple : A tuple where each element is a tuple of the data values only.\n",
      "    [default: dataframe:sas] [currently: dataframe:sas]\n",
      "\n",
      "\n",
      "cas.dataset.index_adjustment : int\n",
      "    Adjustment to the index specified by cas.dataset.index.\n",
      "    This can be used to adjust SAS 1-based index data sets to\n",
      "    0-based Pandas DataFrames.\n",
      "    [default: -1] [currently: -1]\n",
      "\n",
      "\n",
      "cas.dataset.index_name : string or list of strings\n",
      "    The name or names of the columns to be automatically converted\n",
      "    to the index.\n",
      "    [default: _Index_] [currently: _Index_]\n",
      "\n",
      "\n",
      "cas.dataset.max_rows_fetched : int\n",
      "    The maximum number of rows to fetch with methods that use\n",
      "    the table.fetch action in the background (i.e. the head, tail,\n",
      "    values, etc. of CASTable).\n",
      "    [default: 3000] [currently: 3000]\n",
      "\n",
      "\n",
      "cas.exception_on_severity : int or None\n",
      "    Indicates the CAS action severity level at which an exception\n",
      "    should be raised.  None means that no exception should be raised.\n",
      "    1 would raise exceptions on warnings.  2 would raise exceptions\n",
      "    on errors.\n",
      "    [default: None] [currently: 2]\n",
      "\n",
      "\n",
      "cas.hostname : string\n",
      "    Specifies the hostname for the CAS server.\n",
      "    [default: server-name.mycompany.com] [currently: server-name.mycompany.com]\n",
      "\n",
      "\n",
      "cas.port : int\n",
      "    Sets the port number for the CAS server.\n",
      "    [default: 5570] [currently: 5570]\n",
      "\n",
      "\n",
      "cas.print_messages : boolean\n",
      "    Indicates whether or not CAS response messages should be printed.\n",
      "    [default: True] [currently: True]\n",
      "\n",
      "\n",
      "cas.protocol : string\n",
      "    Communication protocol for talking to CAS server.\n",
      "    The value of \"auto\" will try to auto-detect the type. Using \"http\" or \"https\" will use the REST interface.\n",
      "    [default: auto] [currently: auto]\n",
      "\n",
      "\n",
      "cas.trace_actions : boolean\n",
      "    Indicates whether or not CAS action names and parameters should\n",
      "    be printed.  This can be helpful in debugging incorrect action\n",
      "    parameters.\n",
      "    [default: False] [currently: True]\n",
      "\n",
      "\n",
      "cas.trace_ui_actions : boolean\n",
      "    Indicates whether or not CAS action names and parameters from\n",
      "    actions invoked by the interface itself. should be printed.\n",
      "    This option is only honored if cas.trace_actions is also enabled.\n",
      "    [default: False] [currently: False]\n",
      "\n",
      "\n",
      "encoding_errors : string\n",
      "    Specifies the error handler for encoding and decoding errors in\n",
      "    handling strings.  Possible values are given in the Python\n",
      "    documentation.  Typical values are strict, ignore, replace, or\n",
      "    xmlcharrefreplace.\n",
      "    [default: strict] [currently: strict]\n",
      "\n",
      "\n",
      "interactive_mode : boolean\n",
      "    Indicates whether all interactive mode features should be enabled.\n",
      "    Interactive features include things like generating formatted help\n",
      "    strings for objects automatically generated from information from\n",
      "    the server.  This may give a performance improvement in batch jobs\n",
      "    that don't need interactive features.\n",
      "    [default: True] [currently: True]\n",
      "\n",
      "\n",
      "tkpath : string\n",
      "    Displays the path for SAS TK components.  This is determined\n",
      "    when SWAT is imported.  By default, it points to the platform\n",
      "    directory under the swat.lib module.  It can be overridden by\n",
      "    setting a TKPATH environment variable.\n",
      "    [default: None] [currently: None]\n",
      "\n",
      "\n"
     ]
    }
   ],
   "source": [
    "swat.describe_option()"
   ]
  },
  {
   "cell_type": "markdown",
   "metadata": {},
   "source": [
    "Display help for a particular option."
   ]
  },
  {
   "cell_type": "code",
   "execution_count": 84,
   "metadata": {
    "collapsed": false
   },
   "outputs": [
    {
     "name": "stdout",
     "output_type": "stream",
     "text": [
      "cas.exception_on_severity : int or None\n",
      "    Indicates the CAS action severity level at which an exception\n",
      "    should be raised.  None means that no exception should be raised.\n",
      "    1 would raise exceptions on warnings.  2 would raise exceptions\n",
      "    on errors.\n",
      "    [default: None] [currently: 2]\n",
      "\n",
      "\n"
     ]
    }
   ],
   "source": [
    "swat.describe_option('cas.exception_on_severity')"
   ]
  },
  {
   "cell_type": "markdown",
   "metadata": {},
   "source": [
    "Get the value for a specific option."
   ]
  },
  {
   "cell_type": "code",
   "execution_count": 85,
   "metadata": {
    "collapsed": false
   },
   "outputs": [
    {
     "data": {
      "text/plain": [
       "2"
      ]
     },
     "execution_count": 85,
     "metadata": {},
     "output_type": "execute_result"
    }
   ],
   "source": [
    "swat.get_option('cas.exception_on_severity')"
   ]
  },
  {
   "cell_type": "markdown",
   "metadata": {},
   "source": [
    "Set an option using the **set_option** function."
   ]
  },
  {
   "cell_type": "code",
   "execution_count": null,
   "metadata": {
    "collapsed": true
   },
   "outputs": [],
   "source": [
    "swat.set_option('cas.exception_on_severity', 2)"
   ]
  },
  {
   "cell_type": "markdown",
   "metadata": {},
   "source": [
    "Set an option using keyword paramters of the **set_option** function.  This assumes \n",
    "that the last component of the option (e.g., `exception_on_severity`) is unique among\n",
    "all options."
   ]
  },
  {
   "cell_type": "code",
   "execution_count": 87,
   "metadata": {
    "collapsed": true
   },
   "outputs": [],
   "source": [
    "swat.set_option(exception_on_severity=2)"
   ]
  },
  {
   "cell_type": "markdown",
   "metadata": {},
   "source": [
    "Set multiple options using either consecutive key / value pairs or keyword parameters."
   ]
  },
  {
   "cell_type": "code",
   "execution_count": 88,
   "metadata": {
    "collapsed": true
   },
   "outputs": [],
   "source": [
    "swat.set_option('cas.dataset.index_name', 'Variable', \n",
    "                'cas.dataset.format', 'dataframe',\n",
    "                exception_on_severity=2,     \n",
    "                print_messages=False)"
   ]
  },
  {
   "cell_type": "markdown",
   "metadata": {},
   "source": [
    "Reset an option to its default value."
   ]
  },
  {
   "cell_type": "code",
   "execution_count": 90,
   "metadata": {
    "collapsed": true
   },
   "outputs": [],
   "source": [
    "swat.reset_option('cas.exception_on_severity')"
   ]
  },
  {
   "cell_type": "code",
   "execution_count": 92,
   "metadata": {
    "collapsed": false
   },
   "outputs": [
    {
     "name": "stdout",
     "output_type": "stream",
     "text": [
      "None\n"
     ]
    }
   ],
   "source": [
    "print(swat.get_option('cas.exception_on_severity'))"
   ]
  },
  {
   "cell_type": "markdown",
   "metadata": {},
   "source": [
    "Python's context managers can be used to scope option settings."
   ]
  },
  {
   "cell_type": "code",
   "execution_count": 95,
   "metadata": {
    "collapsed": false
   },
   "outputs": [
    {
     "data": {
      "text/plain": [
       "False"
      ]
     },
     "execution_count": 95,
     "metadata": {},
     "output_type": "execute_result"
    }
   ],
   "source": [
    "swat.reset_option('cas.trace_actions')\n",
    "swat.get_option('cas.trace_actions')"
   ]
  },
  {
   "cell_type": "code",
   "execution_count": 96,
   "metadata": {
    "collapsed": false
   },
   "outputs": [
    {
     "name": "stdout",
     "output_type": "stream",
     "text": [
      "True\n"
     ]
    }
   ],
   "source": [
    "with swat.option_context('cas.trace_actions', True):\n",
    "    print(swat.get_option('cas.trace_actions'))"
   ]
  },
  {
   "cell_type": "code",
   "execution_count": 97,
   "metadata": {
    "collapsed": false
   },
   "outputs": [
    {
     "data": {
      "text/plain": [
       "False"
      ]
     },
     "execution_count": 97,
     "metadata": {},
     "output_type": "execute_result"
    }
   ],
   "source": [
    "swat.get_option('cas.trace_actions')"
   ]
  },
  {
   "cell_type": "markdown",
   "metadata": {},
   "source": [
    "### Partial Option Name Matches\n",
    "\n",
    "Options can be given as partial names as well, as long as they are unique.  The following are all equivalent."
   ]
  },
  {
   "cell_type": "code",
   "execution_count": 101,
   "metadata": {
    "collapsed": true
   },
   "outputs": [],
   "source": [
    "swat.set_option('cas.dataset.max_rows_fetched', 500)"
   ]
  },
  {
   "cell_type": "code",
   "execution_count": 99,
   "metadata": {
    "collapsed": true
   },
   "outputs": [],
   "source": [
    "swat.set_option('dataset.max_rows_fetched', 500)"
   ]
  },
  {
   "cell_type": "code",
   "execution_count": 100,
   "metadata": {
    "collapsed": true
   },
   "outputs": [],
   "source": [
    "swat.set_option('max_rows_fetched', 500)"
   ]
  },
  {
   "cell_type": "markdown",
   "metadata": {},
   "source": [
    "The **describe_option** function can be used to help for multiple options with the same prefix."
   ]
  },
  {
   "cell_type": "code",
   "execution_count": 102,
   "metadata": {
    "collapsed": false
   },
   "outputs": [
    {
     "name": "stdout",
     "output_type": "stream",
     "text": [
      "cas.dataset.max_rows_fetched : int\n",
      "    The maximum number of rows to fetch with methods that use\n",
      "    the table.fetch action in the background (i.e. the head, tail,\n",
      "    values, etc. of CASTable).\n",
      "    [default: 3000] [currently: 500]\n",
      "\n",
      "\n",
      "cas.dataset.drop_index_name : boolean\n",
      "    If True, the name of the index is set to None.\n",
      "    [default: True] [currently: True]\n",
      "\n",
      "\n",
      "cas.dataset.index_adjustment : int\n",
      "    Adjustment to the index specified by cas.dataset.index.\n",
      "    This can be used to adjust SAS 1-based index data sets to\n",
      "    0-based Pandas DataFrames.\n",
      "    [default: -1] [currently: -1]\n",
      "\n",
      "\n",
      "cas.dataset.bygroup_as_index : boolean\n",
      "    If True, any by group columns are set as the DataFrame index.\n",
      "    [default: True] [currently: True]\n",
      "\n",
      "\n",
      "cas.dataset.bygroup_columns : string\n",
      "    CAS returns by grouping information as metadata on a table.\n",
      "    This metadata can be used to construct columns in the output table.\n",
      "    The possible values of this option are:\n",
      "        none : Do not convert metadata to columns\n",
      "        raw  : Use the raw (i.e., unformatted) values\n",
      "        formatted : Use the formatted value.  This is the actual value\n",
      "                    used to do the grouping\n",
      "        both : Add columns for both raw and formatted\n",
      "    [default: formatted] [currently: formatted]\n",
      "\n",
      "\n",
      "cas.dataset.format : string\n",
      "    Data structure for tabular data returned from CAS.  The following\n",
      "    formats are supported.\n",
      "    dataframe:sas : Pandas Dataframe extended with SAS metadata such as\n",
      "        SAS data formats, titles, labels, etc.\n",
      "    dataframe : Standard Pandas Dataframe\n",
      "    dict : Dictionary like {column => {index => value}}\n",
      "    dict:list : Dictionary like {column => [values]}\n",
      "    dict:series : Dictionary like {column => pandas.Series(values)\n",
      "    dict:split : Dictionary like {index => [index],\n",
      "                                  columns => [columns],\n",
      "                                  data => [values]}\n",
      "    dict:records : List like [{column => value}, ... ,\n",
      "                              {column => value}]\n",
      "    tuple : A tuple where each element is a tuple of the data values only.\n",
      "    [default: dataframe:sas] [currently: dataframe]\n",
      "\n",
      "\n",
      "cas.dataset.auto_castable : boolean\n",
      "    Should a column of CASTable objects be automatically\n",
      "    created if a CASLib and CAS table name are columns in the data?\n",
      "    NOTE: This applies to all except the 'tuples' format.\n",
      "    [default: True] [currently: True]\n",
      "\n",
      "\n",
      "cas.dataset.bygroup_formatted_suffix : string\n",
      "    Suffix to use on the formatted column name when both raw and\n",
      "    formatted by group colunms are added.\n",
      "    [default: _f] [currently: _f]\n",
      "\n",
      "\n",
      "cas.dataset.bygroup_collision_suffix : string\n",
      "    Suffix to use on the By group column name when a By group column\n",
      "    is also included as a data column.\n",
      "    [default: _by] [currently: _by]\n",
      "\n",
      "\n",
      "cas.dataset.index_name : string or list of strings\n",
      "    The name or names of the columns to be automatically converted\n",
      "    to the index.\n",
      "    [default: _Index_] [currently: Variable]\n",
      "\n",
      "\n"
     ]
    }
   ],
   "source": [
    "swat.describe_option('cas.dataset')"
   ]
  },
  {
   "cell_type": "markdown",
   "metadata": {},
   "source": [
    "### The swat.options Object\n",
    "\n",
    "Options can also be set using an object interface.  This is very much like the options object in Pandas."
   ]
  },
  {
   "cell_type": "markdown",
   "metadata": {},
   "source": [
    "You can use IPython's **?** operator to get help for options much like **describe_option**."
   ]
  },
  {
   "cell_type": "code",
   "execution_count": 103,
   "metadata": {
    "collapsed": true
   },
   "outputs": [],
   "source": [
    "swat.options?"
   ]
  },
  {
   "cell_type": "markdown",
   "metadata": {},
   "source": [
    "You can use tab-completion to complete option names interactively."
   ]
  },
  {
   "cell_type": "code",
   "execution_count": null,
   "metadata": {
    "collapsed": true
   },
   "outputs": [],
   "source": [
    "swat.options."
   ]
  },
  {
   "cell_type": "markdown",
   "metadata": {},
   "source": [
    "You can retrieve option value names by accessing the option object."
   ]
  },
  {
   "cell_type": "code",
   "execution_count": 105,
   "metadata": {
    "collapsed": false
   },
   "outputs": [
    {
     "data": {
      "text/plain": [
       "False"
      ]
     },
     "execution_count": 105,
     "metadata": {},
     "output_type": "execute_result"
    }
   ],
   "source": [
    "swat.options.cas.trace_actions"
   ]
  },
  {
   "cell_type": "markdown",
   "metadata": {},
   "source": [
    "Setting of options can also be done in the object syntax."
   ]
  },
  {
   "cell_type": "code",
   "execution_count": 106,
   "metadata": {
    "collapsed": true
   },
   "outputs": [],
   "source": [
    "swat.options.cas.trace_actions = True"
   ]
  },
  {
   "cell_type": "markdown",
   "metadata": {},
   "source": [
    "Partial name matches also work."
   ]
  },
  {
   "cell_type": "code",
   "execution_count": 107,
   "metadata": {
    "collapsed": true
   },
   "outputs": [],
   "source": [
    "swat.options.trace_actions = False"
   ]
  },
  {
   "cell_type": "markdown",
   "metadata": {},
   "source": [
    "Finally, you can use the options object as a context manager to scope options."
   ]
  },
  {
   "cell_type": "code",
   "execution_count": 108,
   "metadata": {
    "collapsed": false
   },
   "outputs": [
    {
     "name": "stdout",
     "output_type": "stream",
     "text": [
      "[builtins.help]\n",
      "   action = \"loadactionset\" (string)\n",
      "\n"
     ]
    }
   ],
   "source": [
    "with swat.options(trace_actions=True):\n",
    "    out = conn.help(action='loadactionset')"
   ]
  },
  {
   "cell_type": "markdown",
   "metadata": {},
   "source": [
    "## CAS Session Options\n",
    "\n",
    "In addition to SWAT options, the CAS session on the server also supports various options.  To list the possible options, you use the **setsessopt** action."
   ]
  },
  {
   "cell_type": "code",
   "execution_count": 109,
   "metadata": {
    "collapsed": true
   },
   "outputs": [],
   "source": [
    "conn.setsessopt?"
   ]
  },
  {
   "cell_type": "markdown",
   "metadata": {},
   "source": [
    "To get the value of session options, you use the **getsessopt** action."
   ]
  },
  {
   "cell_type": "code",
   "execution_count": 110,
   "metadata": {
    "collapsed": false
   },
   "outputs": [
    {
     "data": {
      "text/html": [
       "<div class=\"cas-results-key\"><b>&#167; metrics</b></div>\n",
       "<div class=\"cas-results-body\">\n",
       "<div>0</div>\n",
       "</div>\n",
       "<div class=\"cas-output-area\"></div>\n",
       "<p class=\"cas-results-performance\"><small><span class=\"cas-elapsed\">elapsed 0.000274s</span> &#183; <span class=\"cas-memory\">mem 0.0477MB</span></small></p>"
      ],
      "text/plain": [
       "CASResults([('metrics', 0)])"
      ]
     },
     "execution_count": 110,
     "metadata": {},
     "output_type": "execute_result"
    }
   ],
   "source": [
    "out = conn.getsessopt('metrics')\n",
    "out"
   ]
  },
  {
   "cell_type": "markdown",
   "metadata": {},
   "source": [
    "The value of the option is under the option key name."
   ]
  },
  {
   "cell_type": "code",
   "execution_count": 111,
   "metadata": {
    "collapsed": false
   },
   "outputs": [
    {
     "data": {
      "text/plain": [
       "0"
      ]
     },
     "execution_count": 111,
     "metadata": {},
     "output_type": "execute_result"
    }
   ],
   "source": [
    "out.metrics"
   ]
  },
  {
   "cell_type": "markdown",
   "metadata": {},
   "source": [
    "The **setsessopt** allows you to set one or more session options at once."
   ]
  },
  {
   "cell_type": "code",
   "execution_count": 112,
   "metadata": {
    "collapsed": false
   },
   "outputs": [
    {
     "data": {
      "text/html": [
       "<div class=\"cas-output-area\"></div>\n",
       "<p class=\"cas-results-performance\"><small><span class=\"cas-elapsed\">elapsed 0.000337s</span> &#183; <span class=\"cas-memory\">mem 0.0976MB</span></small></p>"
      ],
      "text/plain": [
       "CASResults()"
      ]
     },
     "execution_count": 112,
     "metadata": {},
     "output_type": "execute_result"
    }
   ],
   "source": [
    "conn.setsessopt(metrics=True, collate='MVA')"
   ]
  },
  {
   "cell_type": "code",
   "execution_count": 113,
   "metadata": {
    "collapsed": false
   },
   "outputs": [
    {
     "data": {
      "text/plain": [
       "'MVA'"
      ]
     },
     "execution_count": 113,
     "metadata": {},
     "output_type": "execute_result"
    }
   ],
   "source": [
    "conn.getsessopt('collate').collate"
   ]
  },
  {
   "cell_type": "markdown",
   "metadata": {},
   "source": [
    "# Close the Connection"
   ]
  },
  {
   "cell_type": "code",
   "execution_count": null,
   "metadata": {
    "collapsed": true
   },
   "outputs": [],
   "source": [
    "conn.close"
   ]
  }
 ],
 "metadata": {
  "kernelspec": {
   "display_name": "Python 3",
   "language": "python",
   "name": "python3"
  },
  "language_info": {
   "codemirror_mode": {
    "name": "ipython",
    "version": 3
   },
   "file_extension": ".py",
   "mimetype": "text/x-python",
   "name": "python",
   "nbconvert_exporter": "python",
   "pygments_lexer": "ipython3",
   "version": "3.4.5"
  }
 },
 "nbformat": 4,
 "nbformat_minor": 0
}
