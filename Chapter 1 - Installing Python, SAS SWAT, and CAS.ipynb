{
 "cells": [
  {
   "cell_type": "markdown",
   "metadata": {},
   "source": [
    "# Chapter 1 - Installing Python, SAS SWAT, and CAS\n",
    "\n",
    "After installing Python (we recommend \n",
    "[the Anaconda distribution from Continuum.io](https://www.continuum.io/downloads)),\n",
    "you can get the most recent version of SAS SWAT (Scripting Wrapper for Analytics Transfer)\n",
    "from GitHub at https://github.com/sassoftware/python-swat/releases.  Simply run \n",
    "`pip install <URL>` on the appropriate installer for your platform, or use the source\n",
    "code tar.gz if your platform isn't supported.  In the latter case, you will need to\n",
    "use the REST interface of CAS.  \n",
    "\n",
    "Once you have that installed and you have a CAS\n",
    "server available, you can make your first connection."
   ]
  },
  {
   "cell_type": "markdown",
   "metadata": {},
   "source": [
    "## Making Your First Connection"
   ]
  },
  {
   "cell_type": "code",
   "execution_count": null,
   "metadata": {
    "collapsed": true
   },
   "outputs": [],
   "source": [
    "import swat\n",
    "\n",
    "conn = swat.CAS('server-name.mycompany.com', port-number, 'userid', 'password')"
   ]
  },
  {
   "cell_type": "code",
   "execution_count": null,
   "metadata": {
    "collapsed": true
   },
   "outputs": [],
   "source": [
    "conn.serverstatus()"
   ]
  },
  {
   "cell_type": "code",
   "execution_count": null,
   "metadata": {
    "collapsed": true
   },
   "outputs": [],
   "source": [
    "conn.close()"
   ]
  }
 ],
 "metadata": {
  "kernelspec": {
   "display_name": "Python 3",
   "language": "python",
   "name": "python3"
  },
  "language_info": {
   "codemirror_mode": {
    "name": "ipython",
    "version": 3
   },
   "file_extension": ".py",
   "mimetype": "text/x-python",
   "name": "python",
   "nbconvert_exporter": "python",
   "pygments_lexer": "ipython3",
   "version": "3.4.5"
  }
 },
 "nbformat": 4,
 "nbformat_minor": 0
}
