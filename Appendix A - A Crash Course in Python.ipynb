{
 "cells": [
  {
   "cell_type": "markdown",
   "metadata": {},
   "source": [
    "# Appendix A - A Crash Course in Python"
   ]
  },
  {
   "cell_type": "markdown",
   "metadata": {},
   "source": [
    "## IPython and Jupyter"
   ]
  },
  {
   "cell_type": "markdown",
   "metadata": {},
   "source": [
    "Basic notebook operations."
   ]
  },
  {
   "cell_type": "code",
   "execution_count": 1,
   "metadata": {
    "collapsed": true
   },
   "outputs": [],
   "source": [
    "a = 'hello'"
   ]
  },
  {
   "cell_type": "code",
   "execution_count": 2,
   "metadata": {
    "collapsed": true
   },
   "outputs": [],
   "source": [
    "b = 'world'"
   ]
  },
  {
   "cell_type": "code",
   "execution_count": 3,
   "metadata": {
    "collapsed": false
   },
   "outputs": [
    {
     "data": {
      "text/plain": [
       "'hello world'"
      ]
     },
     "execution_count": 3,
     "metadata": {},
     "output_type": "execute_result"
    }
   ],
   "source": [
    "a + ' ' + b"
   ]
  },
  {
   "cell_type": "markdown",
   "metadata": {},
   "source": [
    "Referencing output from previous cells."
   ]
  },
  {
   "cell_type": "code",
   "execution_count": 4,
   "metadata": {
    "collapsed": false
   },
   "outputs": [
    {
     "data": {
      "text/plain": [
       "'hello world'"
      ]
     },
     "execution_count": 4,
     "metadata": {},
     "output_type": "execute_result"
    }
   ],
   "source": [
    "Out[3]"
   ]
  },
  {
   "cell_type": "markdown",
   "metadata": {},
   "source": [
    "Referencing input from previous cells."
   ]
  },
  {
   "cell_type": "code",
   "execution_count": null,
   "metadata": {
    "collapsed": true
   },
   "outputs": [],
   "source": [
    "In[3]"
   ]
  },
  {
   "cell_type": "code",
   "execution_count": 6,
   "metadata": {
    "collapsed": false
   },
   "outputs": [
    {
     "data": {
      "text/plain": [
       "'hello'"
      ]
     },
     "execution_count": 6,
     "metadata": {},
     "output_type": "execute_result"
    }
   ],
   "source": [
    "a"
   ]
  },
  {
   "cell_type": "markdown",
   "metadata": {},
   "source": [
    "# Data Types and Collections"
   ]
  },
  {
   "cell_type": "markdown",
   "metadata": {},
   "source": [
    "## Numeric Data Types"
   ]
  },
  {
   "cell_type": "code",
   "execution_count": 7,
   "metadata": {
    "collapsed": false
   },
   "outputs": [
    {
     "data": {
      "text/plain": [
       "int"
      ]
     },
     "execution_count": 7,
     "metadata": {},
     "output_type": "execute_result"
    }
   ],
   "source": [
    "type(100)"
   ]
  },
  {
   "cell_type": "code",
   "execution_count": 8,
   "metadata": {
    "collapsed": false
   },
   "outputs": [
    {
     "data": {
      "text/plain": [
       "float"
      ]
     },
     "execution_count": 8,
     "metadata": {},
     "output_type": "execute_result"
    }
   ],
   "source": [
    "type(1.0)"
   ]
  },
  {
   "cell_type": "markdown",
   "metadata": {},
   "source": [
    "Alternative numeric types."
   ]
  },
  {
   "cell_type": "code",
   "execution_count": 9,
   "metadata": {
    "collapsed": true
   },
   "outputs": [],
   "source": [
    "import pandas as pd"
   ]
  },
  {
   "cell_type": "code",
   "execution_count": 10,
   "metadata": {
    "collapsed": true
   },
   "outputs": [],
   "source": [
    "ser = pd.Series([100, 200])"
   ]
  },
  {
   "cell_type": "code",
   "execution_count": 11,
   "metadata": {
    "collapsed": false
   },
   "outputs": [
    {
     "data": {
      "text/plain": [
       "numpy.int64"
      ]
     },
     "execution_count": 11,
     "metadata": {},
     "output_type": "execute_result"
    }
   ],
   "source": [
    "type(ser[0])"
   ]
  },
  {
   "cell_type": "code",
   "execution_count": 12,
   "metadata": {
    "collapsed": false
   },
   "outputs": [
    {
     "data": {
      "text/plain": [
       "1100"
      ]
     },
     "execution_count": 12,
     "metadata": {},
     "output_type": "execute_result"
    }
   ],
   "source": [
    "ser[0] + 1000"
   ]
  },
  {
   "cell_type": "markdown",
   "metadata": {},
   "source": [
    "## Character Data Types"
   ]
  },
  {
   "cell_type": "code",
   "execution_count": 13,
   "metadata": {
    "collapsed": false
   },
   "outputs": [
    {
     "data": {
      "text/plain": [
       "str"
      ]
     },
     "execution_count": 13,
     "metadata": {},
     "output_type": "execute_result"
    }
   ],
   "source": [
    "type('hello')"
   ]
  },
  {
   "cell_type": "code",
   "execution_count": 14,
   "metadata": {
    "collapsed": false
   },
   "outputs": [
    {
     "data": {
      "text/plain": [
       "str"
      ]
     },
     "execution_count": 14,
     "metadata": {},
     "output_type": "execute_result"
    }
   ],
   "source": [
    "type(u'hello')"
   ]
  },
  {
   "cell_type": "code",
   "execution_count": 15,
   "metadata": {
    "collapsed": false
   },
   "outputs": [
    {
     "data": {
      "text/plain": [
       "bytes"
      ]
     },
     "execution_count": 15,
     "metadata": {},
     "output_type": "execute_result"
    }
   ],
   "source": [
    "type(b'hello')"
   ]
  },
  {
   "cell_type": "code",
   "execution_count": 16,
   "metadata": {
    "collapsed": false
   },
   "outputs": [
    {
     "ename": "TypeError",
     "evalue": "Can't convert 'bytes' object to str implicitly",
     "output_type": "error",
     "traceback": [
      "\u001b[1;31m---------------------------------------------------------------------------\u001b[0m",
      "\u001b[1;31mTypeError\u001b[0m                                 Traceback (most recent call last)",
      "\u001b[1;32m<ipython-input-16-87055824beb7>\u001b[0m in \u001b[0;36m<module>\u001b[1;34m()\u001b[0m\n\u001b[1;32m----> 1\u001b[1;33m \u001b[1;34mu'hello'\u001b[0m \u001b[1;33m+\u001b[0m \u001b[1;34mb'world'\u001b[0m\u001b[1;33m\u001b[0m\u001b[0m\n\u001b[0m",
      "\u001b[1;31mTypeError\u001b[0m: Can't convert 'bytes' object to str implicitly"
     ]
    }
   ],
   "source": [
    "u'hello' + b' world'"
   ]
  },
  {
   "cell_type": "code",
   "execution_count": 18,
   "metadata": {
    "collapsed": false
   },
   "outputs": [
    {
     "data": {
      "text/plain": [
       "'helloworld'"
      ]
     },
     "execution_count": 18,
     "metadata": {},
     "output_type": "execute_result"
    }
   ],
   "source": [
    "u'hello' + b' world'.decode('utf-8')"
   ]
  },
  {
   "cell_type": "markdown",
   "metadata": {},
   "source": [
    "## Booleans"
   ]
  },
  {
   "cell_type": "code",
   "execution_count": 19,
   "metadata": {
    "collapsed": false
   },
   "outputs": [
    {
     "data": {
      "text/plain": [
       "True"
      ]
     },
     "execution_count": 19,
     "metadata": {},
     "output_type": "execute_result"
    }
   ],
   "source": [
    "True"
   ]
  },
  {
   "cell_type": "code",
   "execution_count": 20,
   "metadata": {
    "collapsed": false
   },
   "outputs": [
    {
     "data": {
      "text/plain": [
       "False"
      ]
     },
     "execution_count": 20,
     "metadata": {},
     "output_type": "execute_result"
    }
   ],
   "source": [
    "False"
   ]
  },
  {
   "cell_type": "markdown",
   "metadata": {},
   "source": [
    "## Lists and Tuples"
   ]
  },
  {
   "cell_type": "code",
   "execution_count": 21,
   "metadata": {
    "collapsed": false
   },
   "outputs": [
    {
     "data": {
      "text/plain": [
       "['a', 'b', 'c', 100]"
      ]
     },
     "execution_count": 21,
     "metadata": {},
     "output_type": "execute_result"
    }
   ],
   "source": [
    "items = ['a', 'b', 'c', 100]\n",
    "items"
   ]
  },
  {
   "cell_type": "code",
   "execution_count": 22,
   "metadata": {
    "collapsed": false
   },
   "outputs": [
    {
     "data": {
      "text/plain": [
       "'a'"
      ]
     },
     "execution_count": 22,
     "metadata": {},
     "output_type": "execute_result"
    }
   ],
   "source": [
    "items[0]"
   ]
  },
  {
   "cell_type": "code",
   "execution_count": 23,
   "metadata": {
    "collapsed": false
   },
   "outputs": [
    {
     "data": {
      "text/plain": [
       "'c'"
      ]
     },
     "execution_count": 23,
     "metadata": {},
     "output_type": "execute_result"
    }
   ],
   "source": [
    "items[2]"
   ]
  },
  {
   "cell_type": "markdown",
   "metadata": {},
   "source": [
    "Indexing from the end rather than the beginning."
   ]
  },
  {
   "cell_type": "code",
   "execution_count": 24,
   "metadata": {
    "collapsed": false
   },
   "outputs": [
    {
     "data": {
      "text/plain": [
       "100"
      ]
     },
     "execution_count": 24,
     "metadata": {},
     "output_type": "execute_result"
    }
   ],
   "source": [
    "items[-1]"
   ]
  },
  {
   "cell_type": "code",
   "execution_count": 25,
   "metadata": {
    "collapsed": false
   },
   "outputs": [
    {
     "data": {
      "text/plain": [
       "'b'"
      ]
     },
     "execution_count": 25,
     "metadata": {},
     "output_type": "execute_result"
    }
   ],
   "source": [
    "items[-3]"
   ]
  },
  {
   "cell_type": "markdown",
   "metadata": {},
   "source": [
    "### Slicing"
   ]
  },
  {
   "cell_type": "code",
   "execution_count": 26,
   "metadata": {
    "collapsed": false
   },
   "outputs": [
    {
     "data": {
      "text/plain": [
       "['b', 'c']"
      ]
     },
     "execution_count": 26,
     "metadata": {},
     "output_type": "execute_result"
    }
   ],
   "source": [
    "items[1:3]"
   ]
  },
  {
   "cell_type": "code",
   "execution_count": 27,
   "metadata": {
    "collapsed": false
   },
   "outputs": [
    {
     "data": {
      "text/plain": [
       "['a', 'c']"
      ]
     },
     "execution_count": 27,
     "metadata": {},
     "output_type": "execute_result"
    }
   ],
   "source": [
    "items[::2]"
   ]
  },
  {
   "cell_type": "code",
   "execution_count": 28,
   "metadata": {
    "collapsed": false
   },
   "outputs": [
    {
     "data": {
      "text/plain": [
       "['b', 100]"
      ]
     },
     "execution_count": 28,
     "metadata": {},
     "output_type": "execute_result"
    }
   ],
   "source": [
    "items[1::2]"
   ]
  },
  {
   "cell_type": "markdown",
   "metadata": {},
   "source": [
    "### Tuples"
   ]
  },
  {
   "cell_type": "code",
   "execution_count": 29,
   "metadata": {
    "collapsed": false
   },
   "outputs": [
    {
     "data": {
      "text/plain": [
       "('a', 'b', 'c', 100)"
      ]
     },
     "execution_count": 29,
     "metadata": {},
     "output_type": "execute_result"
    }
   ],
   "source": [
    "items = ('a', 'b', 'c', 100)\n",
    "items"
   ]
  },
  {
   "cell_type": "markdown",
   "metadata": {},
   "source": [
    "### Dictionaries and Sets"
   ]
  },
  {
   "cell_type": "code",
   "execution_count": 31,
   "metadata": {
    "collapsed": false
   },
   "outputs": [
    {
     "data": {
      "text/plain": [
       "{'key1': 100, 'key2': 200, 'key3': 400}"
      ]
     },
     "execution_count": 31,
     "metadata": {},
     "output_type": "execute_result"
    }
   ],
   "source": [
    "pairs = {'key1': 100, 'key2': 200, 'key3': 400}\n",
    "pairs"
   ]
  },
  {
   "cell_type": "code",
   "execution_count": 32,
   "metadata": {
    "collapsed": false
   },
   "outputs": [
    {
     "data": {
      "text/plain": [
       "{'key1': 100, 'key2': 200, 'key3': 400}"
      ]
     },
     "execution_count": 32,
     "metadata": {},
     "output_type": "execute_result"
    }
   ],
   "source": [
    "pairs = dict(key1=100, key2=200, key3=400)\n",
    "pairs"
   ]
  },
  {
   "cell_type": "code",
   "execution_count": 33,
   "metadata": {
    "collapsed": false
   },
   "outputs": [
    {
     "data": {
      "text/plain": [
       "{'key1': 100, 'key2': 200, 'key3': 400, 'key4': 1000, 'key5': 2000}"
      ]
     },
     "execution_count": 33,
     "metadata": {},
     "output_type": "execute_result"
    }
   ],
   "source": [
    "pairs['key4'] = 1000\n",
    "pairs['key5'] = 2000\n",
    "pairs"
   ]
  },
  {
   "cell_type": "code",
   "execution_count": 34,
   "metadata": {
    "collapsed": false
   },
   "outputs": [
    {
     "data": {
      "text/plain": [
       "1000"
      ]
     },
     "execution_count": 34,
     "metadata": {},
     "output_type": "execute_result"
    }
   ],
   "source": [
    "pairs['key4']"
   ]
  },
  {
   "cell_type": "code",
   "execution_count": 35,
   "metadata": {
    "collapsed": false
   },
   "outputs": [
    {
     "data": {
      "text/plain": [
       "dict_keys(['key5', 'key2', 'key1', 'key4', 'key3'])"
      ]
     },
     "execution_count": 35,
     "metadata": {},
     "output_type": "execute_result"
    }
   ],
   "source": [
    "pairs.keys()"
   ]
  },
  {
   "cell_type": "code",
   "execution_count": 36,
   "metadata": {
    "collapsed": false
   },
   "outputs": [
    {
     "data": {
      "text/plain": [
       "dict_values([2000, 200, 100, 1000, 400])"
      ]
     },
     "execution_count": 36,
     "metadata": {},
     "output_type": "execute_result"
    }
   ],
   "source": [
    "pairs.values()"
   ]
  },
  {
   "cell_type": "markdown",
   "metadata": {},
   "source": [
    "### Sets"
   ]
  },
  {
   "cell_type": "code",
   "execution_count": 38,
   "metadata": {
    "collapsed": false
   },
   "outputs": [
    {
     "data": {
      "text/plain": [
       "{100, 200, 400, 1000, 2000}"
      ]
     },
     "execution_count": 38,
     "metadata": {},
     "output_type": "execute_result"
    }
   ],
   "source": [
    "items = {100, 200, 400, 2000, 1000}\n",
    "items"
   ]
  },
  {
   "cell_type": "code",
   "execution_count": 39,
   "metadata": {
    "collapsed": false
   },
   "outputs": [
    {
     "data": {
      "text/plain": [
       "{'key1', 'key2', 'key3'}"
      ]
     },
     "execution_count": 39,
     "metadata": {},
     "output_type": "execute_result"
    }
   ],
   "source": [
    "items = set(['key1', 'key2', 'key3'])\n",
    "items"
   ]
  },
  {
   "cell_type": "code",
   "execution_count": 41,
   "metadata": {
    "collapsed": false
   },
   "outputs": [
    {
     "data": {
      "text/plain": [
       "{'key1', 'key2', 'key3', 'key4', 'key5'}"
      ]
     },
     "execution_count": 41,
     "metadata": {},
     "output_type": "execute_result"
    }
   ],
   "source": [
    "items.add('key4')\n",
    "items.add('key5')\n",
    "items"
   ]
  },
  {
   "cell_type": "markdown",
   "metadata": {},
   "source": [
    "# Flow Control"
   ]
  },
  {
   "cell_type": "markdown",
   "metadata": {},
   "source": [
    "## Conditional Code"
   ]
  },
  {
   "cell_type": "code",
   "execution_count": 42,
   "metadata": {
    "collapsed": true
   },
   "outputs": [],
   "source": [
    "value = 50"
   ]
  },
  {
   "cell_type": "code",
   "execution_count": 43,
   "metadata": {
    "collapsed": false
   },
   "outputs": [
    {
     "name": "stdout",
     "output_type": "stream",
     "text": [
      "value is sufficient\n"
     ]
    }
   ],
   "source": [
    "if value >= 30:\n",
    "    print('value is sufficient')"
   ]
  },
  {
   "cell_type": "code",
   "execution_count": 44,
   "metadata": {
    "collapsed": true
   },
   "outputs": [],
   "source": [
    "value = 20"
   ]
  },
  {
   "cell_type": "code",
   "execution_count": 45,
   "metadata": {
    "collapsed": true
   },
   "outputs": [],
   "source": [
    "if value >= 30:\n",
    "    print('value is sufficient')"
   ]
  },
  {
   "cell_type": "code",
   "execution_count": 46,
   "metadata": {
    "collapsed": false
   },
   "outputs": [
    {
     "name": "stdout",
     "output_type": "stream",
     "text": [
      "value is insufficient\n"
     ]
    }
   ],
   "source": [
    "if value >= 30:\n",
    "    print('value is sufficient')\n",
    "else:\n",
    "    print('value is insufficient')"
   ]
  },
  {
   "cell_type": "code",
   "execution_count": 47,
   "metadata": {
    "collapsed": true
   },
   "outputs": [],
   "source": [
    "value = 26"
   ]
  },
  {
   "cell_type": "code",
   "execution_count": 48,
   "metadata": {
    "collapsed": false
   },
   "outputs": [
    {
     "name": "stdout",
     "output_type": "stream",
     "text": [
      "getting closer\n"
     ]
    }
   ],
   "source": [
    "if value >= 30:\n",
    "    print('value is sufficient')\n",
    "elif value > 25:\n",
    "    print('getting closer')\n",
    "elif value > 22:\n",
    "    print('not there yet')\n",
    "else:\n",
    "    print('value is insufficient')"
   ]
  },
  {
   "cell_type": "markdown",
   "metadata": {},
   "source": [
    "## Looping"
   ]
  },
  {
   "cell_type": "markdown",
   "metadata": {},
   "source": [
    "## While Loops"
   ]
  },
  {
   "cell_type": "code",
   "execution_count": 50,
   "metadata": {
    "collapsed": true
   },
   "outputs": [],
   "source": [
    "value = 1"
   ]
  },
  {
   "cell_type": "markdown",
   "metadata": {},
   "source": [
    "Using a condition as the loop expression."
   ]
  },
  {
   "cell_type": "code",
   "execution_count": 52,
   "metadata": {
    "collapsed": false
   },
   "outputs": [
    {
     "name": "stdout",
     "output_type": "stream",
     "text": [
      "1\n",
      "2\n",
      "3\n",
      "4\n"
     ]
    }
   ],
   "source": [
    "while value < 5:\n",
    "    print(value)\n",
    "    value += 1"
   ]
  },
  {
   "cell_type": "code",
   "execution_count": 55,
   "metadata": {
    "collapsed": true
   },
   "outputs": [],
   "source": [
    "items = [100, 200, 300]"
   ]
  },
  {
   "cell_type": "markdown",
   "metadata": {},
   "source": [
    "Using an object as a loop condition.  When the list is empty, the loop ends."
   ]
  },
  {
   "cell_type": "code",
   "execution_count": 56,
   "metadata": {
    "collapsed": false
   },
   "outputs": [
    {
     "name": "stdout",
     "output_type": "stream",
     "text": [
      "300\n",
      "200\n",
      "100\n"
     ]
    }
   ],
   "source": [
    "while items:\n",
    "    print(items.pop())"
   ]
  },
  {
   "cell_type": "markdown",
   "metadata": {},
   "source": [
    "### For Loops"
   ]
  },
  {
   "cell_type": "markdown",
   "metadata": {},
   "source": [
    "Looping over a range of values."
   ]
  },
  {
   "cell_type": "code",
   "execution_count": 57,
   "metadata": {
    "collapsed": false
   },
   "outputs": [
    {
     "name": "stdout",
     "output_type": "stream",
     "text": [
      "0\n",
      "1\n",
      "2\n",
      "3\n",
      "4\n"
     ]
    }
   ],
   "source": [
    "for i in range(5):\n",
    "    print(i)"
   ]
  },
  {
   "cell_type": "code",
   "execution_count": 58,
   "metadata": {
    "collapsed": false
   },
   "outputs": [
    {
     "data": {
      "text/plain": [
       "[0, 1, 2, 3, 4]"
      ]
     },
     "execution_count": 58,
     "metadata": {},
     "output_type": "execute_result"
    }
   ],
   "source": [
    "list(range(5))"
   ]
  },
  {
   "cell_type": "code",
   "execution_count": 59,
   "metadata": {
    "collapsed": false
   },
   "outputs": [
    {
     "data": {
      "text/plain": [
       "[2, 4]"
      ]
     },
     "execution_count": 59,
     "metadata": {},
     "output_type": "execute_result"
    }
   ],
   "source": [
    "list(range(2, 6, 2))"
   ]
  },
  {
   "cell_type": "markdown",
   "metadata": {},
   "source": [
    "Looping over items in a list."
   ]
  },
  {
   "cell_type": "code",
   "execution_count": 60,
   "metadata": {
    "collapsed": true
   },
   "outputs": [],
   "source": [
    "items = [100, 200, 300]"
   ]
  },
  {
   "cell_type": "code",
   "execution_count": 61,
   "metadata": {
    "collapsed": false
   },
   "outputs": [
    {
     "name": "stdout",
     "output_type": "stream",
     "text": [
      "100\n",
      "200\n",
      "300\n"
     ]
    }
   ],
   "source": [
    "for i in items:\n",
    "    print(i)"
   ]
  },
  {
   "cell_type": "markdown",
   "metadata": {},
   "source": [
    "Looping over a dictionary."
   ]
  },
  {
   "cell_type": "code",
   "execution_count": 62,
   "metadata": {
    "collapsed": true
   },
   "outputs": [],
   "source": [
    "pairs = {'key1': 100, 'key2': 200, 'key3': 300}"
   ]
  },
  {
   "cell_type": "markdown",
   "metadata": {},
   "source": [
    "Looping over keys in a dictionary."
   ]
  },
  {
   "cell_type": "code",
   "execution_count": 63,
   "metadata": {
    "collapsed": false
   },
   "outputs": [
    {
     "name": "stdout",
     "output_type": "stream",
     "text": [
      "key1\n",
      "key2\n",
      "key3\n"
     ]
    }
   ],
   "source": [
    "for key in pairs:\n",
    "    print(key)"
   ]
  },
  {
   "cell_type": "markdown",
   "metadata": {},
   "source": [
    "Looping over key / value pairs in a dictionary."
   ]
  },
  {
   "cell_type": "code",
   "execution_count": 64,
   "metadata": {
    "collapsed": false
   },
   "outputs": [
    {
     "name": "stdout",
     "output_type": "stream",
     "text": [
      "key1 : 100\n",
      "key2 : 200\n",
      "key3 : 300\n"
     ]
    }
   ],
   "source": [
    "for key, value in pairs.items():\n",
    "    print('%s : %s' % (key, value))"
   ]
  },
  {
   "cell_type": "markdown",
   "metadata": {},
   "source": [
    "# Functions"
   ]
  },
  {
   "cell_type": "code",
   "execution_count": 65,
   "metadata": {
    "collapsed": true
   },
   "outputs": [],
   "source": [
    "def print_hello():\n",
    "    print('hello')"
   ]
  },
  {
   "cell_type": "code",
   "execution_count": 66,
   "metadata": {
    "collapsed": false
   },
   "outputs": [
    {
     "name": "stdout",
     "output_type": "stream",
     "text": [
      "hello\n"
     ]
    }
   ],
   "source": [
    "print_hello()"
   ]
  },
  {
   "cell_type": "code",
   "execution_count": 67,
   "metadata": {
    "collapsed": true
   },
   "outputs": [],
   "source": [
    "def print_hello(name):\n",
    "    print('hello %s' % name)"
   ]
  },
  {
   "cell_type": "code",
   "execution_count": 68,
   "metadata": {
    "collapsed": false
   },
   "outputs": [
    {
     "name": "stdout",
     "output_type": "stream",
     "text": [
      "hello Kevin\n"
     ]
    }
   ],
   "source": [
    "print_hello('Kevin')"
   ]
  },
  {
   "cell_type": "code",
   "execution_count": 69,
   "metadata": {
    "collapsed": true
   },
   "outputs": [],
   "source": [
    "def print_hello(name, excited=False):\n",
    "    if excited:\n",
    "        print('hello %s!' % name)\n",
    "    else:\n",
    "        print('hello %s.' % name)"
   ]
  },
  {
   "cell_type": "code",
   "execution_count": 70,
   "metadata": {
    "collapsed": false
   },
   "outputs": [
    {
     "name": "stdout",
     "output_type": "stream",
     "text": [
      "hello Kevin.\n"
     ]
    }
   ],
   "source": [
    "print_hello('Kevin')"
   ]
  },
  {
   "cell_type": "code",
   "execution_count": 71,
   "metadata": {
    "collapsed": false
   },
   "outputs": [
    {
     "name": "stdout",
     "output_type": "stream",
     "text": [
      "hello Kevin!\n"
     ]
    }
   ],
   "source": [
    "print_hello('Kevin', excited=True)"
   ]
  },
  {
   "cell_type": "code",
   "execution_count": 72,
   "metadata": {
    "collapsed": false
   },
   "outputs": [
    {
     "name": "stdout",
     "output_type": "stream",
     "text": [
      "hello Kevin!\n"
     ]
    }
   ],
   "source": [
    "print_hello('Kevin', True)"
   ]
  },
  {
   "cell_type": "code",
   "execution_count": 73,
   "metadata": {
    "collapsed": false
   },
   "outputs": [
    {
     "name": "stdout",
     "output_type": "stream",
     "text": [
      "hello Kevin!\n"
     ]
    }
   ],
   "source": [
    "print_hello(excited=True, name='Kevin')"
   ]
  },
  {
   "cell_type": "code",
   "execution_count": 74,
   "metadata": {
    "collapsed": false
   },
   "outputs": [
    {
     "name": "stdout",
     "output_type": "stream",
     "text": [
      "hello Kevin.\n"
     ]
    }
   ],
   "source": [
    "print_hello('Kevin')"
   ]
  },
  {
   "cell_type": "code",
   "execution_count": 75,
   "metadata": {
    "collapsed": false
   },
   "outputs": [
    {
     "data": {
      "text/plain": [
       "function"
      ]
     },
     "execution_count": 75,
     "metadata": {},
     "output_type": "execute_result"
    }
   ],
   "source": [
    "type(print_hello)"
   ]
  },
  {
   "cell_type": "code",
   "execution_count": 76,
   "metadata": {
    "collapsed": true
   },
   "outputs": [],
   "source": [
    "a = [print_hello]"
   ]
  },
  {
   "cell_type": "code",
   "execution_count": 77,
   "metadata": {
    "collapsed": false
   },
   "outputs": [
    {
     "data": {
      "text/plain": [
       "<function __main__.print_hello>"
      ]
     },
     "execution_count": 77,
     "metadata": {},
     "output_type": "execute_result"
    }
   ],
   "source": [
    "a[0]"
   ]
  },
  {
   "cell_type": "code",
   "execution_count": 78,
   "metadata": {
    "collapsed": false
   },
   "outputs": [
    {
     "name": "stdout",
     "output_type": "stream",
     "text": [
      "hello Kevin.\n"
     ]
    }
   ],
   "source": [
    "a[0]('Kevin')"
   ]
  },
  {
   "cell_type": "markdown",
   "metadata": {},
   "source": [
    "# Classes and Objects"
   ]
  },
  {
   "cell_type": "code",
   "execution_count": 79,
   "metadata": {
    "collapsed": true
   },
   "outputs": [],
   "source": [
    "class BankAccount(object):\n",
    "\n",
    "    def __init__(self, name, amount=0):\n",
    "        self.name = name\n",
    "        self.balance = amount\n",
    "\n",
    "    def report(self):\n",
    "        print('%s : $%.2f' % (self.name, self.balance))\n",
    "\n",
    "    def deposit(self, amount):\n",
    "        self.balance += amount\n",
    "\n",
    "    def withdraw(self, amount):\n",
    "        self.balance -= amount"
   ]
  },
  {
   "cell_type": "code",
   "execution_count": 80,
   "metadata": {
    "collapsed": true
   },
   "outputs": [],
   "source": [
    "ba = BankAccount('Kevin', 1000)"
   ]
  },
  {
   "cell_type": "code",
   "execution_count": 81,
   "metadata": {
    "collapsed": false
   },
   "outputs": [
    {
     "name": "stdout",
     "output_type": "stream",
     "text": [
      "Kevin : $1000.00\n"
     ]
    }
   ],
   "source": [
    "ba.report()"
   ]
  },
  {
   "cell_type": "code",
   "execution_count": 82,
   "metadata": {
    "collapsed": true
   },
   "outputs": [],
   "source": [
    "ba.deposit(500)"
   ]
  },
  {
   "cell_type": "code",
   "execution_count": 83,
   "metadata": {
    "collapsed": false
   },
   "outputs": [
    {
     "name": "stdout",
     "output_type": "stream",
     "text": [
      "Kevin : $1500.00\n"
     ]
    }
   ],
   "source": [
    "ba.report()"
   ]
  },
  {
   "cell_type": "code",
   "execution_count": 84,
   "metadata": {
    "collapsed": true
   },
   "outputs": [],
   "source": [
    "ba.withdraw(200)"
   ]
  },
  {
   "cell_type": "code",
   "execution_count": 85,
   "metadata": {
    "collapsed": false
   },
   "outputs": [
    {
     "name": "stdout",
     "output_type": "stream",
     "text": [
      "Kevin : $1300.00\n"
     ]
    }
   ],
   "source": [
    "ba.report()"
   ]
  },
  {
   "cell_type": "markdown",
   "metadata": {},
   "source": [
    "# Exceptions"
   ]
  },
  {
   "cell_type": "code",
   "execution_count": 86,
   "metadata": {
    "collapsed": false
   },
   "outputs": [
    {
     "ename": "ZeroDivisionError",
     "evalue": "division by zero",
     "output_type": "error",
     "traceback": [
      "\u001b[1;31m---------------------------------------------------------------------------\u001b[0m",
      "\u001b[1;31mZeroDivisionError\u001b[0m                         Traceback (most recent call last)",
      "\u001b[1;32m<ipython-input-86-a187b7beb4f1>\u001b[0m in \u001b[0;36m<module>\u001b[1;34m()\u001b[0m\n\u001b[1;32m----> 1\u001b[1;33m \u001b[1;36m100\u001b[0m \u001b[1;33m/\u001b[0m \u001b[1;36m0\u001b[0m\u001b[1;33m\u001b[0m\u001b[0m\n\u001b[0m",
      "\u001b[1;31mZeroDivisionError\u001b[0m: division by zero"
     ]
    }
   ],
   "source": [
    "100 / 0"
   ]
  },
  {
   "cell_type": "code",
   "execution_count": 87,
   "metadata": {
    "collapsed": false
   },
   "outputs": [
    {
     "name": "stdout",
     "output_type": "stream",
     "text": [
      "An error occurred\n"
     ]
    }
   ],
   "source": [
    "try:\n",
    "    100 / 0\n",
    "except:\n",
    "    print('An error occurred')"
   ]
  },
  {
   "cell_type": "code",
   "execution_count": 88,
   "metadata": {
    "collapsed": false
   },
   "outputs": [
    {
     "name": "stdout",
     "output_type": "stream",
     "text": [
      "An error occurred\n"
     ]
    }
   ],
   "source": [
    "try:\n",
    "    100 / 0\n",
    "except ZeroDivisionError:\n",
    "    print('An error occurred')"
   ]
  },
  {
   "cell_type": "markdown",
   "metadata": {},
   "source": [
    "# Context Managers"
   ]
  },
  {
   "cell_type": "code",
   "execution_count": 90,
   "metadata": {
    "collapsed": false
   },
   "outputs": [
    {
     "name": "stdout",
     "output_type": "stream",
     "text": [
      "False\n"
     ]
    }
   ],
   "source": [
    "with open('/u/username/data/iris.csv') as f:\n",
    "    print(f.closed)"
   ]
  },
  {
   "cell_type": "code",
   "execution_count": 91,
   "metadata": {
    "collapsed": false
   },
   "outputs": [
    {
     "data": {
      "text/plain": [
       "True"
      ]
     },
     "execution_count": 91,
     "metadata": {},
     "output_type": "execute_result"
    }
   ],
   "source": [
    "f.closed"
   ]
  },
  {
   "cell_type": "markdown",
   "metadata": {},
   "source": [
    "# Using the Pandas Package"
   ]
  },
  {
   "cell_type": "code",
   "execution_count": 92,
   "metadata": {
    "collapsed": true
   },
   "outputs": [],
   "source": [
    "import pandas as pd"
   ]
  },
  {
   "cell_type": "code",
   "execution_count": 93,
   "metadata": {
    "collapsed": true
   },
   "outputs": [],
   "source": [
    "ser = pd.Series([100, 200, 300, 1000])"
   ]
  },
  {
   "cell_type": "code",
   "execution_count": 94,
   "metadata": {
    "collapsed": false
   },
   "outputs": [
    {
     "data": {
      "text/plain": [
       "0     100\n",
       "1     200\n",
       "2     300\n",
       "3    1000\n",
       "dtype: int64"
      ]
     },
     "execution_count": 94,
     "metadata": {},
     "output_type": "execute_result"
    }
   ],
   "source": [
    "ser"
   ]
  },
  {
   "cell_type": "code",
   "execution_count": 95,
   "metadata": {
    "collapsed": true
   },
   "outputs": [],
   "source": [
    "df = pd.DataFrame({'name': pd.Series(['Joe', 'Chris', \n",
    "                                     'Mandy']),\n",
    "                   'age': pd.Series([18, 22, 19]),\n",
    "                   'height': pd.Series([70., 68., 64.])},\n",
    "                   columns=['name', 'age', 'height'])"
   ]
  },
  {
   "cell_type": "code",
   "execution_count": 96,
   "metadata": {
    "collapsed": false
   },
   "outputs": [
    {
     "data": {
      "text/html": [
       "<div>\n",
       "<table border=\"1\" class=\"dataframe\">\n",
       "  <thead>\n",
       "    <tr style=\"text-align: right;\">\n",
       "      <th></th>\n",
       "      <th>name</th>\n",
       "      <th>age</th>\n",
       "      <th>height</th>\n",
       "    </tr>\n",
       "  </thead>\n",
       "  <tbody>\n",
       "    <tr>\n",
       "      <th>0</th>\n",
       "      <td>Joe</td>\n",
       "      <td>18</td>\n",
       "      <td>70.0</td>\n",
       "    </tr>\n",
       "    <tr>\n",
       "      <th>1</th>\n",
       "      <td>Chris</td>\n",
       "      <td>22</td>\n",
       "      <td>68.0</td>\n",
       "    </tr>\n",
       "    <tr>\n",
       "      <th>2</th>\n",
       "      <td>Mandy</td>\n",
       "      <td>19</td>\n",
       "      <td>64.0</td>\n",
       "    </tr>\n",
       "  </tbody>\n",
       "</table>\n",
       "</div>"
      ],
      "text/plain": [
       "    name  age  height\n",
       "0    Joe   18    70.0\n",
       "1  Chris   22    68.0\n",
       "2  Mandy   19    64.0"
      ]
     },
     "execution_count": 96,
     "metadata": {},
     "output_type": "execute_result"
    }
   ],
   "source": [
    "df"
   ]
  },
  {
   "cell_type": "code",
   "execution_count": 97,
   "metadata": {
    "collapsed": false
   },
   "outputs": [
    {
     "data": {
      "text/plain": [
       "name       object\n",
       "age         int64\n",
       "height    float64\n",
       "dtype: object"
      ]
     },
     "execution_count": 97,
     "metadata": {},
     "output_type": "execute_result"
    }
   ],
   "source": [
    "df.dtypes"
   ]
  },
  {
   "cell_type": "code",
   "execution_count": 98,
   "metadata": {
    "collapsed": true
   },
   "outputs": [],
   "source": [
    "df.set_index('name', inplace=True)"
   ]
  },
  {
   "cell_type": "code",
   "execution_count": 99,
   "metadata": {
    "collapsed": false
   },
   "outputs": [
    {
     "data": {
      "text/html": [
       "<div>\n",
       "<table border=\"1\" class=\"dataframe\">\n",
       "  <thead>\n",
       "    <tr style=\"text-align: right;\">\n",
       "      <th></th>\n",
       "      <th>age</th>\n",
       "      <th>height</th>\n",
       "    </tr>\n",
       "    <tr>\n",
       "      <th>name</th>\n",
       "      <th></th>\n",
       "      <th></th>\n",
       "    </tr>\n",
       "  </thead>\n",
       "  <tbody>\n",
       "    <tr>\n",
       "      <th>Joe</th>\n",
       "      <td>18</td>\n",
       "      <td>70.0</td>\n",
       "    </tr>\n",
       "    <tr>\n",
       "      <th>Chris</th>\n",
       "      <td>22</td>\n",
       "      <td>68.0</td>\n",
       "    </tr>\n",
       "    <tr>\n",
       "      <th>Mandy</th>\n",
       "      <td>19</td>\n",
       "      <td>64.0</td>\n",
       "    </tr>\n",
       "  </tbody>\n",
       "</table>\n",
       "</div>"
      ],
      "text/plain": [
       "       age  height\n",
       "name              \n",
       "Joe     18    70.0\n",
       "Chris   22    68.0\n",
       "Mandy   19    64.0"
      ]
     },
     "execution_count": 99,
     "metadata": {},
     "output_type": "execute_result"
    }
   ],
   "source": [
    "df"
   ]
  },
  {
   "cell_type": "code",
   "execution_count": 100,
   "metadata": {
    "collapsed": false
   },
   "outputs": [
    {
     "data": {
      "text/plain": [
       "age       18.0\n",
       "height    70.0\n",
       "Name: Joe, dtype: float64"
      ]
     },
     "execution_count": 100,
     "metadata": {},
     "output_type": "execute_result"
    }
   ],
   "source": [
    "df.loc['Joe']"
   ]
  },
  {
   "cell_type": "markdown",
   "metadata": {},
   "source": [
    "## Data Selection"
   ]
  },
  {
   "cell_type": "code",
   "execution_count": 101,
   "metadata": {
    "collapsed": false
   },
   "outputs": [
    {
     "data": {
      "text/html": [
       "<div>\n",
       "<table border=\"1\" class=\"dataframe\">\n",
       "  <thead>\n",
       "    <tr style=\"text-align: right;\">\n",
       "      <th></th>\n",
       "      <th>age</th>\n",
       "      <th>height</th>\n",
       "    </tr>\n",
       "    <tr>\n",
       "      <th>name</th>\n",
       "      <th></th>\n",
       "      <th></th>\n",
       "    </tr>\n",
       "  </thead>\n",
       "  <tbody>\n",
       "    <tr>\n",
       "      <th>Joe</th>\n",
       "      <td>18</td>\n",
       "      <td>70.0</td>\n",
       "    </tr>\n",
       "    <tr>\n",
       "      <th>Chris</th>\n",
       "      <td>22</td>\n",
       "      <td>68.0</td>\n",
       "    </tr>\n",
       "    <tr>\n",
       "      <th>Mandy</th>\n",
       "      <td>19</td>\n",
       "      <td>64.0</td>\n",
       "    </tr>\n",
       "  </tbody>\n",
       "</table>\n",
       "</div>"
      ],
      "text/plain": [
       "       age  height\n",
       "name              \n",
       "Joe     18    70.0\n",
       "Chris   22    68.0\n",
       "Mandy   19    64.0"
      ]
     },
     "execution_count": 101,
     "metadata": {},
     "output_type": "execute_result"
    }
   ],
   "source": [
    "df"
   ]
  },
  {
   "cell_type": "markdown",
   "metadata": {},
   "source": [
    "Select a column."
   ]
  },
  {
   "cell_type": "code",
   "execution_count": 102,
   "metadata": {
    "collapsed": false
   },
   "outputs": [
    {
     "data": {
      "text/plain": [
       "name\n",
       "Joe      18\n",
       "Chris    22\n",
       "Mandy    19\n",
       "Name: age, dtype: int64"
      ]
     },
     "execution_count": 102,
     "metadata": {},
     "output_type": "execute_result"
    }
   ],
   "source": [
    "df['age']"
   ]
  },
  {
   "cell_type": "markdown",
   "metadata": {},
   "source": [
    "Select a range of rows."
   ]
  },
  {
   "cell_type": "code",
   "execution_count": 104,
   "metadata": {
    "collapsed": false
   },
   "outputs": [
    {
     "data": {
      "text/html": [
       "<div>\n",
       "<table border=\"1\" class=\"dataframe\">\n",
       "  <thead>\n",
       "    <tr style=\"text-align: right;\">\n",
       "      <th></th>\n",
       "      <th>age</th>\n",
       "      <th>height</th>\n",
       "    </tr>\n",
       "    <tr>\n",
       "      <th>name</th>\n",
       "      <th></th>\n",
       "      <th></th>\n",
       "    </tr>\n",
       "  </thead>\n",
       "  <tbody>\n",
       "    <tr>\n",
       "      <th>Chris</th>\n",
       "      <td>22</td>\n",
       "      <td>68.0</td>\n",
       "    </tr>\n",
       "    <tr>\n",
       "      <th>Mandy</th>\n",
       "      <td>19</td>\n",
       "      <td>64.0</td>\n",
       "    </tr>\n",
       "  </tbody>\n",
       "</table>\n",
       "</div>"
      ],
      "text/plain": [
       "       age  height\n",
       "name              \n",
       "Chris   22    68.0\n",
       "Mandy   19    64.0"
      ]
     },
     "execution_count": 104,
     "metadata": {},
     "output_type": "execute_result"
    }
   ],
   "source": [
    "df[1:3]"
   ]
  },
  {
   "cell_type": "markdown",
   "metadata": {},
   "source": [
    "Select a range of rows based on row labels."
   ]
  },
  {
   "cell_type": "code",
   "execution_count": 105,
   "metadata": {
    "collapsed": false
   },
   "outputs": [
    {
     "data": {
      "text/html": [
       "<div>\n",
       "<table border=\"1\" class=\"dataframe\">\n",
       "  <thead>\n",
       "    <tr style=\"text-align: right;\">\n",
       "      <th></th>\n",
       "      <th>age</th>\n",
       "      <th>height</th>\n",
       "    </tr>\n",
       "    <tr>\n",
       "      <th>name</th>\n",
       "      <th></th>\n",
       "      <th></th>\n",
       "    </tr>\n",
       "  </thead>\n",
       "  <tbody>\n",
       "    <tr>\n",
       "      <th>Chris</th>\n",
       "      <td>22</td>\n",
       "      <td>68.0</td>\n",
       "    </tr>\n",
       "    <tr>\n",
       "      <th>Mandy</th>\n",
       "      <td>19</td>\n",
       "      <td>64.0</td>\n",
       "    </tr>\n",
       "  </tbody>\n",
       "</table>\n",
       "</div>"
      ],
      "text/plain": [
       "       age  height\n",
       "name              \n",
       "Chris   22    68.0\n",
       "Mandy   19    64.0"
      ]
     },
     "execution_count": 105,
     "metadata": {},
     "output_type": "execute_result"
    }
   ],
   "source": [
    "df['Chris':'Mandy']"
   ]
  },
  {
   "cell_type": "markdown",
   "metadata": {},
   "source": [
    "Select alternating rows."
   ]
  },
  {
   "cell_type": "code",
   "execution_count": 106,
   "metadata": {
    "collapsed": false
   },
   "outputs": [
    {
     "data": {
      "text/html": [
       "<div>\n",
       "<table border=\"1\" class=\"dataframe\">\n",
       "  <thead>\n",
       "    <tr style=\"text-align: right;\">\n",
       "      <th></th>\n",
       "      <th>age</th>\n",
       "      <th>height</th>\n",
       "    </tr>\n",
       "    <tr>\n",
       "      <th>name</th>\n",
       "      <th></th>\n",
       "      <th></th>\n",
       "    </tr>\n",
       "  </thead>\n",
       "  <tbody>\n",
       "    <tr>\n",
       "      <th>Joe</th>\n",
       "      <td>18</td>\n",
       "      <td>70.0</td>\n",
       "    </tr>\n",
       "    <tr>\n",
       "      <th>Mandy</th>\n",
       "      <td>19</td>\n",
       "      <td>64.0</td>\n",
       "    </tr>\n",
       "  </tbody>\n",
       "</table>\n",
       "</div>"
      ],
      "text/plain": [
       "       age  height\n",
       "name              \n",
       "Joe     18    70.0\n",
       "Mandy   19    64.0"
      ]
     },
     "execution_count": 106,
     "metadata": {},
     "output_type": "execute_result"
    }
   ],
   "source": [
    "df[::2]"
   ]
  },
  {
   "cell_type": "markdown",
   "metadata": {},
   "source": [
    "The `loc` and `iloc` DataFrame Methods"
   ]
  },
  {
   "cell_type": "code",
   "execution_count": 108,
   "metadata": {
    "collapsed": false
   },
   "outputs": [
    {
     "data": {
      "text/plain": [
       "age       22.0\n",
       "height    68.0\n",
       "Name: Chris, dtype: float64"
      ]
     },
     "execution_count": 108,
     "metadata": {},
     "output_type": "execute_result"
    }
   ],
   "source": [
    "df.loc['Chris']"
   ]
  },
  {
   "cell_type": "code",
   "execution_count": 109,
   "metadata": {
    "collapsed": false
   },
   "outputs": [
    {
     "data": {
      "text/plain": [
       "height    68.0\n",
       "age       22.0\n",
       "Name: Chris, dtype: float64"
      ]
     },
     "execution_count": 109,
     "metadata": {},
     "output_type": "execute_result"
    }
   ],
   "source": [
    "df.loc['Chris', ['height', 'age']]"
   ]
  },
  {
   "cell_type": "code",
   "execution_count": 110,
   "metadata": {
    "collapsed": false
   },
   "outputs": [
    {
     "data": {
      "text/html": [
       "<div>\n",
       "<table border=\"1\" class=\"dataframe\">\n",
       "  <thead>\n",
       "    <tr style=\"text-align: right;\">\n",
       "      <th></th>\n",
       "      <th>height</th>\n",
       "      <th>age</th>\n",
       "    </tr>\n",
       "    <tr>\n",
       "      <th>name</th>\n",
       "      <th></th>\n",
       "      <th></th>\n",
       "    </tr>\n",
       "  </thead>\n",
       "  <tbody>\n",
       "    <tr>\n",
       "      <th>Chris</th>\n",
       "      <td>68.0</td>\n",
       "      <td>22</td>\n",
       "    </tr>\n",
       "  </tbody>\n",
       "</table>\n",
       "</div>"
      ],
      "text/plain": [
       "       height  age\n",
       "name              \n",
       "Chris    68.0   22"
      ]
     },
     "execution_count": 110,
     "metadata": {},
     "output_type": "execute_result"
    }
   ],
   "source": [
    "df.loc[['Chris'], ['height','age']]"
   ]
  },
  {
   "cell_type": "code",
   "execution_count": 111,
   "metadata": {
    "collapsed": false
   },
   "outputs": [
    {
     "data": {
      "text/html": [
       "<div>\n",
       "<table border=\"1\" class=\"dataframe\">\n",
       "  <thead>\n",
       "    <tr style=\"text-align: right;\">\n",
       "      <th></th>\n",
       "      <th>age</th>\n",
       "      <th>height</th>\n",
       "    </tr>\n",
       "    <tr>\n",
       "      <th>name</th>\n",
       "      <th></th>\n",
       "      <th></th>\n",
       "    </tr>\n",
       "  </thead>\n",
       "  <tbody>\n",
       "    <tr>\n",
       "      <th>Joe</th>\n",
       "      <td>18</td>\n",
       "      <td>70.0</td>\n",
       "    </tr>\n",
       "    <tr>\n",
       "      <th>Chris</th>\n",
       "      <td>22</td>\n",
       "      <td>68.0</td>\n",
       "    </tr>\n",
       "  </tbody>\n",
       "</table>\n",
       "</div>"
      ],
      "text/plain": [
       "       age  height\n",
       "name              \n",
       "Joe     18    70.0\n",
       "Chris   22    68.0"
      ]
     },
     "execution_count": 111,
     "metadata": {},
     "output_type": "execute_result"
    }
   ],
   "source": [
    "df.iloc[:2, [0,1]]"
   ]
  },
  {
   "cell_type": "markdown",
   "metadata": {},
   "source": [
    "### The `at` and `iat` DataFrame Methods"
   ]
  },
  {
   "cell_type": "code",
   "execution_count": 113,
   "metadata": {
    "collapsed": false
   },
   "outputs": [
    {
     "data": {
      "text/plain": [
       "64.0"
      ]
     },
     "execution_count": 113,
     "metadata": {},
     "output_type": "execute_result"
    }
   ],
   "source": [
    "df.iat[2, 1]"
   ]
  },
  {
   "cell_type": "code",
   "execution_count": 114,
   "metadata": {
    "collapsed": false
   },
   "outputs": [
    {
     "data": {
      "text/plain": [
       "22"
      ]
     },
     "execution_count": 114,
     "metadata": {},
     "output_type": "execute_result"
    }
   ],
   "source": [
    "df.at['Chris', 'age']"
   ]
  },
  {
   "cell_type": "markdown",
   "metadata": {},
   "source": [
    "### The `ix` DataFrame Method"
   ]
  },
  {
   "cell_type": "code",
   "execution_count": 115,
   "metadata": {
    "collapsed": false
   },
   "outputs": [
    {
     "data": {
      "text/html": [
       "<div>\n",
       "<table border=\"1\" class=\"dataframe\">\n",
       "  <thead>\n",
       "    <tr style=\"text-align: right;\">\n",
       "      <th></th>\n",
       "      <th>height</th>\n",
       "      <th>age</th>\n",
       "    </tr>\n",
       "    <tr>\n",
       "      <th>name</th>\n",
       "      <th></th>\n",
       "      <th></th>\n",
       "    </tr>\n",
       "  </thead>\n",
       "  <tbody>\n",
       "    <tr>\n",
       "      <th>Joe</th>\n",
       "      <td>70.0</td>\n",
       "      <td>18</td>\n",
       "    </tr>\n",
       "    <tr>\n",
       "      <th>Chris</th>\n",
       "      <td>68.0</td>\n",
       "      <td>22</td>\n",
       "    </tr>\n",
       "  </tbody>\n",
       "</table>\n",
       "</div>"
      ],
      "text/plain": [
       "       height  age\n",
       "name              \n",
       "Joe      70.0   18\n",
       "Chris    68.0   22"
      ]
     },
     "execution_count": 115,
     "metadata": {},
     "output_type": "execute_result"
    }
   ],
   "source": [
    "df.ix[:2, ['height', 'age']]"
   ]
  },
  {
   "cell_type": "markdown",
   "metadata": {},
   "source": [
    "### Using Boolean Masks"
   ]
  },
  {
   "cell_type": "code",
   "execution_count": 117,
   "metadata": {
    "collapsed": false
   },
   "outputs": [
    {
     "data": {
      "text/plain": [
       "0     True\n",
       "1     True\n",
       "2    False\n",
       "dtype: bool"
      ]
     },
     "execution_count": 117,
     "metadata": {},
     "output_type": "execute_result"
    }
   ],
   "source": [
    "mask = pd.Series([True, True, False])\n",
    "mask"
   ]
  },
  {
   "cell_type": "code",
   "execution_count": 118,
   "metadata": {
    "collapsed": true
   },
   "outputs": [],
   "source": [
    "mask.index = df.index"
   ]
  },
  {
   "cell_type": "code",
   "execution_count": 119,
   "metadata": {
    "collapsed": false
   },
   "outputs": [
    {
     "data": {
      "text/html": [
       "<div>\n",
       "<table border=\"1\" class=\"dataframe\">\n",
       "  <thead>\n",
       "    <tr style=\"text-align: right;\">\n",
       "      <th></th>\n",
       "      <th>age</th>\n",
       "      <th>height</th>\n",
       "    </tr>\n",
       "    <tr>\n",
       "      <th>name</th>\n",
       "      <th></th>\n",
       "      <th></th>\n",
       "    </tr>\n",
       "  </thead>\n",
       "  <tbody>\n",
       "    <tr>\n",
       "      <th>Joe</th>\n",
       "      <td>18</td>\n",
       "      <td>70.0</td>\n",
       "    </tr>\n",
       "    <tr>\n",
       "      <th>Chris</th>\n",
       "      <td>22</td>\n",
       "      <td>68.0</td>\n",
       "    </tr>\n",
       "  </tbody>\n",
       "</table>\n",
       "</div>"
      ],
      "text/plain": [
       "       age  height\n",
       "name              \n",
       "Joe     18    70.0\n",
       "Chris   22    68.0"
      ]
     },
     "execution_count": 119,
     "metadata": {},
     "output_type": "execute_result"
    }
   ],
   "source": [
    "df[mask]"
   ]
  },
  {
   "cell_type": "code",
   "execution_count": 120,
   "metadata": {
    "collapsed": false
   },
   "outputs": [
    {
     "data": {
      "text/plain": [
       "name\n",
       "Joe      False\n",
       "Chris     True\n",
       "Mandy    False\n",
       "Name: age, dtype: bool"
      ]
     },
     "execution_count": 120,
     "metadata": {},
     "output_type": "execute_result"
    }
   ],
   "source": [
    "mask = df['age'] > 20\n",
    "mask"
   ]
  },
  {
   "cell_type": "code",
   "execution_count": 121,
   "metadata": {
    "collapsed": false
   },
   "outputs": [
    {
     "data": {
      "text/html": [
       "<div>\n",
       "<table border=\"1\" class=\"dataframe\">\n",
       "  <thead>\n",
       "    <tr style=\"text-align: right;\">\n",
       "      <th></th>\n",
       "      <th>age</th>\n",
       "      <th>height</th>\n",
       "    </tr>\n",
       "    <tr>\n",
       "      <th>name</th>\n",
       "      <th></th>\n",
       "      <th></th>\n",
       "    </tr>\n",
       "  </thead>\n",
       "  <tbody>\n",
       "    <tr>\n",
       "      <th>Chris</th>\n",
       "      <td>22</td>\n",
       "      <td>68.0</td>\n",
       "    </tr>\n",
       "  </tbody>\n",
       "</table>\n",
       "</div>"
      ],
      "text/plain": [
       "       age  height\n",
       "name              \n",
       "Chris   22    68.0"
      ]
     },
     "execution_count": 121,
     "metadata": {},
     "output_type": "execute_result"
    }
   ],
   "source": [
    "df[mask]"
   ]
  },
  {
   "cell_type": "code",
   "execution_count": 122,
   "metadata": {
    "collapsed": false
   },
   "outputs": [
    {
     "data": {
      "text/html": [
       "<div>\n",
       "<table border=\"1\" class=\"dataframe\">\n",
       "  <thead>\n",
       "    <tr style=\"text-align: right;\">\n",
       "      <th></th>\n",
       "      <th>age</th>\n",
       "      <th>height</th>\n",
       "    </tr>\n",
       "    <tr>\n",
       "      <th>name</th>\n",
       "      <th></th>\n",
       "      <th></th>\n",
       "    </tr>\n",
       "  </thead>\n",
       "  <tbody>\n",
       "    <tr>\n",
       "      <th>Chris</th>\n",
       "      <td>22</td>\n",
       "      <td>68.0</td>\n",
       "    </tr>\n",
       "  </tbody>\n",
       "</table>\n",
       "</div>"
      ],
      "text/plain": [
       "       age  height\n",
       "name              \n",
       "Chris   22    68.0"
      ]
     },
     "execution_count": 122,
     "metadata": {},
     "output_type": "execute_result"
    }
   ],
   "source": [
    "df[df['age'] > 20]"
   ]
  },
  {
   "cell_type": "code",
   "execution_count": 123,
   "metadata": {
    "collapsed": false
   },
   "outputs": [
    {
     "data": {
      "text/html": [
       "<div>\n",
       "<table border=\"1\" class=\"dataframe\">\n",
       "  <thead>\n",
       "    <tr style=\"text-align: right;\">\n",
       "      <th></th>\n",
       "      <th>age</th>\n",
       "      <th>height</th>\n",
       "    </tr>\n",
       "    <tr>\n",
       "      <th>name</th>\n",
       "      <th></th>\n",
       "      <th></th>\n",
       "    </tr>\n",
       "  </thead>\n",
       "  <tbody>\n",
       "    <tr>\n",
       "      <th>Chris</th>\n",
       "      <td>22</td>\n",
       "      <td>68.0</td>\n",
       "    </tr>\n",
       "  </tbody>\n",
       "</table>\n",
       "</div>"
      ],
      "text/plain": [
       "       age  height\n",
       "name              \n",
       "Chris   22    68.0"
      ]
     },
     "execution_count": 123,
     "metadata": {},
     "output_type": "execute_result"
    }
   ],
   "source": [
    "df[df.age > 20]"
   ]
  },
  {
   "cell_type": "markdown",
   "metadata": {},
   "source": [
    "# Creating Plots and Charts"
   ]
  },
  {
   "cell_type": "markdown",
   "metadata": {},
   "source": [
    "## Plotting from Pandas DataFrame Methods"
   ]
  },
  {
   "cell_type": "code",
   "execution_count": 3,
   "metadata": {
    "collapsed": true
   },
   "outputs": [],
   "source": [
    "import pandas as pd\n",
    "import numpy as np\n",
    "\n",
    "%matplotlib inline\n",
    "\n",
    "plotdata = pd.DataFrame(np.random.rand(10, 3), columns=['A', 'B', 'C'])"
   ]
  },
  {
   "cell_type": "code",
   "execution_count": 125,
   "metadata": {
    "collapsed": false
   },
   "outputs": [
    {
     "data": {
      "text/plain": [
       "<matplotlib.axes._subplots.AxesSubplot at 0x7f8a70255b38>"
      ]
     },
     "execution_count": 125,
     "metadata": {},
     "output_type": "execute_result"
    },
    {
     "data": {
      "image/png": "[encoded data removed]",
      "text/plain": [
       "<matplotlib.figure.Figure at 0x7f8a512fe7b8>"
      ]
     },
     "metadata": {},
     "output_type": "display_data"
    }
   ],
   "source": [
    "plotdata.plot()"
   ]
  },
  {
   "cell_type": "code",
   "execution_count": 127,
   "metadata": {
    "collapsed": false
   },
   "outputs": [
    {
     "data": {
      "text/plain": [
       "<matplotlib.axes._subplots.AxesSubplot at 0x7f8a702a3be0>"
      ]
     },
     "execution_count": 127,
     "metadata": {},
     "output_type": "execute_result"
    },
    {
     "data": {
      "image/png": "[encoded data removed]",
      "text/plain": [
       "<matplotlib.figure.Figure at 0x7f8a701d6748>"
      ]
     },
     "metadata": {},
     "output_type": "display_data"
    }
   ],
   "source": [
    "plotdata.plot(kind='barh', stacked=True)"
   ]
  },
  {
   "cell_type": "markdown",
   "metadata": {},
   "source": [
    "## Plotting DataFrames using Plotly and Cufflinks"
   ]
  },
  {
   "cell_type": "code",
   "execution_count": 17,
   "metadata": {
    "collapsed": false
   },
   "outputs": [],
   "source": [
    "import cufflinks as cf\n",
    "import numpy as np\n",
    "import pandas as pd\n",
    "\n",
    "cf.go_offline()\n",
    "\n",
    "plotdata = pd.DataFrame(np.random.rand(10, 3), columns=['A', 'B', 'C'])"
   ]
  },
  {
   "cell_type": "code",
   "execution_count": 130,
   "metadata": {
    "collapsed": false
   },
   "outputs": [
    {
     "data": {
      "text/html": [
       "<div id=\"32dedf31-6783-4aed-80d4-c10ac96f84b5\" style=\"height: 587; width: 1116px;\" class=\"plotly-graph-div\"></div><script type=\"text/javascript\">window.PLOTLYENV=window.PLOTLYENV || {};window.PLOTLYENV.BASE_URL=\"https://plot.ly\";Plotly.newPlot(\"32dedf31-6783-4aed-80d4-c10ac96f84b5\", [{\"name\": \"A\", \"x\": [0, 1, 2, 3, 4, 5, 6, 7, 8, 9], \"text\": \"\", \"type\": \"scatter\", \"line\": {\"width\": 1.3, \"dash\": \"solid\", \"color\": \"rgba(255, 153, 51, 1.0)\"}, \"mode\": \"lines\", \"y\": [0.024404093005446104, 0.9027457935183334, 0.3633567358433484, 0.809324205827196, 0.22547789785815286, 0.10127860974240932, 0.7559318849420191, 0.36774211223564324, 0.9590053527147406, 0.533796168339199]}, {\"name\": \"B\", \"x\": [0, 1, 2, 3, 4, 5, 6, 7, 8, 9], \"text\": \"\", \"type\": \"scatter\", \"line\": {\"width\": 1.3, \"dash\": \"solid\", \"color\": \"rgba(55, 128, 191, 1.0)\"}, \"mode\": \"lines\", \"y\": [0.7431597143750966, 0.08057034120349049, 0.9027310091354875, 0.5148909782597069, 0.10473653091067059, 0.06879611716851941, 0.10988893663593235, 0.25933758362170467, 0.06256954998641184, 0.9374493709194965]}, {\"name\": \"C\", \"x\": [0, 1, 2, 3, 4, 5, 6, 7, 8, 9], \"text\": \"\", \"type\": \"scatter\", \"line\": {\"width\": 1.3, \"dash\": \"solid\", \"color\": \"rgba(50, 171, 96, 1.0)\"}, \"mode\": \"lines\", \"y\": [0.6007328850427528, 0.06671739469239546, 0.30854248553428376, 0.4450893910432421, 0.004084238309707944, 0.4518774375724449, 0.28486771063146055, 0.24569590122676155, 0.37414832379870067, 0.4138077235913177]}], {\"width\": 1116, \"titlefont\": {\"color\": \"#4D5663\"}, \"height\": 587, \"yaxis1\": {\"titlefont\": {\"color\": \"#4D5663\"}, \"tickfont\": {\"color\": \"#4D5663\"}, \"title\": \"\", \"showgrid\": true, \"zerolinecolor\": \"#E1E5ED\", \"gridcolor\": \"#E1E5ED\"}, \"legend\": {\"bgcolor\": \"#F5F6F9\", \"font\": {\"color\": \"#4D5663\"}}, \"plot_bgcolor\": \"#F5F6F9\", \"paper_bgcolor\": \"#F5F6F9\", \"xaxis1\": {\"titlefont\": {\"color\": \"#4D5663\"}, \"tickfont\": {\"color\": \"#4D5663\"}, \"title\": \"\", \"showgrid\": true, \"zerolinecolor\": \"#E1E5ED\", \"gridcolor\": \"#E1E5ED\"}}, {\"linkText\": \"Export to plot.ly\", \"showLink\": true})</script>"
      ],
      "text/plain": [
       "<IPython.core.display.HTML object>"
      ]
     },
     "metadata": {},
     "output_type": "display_data"
    }
   ],
   "source": [
    "plotdata.iplot()"
   ]
  },
  {
   "cell_type": "code",
   "execution_count": 131,
   "metadata": {
    "collapsed": false
   },
   "outputs": [
    {
     "data": {
      "text/html": [
       "<div id=\"424058e3-a8bd-4c57-92c7-9bffd490ee38\" style=\"height: 587; width: 1116px;\" class=\"plotly-graph-div\"></div><script type=\"text/javascript\">window.PLOTLYENV=window.PLOTLYENV || {};window.PLOTLYENV.BASE_URL=\"https://plot.ly\";Plotly.newPlot(\"424058e3-a8bd-4c57-92c7-9bffd490ee38\", [{\"name\": \"A\", \"x\": [0, 1, 2, 3, 4, 5, 6, 7, 8, 9], \"text\": \"\", \"type\": \"bar\", \"orientation\": \"v\", \"marker\": {\"line\": {\"width\": 1, \"color\": \"rgba(255, 153, 51, 1.0)\"}, \"color\": \"rgba(255, 153, 51, 0.6)\"}, \"y\": [0.024404093005446104, 0.9027457935183334, 0.3633567358433484, 0.809324205827196, 0.22547789785815286, 0.10127860974240932, 0.7559318849420191, 0.36774211223564324, 0.9590053527147406, 0.533796168339199]}, {\"name\": \"B\", \"x\": [0, 1, 2, 3, 4, 5, 6, 7, 8, 9], \"text\": \"\", \"type\": \"bar\", \"orientation\": \"v\", \"marker\": {\"line\": {\"width\": 1, \"color\": \"rgba(55, 128, 191, 1.0)\"}, \"color\": \"rgba(55, 128, 191, 0.6)\"}, \"y\": [0.7431597143750966, 0.08057034120349049, 0.9027310091354875, 0.5148909782597069, 0.10473653091067059, 0.06879611716851941, 0.10988893663593235, 0.25933758362170467, 0.06256954998641184, 0.9374493709194965]}, {\"name\": \"C\", \"x\": [0, 1, 2, 3, 4, 5, 6, 7, 8, 9], \"text\": \"\", \"type\": \"bar\", \"orientation\": \"v\", \"marker\": {\"line\": {\"width\": 1, \"color\": \"rgba(50, 171, 96, 1.0)\"}, \"color\": \"rgba(50, 171, 96, 0.6)\"}, \"y\": [0.6007328850427528, 0.06671739469239546, 0.30854248553428376, 0.4450893910432421, 0.004084238309707944, 0.4518774375724449, 0.28486771063146055, 0.24569590122676155, 0.37414832379870067, 0.4138077235913177]}], {\"width\": 1116, \"titlefont\": {\"color\": \"#4D5663\"}, \"height\": 587, \"barmode\": \"stack\", \"yaxis1\": {\"titlefont\": {\"color\": \"#4D5663\"}, \"tickfont\": {\"color\": \"#4D5663\"}, \"title\": \"\", \"showgrid\": true, \"zerolinecolor\": \"#E1E5ED\", \"gridcolor\": \"#E1E5ED\"}, \"legend\": {\"bgcolor\": \"#F5F6F9\", \"font\": {\"color\": \"#4D5663\"}, \"traceorder\": \"normal\"}, \"plot_bgcolor\": \"#F5F6F9\", \"paper_bgcolor\": \"#F5F6F9\", \"xaxis1\": {\"titlefont\": {\"color\": \"#4D5663\"}, \"tickfont\": {\"color\": \"#4D5663\"}, \"title\": \"\", \"showgrid\": true, \"zerolinecolor\": \"#E1E5ED\", \"gridcolor\": \"#E1E5ED\"}}, {\"linkText\": \"Export to plot.ly\", \"showLink\": true})</script>"
      ],
      "text/plain": [
       "<IPython.core.display.HTML object>"
      ]
     },
     "metadata": {},
     "output_type": "display_data"
    }
   ],
   "source": [
    "plotdata.iplot(kind='bar', barmode='stack')"
   ]
  },
  {
   "cell_type": "markdown",
   "metadata": {},
   "source": [
    "## Creating Graphics using Matplotlib"
   ]
  },
  {
   "cell_type": "code",
   "execution_count": 18,
   "metadata": {
    "collapsed": false
   },
   "outputs": [
    {
     "data": {
      "text/plain": [
       "<matplotlib.legend.Legend at 0x7fe607db8780>"
      ]
     },
     "execution_count": 18,
     "metadata": {},
     "output_type": "execute_result"
    },
    {
     "data": {
      "image/png": "[encoded data removed]",
      "text/plain": [
       "<matplotlib.figure.Figure at 0x7fe60e08a390>"
      ]
     },
     "metadata": {},
     "output_type": "display_data"
    }
   ],
   "source": [
    "import matplotlib.pyplot as plt\n",
    "\n",
    "width = 1\n",
    "height = 0.5\n",
    "\n",
    "p1 = plt.barh(plotdata.index + 0.2, plotdata['A'], height, color='b')\n",
    "\n",
    "p2 = plt.barh(plotdata.index + 0.2, plotdata['B'], height, color='g')\n",
    "\n",
    "p3 = plt.barh(plotdata.index + 0.2, plotdata['C'], height, color='r')\n",
    "\n",
    "plt.yticks(plotdata.index + width / 2., list(plotdata.index))\n",
    "plt.legend((p1[0], p2[0], p3[0]), ('A', 'B', 'C'))"
   ]
  },
  {
   "cell_type": "markdown",
   "metadata": {},
   "source": [
    "## Interactive Visualization with Bokeh"
   ]
  },
  {
   "cell_type": "code",
   "execution_count": 144,
   "metadata": {
    "collapsed": false
   },
   "outputs": [
    {
     "data": {
      "text/html": [
       "\n",
       "    <div class=\"bk-banner\">\n",
       "        <a href=\"http://bokeh.pydata.org\" target=\"_blank\" class=\"bk-logo bk-logo-small bk-logo-notebook\"></a>\n",
       "        <span id=\"068b486f-67b9-46a2-9e75-1dfab743a570\">Loading BokehJS ...</span>\n",
       "    </div>"
      ]
     },
     "metadata": {},
     "output_type": "display_data"
    },
    {
     "data": {
      "application/javascript": [
       "\n",
       "(function(global) {\n",
       "  function now() {\n",
       "    return new Date();\n",
       "  }\n",
       "\n",
       "  if (typeof (window._bokeh_onload_callbacks) === \"undefined\") {\n",
       "    window._bokeh_onload_callbacks = [];\n",
       "  }\n",
       "\n",
       "  function run_callbacks() {\n",
       "    window._bokeh_onload_callbacks.forEach(function(callback) { callback() });\n",
       "    delete window._bokeh_onload_callbacks\n",
       "    console.info(\"Bokeh: all callbacks have finished\");\n",
       "  }\n",
       "\n",
       "  function load_libs(js_urls, callback) {\n",
       "    window._bokeh_onload_callbacks.push(callback);\n",
       "    if (window._bokeh_is_loading > 0) {\n",
       "      console.log(\"Bokeh: BokehJS is being loaded, scheduling callback at\", now());\n",
       "      return null;\n",
       "    }\n",
       "    if (js_urls == null || js_urls.length === 0) {\n",
       "      run_callbacks();\n",
       "      return null;\n",
       "    }\n",
       "    console.log(\"Bokeh: BokehJS not loaded, scheduling load and callback at\", now());\n",
       "    window._bokeh_is_loading = js_urls.length;\n",
       "    for (var i = 0; i < js_urls.length; i++) {\n",
       "      var url = js_urls[i];\n",
       "      var s = document.createElement('script');\n",
       "      s.src = url;\n",
       "      s.async = false;\n",
       "      s.onreadystatechange = s.onload = function() {\n",
       "        window._bokeh_is_loading--;\n",
       "        if (window._bokeh_is_loading === 0) {\n",
       "          console.log(\"Bokeh: all BokehJS libraries loaded\");\n",
       "          run_callbacks()\n",
       "        }\n",
       "      };\n",
       "      s.onerror = function() {\n",
       "        console.warn(\"failed to load library \" + url);\n",
       "      };\n",
       "      console.log(\"Bokeh: injecting script tag for BokehJS library: \", url);\n",
       "      document.getElementsByTagName(\"head\")[0].appendChild(s);\n",
       "    }\n",
       "  };\n",
       "\n",
       "  var js_urls = ['https://cdn.pydata.org/bokeh/release/bokeh-0.11.1.min.js', 'https://cdn.pydata.org/bokeh/release/bokeh-widgets-0.11.1.min.js', 'https://cdn.pydata.org/bokeh/release/bokeh-compiler-0.11.1.min.js'];\n",
       "\n",
       "  var inline_js = [\n",
       "    function(Bokeh) {\n",
       "      Bokeh.set_log_level(\"info\");\n",
       "    },\n",
       "    \n",
       "    function(Bokeh) {\n",
       "      Bokeh.$(\"#068b486f-67b9-46a2-9e75-1dfab743a570\").text(\"BokehJS successfully loaded\");\n",
       "    },\n",
       "    function(Bokeh) {\n",
       "      console.log(\"Bokeh: injecting CSS: https://cdn.pydata.org/bokeh/release/bokeh-0.11.1.min.css\");\n",
       "      Bokeh.embed.inject_css(\"https://cdn.pydata.org/bokeh/release/bokeh-0.11.1.min.css\");\n",
       "      console.log(\"Bokeh: injecting CSS: https://cdn.pydata.org/bokeh/release/bokeh-widgets-0.11.1.min.css\");\n",
       "      Bokeh.embed.inject_css(\"https://cdn.pydata.org/bokeh/release/bokeh-widgets-0.11.1.min.css\");\n",
       "    }\n",
       "  ];\n",
       "\n",
       "  function run_inline_js() {\n",
       "    for (var i = 0; i < inline_js.length; i++) {\n",
       "      inline_js[i](window.Bokeh);\n",
       "    }\n",
       "  }\n",
       "\n",
       "  if (window._bokeh_is_loading === 0) {\n",
       "    console.log(\"Bokeh: BokehJS loaded, going straight to plotting\");\n",
       "    run_inline_js();\n",
       "  } else {\n",
       "    load_libs(js_urls, function() {\n",
       "      console.log(\"Bokeh: BokehJS plotting callback run at\", now());\n",
       "      run_inline_js();\n",
       "    });\n",
       "  }\n",
       "}(this));"
      ]
     },
     "metadata": {},
     "output_type": "display_data"
    }
   ],
   "source": [
    "import numpy as np\n",
    "import pandas as pd\n",
    "from bokeh.charts import Bar, Scatter, Line, show, output_notebook\n",
    "\n",
    "output_notebook()\n",
    "\n",
    "plotdata = pd.DataFrame(np.random.rand(10, 3), columns=['A', 'B', 'C'])"
   ]
  },
  {
   "cell_type": "code",
   "execution_count": 145,
   "metadata": {
    "collapsed": false
   },
   "outputs": [
    {
     "data": {
      "text/html": [
       "\n",
       "\n",
       "    <div class=\"plotdiv\" id=\"2aa02584-04a6-4dd3-892d-ad7f3bf50b29\"></div>\n",
       "<script type=\"text/javascript\">\n",
       "  \n",
       "  (function(global) {\n",
       "    function now() {\n",
       "      return new Date();\n",
       "    }\n",
       "  \n",
       "    if (typeof (window._bokeh_onload_callbacks) === \"undefined\") {\n",
       "      window._bokeh_onload_callbacks = [];\n",
       "    }\n",
       "  \n",
       "    function run_callbacks() {\n",
       "      window._bokeh_onload_callbacks.forEach(function(callback) { callback() });\n",
       "      delete window._bokeh_onload_callbacks\n",
       "      console.info(\"Bokeh: all callbacks have finished\");\n",
       "    }\n",
       "  \n",
       "    function load_libs(js_urls, callback) {\n",
       "      window._bokeh_onload_callbacks.push(callback);\n",
       "      if (window._bokeh_is_loading > 0) {\n",
       "        console.log(\"Bokeh: BokehJS is being loaded, scheduling callback at\", now());\n",
       "        return null;\n",
       "      }\n",
       "      if (js_urls == null || js_urls.length === 0) {\n",
       "        run_callbacks();\n",
       "        return null;\n",
       "      }\n",
       "      console.log(\"Bokeh: BokehJS not loaded, scheduling load and callback at\", now());\n",
       "      window._bokeh_is_loading = js_urls.length;\n",
       "      for (var i = 0; i < js_urls.length; i++) {\n",
       "        var url = js_urls[i];\n",
       "        var s = document.createElement('script');\n",
       "        s.src = url;\n",
       "        s.async = false;\n",
       "        s.onreadystatechange = s.onload = function() {\n",
       "          window._bokeh_is_loading--;\n",
       "          if (window._bokeh_is_loading === 0) {\n",
       "            console.log(\"Bokeh: all BokehJS libraries loaded\");\n",
       "            run_callbacks()\n",
       "          }\n",
       "        };\n",
       "        s.onerror = function() {\n",
       "          console.warn(\"failed to load library \" + url);\n",
       "        };\n",
       "        console.log(\"Bokeh: injecting script tag for BokehJS library: \", url);\n",
       "        document.getElementsByTagName(\"head\")[0].appendChild(s);\n",
       "      }\n",
       "    };var element = document.getElementById(\"2aa02584-04a6-4dd3-892d-ad7f3bf50b29\");\n",
       "    if (element == null) {\n",
       "      console.log(\"Bokeh: ERROR: autoload.js configured with elementid '2aa02584-04a6-4dd3-892d-ad7f3bf50b29' but no matching script tag was found. \")\n",
       "      return false;\n",
       "    }\n",
       "  \n",
       "    var js_urls = [];\n",
       "  \n",
       "    var inline_js = [\n",
       "      function(Bokeh) {\n",
       "        Bokeh.$(function() {\n",
       "            var docs_json = {\"d273b841-77c9-4304-a041-61d0cc9183f5\":{\"roots\":{\"references\":[{\"attributes\":{\"line_color\":{\"value\":\"#f22c40\"},\"line_width\":{\"value\":2},\"x\":{\"field\":\"x_values\"},\"y\":{\"field\":\"y_values\"}},\"id\":\"5aa90d74-cb67-48a0-ab0e-5e1f87fcb97f\",\"type\":\"Line\"},{\"attributes\":{\"plot\":{\"id\":\"a1f9104c-31e5-4522-8cd2-850ebffcd8f5\",\"subtype\":\"Chart\",\"type\":\"Plot\"}},\"id\":\"773cc2b2-b19f-448e-b99e-1be3a35b4296\",\"type\":\"PanTool\"},{\"attributes\":{\"callback\":null,\"end\":9.9,\"start\":-0.9},\"id\":\"2dabcf32-c027-42d6-94f5-88b037890bfa\",\"type\":\"Range1d\"},{\"attributes\":{\"data_source\":{\"id\":\"82619958-950a-4214-95a7-7c53b6b45765\",\"type\":\"ColumnDataSource\"},\"glyph\":{\"id\":\"5aa90d74-cb67-48a0-ab0e-5e1f87fcb97f\",\"type\":\"Line\"},\"hover_glyph\":null,\"nonselection_glyph\":null,\"selection_glyph\":null},\"id\":\"524fb8df-c26d-4221-9d23-27d8b1166908\",\"type\":\"GlyphRenderer\"},{\"attributes\":{\"callback\":null,\"end\":1.0704965021724104,\"start\":-0.07373288355843405},\"id\":\"26b5564d-756e-4717-b528-327ddb430569\",\"type\":\"Range1d\"},{\"attributes\":{},\"id\":\"07207b49-2401-46ee-b706-14d26968b10f\",\"type\":\"BasicTickFormatter\"},{\"attributes\":{\"bottom_units\":\"screen\",\"fill_alpha\":{\"value\":0.5},\"fill_color\":{\"value\":\"lightgrey\"},\"left_units\":\"screen\",\"level\":\"overlay\",\"line_alpha\":{\"value\":1.0},\"line_color\":{\"value\":\"black\"},\"line_dash\":[4,4],\"line_width\":{\"value\":2},\"plot\":null,\"render_mode\":\"css\",\"right_units\":\"screen\",\"top_units\":\"screen\"},\"id\":\"0d4b896e-1a8a-4d08-813d-b6890a81445a\",\"type\":\"BoxAnnotation\"},{\"attributes\":{\"plot\":{\"id\":\"a1f9104c-31e5-4522-8cd2-850ebffcd8f5\",\"subtype\":\"Chart\",\"type\":\"Plot\"}},\"id\":\"f255e2b5-4dd7-4e4e-b97c-c5f86258ccdc\",\"type\":\"WheelZoomTool\"},{\"attributes\":{\"plot\":{\"id\":\"a1f9104c-31e5-4522-8cd2-850ebffcd8f5\",\"subtype\":\"Chart\",\"type\":\"Plot\"}},\"id\":\"eb3dfa12-bc83-4733-adec-2442b5acfc49\",\"type\":\"HelpTool\"},{\"attributes\":{\"axis_label\":\"index\",\"formatter\":{\"id\":\"dbd47c83-744d-4708-ac2d-428f9417f30c\",\"type\":\"BasicTickFormatter\"},\"plot\":{\"id\":\"a1f9104c-31e5-4522-8cd2-850ebffcd8f5\",\"subtype\":\"Chart\",\"type\":\"Plot\"},\"ticker\":{\"id\":\"cc3ad621-aec7-488d-84b7-a7bc6bcda94a\",\"type\":\"BasicTicker\"}},\"id\":\"3f1c72e8-5436-4a3c-9644-e48c8dfef725\",\"type\":\"LinearAxis\"},{\"attributes\":{\"line_color\":{\"value\":\"#5ab738\"},\"line_width\":{\"value\":2},\"x\":{\"field\":\"x_values\"},\"y\":{\"field\":\"y_values\"}},\"id\":\"3f0236e0-cb7b-4a47-9457-3b862d6370bf\",\"type\":\"Line\"},{\"attributes\":{\"axis_label\":\"value\",\"formatter\":{\"id\":\"07207b49-2401-46ee-b706-14d26968b10f\",\"type\":\"BasicTickFormatter\"},\"plot\":{\"id\":\"a1f9104c-31e5-4522-8cd2-850ebffcd8f5\",\"subtype\":\"Chart\",\"type\":\"Plot\"},\"ticker\":{\"id\":\"9839f45a-e9dd-43c4-85b7-ff9fa7b57f18\",\"type\":\"BasicTicker\"}},\"id\":\"fa7ad256-3f62-4147-b114-a840f7b9b497\",\"type\":\"LinearAxis\"},{\"attributes\":{\"plot\":{\"id\":\"a1f9104c-31e5-4522-8cd2-850ebffcd8f5\",\"subtype\":\"Chart\",\"type\":\"Plot\"}},\"id\":\"36086ddb-9a29-4314-a2fe-d80ce617f5f2\",\"type\":\"ResetTool\"},{\"attributes\":{\"plot\":{\"id\":\"a1f9104c-31e5-4522-8cd2-850ebffcd8f5\",\"subtype\":\"Chart\",\"type\":\"Plot\"},\"ticker\":{\"id\":\"cc3ad621-aec7-488d-84b7-a7bc6bcda94a\",\"type\":\"BasicTicker\"}},\"id\":\"427ad8a2-8869-44e9-b406-a90ca502505f\",\"type\":\"Grid\"},{\"attributes\":{\"line_color\":{\"value\":\"#407ee7\"},\"line_width\":{\"value\":2},\"x\":{\"field\":\"x_values\"},\"y\":{\"field\":\"y_values\"}},\"id\":\"1127da0f-fdc9-44cc-94dc-9ee4872dc2ca\",\"type\":\"Line\"},{\"attributes\":{\"callback\":null,\"column_names\":[\"x_values\",\"y_values\"],\"data\":{\"chart_index\":[{\"series\":\"A\"},{\"series\":\"A\"},{\"series\":\"A\"},{\"series\":\"A\"},{\"series\":\"A\"},{\"series\":\"A\"},{\"series\":\"A\"},{\"series\":\"A\"},{\"series\":\"A\"},{\"series\":\"A\"}],\"series\":[\"A\",\"A\",\"A\",\"A\",\"A\",\"A\",\"A\",\"A\",\"A\",\"A\"],\"x_values\":[0,1,2,3,4,5,6,7,8,9],\"y_values\":[0.9751440533615068,0.021619565252469664,0.7401829816703144,0.4201791623431991,0.4009694704370096,0.500121644722028,0.6050739719258597,0.11796985163254914,0.23640327945033723,0.4120172831891177]}},\"id\":\"82619958-950a-4214-95a7-7c53b6b45765\",\"type\":\"ColumnDataSource\"},{\"attributes\":{},\"id\":\"9e01cf95-e94c-45bb-a6ba-b9a7e1168225\",\"type\":\"ToolEvents\"},{\"attributes\":{},\"id\":\"cc3ad621-aec7-488d-84b7-a7bc6bcda94a\",\"type\":\"BasicTicker\"},{\"attributes\":{},\"id\":\"9839f45a-e9dd-43c4-85b7-ff9fa7b57f18\",\"type\":\"BasicTicker\"},{\"attributes\":{\"dimension\":1,\"plot\":{\"id\":\"a1f9104c-31e5-4522-8cd2-850ebffcd8f5\",\"subtype\":\"Chart\",\"type\":\"Plot\"},\"ticker\":{\"id\":\"9839f45a-e9dd-43c4-85b7-ff9fa7b57f18\",\"type\":\"BasicTicker\"}},\"id\":\"a84f6810-ec47-433a-b081-817541f6604b\",\"type\":\"Grid\"},{\"attributes\":{\"data_source\":{\"id\":\"20dd8833-d333-4953-afc0-54024c18965e\",\"type\":\"ColumnDataSource\"},\"glyph\":{\"id\":\"3f0236e0-cb7b-4a47-9457-3b862d6370bf\",\"type\":\"Line\"},\"hover_glyph\":null,\"nonselection_glyph\":null,\"selection_glyph\":null},\"id\":\"acdda2f9-6687-4179-9603-167085f6c118\",\"type\":\"GlyphRenderer\"},{\"attributes\":{\"overlay\":{\"id\":\"0d4b896e-1a8a-4d08-813d-b6890a81445a\",\"type\":\"BoxAnnotation\"},\"plot\":{\"id\":\"a1f9104c-31e5-4522-8cd2-850ebffcd8f5\",\"subtype\":\"Chart\",\"type\":\"Plot\"}},\"id\":\"4e80266e-cd5b-4812-943b-abc10848a9d3\",\"type\":\"BoxZoomTool\"},{\"attributes\":{\"data_source\":{\"id\":\"bfcde13f-1d35-4d9a-8a46-c43dd46d34ff\",\"type\":\"ColumnDataSource\"},\"glyph\":{\"id\":\"1127da0f-fdc9-44cc-94dc-9ee4872dc2ca\",\"type\":\"Line\"},\"hover_glyph\":null,\"nonselection_glyph\":null,\"selection_glyph\":null},\"id\":\"223c8afe-92e5-4a3d-93c6-1e75331ea9e3\",\"type\":\"GlyphRenderer\"},{\"attributes\":{\"callback\":null,\"column_names\":[\"x_values\",\"y_values\"],\"data\":{\"chart_index\":[{\"series\":\"C\"},{\"series\":\"C\"},{\"series\":\"C\"},{\"series\":\"C\"},{\"series\":\"C\"},{\"series\":\"C\"},{\"series\":\"C\"},{\"series\":\"C\"},{\"series\":\"C\"},{\"series\":\"C\"}],\"series\":[\"C\",\"C\",\"C\",\"C\",\"C\",\"C\",\"C\",\"C\",\"C\",\"C\"],\"x_values\":[0,1,2,3,4,5,6,7,8,9],\"y_values\":[0.8388815823557458,0.036439162860363195,0.09935549384009557,0.6580051291387226,0.358648559841829,0.8671849310940903,0.1776147291661463,0.829473101553415,0.44215139213552734,0.7004087923598431]}},\"id\":\"bfcde13f-1d35-4d9a-8a46-c43dd46d34ff\",\"type\":\"ColumnDataSource\"},{\"attributes\":{\"plot\":{\"id\":\"a1f9104c-31e5-4522-8cd2-850ebffcd8f5\",\"subtype\":\"Chart\",\"type\":\"Plot\"}},\"id\":\"cc31e279-f300-45db-89e0-be3e8acfe854\",\"type\":\"PreviewSaveTool\"},{\"attributes\":{},\"id\":\"dbd47c83-744d-4708-ac2d-428f9417f30c\",\"type\":\"BasicTickFormatter\"},{\"attributes\":{\"callback\":null,\"column_names\":[\"x_values\",\"y_values\"],\"data\":{\"chart_index\":[{\"series\":\"B\"},{\"series\":\"B\"},{\"series\":\"B\"},{\"series\":\"B\"},{\"series\":\"B\"},{\"series\":\"B\"},{\"series\":\"B\"},{\"series\":\"B\"},{\"series\":\"B\"},{\"series\":\"B\"}],\"series\":[\"B\",\"B\",\"B\",\"B\",\"B\",\"B\",\"B\",\"B\",\"B\",\"B\"],\"x_values\":[0,1,2,3,4,5,6,7,8,9],\"y_values\":[0.7094131709894138,0.6436696339660761,0.149215324116174,0.8565217445863936,0.4337979257531056,0.08711435510082954,0.4103436595097808,0.20271859787027746,0.9227858245098451,0.7027073374164652]}},\"id\":\"20dd8833-d333-4953-afc0-54024c18965e\",\"type\":\"ColumnDataSource\"},{\"attributes\":{\"plot\":{\"id\":\"a1f9104c-31e5-4522-8cd2-850ebffcd8f5\",\"subtype\":\"Chart\",\"type\":\"Plot\"}},\"id\":\"c435e86f-7fa8-413f-8fd4-4b2d537e59a6\",\"type\":\"ResizeTool\"},{\"attributes\":{\"below\":[{\"id\":\"3f1c72e8-5436-4a3c-9644-e48c8dfef725\",\"type\":\"LinearAxis\"}],\"left\":[{\"id\":\"fa7ad256-3f62-4147-b114-a840f7b9b497\",\"type\":\"LinearAxis\"}],\"legend\":null,\"renderers\":[{\"id\":\"0d4b896e-1a8a-4d08-813d-b6890a81445a\",\"type\":\"BoxAnnotation\"},{\"id\":\"524fb8df-c26d-4221-9d23-27d8b1166908\",\"type\":\"GlyphRenderer\"},{\"id\":\"acdda2f9-6687-4179-9603-167085f6c118\",\"type\":\"GlyphRenderer\"},{\"id\":\"223c8afe-92e5-4a3d-93c6-1e75331ea9e3\",\"type\":\"GlyphRenderer\"},{\"id\":\"3f1c72e8-5436-4a3c-9644-e48c8dfef725\",\"type\":\"LinearAxis\"},{\"id\":\"fa7ad256-3f62-4147-b114-a840f7b9b497\",\"type\":\"LinearAxis\"},{\"id\":\"427ad8a2-8869-44e9-b406-a90ca502505f\",\"type\":\"Grid\"},{\"id\":\"a84f6810-ec47-433a-b081-817541f6604b\",\"type\":\"Grid\"}],\"title_text_font_size\":{\"value\":\"14pt\"},\"tool_events\":{\"id\":\"9e01cf95-e94c-45bb-a6ba-b9a7e1168225\",\"type\":\"ToolEvents\"},\"tools\":[{\"id\":\"773cc2b2-b19f-448e-b99e-1be3a35b4296\",\"type\":\"PanTool\"},{\"id\":\"f255e2b5-4dd7-4e4e-b97c-c5f86258ccdc\",\"type\":\"WheelZoomTool\"},{\"id\":\"4e80266e-cd5b-4812-943b-abc10848a9d3\",\"type\":\"BoxZoomTool\"},{\"id\":\"cc31e279-f300-45db-89e0-be3e8acfe854\",\"type\":\"PreviewSaveTool\"},{\"id\":\"c435e86f-7fa8-413f-8fd4-4b2d537e59a6\",\"type\":\"ResizeTool\"},{\"id\":\"36086ddb-9a29-4314-a2fe-d80ce617f5f2\",\"type\":\"ResetTool\"},{\"id\":\"eb3dfa12-bc83-4733-adec-2442b5acfc49\",\"type\":\"HelpTool\"}],\"x_mapper_type\":\"auto\",\"x_range\":{\"id\":\"2dabcf32-c027-42d6-94f5-88b037890bfa\",\"type\":\"Range1d\"},\"xscale\":\"auto\",\"y_mapper_type\":\"auto\",\"y_range\":{\"id\":\"26b5564d-756e-4717-b528-327ddb430569\",\"type\":\"Range1d\"},\"yscale\":\"auto\"},\"id\":\"a1f9104c-31e5-4522-8cd2-850ebffcd8f5\",\"subtype\":\"Chart\",\"type\":\"Plot\"}],\"root_ids\":[\"a1f9104c-31e5-4522-8cd2-850ebffcd8f5\"]},\"title\":\"Bokeh Application\",\"version\":\"0.11.1\"}};\n",
       "            var render_items = [{\"docid\":\"d273b841-77c9-4304-a041-61d0cc9183f5\",\"elementid\":\"2aa02584-04a6-4dd3-892d-ad7f3bf50b29\",\"modelid\":\"a1f9104c-31e5-4522-8cd2-850ebffcd8f5\",\"notebook_comms_target\":\"e6fee59e-25f0-4502-994c-4df511371973\"}];\n",
       "            \n",
       "            Bokeh.embed.embed_items(docs_json, render_items);\n",
       "        });\n",
       "      },\n",
       "      function(Bokeh) {\n",
       "      }\n",
       "    ];\n",
       "  \n",
       "    function run_inline_js() {\n",
       "      for (var i = 0; i < inline_js.length; i++) {\n",
       "        inline_js[i](window.Bokeh);\n",
       "      }\n",
       "    }\n",
       "  \n",
       "    if (window._bokeh_is_loading === 0) {\n",
       "      console.log(\"Bokeh: BokehJS loaded, going straight to plotting\");\n",
       "      run_inline_js();\n",
       "    } else {\n",
       "      load_libs(js_urls, function() {\n",
       "        console.log(\"Bokeh: BokehJS plotting callback run at\", now());\n",
       "        run_inline_js();\n",
       "      });\n",
       "    }\n",
       "  }(this));\n",
       "</script>"
      ]
     },
     "metadata": {},
     "output_type": "display_data"
    },
    {
     "data": {
      "text/html": [
       "<p><code>&lt;Bokeh Notebook handle for <strong>In[145]</strong>&gt;</code></p>"
      ],
      "text/plain": [
       "<bokeh.io._CommsHandle at 0x7f8a41087da0>"
      ]
     },
     "execution_count": 145,
     "metadata": {},
     "output_type": "execute_result"
    }
   ],
   "source": [
    "show(Line(plotdata))"
   ]
  },
  {
   "cell_type": "code",
   "execution_count": 146,
   "metadata": {
    "collapsed": true
   },
   "outputs": [],
   "source": [
    "df = plotdata[['A', 'B', 'C']].unstack().reset_index(level=0)\n",
    "df = df.rename(columns={'level_0': 'name', 0: 'value'})"
   ]
  },
  {
   "cell_type": "code",
   "execution_count": 149,
   "metadata": {
    "collapsed": false
   },
   "outputs": [
    {
     "data": {
      "text/html": [
       "\n",
       "\n",
       "    <div class=\"plotdiv\" id=\"aab3dd33-921e-4099-95e7-f5faa5bd5003\"></div>\n",
       "<script type=\"text/javascript\">\n",
       "  \n",
       "  (function(global) {\n",
       "    function now() {\n",
       "      return new Date();\n",
       "    }\n",
       "  \n",
       "    if (typeof (window._bokeh_onload_callbacks) === \"undefined\") {\n",
       "      window._bokeh_onload_callbacks = [];\n",
       "    }\n",
       "  \n",
       "    function run_callbacks() {\n",
       "      window._bokeh_onload_callbacks.forEach(function(callback) { callback() });\n",
       "      delete window._bokeh_onload_callbacks\n",
       "      console.info(\"Bokeh: all callbacks have finished\");\n",
       "    }\n",
       "  \n",
       "    function load_libs(js_urls, callback) {\n",
       "      window._bokeh_onload_callbacks.push(callback);\n",
       "      if (window._bokeh_is_loading > 0) {\n",
       "        console.log(\"Bokeh: BokehJS is being loaded, scheduling callback at\", now());\n",
       "        return null;\n",
       "      }\n",
       "      if (js_urls == null || js_urls.length === 0) {\n",
       "        run_callbacks();\n",
       "        return null;\n",
       "      }\n",
       "      console.log(\"Bokeh: BokehJS not loaded, scheduling load and callback at\", now());\n",
       "      window._bokeh_is_loading = js_urls.length;\n",
       "      for (var i = 0; i < js_urls.length; i++) {\n",
       "        var url = js_urls[i];\n",
       "        var s = document.createElement('script');\n",
       "        s.src = url;\n",
       "        s.async = false;\n",
       "        s.onreadystatechange = s.onload = function() {\n",
       "          window._bokeh_is_loading--;\n",
       "          if (window._bokeh_is_loading === 0) {\n",
       "            console.log(\"Bokeh: all BokehJS libraries loaded\");\n",
       "            run_callbacks()\n",
       "          }\n",
       "        };\n",
       "        s.onerror = function() {\n",
       "          console.warn(\"failed to load library \" + url);\n",
       "        };\n",
       "        console.log(\"Bokeh: injecting script tag for BokehJS library: \", url);\n",
       "        document.getElementsByTagName(\"head\")[0].appendChild(s);\n",
       "      }\n",
       "    };var element = document.getElementById(\"aab3dd33-921e-4099-95e7-f5faa5bd5003\");\n",
       "    if (element == null) {\n",
       "      console.log(\"Bokeh: ERROR: autoload.js configured with elementid 'aab3dd33-921e-4099-95e7-f5faa5bd5003' but no matching script tag was found. \")\n",
       "      return false;\n",
       "    }\n",
       "  \n",
       "    var js_urls = [];\n",
       "  \n",
       "    var inline_js = [\n",
       "      function(Bokeh) {\n",
       "        Bokeh.$(function() {\n",
       "            var docs_json = {\"f9682a73-2c0d-4b0a-a358-0e2d0b052eab\":{\"roots\":{\"references\":[{\"attributes\":{\"callback\":null,\"column_names\":[\"width\",\"x\",\"height\",\"color\",\"line_color\",\"fill_alpha\",\"line_alpha\",\"y\"],\"data\":{\"chart_index\":[{\"index\":0,\"name\":\"A\"}],\"color\":[\"#f22c40\"],\"fill_alpha\":[0.8],\"height\":[0.9751440533615068],\"index\":[0],\"line_alpha\":[1.0],\"line_color\":[\"white\"],\"name\":[\"A\"],\"width\":[0.8],\"x\":[\"0\"],\"y\":[0.4875720266807534]}},\"id\":\"671dab53-8943-425c-ab6b-1d8abdca59ad\",\"type\":\"ColumnDataSource\"},{\"attributes\":{\"fill_alpha\":{\"field\":\"fill_alpha\"},\"fill_color\":{\"field\":\"color\"},\"height\":{\"field\":\"height\",\"units\":\"data\"},\"line_color\":{\"field\":\"line_color\"},\"width\":{\"field\":\"width\",\"units\":\"data\"},\"x\":{\"field\":\"x\"},\"y\":{\"field\":\"y\"}},\"id\":\"bd197533-fda8-440b-8258-9c5843c20f6f\",\"type\":\"Rect\"},{\"attributes\":{\"fill_alpha\":{\"field\":\"fill_alpha\"},\"fill_color\":{\"field\":\"color\"},\"height\":{\"field\":\"height\",\"units\":\"data\"},\"line_color\":{\"field\":\"line_color\"},\"width\":{\"field\":\"width\",\"units\":\"data\"},\"x\":{\"field\":\"x\"},\"y\":{\"field\":\"y\"}},\"id\":\"e2b113c7-97b1-4a2c-b87d-5b4d6dada845\",\"type\":\"Rect\"},{\"attributes\":{\"plot\":{\"id\":\"a1f9104c-31e5-4522-8cd2-850ebffcd8f5\",\"subtype\":\"Chart\",\"type\":\"Plot\"}},\"id\":\"f255e2b5-4dd7-4e4e-b97c-c5f86258ccdc\",\"type\":\"WheelZoomTool\"},{\"attributes\":{\"below\":[{\"id\":\"8c34ec77-949d-40a7-9ede-b5dd62a2dfee\",\"type\":\"CategoricalAxis\"}],\"left\":[{\"id\":\"a27dd56a-8343-4693-9bd1-1a8c11187df0\",\"type\":\"LinearAxis\"}],\"legend\":\"top_right\",\"renderers\":[{\"id\":\"1120b6fc-09b2-4cdb-9f08-28f9221cf295\",\"type\":\"BoxAnnotation\"},{\"id\":\"5e15d7df-c390-40d2-9f96-33d40910c2a3\",\"type\":\"GlyphRenderer\"},{\"id\":\"5ebadb61-b98f-44a9-b245-04b34b0818af\",\"type\":\"GlyphRenderer\"},{\"id\":\"200f35e8-be69-4978-85b6-fbadb07c087a\",\"type\":\"GlyphRenderer\"},{\"id\":\"c3b94981-d559-422d-ab66-70609edb83d0\",\"type\":\"GlyphRenderer\"},{\"id\":\"0b34de41-ed21-4df7-9c19-6e6f0a1e7f79\",\"type\":\"GlyphRenderer\"},{\"id\":\"50411ba1-8025-49e7-a73e-b43f42d76298\",\"type\":\"GlyphRenderer\"},{\"id\":\"ecbaabed-8abc-4389-882c-15ec4cf6f006\",\"type\":\"GlyphRenderer\"},{\"id\":\"03c5b1fc-628c-4cd3-914f-4960bdbb50e1\",\"type\":\"GlyphRenderer\"},{\"id\":\"e4b28c1b-64ae-466b-80d2-f347811e203d\",\"type\":\"GlyphRenderer\"},{\"id\":\"dcb4a58c-dfbc-4d89-8f6e-3a1975ba1483\",\"type\":\"GlyphRenderer\"},{\"id\":\"c30e13ec-953d-4c36-9197-5440d8e9473a\",\"type\":\"Legend\"},{\"id\":\"8c34ec77-949d-40a7-9ede-b5dd62a2dfee\",\"type\":\"CategoricalAxis\"},{\"id\":\"a27dd56a-8343-4693-9bd1-1a8c11187df0\",\"type\":\"LinearAxis\"},{\"id\":\"fdcc0d7c-c1cc-4155-9e69-14b860c3a63b\",\"type\":\"Grid\"}],\"title_text_font_size\":{\"value\":\"14pt\"},\"tool_events\":{\"id\":\"c6ccf592-34cd-4980-9b25-a6de5491ed2f\",\"type\":\"ToolEvents\"},\"tools\":[{\"id\":\"8226fa1a-0a68-4050-aa3c-b2da8b0523fc\",\"type\":\"PanTool\"},{\"id\":\"29ed64f0-80e7-43a2-a9de-69a7c43c80bf\",\"type\":\"WheelZoomTool\"},{\"id\":\"baed21e7-8f2f-418a-a983-5cc43611ae0b\",\"type\":\"BoxZoomTool\"},{\"id\":\"811404e8-1d75-42b7-b1c4-02a728e66cac\",\"type\":\"PreviewSaveTool\"},{\"id\":\"53cd3739-fe80-4477-8b28-12c6d6bbe528\",\"type\":\"ResizeTool\"},{\"id\":\"aa56326d-fbf7-4b7e-95a3-00a0b5cf0005\",\"type\":\"ResetTool\"},{\"id\":\"80e71fe9-17ca-4e2b-b64f-d17cc058258d\",\"type\":\"HelpTool\"}],\"x_mapper_type\":\"auto\",\"x_range\":{\"id\":\"57cf048c-8c49-4f68-961b-122cc469a570\",\"type\":\"FactorRange\"},\"xgrid\":false,\"xscale\":\"auto\",\"y_mapper_type\":\"auto\",\"y_range\":{\"id\":\"ed013fb7-5f7f-4689-b9e4-adc0e5e033fe\",\"type\":\"Range1d\"},\"yscale\":\"auto\"},\"id\":\"5041620a-abf7-44f1-b325-41e35bd70cd5\",\"subtype\":\"Chart\",\"type\":\"Plot\"},{\"attributes\":{\"fill_alpha\":{\"field\":\"fill_alpha\"},\"fill_color\":{\"field\":\"color\"},\"height\":{\"field\":\"height\",\"units\":\"data\"},\"line_color\":{\"field\":\"line_color\"},\"width\":{\"field\":\"width\",\"units\":\"data\"},\"x\":{\"field\":\"x\"},\"y\":{\"field\":\"y\"}},\"id\":\"4d75315a-8fc4-4624-8ce2-8d65dc83a63f\",\"type\":\"Rect\"},{\"attributes\":{\"data_source\":{\"id\":\"671dab53-8943-425c-ab6b-1d8abdca59ad\",\"type\":\"ColumnDataSource\"},\"glyph\":{\"id\":\"7219b464-e6c5-4f60-b8fb-3c454885cae7\",\"type\":\"Rect\"},\"hover_glyph\":null,\"nonselection_glyph\":null,\"selection_glyph\":null},\"id\":\"269a6e7b-11fc-42e9-ba38-f345b3d930f4\",\"type\":\"GlyphRenderer\"},{\"attributes\":{\"data_source\":{\"id\":\"b44e9506-537e-4736-82e7-a3915f9fdb2f\",\"type\":\"ColumnDataSource\"},\"glyph\":{\"id\":\"56a89037-8112-40fc-a257-948022b36912\",\"type\":\"Rect\"},\"hover_glyph\":null,\"nonselection_glyph\":null,\"selection_glyph\":null},\"id\":\"ecbaabed-8abc-4389-882c-15ec4cf6f006\",\"type\":\"GlyphRenderer\"},{\"attributes\":{\"callback\":null,\"column_names\":[\"width\",\"x\",\"height\",\"color\",\"line_color\",\"fill_alpha\",\"line_alpha\",\"y\"],\"data\":{\"chart_index\":[{\"index\":8,\"name\":\"A\"}],\"color\":[\"#f22c40\"],\"fill_alpha\":[0.8],\"height\":[0.23640327945033723],\"index\":[8],\"line_alpha\":[1.0],\"line_color\":[\"white\"],\"name\":[\"A\"],\"width\":[0.8],\"x\":[\"8\"],\"y\":[0.11820163972516862]}},\"id\":\"f09035ea-1dc8-4c27-ac4d-1bf34e3d67a5\",\"type\":\"ColumnDataSource\"},{\"attributes\":{\"callback\":null,\"column_names\":[\"width\",\"x\",\"height\",\"color\",\"line_color\",\"fill_alpha\",\"line_alpha\",\"y\"],\"data\":{\"chart_index\":[{\"index\":1,\"name\":\"A\"}],\"color\":[\"#f22c40\"],\"fill_alpha\":[0.8],\"height\":[0.021619565252469664],\"index\":[1],\"line_alpha\":[1.0],\"line_color\":[\"white\"],\"name\":[\"A\"],\"width\":[0.8],\"x\":[\"1\"],\"y\":[0.010809782626234832]}},\"id\":\"e163a114-91e6-40ae-9392-57f44494315c\",\"type\":\"ColumnDataSource\"},{\"attributes\":{\"plot\":{\"id\":\"5041620a-abf7-44f1-b325-41e35bd70cd5\",\"subtype\":\"Chart\",\"type\":\"Plot\"}},\"id\":\"53cd3739-fe80-4477-8b28-12c6d6bbe528\",\"type\":\"ResizeTool\"},{\"attributes\":{\"data_source\":{\"id\":\"ea185bae-ee93-4393-a967-6486efef1b46\",\"type\":\"ColumnDataSource\"},\"glyph\":{\"id\":\"bb03e113-1260-4d3d-aaa6-842da0a3df4b\",\"type\":\"Rect\"},\"hover_glyph\":null,\"nonselection_glyph\":null,\"selection_glyph\":null},\"id\":\"124769fd-d246-4d29-b7b4-2e4c2ad320ee\",\"type\":\"GlyphRenderer\"},{\"attributes\":{\"callback\":null,\"end\":9.9,\"start\":-0.9},\"id\":\"2dabcf32-c027-42d6-94f5-88b037890bfa\",\"type\":\"Range1d\"},{\"attributes\":{\"data_source\":{\"id\":\"eac59f86-97fe-4d9b-b2f1-a06c9fd64d7f\",\"type\":\"ColumnDataSource\"},\"glyph\":{\"id\":\"b813873f-e51e-4e60-b175-dabdebef4dd4\",\"type\":\"Rect\"},\"hover_glyph\":null,\"nonselection_glyph\":null,\"selection_glyph\":null},\"id\":\"e4b28c1b-64ae-466b-80d2-f347811e203d\",\"type\":\"GlyphRenderer\"},{\"attributes\":{\"data_source\":{\"id\":\"710ebf2d-d7b4-4d16-9d1c-f09959eec571\",\"type\":\"ColumnDataSource\"},\"glyph\":{\"id\":\"884894dd-061f-494a-89d1-4693d2bf1d09\",\"type\":\"Rect\"},\"hover_glyph\":null,\"nonselection_glyph\":null,\"selection_glyph\":null},\"id\":\"675476b1-0bf3-4e7b-b53a-37529ba7a65d\",\"type\":\"GlyphRenderer\"},{\"attributes\":{\"callback\":null,\"column_names\":[\"width\",\"x\",\"height\",\"color\",\"line_color\",\"fill_alpha\",\"line_alpha\",\"y\"],\"data\":{\"chart_index\":[{\"index\":7,\"name\":\"C\"}],\"color\":[\"#407ee7\"],\"fill_alpha\":[0.8],\"height\":[0.829473101553415],\"index\":[7],\"line_alpha\":[1.0],\"line_color\":[\"white\"],\"name\":[\"C\"],\"width\":[0.8],\"x\":[\"7\"],\"y\":[0.7354250002795342]}},\"id\":\"33001f4f-a0c0-4e28-8d5b-9cfebc6d027c\",\"type\":\"ColumnDataSource\"},{\"attributes\":{\"bottom_units\":\"screen\",\"fill_alpha\":{\"value\":0.5},\"fill_color\":{\"value\":\"lightgrey\"},\"left_units\":\"screen\",\"level\":\"overlay\",\"line_alpha\":{\"value\":1.0},\"line_color\":{\"value\":\"black\"},\"line_dash\":[4,4],\"line_width\":{\"value\":2},\"plot\":null,\"render_mode\":\"css\",\"right_units\":\"screen\",\"top_units\":\"screen\"},\"id\":\"1120b6fc-09b2-4cdb-9f08-28f9221cf295\",\"type\":\"BoxAnnotation\"},{\"attributes\":{\"fill_alpha\":{\"field\":\"fill_alpha\"},\"fill_color\":{\"field\":\"color\"},\"height\":{\"field\":\"height\",\"units\":\"data\"},\"line_color\":{\"field\":\"line_color\"},\"width\":{\"field\":\"width\",\"units\":\"data\"},\"x\":{\"field\":\"x\"},\"y\":{\"field\":\"y\"}},\"id\":\"a5d60655-ae3b-4264-bceb-7708bd0b088e\",\"type\":\"Rect\"},{\"attributes\":{\"data_source\":{\"id\":\"bcbfcfbb-719f-404f-8f80-c37296948a5e\",\"type\":\"ColumnDataSource\"},\"glyph\":{\"id\":\"9059fc63-a737-43b5-bf13-cbab4305018f\",\"type\":\"Rect\"},\"hover_glyph\":null,\"nonselection_glyph\":null,\"selection_glyph\":null},\"id\":\"fe81e438-9e48-4e69-b509-8ad65fa6b83b\",\"type\":\"GlyphRenderer\"},{\"attributes\":{\"callback\":null,\"column_names\":[\"x_values\",\"y_values\"],\"data\":{\"chart_index\":[{\"series\":\"C\"},{\"series\":\"C\"},{\"series\":\"C\"},{\"series\":\"C\"},{\"series\":\"C\"},{\"series\":\"C\"},{\"series\":\"C\"},{\"series\":\"C\"},{\"series\":\"C\"},{\"series\":\"C\"}],\"series\":[\"C\",\"C\",\"C\",\"C\",\"C\",\"C\",\"C\",\"C\",\"C\",\"C\"],\"x_values\":[0,1,2,3,4,5,6,7,8,9],\"y_values\":[0.8388815823557458,0.036439162860363195,0.09935549384009557,0.6580051291387226,0.358648559841829,0.8671849310940903,0.1776147291661463,0.829473101553415,0.44215139213552734,0.7004087923598431]}},\"id\":\"bfcde13f-1d35-4d9a-8a46-c43dd46d34ff\",\"type\":\"ColumnDataSource\"},{\"attributes\":{\"callback\":null,\"column_names\":[\"width\",\"x\",\"height\",\"color\",\"line_color\",\"fill_alpha\",\"line_alpha\",\"y\"],\"data\":{\"chart_index\":[{\"index\":4,\"name\":\"A\"}],\"color\":[\"#f22c40\"],\"fill_alpha\":[0.8],\"height\":[0.4009694704370096],\"index\":[4],\"line_alpha\":[1.0],\"line_color\":[\"white\"],\"name\":[\"A\"],\"width\":[0.8],\"x\":[\"4\"],\"y\":[0.2004847352185048]}},\"id\":\"c884863c-0192-48b7-92a4-a63522505e83\",\"type\":\"ColumnDataSource\"},{\"attributes\":{},\"id\":\"28438f91-ffdf-49c6-8b9d-016fdcc31dd4\",\"type\":\"CategoricalTickFormatter\"},{\"attributes\":{\"callback\":null,\"column_names\":[\"width\",\"x\",\"height\",\"color\",\"line_color\",\"fill_alpha\",\"line_alpha\",\"y\"],\"data\":{\"chart_index\":[{\"index\":5,\"name\":\"A\"}],\"color\":[\"#f22c40\"],\"fill_alpha\":[0.8],\"height\":[0.500121644722028],\"index\":[5],\"line_alpha\":[1.0],\"line_color\":[\"white\"],\"name\":[\"A\"],\"width\":[0.8],\"x\":[\"5\"],\"y\":[0.250060822361014]}},\"id\":\"7cd8760b-30fe-4cdc-a0e3-b4623a4ecd2f\",\"type\":\"ColumnDataSource\"},{\"attributes\":{\"data_source\":{\"id\":\"5cbef2f5-9604-4fbd-a329-95508f0691fd\",\"type\":\"ColumnDataSource\"},\"glyph\":{\"id\":\"da3409cc-725f-4ec2-b75f-4ca68df87770\",\"type\":\"Rect\"},\"hover_glyph\":null,\"nonselection_glyph\":null,\"selection_glyph\":null},\"id\":\"e7ab2270-372a-42c9-963b-ee652bd84349\",\"type\":\"GlyphRenderer\"},{\"attributes\":{\"line_color\":{\"value\":\"#5ab738\"},\"line_width\":{\"value\":2},\"x\":{\"field\":\"x_values\"},\"y\":{\"field\":\"y_values\"}},\"id\":\"3f0236e0-cb7b-4a47-9457-3b862d6370bf\",\"type\":\"Line\"},{\"attributes\":{\"data_source\":{\"id\":\"7cd8760b-30fe-4cdc-a0e3-b4623a4ecd2f\",\"type\":\"ColumnDataSource\"},\"glyph\":{\"id\":\"da96a448-b4e2-413e-9f36-daa3c5d121b3\",\"type\":\"Rect\"},\"hover_glyph\":null,\"nonselection_glyph\":null,\"selection_glyph\":null},\"id\":\"7d6457e1-2a6a-46b3-841d-f95f6d2d8268\",\"type\":\"GlyphRenderer\"},{\"attributes\":{\"axis_label\":\"value\",\"formatter\":{\"id\":\"dc93e3a1-c67a-4856-9f1f-8a1245ef089f\",\"type\":\"BasicTickFormatter\"},\"plot\":{\"id\":\"ba56d264-c7d2-49d9-b097-6fc952d4e338\",\"subtype\":\"Chart\",\"type\":\"Plot\"},\"ticker\":{\"id\":\"cea57cc7-9f7b-4da1-b8e2-00380f552501\",\"type\":\"BasicTicker\"}},\"id\":\"7da4c860-700b-4a69-9e99-117abee71613\",\"type\":\"LinearAxis\"},{\"attributes\":{\"below\":[{\"id\":\"3f1c72e8-5436-4a3c-9644-e48c8dfef725\",\"type\":\"LinearAxis\"}],\"left\":[{\"id\":\"fa7ad256-3f62-4147-b114-a840f7b9b497\",\"type\":\"LinearAxis\"}],\"legend\":null,\"renderers\":[{\"id\":\"0d4b896e-1a8a-4d08-813d-b6890a81445a\",\"type\":\"BoxAnnotation\"},{\"id\":\"524fb8df-c26d-4221-9d23-27d8b1166908\",\"type\":\"GlyphRenderer\"},{\"id\":\"acdda2f9-6687-4179-9603-167085f6c118\",\"type\":\"GlyphRenderer\"},{\"id\":\"223c8afe-92e5-4a3d-93c6-1e75331ea9e3\",\"type\":\"GlyphRenderer\"},{\"id\":\"3f1c72e8-5436-4a3c-9644-e48c8dfef725\",\"type\":\"LinearAxis\"},{\"id\":\"fa7ad256-3f62-4147-b114-a840f7b9b497\",\"type\":\"LinearAxis\"},{\"id\":\"427ad8a2-8869-44e9-b406-a90ca502505f\",\"type\":\"Grid\"},{\"id\":\"a84f6810-ec47-433a-b081-817541f6604b\",\"type\":\"Grid\"}],\"title_text_font_size\":{\"value\":\"14pt\"},\"tool_events\":{\"id\":\"9e01cf95-e94c-45bb-a6ba-b9a7e1168225\",\"type\":\"ToolEvents\"},\"tools\":[{\"id\":\"773cc2b2-b19f-448e-b99e-1be3a35b4296\",\"type\":\"PanTool\"},{\"id\":\"f255e2b5-4dd7-4e4e-b97c-c5f86258ccdc\",\"type\":\"WheelZoomTool\"},{\"id\":\"4e80266e-cd5b-4812-943b-abc10848a9d3\",\"type\":\"BoxZoomTool\"},{\"id\":\"cc31e279-f300-45db-89e0-be3e8acfe854\",\"type\":\"PreviewSaveTool\"},{\"id\":\"c435e86f-7fa8-413f-8fd4-4b2d537e59a6\",\"type\":\"ResizeTool\"},{\"id\":\"36086ddb-9a29-4314-a2fe-d80ce617f5f2\",\"type\":\"ResetTool\"},{\"id\":\"eb3dfa12-bc83-4733-adec-2442b5acfc49\",\"type\":\"HelpTool\"}],\"x_mapper_type\":\"auto\",\"x_range\":{\"id\":\"2dabcf32-c027-42d6-94f5-88b037890bfa\",\"type\":\"Range1d\"},\"xscale\":\"auto\",\"y_mapper_type\":\"auto\",\"y_range\":{\"id\":\"26b5564d-756e-4717-b528-327ddb430569\",\"type\":\"Range1d\"},\"yscale\":\"auto\"},\"id\":\"a1f9104c-31e5-4522-8cd2-850ebffcd8f5\",\"subtype\":\"Chart\",\"type\":\"Plot\"},{\"attributes\":{\"bottom_units\":\"screen\",\"fill_alpha\":{\"value\":0.5},\"fill_color\":{\"value\":\"lightgrey\"},\"left_units\":\"screen\",\"level\":\"overlay\",\"line_alpha\":{\"value\":1.0},\"line_color\":{\"value\":\"black\"},\"line_dash\":[4,4],\"line_width\":{\"value\":2},\"plot\":null,\"render_mode\":\"css\",\"right_units\":\"screen\",\"top_units\":\"screen\"},\"id\":\"a94883e8-debe-49d6-893e-0bc51368d003\",\"type\":\"BoxAnnotation\"},{\"attributes\":{\"plot\":{\"id\":\"a1f9104c-31e5-4522-8cd2-850ebffcd8f5\",\"subtype\":\"Chart\",\"type\":\"Plot\"},\"ticker\":{\"id\":\"cc3ad621-aec7-488d-84b7-a7bc6bcda94a\",\"type\":\"BasicTicker\"}},\"id\":\"427ad8a2-8869-44e9-b406-a90ca502505f\",\"type\":\"Grid\"},{\"attributes\":{\"callback\":null,\"column_names\":[\"width\",\"x\",\"height\",\"color\",\"line_color\",\"fill_alpha\",\"line_alpha\",\"y\"],\"data\":{\"chart_index\":[{\"index\":5,\"name\":\"B\"}],\"color\":[\"#5ab738\"],\"fill_alpha\":[0.8],\"height\":[0.08711435510082954],\"index\":[5],\"line_alpha\":[1.0],\"line_color\":[\"white\"],\"name\":[\"B\"],\"width\":[0.8],\"x\":[\"5\"],\"y\":[0.5436788222724428]}},\"id\":\"7e8b54ed-43cd-4a3b-85c4-7f4850f108ef\",\"type\":\"ColumnDataSource\"},{\"attributes\":{\"callback\":null,\"column_names\":[\"x_values\",\"y_values\"],\"data\":{\"chart_index\":[{\"series\":\"A\"},{\"series\":\"A\"},{\"series\":\"A\"},{\"series\":\"A\"},{\"series\":\"A\"},{\"series\":\"A\"},{\"series\":\"A\"},{\"series\":\"A\"},{\"series\":\"A\"},{\"series\":\"A\"}],\"series\":[\"A\",\"A\",\"A\",\"A\",\"A\",\"A\",\"A\",\"A\",\"A\",\"A\"],\"x_values\":[0,1,2,3,4,5,6,7,8,9],\"y_values\":[0.9751440533615068,0.021619565252469664,0.7401829816703144,0.4201791623431991,0.4009694704370096,0.500121644722028,0.6050739719258597,0.11796985163254914,0.23640327945033723,0.4120172831891177]}},\"id\":\"82619958-950a-4214-95a7-7c53b6b45765\",\"type\":\"ColumnDataSource\"},{\"attributes\":{\"fill_alpha\":{\"field\":\"fill_alpha\"},\"fill_color\":{\"field\":\"color\"},\"height\":{\"field\":\"height\",\"units\":\"data\"},\"line_color\":{\"field\":\"line_color\"},\"width\":{\"field\":\"width\",\"units\":\"data\"},\"x\":{\"field\":\"x\"},\"y\":{\"field\":\"y\"}},\"id\":\"f2ef11ce-f1aa-4268-a7ef-3e340cf9f074\",\"type\":\"Rect\"},{\"attributes\":{\"data_source\":{\"id\":\"0408c55f-189b-404b-b4da-55789e260364\",\"type\":\"ColumnDataSource\"},\"glyph\":{\"id\":\"f2ef11ce-f1aa-4268-a7ef-3e340cf9f074\",\"type\":\"Rect\"},\"hover_glyph\":null,\"nonselection_glyph\":null,\"selection_glyph\":null},\"id\":\"eaca32c0-7701-4bb0-a470-744733556021\",\"type\":\"GlyphRenderer\"},{\"attributes\":{\"callback\":null,\"column_names\":[\"width\",\"x\",\"height\",\"color\",\"line_color\",\"fill_alpha\",\"line_alpha\",\"y\"],\"data\":{\"chart_index\":[{\"index\":7}],\"color\":[\"#f22c40\"],\"fill_alpha\":[0.8],\"height\":[1.1501615510562417],\"index\":[7],\"line_alpha\":[1.0],\"line_color\":[\"white\"],\"width\":[0.8],\"x\":[\"7\"],\"y\":[0.5750807755281209]}},\"id\":\"3830772d-a191-495d-a8dd-ee564f2fc9df\",\"type\":\"ColumnDataSource\"},{\"attributes\":{\"fill_alpha\":{\"field\":\"fill_alpha\"},\"fill_color\":{\"field\":\"color\"},\"height\":{\"field\":\"height\",\"units\":\"data\"},\"line_color\":{\"field\":\"line_color\"},\"width\":{\"field\":\"width\",\"units\":\"data\"},\"x\":{\"field\":\"x\"},\"y\":{\"field\":\"y\"}},\"id\":\"ea15d847-bfc9-4630-9850-bd37a5f6fda4\",\"type\":\"Rect\"},{\"attributes\":{\"callback\":null,\"column_names\":[\"width\",\"x\",\"height\",\"color\",\"line_color\",\"fill_alpha\",\"line_alpha\",\"y\"],\"data\":{\"chart_index\":[{\"index\":4,\"name\":\"B\"}],\"color\":[\"#5ab738\"],\"fill_alpha\":[0.8],\"height\":[0.4337979257531056],\"index\":[4],\"line_alpha\":[1.0],\"line_color\":[\"white\"],\"name\":[\"B\"],\"width\":[0.8],\"x\":[\"4\"],\"y\":[0.6178684333135624]}},\"id\":\"713a13e1-202d-4144-8de2-d40b42aedd93\",\"type\":\"ColumnDataSource\"},{\"attributes\":{\"data_source\":{\"id\":\"3750d03d-850d-442d-bbb8-22083429500c\",\"type\":\"ColumnDataSource\"},\"glyph\":{\"id\":\"e2b113c7-97b1-4a2c-b87d-5b4d6dada845\",\"type\":\"Rect\"},\"hover_glyph\":null,\"nonselection_glyph\":null,\"selection_glyph\":null},\"id\":\"9760c645-ea0b-4996-a17b-2b8493f1a212\",\"type\":\"GlyphRenderer\"},{\"attributes\":{\"data_source\":{\"id\":\"661890c7-9397-445c-a288-1588b76f4ecd\",\"type\":\"ColumnDataSource\"},\"glyph\":{\"id\":\"bd197533-fda8-440b-8258-9c5843c20f6f\",\"type\":\"Rect\"},\"hover_glyph\":null,\"nonselection_glyph\":null,\"selection_glyph\":null},\"id\":\"5ebadb61-b98f-44a9-b245-04b34b0818af\",\"type\":\"GlyphRenderer\"},{\"attributes\":{\"fill_alpha\":{\"field\":\"fill_alpha\"},\"fill_color\":{\"field\":\"color\"},\"height\":{\"field\":\"height\",\"units\":\"data\"},\"line_color\":{\"field\":\"line_color\"},\"width\":{\"field\":\"width\",\"units\":\"data\"},\"x\":{\"field\":\"x\"},\"y\":{\"field\":\"y\"}},\"id\":\"03be954d-9dd4-4649-9b07-554af717b835\",\"type\":\"Rect\"},{\"attributes\":{\"data_source\":{\"id\":\"69627004-7999-41fa-8080-0811a43fe93c\",\"type\":\"ColumnDataSource\"},\"glyph\":{\"id\":\"ea15d847-bfc9-4630-9850-bd37a5f6fda4\",\"type\":\"Rect\"},\"hover_glyph\":null,\"nonselection_glyph\":null,\"selection_glyph\":null},\"id\":\"50411ba1-8025-49e7-a73e-b43f42d76298\",\"type\":\"GlyphRenderer\"},{\"attributes\":{},\"id\":\"c6e0de74-d72d-4707-a7f5-049d831ec1e4\",\"type\":\"ToolEvents\"},{\"attributes\":{\"callback\":null,\"column_names\":[\"width\",\"x\",\"height\",\"color\",\"line_color\",\"fill_alpha\",\"line_alpha\",\"y\"],\"data\":{\"chart_index\":[{\"index\":3,\"name\":\"A\"}],\"color\":[\"#f22c40\"],\"fill_alpha\":[0.8],\"height\":[0.4201791623431991],\"index\":[3],\"line_alpha\":[1.0],\"line_color\":[\"white\"],\"name\":[\"A\"],\"width\":[0.8],\"x\":[\"3\"],\"y\":[0.21008958117159954]}},\"id\":\"84987891-0f66-44e1-9762-d2f2f6106b88\",\"type\":\"ColumnDataSource\"},{\"attributes\":{\"callback\":null,\"factors\":[\"0\",\"1\",\"2\",\"3\",\"4\",\"5\",\"6\",\"7\",\"8\",\"9\"]},\"id\":\"57cf048c-8c49-4f68-961b-122cc469a570\",\"type\":\"FactorRange\"},{\"attributes\":{\"data_source\":{\"id\":\"4b829116-10aa-4870-bd20-6278b69e32b1\",\"type\":\"ColumnDataSource\"},\"glyph\":{\"id\":\"a5d60655-ae3b-4264-bceb-7708bd0b088e\",\"type\":\"Rect\"},\"hover_glyph\":null,\"nonselection_glyph\":null,\"selection_glyph\":null},\"id\":\"0b34de41-ed21-4df7-9c19-6e6f0a1e7f79\",\"type\":\"GlyphRenderer\"},{\"attributes\":{\"callback\":null,\"column_names\":[\"width\",\"x\",\"height\",\"color\",\"line_color\",\"fill_alpha\",\"line_alpha\",\"y\"],\"data\":{\"chart_index\":[{\"index\":8,\"name\":\"B\"}],\"color\":[\"#5ab738\"],\"fill_alpha\":[0.8],\"height\":[0.9227858245098451],\"index\":[8],\"line_alpha\":[1.0],\"line_color\":[\"white\"],\"name\":[\"B\"],\"width\":[0.8],\"x\":[\"8\"],\"y\":[0.6977961917052597]}},\"id\":\"af1a3049-89af-4340-8357-98e27eb6c6f6\",\"type\":\"ColumnDataSource\"},{\"attributes\":{},\"id\":\"d3278ed2-6c35-495e-9c4d-59425dc6d52b\",\"type\":\"CategoricalTicker\"},{\"attributes\":{\"callback\":null,\"column_names\":[\"width\",\"x\",\"height\",\"color\",\"line_color\",\"fill_alpha\",\"line_alpha\",\"y\"],\"data\":{\"chart_index\":[{\"index\":2}],\"color\":[\"#f22c40\"],\"fill_alpha\":[0.8],\"height\":[0.9887537996265839],\"index\":[2],\"line_alpha\":[1.0],\"line_color\":[\"white\"],\"width\":[0.8],\"x\":[\"2\"],\"y\":[0.49437689981329197]}},\"id\":\"f6abfcb5-f88e-4384-bd80-70c33b8680bf\",\"type\":\"ColumnDataSource\"},{\"attributes\":{\"callback\":null,\"end\":1.0704965021724104,\"start\":-0.07373288355843405},\"id\":\"26b5564d-756e-4717-b528-327ddb430569\",\"type\":\"Range1d\"},{\"attributes\":{\"data_source\":{\"id\":\"f09035ea-1dc8-4c27-ac4d-1bf34e3d67a5\",\"type\":\"ColumnDataSource\"},\"glyph\":{\"id\":\"61fa7d99-dc61-4118-8443-aa76a27d363d\",\"type\":\"Rect\"},\"hover_glyph\":null,\"nonselection_glyph\":null,\"selection_glyph\":null},\"id\":\"dc8db01f-d79c-481d-add6-0fcbabc4967f\",\"type\":\"GlyphRenderer\"},{\"attributes\":{\"fill_alpha\":{\"field\":\"fill_alpha\"},\"fill_color\":{\"field\":\"color\"},\"height\":{\"field\":\"height\",\"units\":\"data\"},\"line_color\":{\"field\":\"line_color\"},\"width\":{\"field\":\"width\",\"units\":\"data\"},\"x\":{\"field\":\"x\"},\"y\":{\"field\":\"y\"}},\"id\":\"ed5b8dfb-0858-471b-bf52-b34e2be56873\",\"type\":\"Rect\"},{\"attributes\":{\"data_source\":{\"id\":\"2619ea7b-a621-40b3-adc0-a5380b673d82\",\"type\":\"ColumnDataSource\"},\"glyph\":{\"id\":\"cb364358-0ca7-4558-a9e2-d043a5967ad3\",\"type\":\"Rect\"},\"hover_glyph\":null,\"nonselection_glyph\":null,\"selection_glyph\":null},\"id\":\"f2002389-cd6f-419c-b5a0-33a13c79d719\",\"type\":\"GlyphRenderer\"},{\"attributes\":{\"plot\":{\"id\":\"a1f9104c-31e5-4522-8cd2-850ebffcd8f5\",\"subtype\":\"Chart\",\"type\":\"Plot\"}},\"id\":\"eb3dfa12-bc83-4733-adec-2442b5acfc49\",\"type\":\"HelpTool\"},{\"attributes\":{\"plot\":{\"id\":\"5041620a-abf7-44f1-b325-41e35bd70cd5\",\"subtype\":\"Chart\",\"type\":\"Plot\"}},\"id\":\"811404e8-1d75-42b7-b1c4-02a728e66cac\",\"type\":\"PreviewSaveTool\"},{\"attributes\":{\"axis_label\":\"value\",\"formatter\":{\"id\":\"07207b49-2401-46ee-b706-14d26968b10f\",\"type\":\"BasicTickFormatter\"},\"plot\":{\"id\":\"a1f9104c-31e5-4522-8cd2-850ebffcd8f5\",\"subtype\":\"Chart\",\"type\":\"Plot\"},\"ticker\":{\"id\":\"9839f45a-e9dd-43c4-85b7-ff9fa7b57f18\",\"type\":\"BasicTicker\"}},\"id\":\"fa7ad256-3f62-4147-b114-a840f7b9b497\",\"type\":\"LinearAxis\"},{\"attributes\":{\"callback\":null,\"column_names\":[\"width\",\"x\",\"height\",\"color\",\"line_color\",\"fill_alpha\",\"line_alpha\",\"y\"],\"data\":{\"chart_index\":[{\"index\":7,\"name\":\"A\"}],\"color\":[\"#f22c40\"],\"fill_alpha\":[0.8],\"height\":[0.11796985163254914],\"index\":[7],\"line_alpha\":[1.0],\"line_color\":[\"white\"],\"name\":[\"A\"],\"width\":[0.8],\"x\":[\"7\"],\"y\":[0.05898492581627457]}},\"id\":\"561acbbb-8772-47cd-a48b-4c466b8bb70e\",\"type\":\"ColumnDataSource\"},{\"attributes\":{\"fill_alpha\":{\"field\":\"fill_alpha\"},\"fill_color\":{\"field\":\"color\"},\"height\":{\"field\":\"height\",\"units\":\"data\"},\"line_color\":{\"field\":\"line_color\"},\"width\":{\"field\":\"width\",\"units\":\"data\"},\"x\":{\"field\":\"x\"},\"y\":{\"field\":\"y\"}},\"id\":\"562ac636-ff62-4296-9d93-78399d1b02d7\",\"type\":\"Rect\"},{\"attributes\":{\"callback\":null,\"factors\":[\"0\",\"1\",\"2\",\"3\",\"4\",\"5\",\"6\",\"7\",\"8\",\"9\"]},\"id\":\"a621a041-054b-4903-b808-1dcfe28431e5\",\"type\":\"FactorRange\"},{\"attributes\":{\"legends\":[[\"0\",[{\"id\":\"5e15d7df-c390-40d2-9f96-33d40910c2a3\",\"type\":\"GlyphRenderer\"}]],[\"1\",[{\"id\":\"5ebadb61-b98f-44a9-b245-04b34b0818af\",\"type\":\"GlyphRenderer\"}]],[\"2\",[{\"id\":\"200f35e8-be69-4978-85b6-fbadb07c087a\",\"type\":\"GlyphRenderer\"}]],[\"3\",[{\"id\":\"c3b94981-d559-422d-ab66-70609edb83d0\",\"type\":\"GlyphRenderer\"}]],[\"4\",[{\"id\":\"0b34de41-ed21-4df7-9c19-6e6f0a1e7f79\",\"type\":\"GlyphRenderer\"}]],[\"5\",[{\"id\":\"50411ba1-8025-49e7-a73e-b43f42d76298\",\"type\":\"GlyphRenderer\"}]],[\"6\",[{\"id\":\"ecbaabed-8abc-4389-882c-15ec4cf6f006\",\"type\":\"GlyphRenderer\"}]],[\"7\",[{\"id\":\"03c5b1fc-628c-4cd3-914f-4960bdbb50e1\",\"type\":\"GlyphRenderer\"}]],[\"8\",[{\"id\":\"e4b28c1b-64ae-466b-80d2-f347811e203d\",\"type\":\"GlyphRenderer\"}]],[\"9\",[{\"id\":\"dcb4a58c-dfbc-4d89-8f6e-3a1975ba1483\",\"type\":\"GlyphRenderer\"}]]],\"plot\":{\"id\":\"5041620a-abf7-44f1-b325-41e35bd70cd5\",\"subtype\":\"Chart\",\"type\":\"Plot\"}},\"id\":\"c30e13ec-953d-4c36-9197-5440d8e9473a\",\"type\":\"Legend\"},{\"attributes\":{\"data_source\":{\"id\":\"7e8b54ed-43cd-4a3b-85c4-7f4850f108ef\",\"type\":\"ColumnDataSource\"},\"glyph\":{\"id\":\"edc019f7-d788-4723-a372-72f586903cbe\",\"type\":\"Rect\"},\"hover_glyph\":null,\"nonselection_glyph\":null,\"selection_glyph\":null},\"id\":\"350debe8-9a9e-4202-bd95-66a68a84c287\",\"type\":\"GlyphRenderer\"},{\"attributes\":{},\"id\":\"9839f45a-e9dd-43c4-85b7-ff9fa7b57f18\",\"type\":\"BasicTicker\"},{\"attributes\":{\"fill_alpha\":{\"field\":\"fill_alpha\"},\"fill_color\":{\"field\":\"color\"},\"height\":{\"field\":\"height\",\"units\":\"data\"},\"line_color\":{\"field\":\"line_color\"},\"width\":{\"field\":\"width\",\"units\":\"data\"},\"x\":{\"field\":\"x\"},\"y\":{\"field\":\"y\"}},\"id\":\"a6c9ef48-b137-4987-b3ac-3fba93e55822\",\"type\":\"Rect\"},{\"attributes\":{\"callback\":null,\"column_names\":[\"width\",\"x\",\"height\",\"color\",\"line_color\",\"fill_alpha\",\"line_alpha\",\"y\"],\"data\":{\"chart_index\":[{\"index\":8}],\"color\":[\"#f22c40\"],\"fill_alpha\":[0.8],\"height\":[1.6013404960957096],\"index\":[8],\"line_alpha\":[1.0],\"line_color\":[\"white\"],\"width\":[0.8],\"x\":[\"8\"],\"y\":[0.8006702480478548]}},\"id\":\"eac59f86-97fe-4d9b-b2f1-a06c9fd64d7f\",\"type\":\"ColumnDataSource\"},{\"attributes\":{\"fill_alpha\":{\"field\":\"fill_alpha\"},\"fill_color\":{\"field\":\"color\"},\"height\":{\"field\":\"height\",\"units\":\"data\"},\"line_color\":{\"field\":\"line_color\"},\"width\":{\"field\":\"width\",\"units\":\"data\"},\"x\":{\"field\":\"x\"},\"y\":{\"field\":\"y\"}},\"id\":\"bb03e113-1260-4d3d-aaa6-842da0a3df4b\",\"type\":\"Rect\"},{\"attributes\":{\"plot\":{\"id\":\"ba56d264-c7d2-49d9-b097-6fc952d4e338\",\"subtype\":\"Chart\",\"type\":\"Plot\"}},\"id\":\"07c57f35-fc63-4b15-a4d5-f45cd3bab50a\",\"type\":\"PanTool\"},{\"attributes\":{\"data_source\":{\"id\":\"032a8097-cf22-4ef0-9a5c-9e9f4f027d1d\",\"type\":\"ColumnDataSource\"},\"glyph\":{\"id\":\"86270046-7b5d-4c14-b564-e8d003944253\",\"type\":\"Rect\"},\"hover_glyph\":null,\"nonselection_glyph\":null,\"selection_glyph\":null},\"id\":\"c04eaaaa-5724-47bb-b8dc-f6e6b70d70ae\",\"type\":\"GlyphRenderer\"},{\"attributes\":{\"callback\":null,\"column_names\":[\"width\",\"x\",\"height\",\"color\",\"line_color\",\"fill_alpha\",\"line_alpha\",\"y\"],\"data\":{\"chart_index\":[{\"index\":3,\"name\":\"C\"}],\"color\":[\"#407ee7\"],\"fill_alpha\":[0.8],\"height\":[0.6580051291387226],\"index\":[3],\"line_alpha\":[1.0],\"line_color\":[\"white\"],\"name\":[\"C\"],\"width\":[0.8],\"x\":[\"3\"],\"y\":[1.605703471498954]}},\"id\":\"cd197f07-40f6-4d99-aa74-7488d6d1fd14\",\"type\":\"ColumnDataSource\"},{\"attributes\":{\"fill_alpha\":{\"field\":\"fill_alpha\"},\"fill_color\":{\"field\":\"color\"},\"height\":{\"field\":\"height\",\"units\":\"data\"},\"line_color\":{\"field\":\"line_color\"},\"width\":{\"field\":\"width\",\"units\":\"data\"},\"x\":{\"field\":\"x\"},\"y\":{\"field\":\"y\"}},\"id\":\"97570c32-8223-42f1-b607-c3783eebdc60\",\"type\":\"Rect\"},{\"attributes\":{\"axis_label\":\"index\",\"formatter\":{\"id\":\"e259f7fc-a997-4f19-acf8-bd9f0fe9dcc8\",\"type\":\"CategoricalTickFormatter\"},\"major_label_orientation\":0.7853981633974483,\"plot\":{\"id\":\"5041620a-abf7-44f1-b325-41e35bd70cd5\",\"subtype\":\"Chart\",\"type\":\"Plot\"},\"ticker\":{\"id\":\"d3278ed2-6c35-495e-9c4d-59425dc6d52b\",\"type\":\"CategoricalTicker\"}},\"id\":\"8c34ec77-949d-40a7-9ede-b5dd62a2dfee\",\"type\":\"CategoricalAxis\"},{\"attributes\":{\"data_source\":{\"id\":\"f6abfcb5-f88e-4384-bd80-70c33b8680bf\",\"type\":\"ColumnDataSource\"},\"glyph\":{\"id\":\"a934b2c7-2498-44dc-baee-54242e8b484a\",\"type\":\"Rect\"},\"hover_glyph\":null,\"nonselection_glyph\":null,\"selection_glyph\":null},\"id\":\"200f35e8-be69-4978-85b6-fbadb07c087a\",\"type\":\"GlyphRenderer\"},{\"attributes\":{\"callback\":null,\"column_names\":[\"width\",\"x\",\"height\",\"color\",\"line_color\",\"fill_alpha\",\"line_alpha\",\"y\"],\"data\":{\"chart_index\":[{\"index\":9}],\"color\":[\"#f22c40\"],\"fill_alpha\":[0.8],\"height\":[1.8151334129654257],\"index\":[9],\"line_alpha\":[1.0],\"line_color\":[\"white\"],\"width\":[0.8],\"x\":[\"9\"],\"y\":[0.9075667064827129]}},\"id\":\"bf2e60ba-e86a-4e60-9d5c-8f12e0b0fb49\",\"type\":\"ColumnDataSource\"},{\"attributes\":{\"callback\":null,\"column_names\":[\"width\",\"x\",\"height\",\"color\",\"line_color\",\"fill_alpha\",\"line_alpha\",\"y\"],\"data\":{\"chart_index\":[{\"index\":7,\"name\":\"B\"}],\"color\":[\"#5ab738\"],\"fill_alpha\":[0.8],\"height\":[0.20271859787027746],\"index\":[7],\"line_alpha\":[1.0],\"line_color\":[\"white\"],\"name\":[\"B\"],\"width\":[0.8],\"x\":[\"7\"],\"y\":[0.21932915056768787]}},\"id\":\"bcbfcfbb-719f-404f-8f80-c37296948a5e\",\"type\":\"ColumnDataSource\"},{\"attributes\":{},\"id\":\"cea57cc7-9f7b-4da1-b8e2-00380f552501\",\"type\":\"BasicTicker\"},{\"attributes\":{\"data_source\":{\"id\":\"7b166654-7e20-4acb-8a5f-2cd45882442c\",\"type\":\"ColumnDataSource\"},\"glyph\":{\"id\":\"a6c9ef48-b137-4987-b3ac-3fba93e55822\",\"type\":\"Rect\"},\"hover_glyph\":null,\"nonselection_glyph\":null,\"selection_glyph\":null},\"id\":\"e5a8e883-1dd8-4bb1-9327-b7b875e2bb1e\",\"type\":\"GlyphRenderer\"},{\"attributes\":{\"plot\":{\"id\":\"5041620a-abf7-44f1-b325-41e35bd70cd5\",\"subtype\":\"Chart\",\"type\":\"Plot\"}},\"id\":\"aa56326d-fbf7-4b7e-95a3-00a0b5cf0005\",\"type\":\"ResetTool\"},{\"attributes\":{\"data_source\":{\"id\":\"65892b42-1ff6-4460-a03d-3ffbef60dd31\",\"type\":\"ColumnDataSource\"},\"glyph\":{\"id\":\"64b02b36-b91e-4e97-be48-46347f5cd004\",\"type\":\"Rect\"},\"hover_glyph\":null,\"nonselection_glyph\":null,\"selection_glyph\":null},\"id\":\"fb852091-29ff-4a19-bdd1-f34481f97d89\",\"type\":\"GlyphRenderer\"},{\"attributes\":{\"plot\":{\"id\":\"ba56d264-c7d2-49d9-b097-6fc952d4e338\",\"subtype\":\"Chart\",\"type\":\"Plot\"}},\"id\":\"366a953b-2e4a-455f-be92-12b984498975\",\"type\":\"ResizeTool\"},{\"attributes\":{\"data_source\":{\"id\":\"cd197f07-40f6-4d99-aa74-7488d6d1fd14\",\"type\":\"ColumnDataSource\"},\"glyph\":{\"id\":\"beb829b4-fd28-4ed2-8a9a-756fc44f9dd1\",\"type\":\"Rect\"},\"hover_glyph\":null,\"nonselection_glyph\":null,\"selection_glyph\":null},\"id\":\"587fead6-20af-42c7-828e-52ef0e0a4510\",\"type\":\"GlyphRenderer\"},{\"attributes\":{\"fill_alpha\":{\"field\":\"fill_alpha\"},\"fill_color\":{\"field\":\"color\"},\"height\":{\"field\":\"height\",\"units\":\"data\"},\"line_color\":{\"field\":\"line_color\"},\"width\":{\"field\":\"width\",\"units\":\"data\"},\"x\":{\"field\":\"x\"},\"y\":{\"field\":\"y\"}},\"id\":\"6a5766d4-f0b6-4fdb-9526-9b3b69a982cf\",\"type\":\"Rect\"},{\"attributes\":{\"fill_alpha\":{\"field\":\"fill_alpha\"},\"fill_color\":{\"field\":\"color\"},\"height\":{\"field\":\"height\",\"units\":\"data\"},\"line_color\":{\"field\":\"line_color\"},\"width\":{\"field\":\"width\",\"units\":\"data\"},\"x\":{\"field\":\"x\"},\"y\":{\"field\":\"y\"}},\"id\":\"884894dd-061f-494a-89d1-4693d2bf1d09\",\"type\":\"Rect\"},{\"attributes\":{\"data_source\":{\"id\":\"20dd8833-d333-4953-afc0-54024c18965e\",\"type\":\"ColumnDataSource\"},\"glyph\":{\"id\":\"3f0236e0-cb7b-4a47-9457-3b862d6370bf\",\"type\":\"Line\"},\"hover_glyph\":null,\"nonselection_glyph\":null,\"selection_glyph\":null},\"id\":\"acdda2f9-6687-4179-9603-167085f6c118\",\"type\":\"GlyphRenderer\"},{\"attributes\":{\"fill_alpha\":{\"field\":\"fill_alpha\"},\"fill_color\":{\"field\":\"color\"},\"height\":{\"field\":\"height\",\"units\":\"data\"},\"line_color\":{\"field\":\"line_color\"},\"width\":{\"field\":\"width\",\"units\":\"data\"},\"x\":{\"field\":\"x\"},\"y\":{\"field\":\"y\"}},\"id\":\"2117afb8-c542-4e5b-9486-4ed9d24f2f36\",\"type\":\"Rect\"},{\"attributes\":{\"data_source\":{\"id\":\"bf2e60ba-e86a-4e60-9d5c-8f12e0b0fb49\",\"type\":\"ColumnDataSource\"},\"glyph\":{\"id\":\"3911f86b-1fb0-4f4f-987d-40dc6391581f\",\"type\":\"Rect\"},\"hover_glyph\":null,\"nonselection_glyph\":null,\"selection_glyph\":null},\"id\":\"dcb4a58c-dfbc-4d89-8f6e-3a1975ba1483\",\"type\":\"GlyphRenderer\"},{\"attributes\":{\"callback\":null,\"column_names\":[\"x_values\",\"y_values\"],\"data\":{\"chart_index\":[{\"series\":\"B\"},{\"series\":\"B\"},{\"series\":\"B\"},{\"series\":\"B\"},{\"series\":\"B\"},{\"series\":\"B\"},{\"series\":\"B\"},{\"series\":\"B\"},{\"series\":\"B\"},{\"series\":\"B\"}],\"series\":[\"B\",\"B\",\"B\",\"B\",\"B\",\"B\",\"B\",\"B\",\"B\",\"B\"],\"x_values\":[0,1,2,3,4,5,6,7,8,9],\"y_values\":[0.7094131709894138,0.6436696339660761,0.149215324116174,0.8565217445863936,0.4337979257531056,0.08711435510082954,0.4103436595097808,0.20271859787027746,0.9227858245098451,0.7027073374164652]}},\"id\":\"20dd8833-d333-4953-afc0-54024c18965e\",\"type\":\"ColumnDataSource\"},{\"attributes\":{\"plot\":{\"id\":\"a1f9104c-31e5-4522-8cd2-850ebffcd8f5\",\"subtype\":\"Chart\",\"type\":\"Plot\"}},\"id\":\"c435e86f-7fa8-413f-8fd4-4b2d537e59a6\",\"type\":\"ResizeTool\"},{\"attributes\":{\"callback\":null,\"column_names\":[\"width\",\"x\",\"height\",\"color\",\"line_color\",\"fill_alpha\",\"line_alpha\",\"y\"],\"data\":{\"chart_index\":[{\"index\":9,\"name\":\"A\"}],\"color\":[\"#f22c40\"],\"fill_alpha\":[0.8],\"height\":[0.4120172831891177],\"index\":[9],\"line_alpha\":[1.0],\"line_color\":[\"white\"],\"name\":[\"A\"],\"width\":[0.8],\"x\":[\"9\"],\"y\":[0.20600864159455884]}},\"id\":\"032a8097-cf22-4ef0-9a5c-9e9f4f027d1d\",\"type\":\"ColumnDataSource\"},{\"attributes\":{\"callback\":null,\"end\":2.649610747042},\"id\":\"ed013fb7-5f7f-4689-b9e4-adc0e5e033fe\",\"type\":\"Range1d\"},{\"attributes\":{\"fill_alpha\":{\"field\":\"fill_alpha\"},\"fill_color\":{\"field\":\"color\"},\"height\":{\"field\":\"height\",\"units\":\"data\"},\"line_color\":{\"field\":\"line_color\"},\"width\":{\"field\":\"width\",\"units\":\"data\"},\"x\":{\"field\":\"x\"},\"y\":{\"field\":\"y\"}},\"id\":\"da3409cc-725f-4ec2-b75f-4ca68df87770\",\"type\":\"Rect\"},{\"attributes\":{\"callback\":null,\"column_names\":[\"width\",\"x\",\"height\",\"color\",\"line_color\",\"fill_alpha\",\"line_alpha\",\"y\"],\"data\":{\"chart_index\":[{\"index\":6,\"name\":\"B\"}],\"color\":[\"#5ab738\"],\"fill_alpha\":[0.8],\"height\":[0.4103436595097808],\"index\":[6],\"line_alpha\":[1.0],\"line_color\":[\"white\"],\"name\":[\"B\"],\"width\":[0.8],\"x\":[\"6\"],\"y\":[0.8102458016807501]}},\"id\":\"4a8b12d7-6ae0-40dd-bffc-6b78aa04c865\",\"type\":\"ColumnDataSource\"},{\"attributes\":{\"callback\":null,\"column_names\":[\"width\",\"x\",\"height\",\"color\",\"line_color\",\"fill_alpha\",\"line_alpha\",\"y\"],\"data\":{\"chart_index\":[{\"index\":6}],\"color\":[\"#f22c40\"],\"fill_alpha\":[0.8],\"height\":[1.1930323606017867],\"index\":[6],\"line_alpha\":[1.0],\"line_color\":[\"white\"],\"width\":[0.8],\"x\":[\"6\"],\"y\":[0.5965161803008934]}},\"id\":\"b44e9506-537e-4736-82e7-a3915f9fdb2f\",\"type\":\"ColumnDataSource\"},{\"attributes\":{\"fill_alpha\":{\"field\":\"fill_alpha\"},\"fill_color\":{\"field\":\"color\"},\"height\":{\"field\":\"height\",\"units\":\"data\"},\"line_color\":{\"field\":\"line_color\"},\"width\":{\"field\":\"width\",\"units\":\"data\"},\"x\":{\"field\":\"x\"},\"y\":{\"field\":\"y\"}},\"id\":\"0cec1b28-5a28-49d3-8679-153cb6aeb361\",\"type\":\"Rect\"},{\"attributes\":{\"fill_alpha\":{\"field\":\"fill_alpha\"},\"fill_color\":{\"field\":\"color\"},\"height\":{\"field\":\"height\",\"units\":\"data\"},\"line_color\":{\"field\":\"line_color\"},\"width\":{\"field\":\"width\",\"units\":\"data\"},\"x\":{\"field\":\"x\"},\"y\":{\"field\":\"y\"}},\"id\":\"6524b574-db73-4c26-9214-0c18f1bc5aaa\",\"type\":\"Rect\"},{\"attributes\":{\"plot\":{\"id\":\"ba56d264-c7d2-49d9-b097-6fc952d4e338\",\"subtype\":\"Chart\",\"type\":\"Plot\"}},\"id\":\"ca10e2b5-3b9f-4b62-90ff-33b001de04ee\",\"type\":\"HelpTool\"},{\"attributes\":{},\"id\":\"07207b49-2401-46ee-b706-14d26968b10f\",\"type\":\"BasicTickFormatter\"},{\"attributes\":{\"callback\":null,\"column_names\":[\"width\",\"x\",\"height\",\"color\",\"line_color\",\"fill_alpha\",\"line_alpha\",\"y\"],\"data\":{\"chart_index\":[{\"index\":9,\"name\":\"C\"}],\"color\":[\"#407ee7\"],\"fill_alpha\":[0.8],\"height\":[0.7004087923598431],\"index\":[9],\"line_alpha\":[1.0],\"line_color\":[\"white\"],\"name\":[\"C\"],\"width\":[0.8],\"x\":[\"9\"],\"y\":[1.4649290167855042]}},\"id\":\"2d6bd52f-640d-4481-9860-693b81e81e0d\",\"type\":\"ColumnDataSource\"},{\"attributes\":{\"callback\":null,\"column_names\":[\"width\",\"x\",\"height\",\"color\",\"line_color\",\"fill_alpha\",\"line_alpha\",\"y\"],\"data\":{\"chart_index\":[{\"index\":5}],\"color\":[\"#f22c40\"],\"fill_alpha\":[0.8],\"height\":[1.4544209309169478],\"index\":[5],\"line_alpha\":[1.0],\"line_color\":[\"white\"],\"width\":[0.8],\"x\":[\"5\"],\"y\":[0.7272104654584739]}},\"id\":\"69627004-7999-41fa-8080-0811a43fe93c\",\"type\":\"ColumnDataSource\"},{\"attributes\":{\"fill_alpha\":{\"field\":\"fill_alpha\"},\"fill_color\":{\"field\":\"color\"},\"height\":{\"field\":\"height\",\"units\":\"data\"},\"line_color\":{\"field\":\"line_color\"},\"width\":{\"field\":\"width\",\"units\":\"data\"},\"x\":{\"field\":\"x\"},\"y\":{\"field\":\"y\"}},\"id\":\"56a89037-8112-40fc-a257-948022b36912\",\"type\":\"Rect\"},{\"attributes\":{\"plot\":{\"id\":\"ba56d264-c7d2-49d9-b097-6fc952d4e338\",\"subtype\":\"Chart\",\"type\":\"Plot\"}},\"id\":\"5e0703f9-6c70-4a3d-970e-e38fc8a44835\",\"type\":\"WheelZoomTool\"},{\"attributes\":{},\"id\":\"cc3ad621-aec7-488d-84b7-a7bc6bcda94a\",\"type\":\"BasicTicker\"},{\"attributes\":{\"fill_alpha\":{\"field\":\"fill_alpha\"},\"fill_color\":{\"field\":\"color\"},\"height\":{\"field\":\"height\",\"units\":\"data\"},\"line_color\":{\"field\":\"line_color\"},\"width\":{\"field\":\"width\",\"units\":\"data\"},\"x\":{\"field\":\"x\"},\"y\":{\"field\":\"y\"}},\"id\":\"30e94a37-563e-41e2-9db1-d5b51772c139\",\"type\":\"Rect\"},{\"attributes\":{\"callback\":null,\"column_names\":[\"width\",\"x\",\"height\",\"color\",\"line_color\",\"fill_alpha\",\"line_alpha\",\"y\"],\"data\":{\"chart_index\":[{\"index\":9,\"name\":\"B\"}],\"color\":[\"#5ab738\"],\"fill_alpha\":[0.8],\"height\":[0.7027073374164652],\"index\":[9],\"line_alpha\":[1.0],\"line_color\":[\"white\"],\"name\":[\"B\"],\"width\":[0.8],\"x\":[\"9\"],\"y\":[0.7633709518973503]}},\"id\":\"a6d92b9a-794e-4653-a8a1-0fccd50e3e59\",\"type\":\"ColumnDataSource\"},{\"attributes\":{\"line_color\":{\"value\":\"#407ee7\"},\"line_width\":{\"value\":2},\"x\":{\"field\":\"x_values\"},\"y\":{\"field\":\"y_values\"}},\"id\":\"1127da0f-fdc9-44cc-94dc-9ee4872dc2ca\",\"type\":\"Line\"},{\"attributes\":{\"fill_alpha\":{\"field\":\"fill_alpha\"},\"fill_color\":{\"field\":\"color\"},\"height\":{\"field\":\"height\",\"units\":\"data\"},\"line_color\":{\"field\":\"line_color\"},\"width\":{\"field\":\"width\",\"units\":\"data\"},\"x\":{\"field\":\"x\"},\"y\":{\"field\":\"y\"}},\"id\":\"da96a448-b4e2-413e-9f36-daa3c5d121b3\",\"type\":\"Rect\"},{\"attributes\":{},\"id\":\"c6ccf592-34cd-4980-9b25-a6de5491ed2f\",\"type\":\"ToolEvents\"},{\"attributes\":{},\"id\":\"5c8a4f5a-053a-4a25-b673-cdf8a22d1a78\",\"type\":\"BasicTickFormatter\"},{\"attributes\":{\"plot\":{\"id\":\"ba56d264-c7d2-49d9-b097-6fc952d4e338\",\"subtype\":\"Chart\",\"type\":\"Plot\"}},\"id\":\"e79b998f-c299-4e6d-a7f0-85541ac5b8fe\",\"type\":\"ResetTool\"},{\"attributes\":{\"callback\":null,\"column_names\":[\"width\",\"x\",\"height\",\"color\",\"line_color\",\"fill_alpha\",\"line_alpha\",\"y\"],\"data\":{\"chart_index\":[{\"index\":8,\"name\":\"C\"}],\"color\":[\"#407ee7\"],\"fill_alpha\":[0.8],\"height\":[0.44215139213552734],\"index\":[8],\"line_alpha\":[1.0],\"line_color\":[\"white\"],\"name\":[\"C\"],\"width\":[0.8],\"x\":[\"8\"],\"y\":[1.380264800027946]}},\"id\":\"ea185bae-ee93-4393-a967-6486efef1b46\",\"type\":\"ColumnDataSource\"},{\"attributes\":{\"fill_alpha\":{\"field\":\"fill_alpha\"},\"fill_color\":{\"field\":\"color\"},\"height\":{\"field\":\"height\",\"units\":\"data\"},\"line_color\":{\"field\":\"line_color\"},\"width\":{\"field\":\"width\",\"units\":\"data\"},\"x\":{\"field\":\"x\"},\"y\":{\"field\":\"y\"}},\"id\":\"b813873f-e51e-4e60-b175-dabdebef4dd4\",\"type\":\"Rect\"},{\"attributes\":{\"data_source\":{\"id\":\"bfcde13f-1d35-4d9a-8a46-c43dd46d34ff\",\"type\":\"ColumnDataSource\"},\"glyph\":{\"id\":\"1127da0f-fdc9-44cc-94dc-9ee4872dc2ca\",\"type\":\"Line\"},\"hover_glyph\":null,\"nonselection_glyph\":null,\"selection_glyph\":null},\"id\":\"223c8afe-92e5-4a3d-93c6-1e75331ea9e3\",\"type\":\"GlyphRenderer\"},{\"attributes\":{\"callback\":null,\"column_names\":[\"width\",\"x\",\"height\",\"color\",\"line_color\",\"fill_alpha\",\"line_alpha\",\"y\"],\"data\":{\"chart_index\":[{\"index\":1,\"name\":\"B\"}],\"color\":[\"#5ab738\"],\"fill_alpha\":[0.8],\"height\":[0.6436696339660761],\"index\":[1],\"line_alpha\":[1.0],\"line_color\":[\"white\"],\"name\":[\"B\"],\"width\":[0.8],\"x\":[\"1\"],\"y\":[0.3434543822355077]}},\"id\":\"5cbef2f5-9604-4fbd-a329-95508f0691fd\",\"type\":\"ColumnDataSource\"},{\"attributes\":{\"plot\":{\"id\":\"5041620a-abf7-44f1-b325-41e35bd70cd5\",\"subtype\":\"Chart\",\"type\":\"Plot\"}},\"id\":\"8226fa1a-0a68-4050-aa3c-b2da8b0523fc\",\"type\":\"PanTool\"},{\"attributes\":{},\"id\":\"dbd47c83-744d-4708-ac2d-428f9417f30c\",\"type\":\"BasicTickFormatter\"},{\"attributes\":{\"data_source\":{\"id\":\"a6d92b9a-794e-4653-a8a1-0fccd50e3e59\",\"type\":\"ColumnDataSource\"},\"glyph\":{\"id\":\"0609ed78-0aee-4a4a-b250-252fcf79ec8f\",\"type\":\"Rect\"},\"hover_glyph\":null,\"nonselection_glyph\":null,\"selection_glyph\":null},\"id\":\"664c1639-5bd1-43a6-a233-1cfadc267df6\",\"type\":\"GlyphRenderer\"},{\"attributes\":{\"callback\":null,\"column_names\":[\"width\",\"x\",\"height\",\"color\",\"line_color\",\"fill_alpha\",\"line_alpha\",\"y\"],\"data\":{\"chart_index\":[{\"index\":0,\"name\":\"B\"}],\"color\":[\"#5ab738\"],\"fill_alpha\":[0.8],\"height\":[0.7094131709894138],\"index\":[0],\"line_alpha\":[1.0],\"line_color\":[\"white\"],\"name\":[\"B\"],\"width\":[0.8],\"x\":[\"0\"],\"y\":[1.3298506388562137]}},\"id\":\"95488bf2-a01a-4d5a-a248-b35a820227f9\",\"type\":\"ColumnDataSource\"},{\"attributes\":{\"overlay\":{\"id\":\"0d4b896e-1a8a-4d08-813d-b6890a81445a\",\"type\":\"BoxAnnotation\"},\"plot\":{\"id\":\"a1f9104c-31e5-4522-8cd2-850ebffcd8f5\",\"subtype\":\"Chart\",\"type\":\"Plot\"}},\"id\":\"4e80266e-cd5b-4812-943b-abc10848a9d3\",\"type\":\"BoxZoomTool\"},{\"attributes\":{\"callback\":null,\"column_names\":[\"width\",\"x\",\"height\",\"color\",\"line_color\",\"fill_alpha\",\"line_alpha\",\"y\"],\"data\":{\"chart_index\":[{\"index\":5,\"name\":\"C\"}],\"color\":[\"#407ee7\"],\"fill_alpha\":[0.8],\"height\":[0.8671849310940903],\"index\":[5],\"line_alpha\":[1.0],\"line_color\":[\"white\"],\"name\":[\"C\"],\"width\":[0.8],\"x\":[\"5\"],\"y\":[1.0208284653699027]}},\"id\":\"65892b42-1ff6-4460-a03d-3ffbef60dd31\",\"type\":\"ColumnDataSource\"},{\"attributes\":{\"plot\":{\"id\":\"a1f9104c-31e5-4522-8cd2-850ebffcd8f5\",\"subtype\":\"Chart\",\"type\":\"Plot\"}},\"id\":\"773cc2b2-b19f-448e-b99e-1be3a35b4296\",\"type\":\"PanTool\"},{\"attributes\":{\"data_source\":{\"id\":\"3830772d-a191-495d-a8dd-ee564f2fc9df\",\"type\":\"ColumnDataSource\"},\"glyph\":{\"id\":\"2117afb8-c542-4e5b-9486-4ed9d24f2f36\",\"type\":\"Rect\"},\"hover_glyph\":null,\"nonselection_glyph\":null,\"selection_glyph\":null},\"id\":\"03c5b1fc-628c-4cd3-914f-4960bdbb50e1\",\"type\":\"GlyphRenderer\"},{\"attributes\":{\"data_source\":{\"id\":\"535fd8c3-25f0-4f1a-985b-06684789e491\",\"type\":\"ColumnDataSource\"},\"glyph\":{\"id\":\"643acb61-a3d4-4379-84af-8df08d962261\",\"type\":\"Rect\"},\"hover_glyph\":null,\"nonselection_glyph\":null,\"selection_glyph\":null},\"id\":\"5e15d7df-c390-40d2-9f96-33d40910c2a3\",\"type\":\"GlyphRenderer\"},{\"attributes\":{\"callback\":null,\"column_names\":[\"width\",\"x\",\"height\",\"color\",\"line_color\",\"fill_alpha\",\"line_alpha\",\"y\"],\"data\":{\"chart_index\":[{\"index\":6,\"name\":\"A\"}],\"color\":[\"#f22c40\"],\"fill_alpha\":[0.8],\"height\":[0.6050739719258597],\"index\":[6],\"line_alpha\":[1.0],\"line_color\":[\"white\"],\"name\":[\"A\"],\"width\":[0.8],\"x\":[\"6\"],\"y\":[0.3025369859629298]}},\"id\":\"2619ea7b-a621-40b3-adc0-a5380b673d82\",\"type\":\"ColumnDataSource\"},{\"attributes\":{\"axis_label\":\"index\",\"formatter\":{\"id\":\"dbd47c83-744d-4708-ac2d-428f9417f30c\",\"type\":\"BasicTickFormatter\"},\"plot\":{\"id\":\"a1f9104c-31e5-4522-8cd2-850ebffcd8f5\",\"subtype\":\"Chart\",\"type\":\"Plot\"},\"ticker\":{\"id\":\"cc3ad621-aec7-488d-84b7-a7bc6bcda94a\",\"type\":\"BasicTicker\"}},\"id\":\"3f1c72e8-5436-4a3c-9644-e48c8dfef725\",\"type\":\"LinearAxis\"},{\"attributes\":{\"data_source\":{\"id\":\"f96527e0-553c-47af-823c-bbd7136769ca\",\"type\":\"ColumnDataSource\"},\"glyph\":{\"id\":\"b3378969-470f-41e0-ad71-792b71386002\",\"type\":\"Rect\"},\"hover_glyph\":null,\"nonselection_glyph\":null,\"selection_glyph\":null},\"id\":\"a1cc94c7-6f55-4375-9d8e-6f9741b3db31\",\"type\":\"GlyphRenderer\"},{\"attributes\":{\"dimension\":1,\"plot\":{\"id\":\"5041620a-abf7-44f1-b325-41e35bd70cd5\",\"subtype\":\"Chart\",\"type\":\"Plot\"},\"ticker\":{\"id\":\"ba844e7d-4ef2-4fdf-816d-d6c31a38a04b\",\"type\":\"BasicTicker\"}},\"id\":\"fdcc0d7c-c1cc-4155-9e69-14b860c3a63b\",\"type\":\"Grid\"},{\"attributes\":{\"fill_alpha\":{\"field\":\"fill_alpha\"},\"fill_color\":{\"field\":\"color\"},\"height\":{\"field\":\"height\",\"units\":\"data\"},\"line_color\":{\"field\":\"line_color\"},\"width\":{\"field\":\"width\",\"units\":\"data\"},\"x\":{\"field\":\"x\"},\"y\":{\"field\":\"y\"}},\"id\":\"61fa7d99-dc61-4118-8443-aa76a27d363d\",\"type\":\"Rect\"},{\"attributes\":{\"callback\":null,\"end\":2.649610747042},\"id\":\"4d53b8ab-a888-432c-a7c6-bc14d96d45fc\",\"type\":\"Range1d\"},{\"attributes\":{\"fill_alpha\":{\"field\":\"fill_alpha\"},\"fill_color\":{\"field\":\"color\"},\"height\":{\"field\":\"height\",\"units\":\"data\"},\"line_color\":{\"field\":\"line_color\"},\"width\":{\"field\":\"width\",\"units\":\"data\"},\"x\":{\"field\":\"x\"},\"y\":{\"field\":\"y\"}},\"id\":\"a934b2c7-2498-44dc-baee-54242e8b484a\",\"type\":\"Rect\"},{\"attributes\":{\"fill_alpha\":{\"field\":\"fill_alpha\"},\"fill_color\":{\"field\":\"color\"},\"height\":{\"field\":\"height\",\"units\":\"data\"},\"line_color\":{\"field\":\"line_color\"},\"width\":{\"field\":\"width\",\"units\":\"data\"},\"x\":{\"field\":\"x\"},\"y\":{\"field\":\"y\"}},\"id\":\"643acb61-a3d4-4379-84af-8df08d962261\",\"type\":\"Rect\"},{\"attributes\":{\"legends\":[[\"A\",[{\"id\":\"269a6e7b-11fc-42e9-ba38-f345b3d930f4\",\"type\":\"GlyphRenderer\"}]],[\"B\",[{\"id\":\"475f1704-c14d-4c68-83a0-0c554e11f3ad\",\"type\":\"GlyphRenderer\"}]],[\"C\",[{\"id\":\"3cd5c1d9-2afd-477e-81b7-7824c3a5045e\",\"type\":\"GlyphRenderer\"}]]],\"plot\":{\"id\":\"ba56d264-c7d2-49d9-b097-6fc952d4e338\",\"subtype\":\"Chart\",\"type\":\"Plot\"}},\"id\":\"8e7536db-ac5c-49a3-a142-cb64639e3273\",\"type\":\"Legend\"},{\"attributes\":{\"overlay\":{\"id\":\"1120b6fc-09b2-4cdb-9f08-28f9221cf295\",\"type\":\"BoxAnnotation\"},\"plot\":{\"id\":\"5041620a-abf7-44f1-b325-41e35bd70cd5\",\"subtype\":\"Chart\",\"type\":\"Plot\"}},\"id\":\"baed21e7-8f2f-418a-a983-5cc43611ae0b\",\"type\":\"BoxZoomTool\"},{\"attributes\":{\"data_source\":{\"id\":\"2d6bd52f-640d-4481-9860-693b81e81e0d\",\"type\":\"ColumnDataSource\"},\"glyph\":{\"id\":\"03be954d-9dd4-4649-9b07-554af717b835\",\"type\":\"Rect\"},\"hover_glyph\":null,\"nonselection_glyph\":null,\"selection_glyph\":null},\"id\":\"8c59507d-8522-487a-8ae8-efba079b824f\",\"type\":\"GlyphRenderer\"},{\"attributes\":{\"callback\":null,\"column_names\":[\"width\",\"x\",\"height\",\"color\",\"line_color\",\"fill_alpha\",\"line_alpha\",\"y\"],\"data\":{\"chart_index\":[{\"index\":2,\"name\":\"B\"}],\"color\":[\"#5ab738\"],\"fill_alpha\":[0.8],\"height\":[0.149215324116174],\"index\":[2],\"line_alpha\":[1.0],\"line_color\":[\"white\"],\"name\":[\"B\"],\"width\":[0.8],\"x\":[\"2\"],\"y\":[0.8147906437284014]}},\"id\":\"7b166654-7e20-4acb-8a5f-2cd45882442c\",\"type\":\"ColumnDataSource\"},{\"attributes\":{\"dimension\":1,\"plot\":{\"id\":\"a1f9104c-31e5-4522-8cd2-850ebffcd8f5\",\"subtype\":\"Chart\",\"type\":\"Plot\"},\"ticker\":{\"id\":\"9839f45a-e9dd-43c4-85b7-ff9fa7b57f18\",\"type\":\"BasicTicker\"}},\"id\":\"a84f6810-ec47-433a-b081-817541f6604b\",\"type\":\"Grid\"},{\"attributes\":{\"fill_alpha\":{\"field\":\"fill_alpha\"},\"fill_color\":{\"field\":\"color\"},\"height\":{\"field\":\"height\",\"units\":\"data\"},\"line_color\":{\"field\":\"line_color\"},\"width\":{\"field\":\"width\",\"units\":\"data\"},\"x\":{\"field\":\"x\"},\"y\":{\"field\":\"y\"}},\"id\":\"cb364358-0ca7-4558-a9e2-d043a5967ad3\",\"type\":\"Rect\"},{\"attributes\":{\"below\":[{\"id\":\"40c19325-bd52-4a34-b256-23d2da43c47f\",\"type\":\"CategoricalAxis\"}],\"left\":[{\"id\":\"7da4c860-700b-4a69-9e99-117abee71613\",\"type\":\"LinearAxis\"}],\"legend\":\"top_right\",\"renderers\":[{\"id\":\"a94883e8-debe-49d6-893e-0bc51368d003\",\"type\":\"BoxAnnotation\"},{\"id\":\"269a6e7b-11fc-42e9-ba38-f345b3d930f4\",\"type\":\"GlyphRenderer\"},{\"id\":\"258c79c6-b6af-4523-9cca-c3dd3dd8a43e\",\"type\":\"GlyphRenderer\"},{\"id\":\"9760c645-ea0b-4996-a17b-2b8493f1a212\",\"type\":\"GlyphRenderer\"},{\"id\":\"cbeb36d8-a77a-47db-b275-14649b337e52\",\"type\":\"GlyphRenderer\"},{\"id\":\"73c42649-16ac-4a63-9e35-9e1692325534\",\"type\":\"GlyphRenderer\"},{\"id\":\"7d6457e1-2a6a-46b3-841d-f95f6d2d8268\",\"type\":\"GlyphRenderer\"},{\"id\":\"f2002389-cd6f-419c-b5a0-33a13c79d719\",\"type\":\"GlyphRenderer\"},{\"id\":\"698657f7-9da8-482e-884d-8353b6b86d32\",\"type\":\"GlyphRenderer\"},{\"id\":\"dc8db01f-d79c-481d-add6-0fcbabc4967f\",\"type\":\"GlyphRenderer\"},{\"id\":\"c04eaaaa-5724-47bb-b8dc-f6e6b70d70ae\",\"type\":\"GlyphRenderer\"},{\"id\":\"475f1704-c14d-4c68-83a0-0c554e11f3ad\",\"type\":\"GlyphRenderer\"},{\"id\":\"e7ab2270-372a-42c9-963b-ee652bd84349\",\"type\":\"GlyphRenderer\"},{\"id\":\"e5a8e883-1dd8-4bb1-9327-b7b875e2bb1e\",\"type\":\"GlyphRenderer\"},{\"id\":\"eaca32c0-7701-4bb0-a470-744733556021\",\"type\":\"GlyphRenderer\"},{\"id\":\"f78f0c81-5d0d-46a6-b440-dc80b1497ddf\",\"type\":\"GlyphRenderer\"},{\"id\":\"350debe8-9a9e-4202-bd95-66a68a84c287\",\"type\":\"GlyphRenderer\"},{\"id\":\"f049a663-428c-47c4-a8cd-503886e70d7d\",\"type\":\"GlyphRenderer\"},{\"id\":\"fe81e438-9e48-4e69-b509-8ad65fa6b83b\",\"type\":\"GlyphRenderer\"},{\"id\":\"eeb05f93-f5f7-40f0-a82d-cc1a63c2fda5\",\"type\":\"GlyphRenderer\"},{\"id\":\"664c1639-5bd1-43a6-a233-1cfadc267df6\",\"type\":\"GlyphRenderer\"},{\"id\":\"3cd5c1d9-2afd-477e-81b7-7824c3a5045e\",\"type\":\"GlyphRenderer\"},{\"id\":\"a1cc94c7-6f55-4375-9d8e-6f9741b3db31\",\"type\":\"GlyphRenderer\"},{\"id\":\"675476b1-0bf3-4e7b-b53a-37529ba7a65d\",\"type\":\"GlyphRenderer\"},{\"id\":\"587fead6-20af-42c7-828e-52ef0e0a4510\",\"type\":\"GlyphRenderer\"},{\"id\":\"93b51aad-1c92-41f8-92de-1cbaa6774e2e\",\"type\":\"GlyphRenderer\"},{\"id\":\"fb852091-29ff-4a19-bdd1-f34481f97d89\",\"type\":\"GlyphRenderer\"},{\"id\":\"48686db0-b67c-4855-a208-767b87a13c92\",\"type\":\"GlyphRenderer\"},{\"id\":\"815aa546-28f7-4494-91a2-6c177458d82d\",\"type\":\"GlyphRenderer\"},{\"id\":\"124769fd-d246-4d29-b7b4-2e4c2ad320ee\",\"type\":\"GlyphRenderer\"},{\"id\":\"8c59507d-8522-487a-8ae8-efba079b824f\",\"type\":\"GlyphRenderer\"},{\"id\":\"8e7536db-ac5c-49a3-a142-cb64639e3273\",\"type\":\"Legend\"},{\"id\":\"40c19325-bd52-4a34-b256-23d2da43c47f\",\"type\":\"CategoricalAxis\"},{\"id\":\"7da4c860-700b-4a69-9e99-117abee71613\",\"type\":\"LinearAxis\"},{\"id\":\"88e6928b-f8ba-475e-a564-d1243dba2615\",\"type\":\"Grid\"}],\"title_text_font_size\":{\"value\":\"14pt\"},\"tool_events\":{\"id\":\"c6e0de74-d72d-4707-a7f5-049d831ec1e4\",\"type\":\"ToolEvents\"},\"tools\":[{\"id\":\"07c57f35-fc63-4b15-a4d5-f45cd3bab50a\",\"type\":\"PanTool\"},{\"id\":\"5e0703f9-6c70-4a3d-970e-e38fc8a44835\",\"type\":\"WheelZoomTool\"},{\"id\":\"94d091ed-ba7a-4eb1-966a-c1f24ca5f294\",\"type\":\"BoxZoomTool\"},{\"id\":\"447e05e1-396a-4600-94cd-4a9922a22f2e\",\"type\":\"PreviewSaveTool\"},{\"id\":\"366a953b-2e4a-455f-be92-12b984498975\",\"type\":\"ResizeTool\"},{\"id\":\"e79b998f-c299-4e6d-a7f0-85541ac5b8fe\",\"type\":\"ResetTool\"},{\"id\":\"ca10e2b5-3b9f-4b62-90ff-33b001de04ee\",\"type\":\"HelpTool\"}],\"x_mapper_type\":\"auto\",\"x_range\":{\"id\":\"a621a041-054b-4903-b808-1dcfe28431e5\",\"type\":\"FactorRange\"},\"xgrid\":false,\"xscale\":\"auto\",\"y_mapper_type\":\"auto\",\"y_range\":{\"id\":\"4d53b8ab-a888-432c-a7c6-bc14d96d45fc\",\"type\":\"Range1d\"},\"yscale\":\"auto\"},\"id\":\"ba56d264-c7d2-49d9-b097-6fc952d4e338\",\"subtype\":\"Chart\",\"type\":\"Plot\"},{\"attributes\":{\"axis_label\":\"value\",\"formatter\":{\"id\":\"5c8a4f5a-053a-4a25-b673-cdf8a22d1a78\",\"type\":\"BasicTickFormatter\"},\"plot\":{\"id\":\"5041620a-abf7-44f1-b325-41e35bd70cd5\",\"subtype\":\"Chart\",\"type\":\"Plot\"},\"ticker\":{\"id\":\"ba844e7d-4ef2-4fdf-816d-d6c31a38a04b\",\"type\":\"BasicTicker\"}},\"id\":\"a27dd56a-8343-4693-9bd1-1a8c11187df0\",\"type\":\"LinearAxis\"},{\"attributes\":{\"overlay\":{\"id\":\"a94883e8-debe-49d6-893e-0bc51368d003\",\"type\":\"BoxAnnotation\"},\"plot\":{\"id\":\"ba56d264-c7d2-49d9-b097-6fc952d4e338\",\"subtype\":\"Chart\",\"type\":\"Plot\"}},\"id\":\"94d091ed-ba7a-4eb1-966a-c1f24ca5f294\",\"type\":\"BoxZoomTool\"},{\"attributes\":{\"fill_alpha\":{\"field\":\"fill_alpha\"},\"fill_color\":{\"field\":\"color\"},\"height\":{\"field\":\"height\",\"units\":\"data\"},\"line_color\":{\"field\":\"line_color\"},\"width\":{\"field\":\"width\",\"units\":\"data\"},\"x\":{\"field\":\"x\"},\"y\":{\"field\":\"y\"}},\"id\":\"9059fc63-a737-43b5-bf13-cbab4305018f\",\"type\":\"Rect\"},{\"attributes\":{\"fill_alpha\":{\"field\":\"fill_alpha\"},\"fill_color\":{\"field\":\"color\"},\"height\":{\"field\":\"height\",\"units\":\"data\"},\"line_color\":{\"field\":\"line_color\"},\"width\":{\"field\":\"width\",\"units\":\"data\"},\"x\":{\"field\":\"x\"},\"y\":{\"field\":\"y\"}},\"id\":\"b7b7211b-a4d3-4cdc-ab82-bc2408eb406d\",\"type\":\"Rect\"},{\"attributes\":{\"data_source\":{\"id\":\"4a8b12d7-6ae0-40dd-bffc-6b78aa04c865\",\"type\":\"ColumnDataSource\"},\"glyph\":{\"id\":\"6a5766d4-f0b6-4fdb-9526-9b3b69a982cf\",\"type\":\"Rect\"},\"hover_glyph\":null,\"nonselection_glyph\":null,\"selection_glyph\":null},\"id\":\"f049a663-428c-47c4-a8cd-503886e70d7d\",\"type\":\"GlyphRenderer\"},{\"attributes\":{\"fill_alpha\":{\"field\":\"fill_alpha\"},\"fill_color\":{\"field\":\"color\"},\"height\":{\"field\":\"height\",\"units\":\"data\"},\"line_color\":{\"field\":\"line_color\"},\"width\":{\"field\":\"width\",\"units\":\"data\"},\"x\":{\"field\":\"x\"},\"y\":{\"field\":\"y\"}},\"id\":\"86270046-7b5d-4c14-b564-e8d003944253\",\"type\":\"Rect\"},{\"attributes\":{\"fill_alpha\":{\"field\":\"fill_alpha\"},\"fill_color\":{\"field\":\"color\"},\"height\":{\"field\":\"height\",\"units\":\"data\"},\"line_color\":{\"field\":\"line_color\"},\"width\":{\"field\":\"width\",\"units\":\"data\"},\"x\":{\"field\":\"x\"},\"y\":{\"field\":\"y\"}},\"id\":\"0609ed78-0aee-4a4a-b250-252fcf79ec8f\",\"type\":\"Rect\"},{\"attributes\":{\"fill_alpha\":{\"field\":\"fill_alpha\"},\"fill_color\":{\"field\":\"color\"},\"height\":{\"field\":\"height\",\"units\":\"data\"},\"line_color\":{\"field\":\"line_color\"},\"width\":{\"field\":\"width\",\"units\":\"data\"},\"x\":{\"field\":\"x\"},\"y\":{\"field\":\"y\"}},\"id\":\"909ac1d4-a8e0-45a2-8667-449c54d456bb\",\"type\":\"Rect\"},{\"attributes\":{},\"id\":\"dc93e3a1-c67a-4856-9f1f-8a1245ef089f\",\"type\":\"BasicTickFormatter\"},{\"attributes\":{\"plot\":{\"id\":\"ba56d264-c7d2-49d9-b097-6fc952d4e338\",\"subtype\":\"Chart\",\"type\":\"Plot\"}},\"id\":\"447e05e1-396a-4600-94cd-4a9922a22f2e\",\"type\":\"PreviewSaveTool\"},{\"attributes\":{\"fill_alpha\":{\"field\":\"fill_alpha\"},\"fill_color\":{\"field\":\"color\"},\"height\":{\"field\":\"height\",\"units\":\"data\"},\"line_color\":{\"field\":\"line_color\"},\"width\":{\"field\":\"width\",\"units\":\"data\"},\"x\":{\"field\":\"x\"},\"y\":{\"field\":\"y\"}},\"id\":\"b3378969-470f-41e0-ad71-792b71386002\",\"type\":\"Rect\"},{\"attributes\":{\"data_source\":{\"id\":\"561acbbb-8772-47cd-a48b-4c466b8bb70e\",\"type\":\"ColumnDataSource\"},\"glyph\":{\"id\":\"ad133a0d-c77b-4267-9612-d474be97b8f4\",\"type\":\"Rect\"},\"hover_glyph\":null,\"nonselection_glyph\":null,\"selection_glyph\":null},\"id\":\"698657f7-9da8-482e-884d-8353b6b86d32\",\"type\":\"GlyphRenderer\"},{\"attributes\":{\"callback\":null,\"column_names\":[\"width\",\"x\",\"height\",\"color\",\"line_color\",\"fill_alpha\",\"line_alpha\",\"y\"],\"data\":{\"chart_index\":[{\"index\":4}],\"color\":[\"#f22c40\"],\"fill_alpha\":[0.8],\"height\":[1.1934159560319442],\"index\":[4],\"line_alpha\":[1.0],\"line_color\":[\"white\"],\"width\":[0.8],\"x\":[\"4\"],\"y\":[0.5967079780159721]}},\"id\":\"4b829116-10aa-4870-bd20-6278b69e32b1\",\"type\":\"ColumnDataSource\"},{\"attributes\":{\"callback\":null,\"column_names\":[\"width\",\"x\",\"height\",\"color\",\"line_color\",\"fill_alpha\",\"line_alpha\",\"y\"],\"data\":{\"chart_index\":[{\"index\":1,\"name\":\"C\"}],\"color\":[\"#407ee7\"],\"fill_alpha\":[0.8],\"height\":[0.036439162860363195],\"index\":[1],\"line_alpha\":[1.0],\"line_color\":[\"white\"],\"name\":[\"C\"],\"width\":[0.8],\"x\":[\"1\"],\"y\":[0.6835087806487274]}},\"id\":\"f96527e0-553c-47af-823c-bbd7136769ca\",\"type\":\"ColumnDataSource\"},{\"attributes\":{\"data_source\":{\"id\":\"33001f4f-a0c0-4e28-8d5b-9cfebc6d027c\",\"type\":\"ColumnDataSource\"},\"glyph\":{\"id\":\"6524b574-db73-4c26-9214-0c18f1bc5aaa\",\"type\":\"Rect\"},\"hover_glyph\":null,\"nonselection_glyph\":null,\"selection_glyph\":null},\"id\":\"815aa546-28f7-4494-91a2-6c177458d82d\",\"type\":\"GlyphRenderer\"},{\"attributes\":{\"data_source\":{\"id\":\"713a13e1-202d-4144-8de2-d40b42aedd93\",\"type\":\"ColumnDataSource\"},\"glyph\":{\"id\":\"90b9bc4b-99da-4de8-bac2-50c71f97a30e\",\"type\":\"Rect\"},\"hover_glyph\":null,\"nonselection_glyph\":null,\"selection_glyph\":null},\"id\":\"f78f0c81-5d0d-46a6-b440-dc80b1497ddf\",\"type\":\"GlyphRenderer\"},{\"attributes\":{\"fill_alpha\":{\"field\":\"fill_alpha\"},\"fill_color\":{\"field\":\"color\"},\"height\":{\"field\":\"height\",\"units\":\"data\"},\"line_color\":{\"field\":\"line_color\"},\"width\":{\"field\":\"width\",\"units\":\"data\"},\"x\":{\"field\":\"x\"},\"y\":{\"field\":\"y\"}},\"id\":\"beb829b4-fd28-4ed2-8a9a-756fc44f9dd1\",\"type\":\"Rect\"},{\"attributes\":{\"fill_alpha\":{\"field\":\"fill_alpha\"},\"fill_color\":{\"field\":\"color\"},\"height\":{\"field\":\"height\",\"units\":\"data\"},\"line_color\":{\"field\":\"line_color\"},\"width\":{\"field\":\"width\",\"units\":\"data\"},\"x\":{\"field\":\"x\"},\"y\":{\"field\":\"y\"}},\"id\":\"7219b464-e6c5-4f60-b8fb-3c454885cae7\",\"type\":\"Rect\"},{\"attributes\":{\"callback\":null,\"column_names\":[\"width\",\"x\",\"height\",\"color\",\"line_color\",\"fill_alpha\",\"line_alpha\",\"y\"],\"data\":{\"chart_index\":[{\"index\":0}],\"color\":[\"#f22c40\"],\"fill_alpha\":[0.8],\"height\":[2.5234388067066664],\"index\":[0],\"line_alpha\":[1.0],\"line_color\":[\"white\"],\"width\":[0.8],\"x\":[\"0\"],\"y\":[1.2617194033533332]}},\"id\":\"535fd8c3-25f0-4f1a-985b-06684789e491\",\"type\":\"ColumnDataSource\"},{\"attributes\":{\"callback\":null,\"column_names\":[\"width\",\"x\",\"height\",\"color\",\"line_color\",\"fill_alpha\",\"line_alpha\",\"y\"],\"data\":{\"chart_index\":[{\"index\":3,\"name\":\"B\"}],\"color\":[\"#5ab738\"],\"fill_alpha\":[0.8],\"height\":[0.8565217445863936],\"index\":[3],\"line_alpha\":[1.0],\"line_color\":[\"white\"],\"name\":[\"B\"],\"width\":[0.8],\"x\":[\"3\"],\"y\":[0.8484400346363958]}},\"id\":\"0408c55f-189b-404b-b4da-55789e260364\",\"type\":\"ColumnDataSource\"},{\"attributes\":{\"callback\":null,\"column_names\":[\"width\",\"x\",\"height\",\"color\",\"line_color\",\"fill_alpha\",\"line_alpha\",\"y\"],\"data\":{\"chart_index\":[{\"index\":6,\"name\":\"C\"}],\"color\":[\"#407ee7\"],\"fill_alpha\":[0.8],\"height\":[0.1776147291661463],\"index\":[6],\"line_alpha\":[1.0],\"line_color\":[\"white\"],\"name\":[\"C\"],\"width\":[0.8],\"x\":[\"6\"],\"y\":[1.1042249960187136]}},\"id\":\"1073a285-88aa-4e11-8e7f-06f4c7a3ffb4\",\"type\":\"ColumnDataSource\"},{\"attributes\":{\"data_source\":{\"id\":\"af1a3049-89af-4340-8357-98e27eb6c6f6\",\"type\":\"ColumnDataSource\"},\"glyph\":{\"id\":\"47ee8490-f0b7-408e-8e34-223a84fc5a1e\",\"type\":\"Rect\"},\"hover_glyph\":null,\"nonselection_glyph\":null,\"selection_glyph\":null},\"id\":\"eeb05f93-f5f7-40f0-a82d-cc1a63c2fda5\",\"type\":\"GlyphRenderer\"},{\"attributes\":{\"callback\":null,\"column_names\":[\"width\",\"x\",\"height\",\"color\",\"line_color\",\"fill_alpha\",\"line_alpha\",\"y\"],\"data\":{\"chart_index\":[{\"index\":1}],\"color\":[\"#f22c40\"],\"fill_alpha\":[0.8],\"height\":[0.701728362078909],\"index\":[1],\"line_alpha\":[1.0],\"line_color\":[\"white\"],\"width\":[0.8],\"x\":[\"1\"],\"y\":[0.3508641810394545]}},\"id\":\"661890c7-9397-445c-a288-1588b76f4ecd\",\"type\":\"ColumnDataSource\"},{\"attributes\":{\"data_source\":{\"id\":\"84987891-0f66-44e1-9762-d2f2f6106b88\",\"type\":\"ColumnDataSource\"},\"glyph\":{\"id\":\"b7b7211b-a4d3-4cdc-ab82-bc2408eb406d\",\"type\":\"Rect\"},\"hover_glyph\":null,\"nonselection_glyph\":null,\"selection_glyph\":null},\"id\":\"cbeb36d8-a77a-47db-b275-14649b337e52\",\"type\":\"GlyphRenderer\"},{\"attributes\":{\"data_source\":{\"id\":\"95488bf2-a01a-4d5a-a248-b35a820227f9\",\"type\":\"ColumnDataSource\"},\"glyph\":{\"id\":\"4d75315a-8fc4-4624-8ce2-8d65dc83a63f\",\"type\":\"Rect\"},\"hover_glyph\":null,\"nonselection_glyph\":null,\"selection_glyph\":null},\"id\":\"475f1704-c14d-4c68-83a0-0c554e11f3ad\",\"type\":\"GlyphRenderer\"},{\"attributes\":{\"plot\":{\"id\":\"5041620a-abf7-44f1-b325-41e35bd70cd5\",\"subtype\":\"Chart\",\"type\":\"Plot\"}},\"id\":\"29ed64f0-80e7-43a2-a9de-69a7c43c80bf\",\"type\":\"WheelZoomTool\"},{\"attributes\":{\"plot\":{\"id\":\"a1f9104c-31e5-4522-8cd2-850ebffcd8f5\",\"subtype\":\"Chart\",\"type\":\"Plot\"}},\"id\":\"cc31e279-f300-45db-89e0-be3e8acfe854\",\"type\":\"PreviewSaveTool\"},{\"attributes\":{\"fill_alpha\":{\"field\":\"fill_alpha\"},\"fill_color\":{\"field\":\"color\"},\"height\":{\"field\":\"height\",\"units\":\"data\"},\"line_color\":{\"field\":\"line_color\"},\"width\":{\"field\":\"width\",\"units\":\"data\"},\"x\":{\"field\":\"x\"},\"y\":{\"field\":\"y\"}},\"id\":\"edc019f7-d788-4723-a372-72f586903cbe\",\"type\":\"Rect\"},{\"attributes\":{\"fill_alpha\":{\"field\":\"fill_alpha\"},\"fill_color\":{\"field\":\"color\"},\"height\":{\"field\":\"height\",\"units\":\"data\"},\"line_color\":{\"field\":\"line_color\"},\"width\":{\"field\":\"width\",\"units\":\"data\"},\"x\":{\"field\":\"x\"},\"y\":{\"field\":\"y\"}},\"id\":\"47ee8490-f0b7-408e-8e34-223a84fc5a1e\",\"type\":\"Rect\"},{\"attributes\":{\"bottom_units\":\"screen\",\"fill_alpha\":{\"value\":0.5},\"fill_color\":{\"value\":\"lightgrey\"},\"left_units\":\"screen\",\"level\":\"overlay\",\"line_alpha\":{\"value\":1.0},\"line_color\":{\"value\":\"black\"},\"line_dash\":[4,4],\"line_width\":{\"value\":2},\"plot\":null,\"render_mode\":\"css\",\"right_units\":\"screen\",\"top_units\":\"screen\"},\"id\":\"0d4b896e-1a8a-4d08-813d-b6890a81445a\",\"type\":\"BoxAnnotation\"},{\"attributes\":{\"fill_alpha\":{\"field\":\"fill_alpha\"},\"fill_color\":{\"field\":\"color\"},\"height\":{\"field\":\"height\",\"units\":\"data\"},\"line_color\":{\"field\":\"line_color\"},\"width\":{\"field\":\"width\",\"units\":\"data\"},\"x\":{\"field\":\"x\"},\"y\":{\"field\":\"y\"}},\"id\":\"90b9bc4b-99da-4de8-bac2-50c71f97a30e\",\"type\":\"Rect\"},{\"attributes\":{\"callback\":null,\"column_names\":[\"width\",\"x\",\"height\",\"color\",\"line_color\",\"fill_alpha\",\"line_alpha\",\"y\"],\"data\":{\"chart_index\":[{\"index\":2,\"name\":\"A\"}],\"color\":[\"#f22c40\"],\"fill_alpha\":[0.8],\"height\":[0.7401829816703144],\"index\":[2],\"line_alpha\":[1.0],\"line_color\":[\"white\"],\"name\":[\"A\"],\"width\":[0.8],\"x\":[\"2\"],\"y\":[0.3700914908351572]}},\"id\":\"3750d03d-850d-442d-bbb8-22083429500c\",\"type\":\"ColumnDataSource\"},{\"attributes\":{\"data_source\":{\"id\":\"2245e811-3e55-4c2b-8755-29b6830ca08f\",\"type\":\"ColumnDataSource\"},\"glyph\":{\"id\":\"97570c32-8223-42f1-b607-c3783eebdc60\",\"type\":\"Rect\"},\"hover_glyph\":null,\"nonselection_glyph\":null,\"selection_glyph\":null},\"id\":\"c3b94981-d559-422d-ab66-70609edb83d0\",\"type\":\"GlyphRenderer\"},{\"attributes\":{\"line_color\":{\"value\":\"#f22c40\"},\"line_width\":{\"value\":2},\"x\":{\"field\":\"x_values\"},\"y\":{\"field\":\"y_values\"}},\"id\":\"5aa90d74-cb67-48a0-ab0e-5e1f87fcb97f\",\"type\":\"Line\"},{\"attributes\":{},\"id\":\"ba844e7d-4ef2-4fdf-816d-d6c31a38a04b\",\"type\":\"BasicTicker\"},{\"attributes\":{\"callback\":null,\"column_names\":[\"width\",\"x\",\"height\",\"color\",\"line_color\",\"fill_alpha\",\"line_alpha\",\"y\"],\"data\":{\"chart_index\":[{\"index\":3}],\"color\":[\"#f22c40\"],\"fill_alpha\":[0.8],\"height\":[1.9347060360683153],\"index\":[3],\"line_alpha\":[1.0],\"line_color\":[\"white\"],\"width\":[0.8],\"x\":[\"3\"],\"y\":[0.9673530180341576]}},\"id\":\"2245e811-3e55-4c2b-8755-29b6830ca08f\",\"type\":\"ColumnDataSource\"},{\"attributes\":{\"data_source\":{\"id\":\"82619958-950a-4214-95a7-7c53b6b45765\",\"type\":\"ColumnDataSource\"},\"glyph\":{\"id\":\"5aa90d74-cb67-48a0-ab0e-5e1f87fcb97f\",\"type\":\"Line\"},\"hover_glyph\":null,\"nonselection_glyph\":null,\"selection_glyph\":null},\"id\":\"524fb8df-c26d-4221-9d23-27d8b1166908\",\"type\":\"GlyphRenderer\"},{\"attributes\":{\"callback\":null,\"column_names\":[\"width\",\"x\",\"height\",\"color\",\"line_color\",\"fill_alpha\",\"line_alpha\",\"y\"],\"data\":{\"chart_index\":[{\"index\":0,\"name\":\"C\"}],\"color\":[\"#407ee7\"],\"fill_alpha\":[0.8],\"height\":[0.8388815823557458],\"index\":[0],\"line_alpha\":[1.0],\"line_color\":[\"white\"],\"name\":[\"C\"],\"width\":[0.8],\"x\":[\"0\"],\"y\":[2.1039980155287936]}},\"id\":\"c4fdcdaf-5bc5-4703-b3b3-15c837ba0e3a\",\"type\":\"ColumnDataSource\"},{\"attributes\":{\"plot\":{\"id\":\"a1f9104c-31e5-4522-8cd2-850ebffcd8f5\",\"subtype\":\"Chart\",\"type\":\"Plot\"}},\"id\":\"36086ddb-9a29-4314-a2fe-d80ce617f5f2\",\"type\":\"ResetTool\"},{\"attributes\":{\"callback\":null,\"column_names\":[\"width\",\"x\",\"height\",\"color\",\"line_color\",\"fill_alpha\",\"line_alpha\",\"y\"],\"data\":{\"chart_index\":[{\"index\":4,\"name\":\"C\"}],\"color\":[\"#407ee7\"],\"fill_alpha\":[0.8],\"height\":[0.358648559841829],\"index\":[4],\"line_alpha\":[1.0],\"line_color\":[\"white\"],\"name\":[\"C\"],\"width\":[0.8],\"x\":[\"4\"],\"y\":[1.0140916761110297]}},\"id\":\"fc949561-b107-4973-9ccc-da2b3b15f1ea\",\"type\":\"ColumnDataSource\"},{\"attributes\":{\"data_source\":{\"id\":\"fc949561-b107-4973-9ccc-da2b3b15f1ea\",\"type\":\"ColumnDataSource\"},\"glyph\":{\"id\":\"562ac636-ff62-4296-9d93-78399d1b02d7\",\"type\":\"Rect\"},\"hover_glyph\":null,\"nonselection_glyph\":null,\"selection_glyph\":null},\"id\":\"93b51aad-1c92-41f8-92de-1cbaa6774e2e\",\"type\":\"GlyphRenderer\"},{\"attributes\":{\"data_source\":{\"id\":\"1073a285-88aa-4e11-8e7f-06f4c7a3ffb4\",\"type\":\"ColumnDataSource\"},\"glyph\":{\"id\":\"ed5b8dfb-0858-471b-bf52-b34e2be56873\",\"type\":\"Rect\"},\"hover_glyph\":null,\"nonselection_glyph\":null,\"selection_glyph\":null},\"id\":\"48686db0-b67c-4855-a208-767b87a13c92\",\"type\":\"GlyphRenderer\"},{\"attributes\":{\"fill_alpha\":{\"field\":\"fill_alpha\"},\"fill_color\":{\"field\":\"color\"},\"height\":{\"field\":\"height\",\"units\":\"data\"},\"line_color\":{\"field\":\"line_color\"},\"width\":{\"field\":\"width\",\"units\":\"data\"},\"x\":{\"field\":\"x\"},\"y\":{\"field\":\"y\"}},\"id\":\"3911f86b-1fb0-4f4f-987d-40dc6391581f\",\"type\":\"Rect\"},{\"attributes\":{\"dimension\":1,\"plot\":{\"id\":\"ba56d264-c7d2-49d9-b097-6fc952d4e338\",\"subtype\":\"Chart\",\"type\":\"Plot\"},\"ticker\":{\"id\":\"cea57cc7-9f7b-4da1-b8e2-00380f552501\",\"type\":\"BasicTicker\"}},\"id\":\"88e6928b-f8ba-475e-a564-d1243dba2615\",\"type\":\"Grid\"},{\"attributes\":{\"data_source\":{\"id\":\"c884863c-0192-48b7-92a4-a63522505e83\",\"type\":\"ColumnDataSource\"},\"glyph\":{\"id\":\"0cec1b28-5a28-49d3-8679-153cb6aeb361\",\"type\":\"Rect\"},\"hover_glyph\":null,\"nonselection_glyph\":null,\"selection_glyph\":null},\"id\":\"73c42649-16ac-4a63-9e35-9e1692325534\",\"type\":\"GlyphRenderer\"},{\"attributes\":{\"fill_alpha\":{\"field\":\"fill_alpha\"},\"fill_color\":{\"field\":\"color\"},\"height\":{\"field\":\"height\",\"units\":\"data\"},\"line_color\":{\"field\":\"line_color\"},\"width\":{\"field\":\"width\",\"units\":\"data\"},\"x\":{\"field\":\"x\"},\"y\":{\"field\":\"y\"}},\"id\":\"ad133a0d-c77b-4267-9612-d474be97b8f4\",\"type\":\"Rect\"},{\"attributes\":{\"callback\":null,\"column_names\":[\"width\",\"x\",\"height\",\"color\",\"line_color\",\"fill_alpha\",\"line_alpha\",\"y\"],\"data\":{\"chart_index\":[{\"index\":2,\"name\":\"C\"}],\"color\":[\"#407ee7\"],\"fill_alpha\":[0.8],\"height\":[0.09935549384009557],\"index\":[2],\"line_alpha\":[1.0],\"line_color\":[\"white\"],\"name\":[\"C\"],\"width\":[0.8],\"x\":[\"2\"],\"y\":[0.9390760527065362]}},\"id\":\"710ebf2d-d7b4-4d16-9d1c-f09959eec571\",\"type\":\"ColumnDataSource\"},{\"attributes\":{},\"id\":\"9e01cf95-e94c-45bb-a6ba-b9a7e1168225\",\"type\":\"ToolEvents\"},{\"attributes\":{\"plot\":{\"id\":\"5041620a-abf7-44f1-b325-41e35bd70cd5\",\"subtype\":\"Chart\",\"type\":\"Plot\"}},\"id\":\"80e71fe9-17ca-4e2b-b64f-d17cc058258d\",\"type\":\"HelpTool\"},{\"attributes\":{\"axis_label\":\"index\",\"formatter\":{\"id\":\"28438f91-ffdf-49c6-8b9d-016fdcc31dd4\",\"type\":\"CategoricalTickFormatter\"},\"major_label_orientation\":0.7853981633974483,\"plot\":{\"id\":\"ba56d264-c7d2-49d9-b097-6fc952d4e338\",\"subtype\":\"Chart\",\"type\":\"Plot\"},\"ticker\":{\"id\":\"2dbeb26e-46c9-40d8-972e-42fe839eaf54\",\"type\":\"CategoricalTicker\"}},\"id\":\"40c19325-bd52-4a34-b256-23d2da43c47f\",\"type\":\"CategoricalAxis\"},{\"attributes\":{\"data_source\":{\"id\":\"c4fdcdaf-5bc5-4703-b3b3-15c837ba0e3a\",\"type\":\"ColumnDataSource\"},\"glyph\":{\"id\":\"30e94a37-563e-41e2-9db1-d5b51772c139\",\"type\":\"Rect\"},\"hover_glyph\":null,\"nonselection_glyph\":null,\"selection_glyph\":null},\"id\":\"3cd5c1d9-2afd-477e-81b7-7824c3a5045e\",\"type\":\"GlyphRenderer\"},{\"attributes\":{},\"id\":\"e259f7fc-a997-4f19-acf8-bd9f0fe9dcc8\",\"type\":\"CategoricalTickFormatter\"},{\"attributes\":{\"fill_alpha\":{\"field\":\"fill_alpha\"},\"fill_color\":{\"field\":\"color\"},\"height\":{\"field\":\"height\",\"units\":\"data\"},\"line_color\":{\"field\":\"line_color\"},\"width\":{\"field\":\"width\",\"units\":\"data\"},\"x\":{\"field\":\"x\"},\"y\":{\"field\":\"y\"}},\"id\":\"64b02b36-b91e-4e97-be48-46347f5cd004\",\"type\":\"Rect\"},{\"attributes\":{},\"id\":\"2dbeb26e-46c9-40d8-972e-42fe839eaf54\",\"type\":\"CategoricalTicker\"},{\"attributes\":{\"data_source\":{\"id\":\"e163a114-91e6-40ae-9392-57f44494315c\",\"type\":\"ColumnDataSource\"},\"glyph\":{\"id\":\"909ac1d4-a8e0-45a2-8667-449c54d456bb\",\"type\":\"Rect\"},\"hover_glyph\":null,\"nonselection_glyph\":null,\"selection_glyph\":null},\"id\":\"258c79c6-b6af-4523-9cca-c3dd3dd8a43e\",\"type\":\"GlyphRenderer\"}],\"root_ids\":[\"a1f9104c-31e5-4522-8cd2-850ebffcd8f5\",\"5041620a-abf7-44f1-b325-41e35bd70cd5\",\"ba56d264-c7d2-49d9-b097-6fc952d4e338\"]},\"title\":\"Bokeh Application\",\"version\":\"0.11.1\"}};\n",
       "            var render_items = [{\"docid\":\"f9682a73-2c0d-4b0a-a358-0e2d0b052eab\",\"elementid\":\"aab3dd33-921e-4099-95e7-f5faa5bd5003\",\"modelid\":\"ba56d264-c7d2-49d9-b097-6fc952d4e338\",\"notebook_comms_target\":\"3b679331-0e21-4594-aea3-91b21ccd9250\"}];\n",
       "            \n",
       "            Bokeh.embed.embed_items(docs_json, render_items);\n",
       "        });\n",
       "      },\n",
       "      function(Bokeh) {\n",
       "      }\n",
       "    ];\n",
       "  \n",
       "    function run_inline_js() {\n",
       "      for (var i = 0; i < inline_js.length; i++) {\n",
       "        inline_js[i](window.Bokeh);\n",
       "      }\n",
       "    }\n",
       "  \n",
       "    if (window._bokeh_is_loading === 0) {\n",
       "      console.log(\"Bokeh: BokehJS loaded, going straight to plotting\");\n",
       "      run_inline_js();\n",
       "    } else {\n",
       "      load_libs(js_urls, function() {\n",
       "        console.log(\"Bokeh: BokehJS plotting callback run at\", now());\n",
       "        run_inline_js();\n",
       "      });\n",
       "    }\n",
       "  }(this));\n",
       "</script>"
      ]
     },
     "metadata": {},
     "output_type": "display_data"
    },
    {
     "data": {
      "text/html": [
       "<p><code>&lt;Bokeh Notebook handle for <strong>In[149]</strong>&gt;</code></p>"
      ],
      "text/plain": [
       "<bokeh.io._CommsHandle at 0x7f8a41021780>"
      ]
     },
     "execution_count": 149,
     "metadata": {},
     "output_type": "execute_result"
    }
   ],
   "source": [
    "show(Bar(df, label='index', values='value', stack='name', \n",
    "             legend='top_right', xlabel='index', ylabel='value'))"
   ]
  },
  {
   "cell_type": "code",
   "execution_count": null,
   "metadata": {
    "collapsed": true
   },
   "outputs": [],
   "source": []
  }
 ],
 "metadata": {
  "kernelspec": {
   "display_name": "Python 3",
   "language": "python",
   "name": "python3"
  },
  "language_info": {
   "codemirror_mode": {
    "name": "ipython",
    "version": 3
   },
   "file_extension": ".py",
   "mimetype": "text/x-python",
   "name": "python",
   "nbconvert_exporter": "python",
   "pygments_lexer": "ipython3",
   "version": "3.4.5"
  }
 },
 "nbformat": 4,
 "nbformat_minor": 0
}
